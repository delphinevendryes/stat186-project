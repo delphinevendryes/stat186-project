{
 "cells": [
  {
   "cell_type": "markdown",
   "metadata": {},
   "source": [
    "# STAT186: partisanship"
   ]
  },
  {
   "cell_type": "code",
   "execution_count": 1548,
   "metadata": {
    "collapsed": false
   },
   "outputs": [],
   "source": [
    "import sys\n",
    "import os\n",
    "import pandas as pd\n",
    "import numpy as np\n",
    "import matplotlib.pyplot as plt\n",
    "plt.style.use('ggplot')\n",
    "from copy import deepcopy\n",
    "%matplotlib inline\n",
    "import seaborn as sns"
   ]
  },
  {
   "cell_type": "code",
   "execution_count": 1395,
   "metadata": {
    "collapsed": false
   },
   "outputs": [],
   "source": [
    "def preprocess_PCI(PCI):\n",
    "    p = deepcopy(PCI)\n",
    "    p = p[(p['Year'] > 1994) & (p['Year'] < 2000)]\n",
    "    p['Month'] = [i % 12 + 1 for i in range(len(p))]\n",
    "    return p\n",
    "\n",
    "def daily_freq(PCI, order = 2):\n",
    "    PCI['date'] = '15/' + PCI['Month'].astype(str) + '/' + PCI['Year'].astype(str)\n",
    "    PCI['date'] = pd.to_datetime(PCI['date'], format = '%d/%m/%Y', errors = 'coerce')\n",
    "    PCI = PCI.drop(['Year', 'Month'], axis = 1).set_index('date')\n",
    "    return PCI.resample('D').interpolate(method='spline', order=order)\n",
    "\n",
    "def normalize(x):\n",
    "    return (x - x.mean())/x.std()\n",
    "\n",
    "def date_format(d):\n",
    "    d[['decs_day', 'decs_mo', 'decs_yr']] = d[['decs_day', 'decs_mo', 'decs_yr']].fillna(0)\n",
    "    d['date'] = d['decs_day'].astype(int).astype(str) + '/' + d['decs_mo'].astype(int).astype(str) + '/' + d['decs_yr'].astype(int).astype(str)\n",
    "    d['date'] = pd.to_datetime(d['date'], format = '%d/%m/%Y', errors = 'coerce')\n",
    "    d.drop(['decs_day', 'decs_mo', 'decs_yr'], axis = 1, inplace = True)\n",
    "    return d\n",
    "\n",
    "def subtract_first_judge(df):\n",
    "    df = df.set_index(['masterid', 'date'])\n",
    "    fj = df[df['judgeopinion']==1.0].drop(['Partisan Conflict', 'judgeopinion'], axis = 1)\n",
    "    fj['Partisan Conflict'] = 0\n",
    "    fj['judgeopinion'] = 0\n",
    "    nfj = df[df['judgeopinion']!=1.0]\n",
    "    return nfj.subtract(fj)\n",
    "    "
   ]
  },
  {
   "cell_type": "code",
   "execution_count": 1393,
   "metadata": {
    "collapsed": false
   },
   "outputs": [
    {
     "data": {
      "text/plain": [
       "['.DS_Store',\n",
       " 'crime_cat.csv',\n",
       " 'pci-index-release.xlsx',\n",
       " 'stat186-projdata-2.csv',\n",
       " 'states-codes-capitals.csv',\n",
       " 'states-codes-supcourt-city.csv',\n",
       " 'weather']"
      ]
     },
     "execution_count": 1393,
     "metadata": {},
     "output_type": "execute_result"
    }
   ],
   "source": [
    "os.listdir('../data/')"
   ]
  },
  {
   "cell_type": "code",
   "execution_count": 1488,
   "metadata": {
    "collapsed": false
   },
   "outputs": [],
   "source": [
    "data = pd.read_csv('../data/stat186-projdata-2.csv', index_col = 0, low_memory=False)\n",
    "data = date_format(data)"
   ]
  },
  {
   "cell_type": "code",
   "execution_count": 1489,
   "metadata": {
    "collapsed": false
   },
   "outputs": [
    {
     "data": {
      "text/plain": [
       "(171409, 339)"
      ]
     },
     "execution_count": 1489,
     "metadata": {},
     "output_type": "execute_result"
    }
   ],
   "source": [
    "data.shape"
   ]
  },
  {
   "cell_type": "code",
   "execution_count": 1490,
   "metadata": {
    "collapsed": false
   },
   "outputs": [
    {
     "data": {
      "text/html": [
       "<div>\n",
       "<style scoped>\n",
       "    .dataframe tbody tr th:only-of-type {\n",
       "        vertical-align: middle;\n",
       "    }\n",
       "\n",
       "    .dataframe tbody tr th {\n",
       "        vertical-align: top;\n",
       "    }\n",
       "\n",
       "    .dataframe thead th {\n",
       "        text-align: right;\n",
       "    }\n",
       "</style>\n",
       "<table border=\"1\" class=\"dataframe\">\n",
       "  <thead>\n",
       "    <tr style=\"text-align: right;\">\n",
       "      <th></th>\n",
       "      <th>masterid</th>\n",
       "      <th>id_1</th>\n",
       "      <th>coder</th>\n",
       "      <th>coderid</th>\n",
       "      <th>casen_1</th>\n",
       "      <th>juris</th>\n",
       "      <th>first_ct</th>\n",
       "      <th>agency</th>\n",
       "      <th>agency_r</th>\n",
       "      <th>arbitrat</th>\n",
       "      <th>...</th>\n",
       "      <th>race</th>\n",
       "      <th>gender</th>\n",
       "      <th>pajid</th>\n",
       "      <th>jpid</th>\n",
       "      <th>agedec</th>\n",
       "      <th>EWI</th>\n",
       "      <th>select</th>\n",
       "      <th>retentn</th>\n",
       "      <th>cj</th>\n",
       "      <th>date</th>\n",
       "    </tr>\n",
       "  </thead>\n",
       "  <tbody>\n",
       "    <tr>\n",
       "      <th>0</th>\n",
       "      <td>95.010009765625</td>\n",
       "      <td>102</td>\n",
       "      <td>TEB</td>\n",
       "      <td>1130</td>\n",
       "      <td>1.0</td>\n",
       "      <td>2.0</td>\n",
       "      <td>1.0</td>\n",
       "      <td>0.0</td>\n",
       "      <td>88.0</td>\n",
       "      <td>0.0</td>\n",
       "      <td>...</td>\n",
       "      <td>1.0</td>\n",
       "      <td>1.0</td>\n",
       "      <td>47.23</td>\n",
       "      <td>1.0</td>\n",
       "      <td>66.0</td>\n",
       "      <td>-1.454818</td>\n",
       "      <td>5.0</td>\n",
       "      <td>5.0</td>\n",
       "      <td>0.0</td>\n",
       "      <td>1995-12-01</td>\n",
       "    </tr>\n",
       "    <tr>\n",
       "      <th>1</th>\n",
       "      <td>95.01001739501953</td>\n",
       "      <td>103</td>\n",
       "      <td>TEB</td>\n",
       "      <td>1130</td>\n",
       "      <td>2.0</td>\n",
       "      <td>2.0</td>\n",
       "      <td>2.0</td>\n",
       "      <td>0.0</td>\n",
       "      <td>88.0</td>\n",
       "      <td>0.0</td>\n",
       "      <td>...</td>\n",
       "      <td>1.0</td>\n",
       "      <td>1.0</td>\n",
       "      <td>26.20</td>\n",
       "      <td>1.0</td>\n",
       "      <td>65.0</td>\n",
       "      <td>-1.454818</td>\n",
       "      <td>5.0</td>\n",
       "      <td>5.0</td>\n",
       "      <td>0.0</td>\n",
       "      <td>1995-12-01</td>\n",
       "    </tr>\n",
       "  </tbody>\n",
       "</table>\n",
       "<p>2 rows × 339 columns</p>\n",
       "</div>"
      ],
      "text/plain": [
       "            masterid id_1 coder  coderid  casen_1  juris  first_ct  agency  \\\n",
       "0    95.010009765625  102   TEB     1130      1.0    2.0       1.0     0.0   \n",
       "1  95.01001739501953  103   TEB     1130      2.0    2.0       2.0     0.0   \n",
       "\n",
       "   agency_r  arbitrat    ...      race  gender  pajid  jpid  agedec       EWI  \\\n",
       "0      88.0       0.0    ...       1.0     1.0  47.23   1.0    66.0 -1.454818   \n",
       "1      88.0       0.0    ...       1.0     1.0  26.20   1.0    65.0 -1.454818   \n",
       "\n",
       "  select  retentn   cj       date  \n",
       "0    5.0      5.0  0.0 1995-12-01  \n",
       "1    5.0      5.0  0.0 1995-12-01  \n",
       "\n",
       "[2 rows x 339 columns]"
      ]
     },
     "execution_count": 1490,
     "metadata": {},
     "output_type": "execute_result"
    }
   ],
   "source": [
    "data.head(2)"
   ]
  },
  {
   "cell_type": "code",
   "execution_count": 1491,
   "metadata": {
    "collapsed": true
   },
   "outputs": [],
   "source": [
    "judge_vars=['judgecode', 'brthyr','race', 'gender','pajid','jpid', 'agedec', 'EWI', 'select', 'retentn', 'cj']"
   ]
  },
  {
   "cell_type": "code",
   "execution_count": 1492,
   "metadata": {
    "collapsed": false
   },
   "outputs": [
    {
     "data": {
      "text/html": [
       "<div>\n",
       "<style scoped>\n",
       "    .dataframe tbody tr th:only-of-type {\n",
       "        vertical-align: middle;\n",
       "    }\n",
       "\n",
       "    .dataframe tbody tr th {\n",
       "        vertical-align: top;\n",
       "    }\n",
       "\n",
       "    .dataframe thead th {\n",
       "        text-align: right;\n",
       "    }\n",
       "</style>\n",
       "<table border=\"1\" class=\"dataframe\">\n",
       "  <thead>\n",
       "    <tr style=\"text-align: right;\">\n",
       "      <th></th>\n",
       "      <th>Partisan Conflict</th>\n",
       "    </tr>\n",
       "    <tr>\n",
       "      <th>date</th>\n",
       "      <th></th>\n",
       "    </tr>\n",
       "  </thead>\n",
       "  <tbody>\n",
       "    <tr>\n",
       "      <th>1995-01-15</th>\n",
       "      <td>0.253971</td>\n",
       "    </tr>\n",
       "    <tr>\n",
       "      <th>1995-01-16</th>\n",
       "      <td>0.338251</td>\n",
       "    </tr>\n",
       "    <tr>\n",
       "      <th>1995-01-17</th>\n",
       "      <td>0.419971</td>\n",
       "    </tr>\n",
       "    <tr>\n",
       "      <th>1995-01-18</th>\n",
       "      <td>0.497339</td>\n",
       "    </tr>\n",
       "    <tr>\n",
       "      <th>1995-01-19</th>\n",
       "      <td>0.570447</td>\n",
       "    </tr>\n",
       "  </tbody>\n",
       "</table>\n",
       "</div>"
      ],
      "text/plain": [
       "            Partisan Conflict\n",
       "date                         \n",
       "1995-01-15           0.253971\n",
       "1995-01-16           0.338251\n",
       "1995-01-17           0.419971\n",
       "1995-01-18           0.497339\n",
       "1995-01-19           0.570447"
      ]
     },
     "execution_count": 1492,
     "metadata": {},
     "output_type": "execute_result"
    }
   ],
   "source": [
    "PCI = pd.read_excel('../data/pci-index-release.xlsx')\n",
    "PCI = preprocess_PCI(PCI)\n",
    "#PCI_lin = daily_freq(PCI, order = 1)\n",
    "PCI = daily_freq(PCI, order = 3)\n",
    "PCI = normalize(PCI)\n",
    "PCI.head()"
   ]
  },
  {
   "cell_type": "code",
   "execution_count": 1501,
   "metadata": {
    "collapsed": false
   },
   "outputs": [
    {
     "data": {
      "text/plain": [
       "[<matplotlib.lines.Line2D at 0x1ce57d82e8>]"
      ]
     },
     "execution_count": 1501,
     "metadata": {},
     "output_type": "execute_result"
    },
    {
     "data": {
      "image/png": "[encoded data removed]",
      "text/plain": [
       "<matplotlib.figure.Figure at 0x1cf7619eb8>"
      ]
     },
     "metadata": {},
     "output_type": "display_data"
    }
   ],
   "source": [
    "fig, ax = plt.subplots(figsize = (20, 3))\n",
    "ax.set_title('Normalized upsampled PCI')\n",
    "plt.xticks(rotation=45, fontsize = 8)\n",
    "#ax.plot(PCI_lin, label = 'PCI')\n",
    "ax.plot(PCI, label = 'PCI')"
   ]
  },
  {
   "cell_type": "code",
   "execution_count": 1493,
   "metadata": {
    "collapsed": false
   },
   "outputs": [],
   "source": [
    "data = pd.merge(data, PCI.reset_index(), on = ['date'])"
   ]
  },
  {
   "cell_type": "markdown",
   "metadata": {},
   "source": [
    "## Simple descriptive stats for the report "
   ]
  },
  {
   "cell_type": "code",
   "execution_count": 1464,
   "metadata": {
    "collapsed": false
   },
   "outputs": [],
   "source": [
    "m=data[judge_vars].groupby('judgecode').mean()"
   ]
  },
  {
   "cell_type": "code",
   "execution_count": 1580,
   "metadata": {
    "collapsed": false
   },
   "outputs": [
    {
     "data": {
      "image/png": "[encoded data removed]",
      "text/plain": [
       "<matplotlib.figure.Figure at 0x1e8e3d1f60>"
      ]
     },
     "metadata": {},
     "output_type": "display_data"
    }
   ],
   "source": [
    "ax = m['jpid'].fillna(0).value_counts().plot(kind='barh', figsize=(10,4),\n",
    "                                        color=\"coral\", fontsize=13);\n",
    "\n",
    "dt = {'Democrats': np.sum(m['jpid'] == 1), \n",
    "      'Republicans': np.sum(m['jpid'] == 2), \n",
    "      'Independent': np.sum(m['jpid'] == 3), \n",
    "      'Unaffiliated': np.sum(m['jpid'].isna())}\n",
    "totals = []\n",
    "for i in ax.patches:\n",
    "    totals.append(i.get_width())  \n",
    "# set individual bar lables using above list\n",
    "total = sum(totals)\n",
    "\n",
    "# set individual bar lables using above list\n",
    "for i in ax.patches:\n",
    "    # get_width pulls left or right; get_y pushes up or down\n",
    "    ax.text(i.get_width()+.3, i.get_y()+.25, \\\n",
    "            str(round((i.get_width()/total)*100, 2))+'%', fontsize=10,\n",
    "            color='dimgrey')\n",
    "sorted_dt = sorted(dt.items(), key=lambda kv: kv[1], reverse = True)\n",
    "ax.set_yticklabels([sorted_dt[i][0] for i in range(len(sorted_dt))], fontsize = 10)\n",
    "ax.set_title('Political party affiliations', size = 12)\n",
    "ax.set_xlabel('Number of judges')\n",
    "ax.invert_yaxis()"
   ]
  },
  {
   "cell_type": "code",
   "execution_count": 1581,
   "metadata": {
    "collapsed": false
   },
   "outputs": [
    {
     "data": {
      "image/png": "[encoded data removed]",
      "text/plain": [
       "<matplotlib.figure.Figure at 0x1e8dc5d080>"
      ]
     },
     "metadata": {},
     "output_type": "display_data"
    }
   ],
   "source": [
    "ax = m['gender'].dropna().value_counts().plot(kind='barh', figsize=(10,2),\n",
    "                                        color=\"coral\", fontsize=13);\n",
    "\n",
    "dt = {'Male': np.sum(m['jpid'] == 1), \n",
    "      'Female': np.sum(m['jpid'] == 2)}\n",
    "totals = []\n",
    "for i in ax.patches:\n",
    "    totals.append(i.get_width())  \n",
    "# set individual bar lables using above list\n",
    "total = sum(totals)\n",
    "\n",
    "# set individual bar lables using above list\n",
    "for i in ax.patches:\n",
    "    # get_width pulls left or right; get_y pushes up or down\n",
    "    ax.text(i.get_width()+.3, i.get_y()+.25, \\\n",
    "            str(round((i.get_width()/total)*100, 2))+'%', fontsize=10,\n",
    "            color='dimgrey')\n",
    "    \n",
    "sorted_dt = sorted(dt.items(), key=lambda kv: kv[1], reverse = True)\n",
    "ax.set_yticklabels([sorted_dt[i][0] for i in range(len(sorted_dt))], fontsize = 10)\n",
    "ax.set_title('Gender repartition', size = 12)\n",
    "ax.set_xlabel('Number of judges')\n",
    "ax.invert_yaxis()"
   ]
  },
  {
   "cell_type": "code",
   "execution_count": 1582,
   "metadata": {
    "collapsed": false
   },
   "outputs": [
    {
     "data": {
      "image/png": "[encoded data removed]",
      "text/plain": [
       "<matplotlib.figure.Figure at 0x1e8eca2cf8>"
      ]
     },
     "metadata": {},
     "output_type": "display_data"
    }
   ],
   "source": [
    "ax = m['race'].dropna().value_counts().plot(kind='barh', figsize=(10,5),\n",
    "                                        color=\"coral\", fontsize=13);\n",
    "\n",
    "dt = {'White': np.sum(m['jpid'] == 1), \n",
    "      'Black': np.sum(m['jpid'] == 2),\n",
    "      'Hispanic': np.sum(m['jpid'] == 3),\n",
    "      'Hispanic': np.sum(m['jpid'] == 4),\n",
    "      'Native American': np.sum(m['jpid'] == 5),\n",
    "     }\n",
    "\n",
    "totals = []\n",
    "for i in ax.patches:\n",
    "    totals.append(i.get_width())  \n",
    "# set individual bar lables using above list\n",
    "total = sum(totals)\n",
    "\n",
    "# set individual bar lables using above list\n",
    "for i in ax.patches:\n",
    "    # get_width pulls left or right; get_y pushes up or down\n",
    "    ax.text(i.get_width()+.3, i.get_y()+.25, \\\n",
    "            str(round((i.get_width()/total)*100, 2))+'%', fontsize=10,\n",
    "            color='dimgrey')\n",
    "    \n",
    "sorted_dt = sorted(dt.items(), key=lambda kv: kv[1], reverse = True)\n",
    "ax.set_yticklabels([sorted_dt[i][0] for i in range(len(sorted_dt))], fontsize = 10)\n",
    "ax.set_title('Race repartition', size = 12)\n",
    "ax.set_xlabel('Number of judges')\n",
    "ax.invert_yaxis()"
   ]
  },
  {
   "cell_type": "code",
   "execution_count": 1577,
   "metadata": {
    "collapsed": false
   },
   "outputs": [
    {
     "data": {
      "text/plain": [
       "<matplotlib.text.Text at 0x1e90127518>"
      ]
     },
     "execution_count": 1577,
     "metadata": {},
     "output_type": "execute_result"
    },
    {
     "data": {
      "image/png": "[encoded data removed]",
      "text/plain": [
       "<matplotlib.figure.Figure at 0x1e900cfb00>"
      ]
     },
     "metadata": {},
     "output_type": "display_data"
    }
   ],
   "source": [
    "f, ax = plt.subplots(1, 1)\n",
    "\n",
    "sns.distplot(m[m['jpid']==1]['pajid'].dropna(), hist=True, kde=False, \n",
    "             bins=int(180/5), color = 'darkblue', \n",
    "             hist_kws={'edgecolor':'black'},\n",
    "             label = 'Democrats')\n",
    "\n",
    "sns.distplot(m[m['jpid']==2]['pajid'].dropna(), hist=True, kde=False, \n",
    "             bins=int(180/5), color = 'pink', \n",
    "             hist_kws={'edgecolor':'black'},\n",
    "             label = 'Republicans')\n",
    "\n",
    "sns.distplot(m[m['jpid']==3]['pajid'].dropna(), hist=True, kde=False, \n",
    "             bins=int(180/5), color = 'green', \n",
    "             hist_kws={'edgecolor':'black'},\n",
    "             label = 'Independent')\n",
    "\n",
    "sns.distplot(m[m['jpid'].isna()]['pajid'].dropna(), hist=True, kde=False, \n",
    "             bins=int(180/5), color = 'grey', \n",
    "             hist_kws={'edgecolor':'black'},\n",
    "             label = 'Unaffiliated')\n",
    "ax.set_xlabel('PAJID score for justice')\n",
    "ax.set_ylabel('Number of judges')\n",
    "ax.legend()\n",
    "ax.set_title('Brace, Langer, and Hall PAJID score for justice')"
   ]
  },
  {
   "cell_type": "code",
   "execution_count": 1596,
   "metadata": {
    "collapsed": false
   },
   "outputs": [],
   "source": [
    "c=data[['judgeopinion']].groupby('masterid').apply(lambda x : x['judgeopinion'].nunique())"
   ]
  },
  {
   "cell_type": "code",
   "execution_count": 1601,
   "metadata": {
    "collapsed": false
   },
   "outputs": [
    {
     "data": {
      "text/plain": [
       "<matplotlib.text.Text at 0x1cfaab7a20>"
      ]
     },
     "execution_count": 1601,
     "metadata": {},
     "output_type": "execute_result"
    },
    {
     "data": {
      "image/png": "[encoded data removed]",
      "text/plain": [
       "<matplotlib.figure.Figure at 0x1d7c730d30>"
      ]
     },
     "metadata": {},
     "output_type": "display_data"
    }
   ],
   "source": [
    "ax = data['judgeopinion'].value_counts().plot(kind='barh', figsize=(10,5),color=\"coral\", fontsize=13, log = True)\n",
    "ax.set_ylabel('Number of opinions')\n",
    "ax.set_xlabel('Number of cases')"
   ]
  },
  {
   "cell_type": "markdown",
   "metadata": {},
   "source": [
    "# Control for observable confounders and lagged outcomes"
   ]
  },
  {
   "cell_type": "code",
   "execution_count": 1241,
   "metadata": {
    "collapsed": false
   },
   "outputs": [
    {
     "data": {
      "text/html": [
       "<div>\n",
       "<style scoped>\n",
       "    .dataframe tbody tr th:only-of-type {\n",
       "        vertical-align: middle;\n",
       "    }\n",
       "\n",
       "    .dataframe tbody tr th {\n",
       "        vertical-align: top;\n",
       "    }\n",
       "\n",
       "    .dataframe thead th {\n",
       "        text-align: right;\n",
       "    }\n",
       "</style>\n",
       "<table border=\"1\" class=\"dataframe\">\n",
       "  <thead>\n",
       "    <tr style=\"text-align: right;\">\n",
       "      <th></th>\n",
       "      <th>masterid</th>\n",
       "      <th>id_1</th>\n",
       "      <th>coder</th>\n",
       "      <th>coderid</th>\n",
       "      <th>casen_1</th>\n",
       "      <th>juris</th>\n",
       "      <th>first_ct</th>\n",
       "      <th>agency</th>\n",
       "      <th>agency_r</th>\n",
       "      <th>arbitrat</th>\n",
       "      <th>...</th>\n",
       "      <th>gender</th>\n",
       "      <th>pajid</th>\n",
       "      <th>jpid</th>\n",
       "      <th>agedec</th>\n",
       "      <th>EWI</th>\n",
       "      <th>select</th>\n",
       "      <th>retentn</th>\n",
       "      <th>cj</th>\n",
       "      <th>date</th>\n",
       "      <th>Partisan Conflict</th>\n",
       "    </tr>\n",
       "  </thead>\n",
       "  <tbody>\n",
       "    <tr>\n",
       "      <th>0</th>\n",
       "      <td>95.010009765625</td>\n",
       "      <td>102</td>\n",
       "      <td>TEB</td>\n",
       "      <td>1130</td>\n",
       "      <td>1.0</td>\n",
       "      <td>2.0</td>\n",
       "      <td>1.0</td>\n",
       "      <td>0.0</td>\n",
       "      <td>88.0</td>\n",
       "      <td>0.0</td>\n",
       "      <td>...</td>\n",
       "      <td>1.0</td>\n",
       "      <td>47.23</td>\n",
       "      <td>1.0</td>\n",
       "      <td>66.0</td>\n",
       "      <td>-1.454818</td>\n",
       "      <td>5.0</td>\n",
       "      <td>5.0</td>\n",
       "      <td>0.0</td>\n",
       "      <td>1995-12-01</td>\n",
       "      <td>2.556076</td>\n",
       "    </tr>\n",
       "    <tr>\n",
       "      <th>1</th>\n",
       "      <td>95.01001739501953</td>\n",
       "      <td>103</td>\n",
       "      <td>TEB</td>\n",
       "      <td>1130</td>\n",
       "      <td>2.0</td>\n",
       "      <td>2.0</td>\n",
       "      <td>2.0</td>\n",
       "      <td>0.0</td>\n",
       "      <td>88.0</td>\n",
       "      <td>0.0</td>\n",
       "      <td>...</td>\n",
       "      <td>1.0</td>\n",
       "      <td>26.20</td>\n",
       "      <td>1.0</td>\n",
       "      <td>65.0</td>\n",
       "      <td>-1.454818</td>\n",
       "      <td>5.0</td>\n",
       "      <td>5.0</td>\n",
       "      <td>0.0</td>\n",
       "      <td>1995-12-01</td>\n",
       "      <td>2.556076</td>\n",
       "    </tr>\n",
       "  </tbody>\n",
       "</table>\n",
       "<p>2 rows × 340 columns</p>\n",
       "</div>"
      ],
      "text/plain": [
       "            masterid id_1 coder  coderid  casen_1  juris  first_ct  agency  \\\n",
       "0    95.010009765625  102   TEB     1130      1.0    2.0       1.0     0.0   \n",
       "1  95.01001739501953  103   TEB     1130      2.0    2.0       2.0     0.0   \n",
       "\n",
       "   agency_r  arbitrat        ...          gender  pajid  jpid  agedec  \\\n",
       "0      88.0       0.0        ...             1.0  47.23   1.0    66.0   \n",
       "1      88.0       0.0        ...             1.0  26.20   1.0    65.0   \n",
       "\n",
       "        EWI select retentn   cj       date  Partisan Conflict  \n",
       "0 -1.454818    5.0     5.0  0.0 1995-12-01           2.556076  \n",
       "1 -1.454818    5.0     5.0  0.0 1995-12-01           2.556076  \n",
       "\n",
       "[2 rows x 340 columns]"
      ]
     },
     "execution_count": 1241,
     "metadata": {},
     "output_type": "execute_result"
    }
   ],
   "source": [
    "data.head(2)"
   ]
  },
  {
   "cell_type": "code",
   "execution_count": 1242,
   "metadata": {
    "collapsed": false
   },
   "outputs": [],
   "source": [
    "case_data = data[['date', 'masterid', 'judgecode', \n",
    "                  'pajid', 'jpid', 'judgeopinion', \n",
    "                  'race', 'gender', 'agedec', \n",
    "                  'Partisan Conflict']]"
   ]
  },
  {
   "cell_type": "code",
   "execution_count": 1243,
   "metadata": {
    "collapsed": false
   },
   "outputs": [
    {
     "data": {
      "text/html": [
       "<div>\n",
       "<style scoped>\n",
       "    .dataframe tbody tr th:only-of-type {\n",
       "        vertical-align: middle;\n",
       "    }\n",
       "\n",
       "    .dataframe tbody tr th {\n",
       "        vertical-align: top;\n",
       "    }\n",
       "\n",
       "    .dataframe thead th {\n",
       "        text-align: right;\n",
       "    }\n",
       "</style>\n",
       "<table border=\"1\" class=\"dataframe\">\n",
       "  <thead>\n",
       "    <tr style=\"text-align: right;\">\n",
       "      <th></th>\n",
       "      <th>date</th>\n",
       "      <th>masterid</th>\n",
       "      <th>judgecode</th>\n",
       "      <th>pajid</th>\n",
       "      <th>jpid</th>\n",
       "      <th>judgeopinion</th>\n",
       "      <th>race</th>\n",
       "      <th>gender</th>\n",
       "      <th>agedec</th>\n",
       "      <th>Partisan Conflict</th>\n",
       "    </tr>\n",
       "  </thead>\n",
       "  <tbody>\n",
       "    <tr>\n",
       "      <th>0</th>\n",
       "      <td>1995-12-01</td>\n",
       "      <td>95.010009765625</td>\n",
       "      <td>107.0</td>\n",
       "      <td>47.23</td>\n",
       "      <td>1.0</td>\n",
       "      <td>1</td>\n",
       "      <td>1.0</td>\n",
       "      <td>1.0</td>\n",
       "      <td>66.0</td>\n",
       "      <td>2.556076</td>\n",
       "    </tr>\n",
       "    <tr>\n",
       "      <th>1</th>\n",
       "      <td>1995-12-01</td>\n",
       "      <td>95.01001739501953</td>\n",
       "      <td>109.0</td>\n",
       "      <td>26.20</td>\n",
       "      <td>1.0</td>\n",
       "      <td>1</td>\n",
       "      <td>1.0</td>\n",
       "      <td>1.0</td>\n",
       "      <td>65.0</td>\n",
       "      <td>2.556076</td>\n",
       "    </tr>\n",
       "  </tbody>\n",
       "</table>\n",
       "</div>"
      ],
      "text/plain": [
       "        date           masterid  judgecode  pajid  jpid  judgeopinion  race  \\\n",
       "0 1995-12-01    95.010009765625      107.0  47.23   1.0             1   1.0   \n",
       "1 1995-12-01  95.01001739501953      109.0  26.20   1.0             1   1.0   \n",
       "\n",
       "   gender  agedec  Partisan Conflict  \n",
       "0     1.0    66.0           2.556076  \n",
       "1     1.0    65.0           2.556076  "
      ]
     },
     "execution_count": 1243,
     "metadata": {},
     "output_type": "execute_result"
    }
   ],
   "source": [
    "case_data.head(2)"
   ]
  },
  {
   "cell_type": "code",
   "execution_count": 1244,
   "metadata": {
    "collapsed": false
   },
   "outputs": [
    {
     "data": {
      "text/plain": [
       "(168172, 10)"
      ]
     },
     "execution_count": 1244,
     "metadata": {},
     "output_type": "execute_result"
    }
   ],
   "source": [
    "case_data.shape"
   ]
  },
  {
   "cell_type": "code",
   "execution_count": 1245,
   "metadata": {
    "collapsed": false
   },
   "outputs": [],
   "source": [
    "case_data = remove_no_judge_code(case_data)\n",
    "case_data = case_data[case_data['judgeopinion'] != 55]"
   ]
  },
  {
   "cell_type": "code",
   "execution_count": 1246,
   "metadata": {
    "collapsed": false
   },
   "outputs": [
    {
     "data": {
      "text/html": [
       "<div>\n",
       "<style scoped>\n",
       "    .dataframe tbody tr th:only-of-type {\n",
       "        vertical-align: middle;\n",
       "    }\n",
       "\n",
       "    .dataframe tbody tr th {\n",
       "        vertical-align: top;\n",
       "    }\n",
       "\n",
       "    .dataframe thead th {\n",
       "        text-align: right;\n",
       "    }\n",
       "</style>\n",
       "<table border=\"1\" class=\"dataframe\">\n",
       "  <thead>\n",
       "    <tr style=\"text-align: right;\">\n",
       "      <th></th>\n",
       "      <th>date</th>\n",
       "      <th>masterid</th>\n",
       "      <th>pajid</th>\n",
       "      <th>jpid</th>\n",
       "      <th>judgeopinion</th>\n",
       "      <th>race</th>\n",
       "      <th>gender</th>\n",
       "      <th>agedec</th>\n",
       "      <th>Partisan Conflict</th>\n",
       "    </tr>\n",
       "  </thead>\n",
       "  <tbody>\n",
       "    <tr>\n",
       "      <th>0</th>\n",
       "      <td>1995-12-01</td>\n",
       "      <td>95.010009765625</td>\n",
       "      <td>47.23</td>\n",
       "      <td>1.0</td>\n",
       "      <td>1</td>\n",
       "      <td>1.0</td>\n",
       "      <td>1.0</td>\n",
       "      <td>66.0</td>\n",
       "      <td>2.556076</td>\n",
       "    </tr>\n",
       "    <tr>\n",
       "      <th>1</th>\n",
       "      <td>1995-12-01</td>\n",
       "      <td>95.01001739501953</td>\n",
       "      <td>26.20</td>\n",
       "      <td>1.0</td>\n",
       "      <td>1</td>\n",
       "      <td>1.0</td>\n",
       "      <td>1.0</td>\n",
       "      <td>65.0</td>\n",
       "      <td>2.556076</td>\n",
       "    </tr>\n",
       "    <tr>\n",
       "      <th>2</th>\n",
       "      <td>1995-12-01</td>\n",
       "      <td>95.01006317138672</td>\n",
       "      <td>47.23</td>\n",
       "      <td>1.0</td>\n",
       "      <td>1</td>\n",
       "      <td>1.0</td>\n",
       "      <td>1.0</td>\n",
       "      <td>66.0</td>\n",
       "      <td>2.556076</td>\n",
       "    </tr>\n",
       "    <tr>\n",
       "      <th>3</th>\n",
       "      <td>1995-12-01</td>\n",
       "      <td>95.01007080078125</td>\n",
       "      <td>30.69</td>\n",
       "      <td>1.0</td>\n",
       "      <td>1</td>\n",
       "      <td>1.0</td>\n",
       "      <td>1.0</td>\n",
       "      <td>58.0</td>\n",
       "      <td>2.556076</td>\n",
       "    </tr>\n",
       "    <tr>\n",
       "      <th>4</th>\n",
       "      <td>1995-12-01</td>\n",
       "      <td>95.01068115234375</td>\n",
       "      <td>46.88</td>\n",
       "      <td>1.0</td>\n",
       "      <td>1</td>\n",
       "      <td>2.0</td>\n",
       "      <td>1.0</td>\n",
       "      <td>51.0</td>\n",
       "      <td>2.556076</td>\n",
       "    </tr>\n",
       "  </tbody>\n",
       "</table>\n",
       "</div>"
      ],
      "text/plain": [
       "        date           masterid  pajid  jpid  judgeopinion  race  gender  \\\n",
       "0 1995-12-01    95.010009765625  47.23   1.0             1   1.0     1.0   \n",
       "1 1995-12-01  95.01001739501953  26.20   1.0             1   1.0     1.0   \n",
       "2 1995-12-01  95.01006317138672  47.23   1.0             1   1.0     1.0   \n",
       "3 1995-12-01  95.01007080078125  30.69   1.0             1   1.0     1.0   \n",
       "4 1995-12-01  95.01068115234375  46.88   1.0             1   2.0     1.0   \n",
       "\n",
       "   agedec  Partisan Conflict  \n",
       "0    66.0           2.556076  \n",
       "1    65.0           2.556076  \n",
       "2    66.0           2.556076  \n",
       "3    58.0           2.556076  \n",
       "4    51.0           2.556076  "
      ]
     },
     "execution_count": 1246,
     "metadata": {},
     "output_type": "execute_result"
    }
   ],
   "source": [
    "case_data.head()"
   ]
  },
  {
   "cell_type": "code",
   "execution_count": 1247,
   "metadata": {
    "collapsed": false
   },
   "outputs": [],
   "source": [
    "c = subtract_first_judge(case_data)"
   ]
  },
  {
   "cell_type": "code",
   "execution_count": 1248,
   "metadata": {
    "collapsed": false
   },
   "outputs": [],
   "source": [
    "c = c.dropna(how = 'all', axis = 0)"
   ]
  },
  {
   "cell_type": "code",
   "execution_count": 1251,
   "metadata": {
    "collapsed": false
   },
   "outputs": [],
   "source": [
    "def features_same_party(cd):\n",
    "    dat = cd.copy()\n",
    "    dat = dat[dat['jpid']==0]\n",
    "    \n",
    "    dat['dissent'] = dat['judgeopinion'].map({1:0, 2:0, 3:1, 4:1, 5:1, 6:1, 7:1, 8:1, 9:1, 10:1, 11:1})\n",
    "    \n",
    "    dat['pajid'] = normalize(dat['pajid'])\n",
    "    dat['agedec'] = normalize(dat['agedec'])\n",
    "    dat['race'] = (dat['race'] != 0) * 1\n",
    "    dat['gender'] = (dat['gender'] != 0) * 1\n",
    "\n",
    "    dat = dat.fillna(0)\n",
    "    \n",
    "    y = dat['dissent'] * 1\n",
    "    x = dat[['Partisan Conflict', 'pajid', 'agedec', 'race', 'gender']] #.drop(['dissent', 'judgeopinion', 'jpid'], axis = 1)\n",
    "    return y, x\n",
    "\n",
    "def features_different_party(cd):\n",
    "    dat = cd.copy()\n",
    "    dat['dissent'] = dat['judgeopinion'].map({1:0, 2:0, 3:1, 4:1, 5:1, 6:1, 7:1, 8:1, 9:1, 10:1, 11:1})\n",
    "    dat = dat[dat['jpid']!=0]\n",
    "    \n",
    "    dat['pajid'] = normalize(dat['pajid'])\n",
    "    dat['agedec'] = normalize(dat['agedec'])\n",
    "    dat['race'] = (dat['race'] != 0) * 1\n",
    "    dat['gender'] = (dat['gender'] != 0) * 1\n",
    "\n",
    "    dat = dat.fillna(0)\n",
    "    #dat = dat.dropna()\n",
    "    \n",
    "    y = dat['dissent'] * 1\n",
    "    x = dat[['Partisan Conflict', 'pajid', 'agedec', 'race', 'gender']] #.drop(['dissent', 'judgeopinion', 'jpid'], axis = 1)\n",
    "    return y, x"
   ]
  },
  {
   "cell_type": "code",
   "execution_count": 1252,
   "metadata": {
    "collapsed": false
   },
   "outputs": [],
   "source": [
    "yd, xd = features_different_party(c)\n",
    "ys, xs = features_same_party(c)"
   ]
  },
  {
   "cell_type": "code",
   "execution_count": 1065,
   "metadata": {
    "collapsed": false
   },
   "outputs": [],
   "source": [
    "dissent_rate_different = yd.groupby('date').apply(lambda x : np.sum(x)/len(x))\n",
    "dissent_rate_same = ys.groupby('date').apply(lambda x : np.sum(x)/len(x))"
   ]
  },
  {
   "cell_type": "code",
   "execution_count": 1066,
   "metadata": {
    "collapsed": false
   },
   "outputs": [
    {
     "data": {
      "text/plain": [
       "(array([728325., 728506., 728690., 728872., 729056., 729237., 729421.,\n",
       "        729602.]), <a list of 8 Text xticklabel objects>)"
      ]
     },
     "execution_count": 1066,
     "metadata": {},
     "output_type": "execute_result"
    },
    {
     "data": {
      "image/png": "[encoded data removed]",
      "text/plain": [
       "<matplotlib.figure.Figure at 0x1cc35ee710>"
      ]
     },
     "metadata": {},
     "output_type": "display_data"
    }
   ],
   "source": [
    "plt.plot(dissent_rate_different)\n",
    "#plt.plot(dissent_rate_same)\n",
    "plt.plot((PCI - np.min(PCI))/ (np.max(PCI)-np.min(PCI)))\n",
    "plt.xticks(rotation = 'vertical')"
   ]
  },
  {
   "cell_type": "code",
   "execution_count": 1067,
   "metadata": {
    "collapsed": false
   },
   "outputs": [
    {
     "data": {
      "text/plain": [
       "masterid           date      \n",
       "95.010009765625    1995-12-01    0.0\n",
       "95.01001739501953  1995-12-01    0.0\n",
       "95.0100326538086   1995-09-29    0.0\n",
       "                   1995-09-29    0.0\n",
       "                   1995-09-29    0.0\n",
       "Name: dissent, dtype: float64"
      ]
     },
     "execution_count": 1067,
     "metadata": {},
     "output_type": "execute_result"
    }
   ],
   "source": [
    "yd.head()"
   ]
  },
  {
   "cell_type": "code",
   "execution_count": 1068,
   "metadata": {
    "collapsed": false
   },
   "outputs": [],
   "source": [
    "yd = yd.reset_index()\n",
    "yd['Month'] = yd['date'].dt.month\n",
    "yd['Year'] = yd['date'].dt.year"
   ]
  },
  {
   "cell_type": "code",
   "execution_count": 1069,
   "metadata": {
    "collapsed": false
   },
   "outputs": [],
   "source": [
    "yd.drop(['masterid', 'date'], axis =1, inplace = True)"
   ]
  },
  {
   "cell_type": "code",
   "execution_count": 1070,
   "metadata": {
    "collapsed": false
   },
   "outputs": [],
   "source": [
    "pdd = yd.groupby(['Year', 'Month']).mean()"
   ]
  },
  {
   "cell_type": "code",
   "execution_count": 1071,
   "metadata": {
    "collapsed": false
   },
   "outputs": [
    {
     "data": {
      "text/plain": [
       "Year  Month\n",
       "1995  1        0.079507\n",
       "      2        0.076521\n",
       "      3        0.097168\n",
       "      4        0.062467\n",
       "      5        0.093672\n",
       "Name: dissent, dtype: float64"
      ]
     },
     "execution_count": 1071,
     "metadata": {},
     "output_type": "execute_result"
    }
   ],
   "source": [
    "pdd['dissent'].head()"
   ]
  },
  {
   "cell_type": "code",
   "execution_count": 1072,
   "metadata": {
    "collapsed": false
   },
   "outputs": [
    {
     "data": {
      "text/plain": [
       "[<matplotlib.lines.Line2D at 0x1ca4eaa278>]"
      ]
     },
     "execution_count": 1072,
     "metadata": {},
     "output_type": "execute_result"
    },
    {
     "data": {
      "image/png": "[encoded data removed]",
      "text/plain": [
       "<matplotlib.figure.Figure at 0x1ca4ac0a90>"
      ]
     },
     "metadata": {},
     "output_type": "display_data"
    }
   ],
   "source": [
    "plt.plot(np.array(pdd))"
   ]
  },
  {
   "cell_type": "code",
   "execution_count": null,
   "metadata": {
    "collapsed": true
   },
   "outputs": [],
   "source": [
    "c['opposition'] = (c['jpid']!=0)*1\n",
    "c['dissent'] = (c['judgeopinion']!=2)*1"
   ]
  },
  {
   "cell_type": "code",
   "execution_count": 1040,
   "metadata": {
    "collapsed": false
   },
   "outputs": [],
   "source": [
    "c.reset_index(inplace=True)"
   ]
  },
  {
   "cell_type": "code",
   "execution_count": 1041,
   "metadata": {
    "collapsed": false
   },
   "outputs": [],
   "source": [
    "c['Month'] = c['date'].dt.month\n",
    "c['Year'] = c['date'].dt.year"
   ]
  },
  {
   "cell_type": "code",
   "execution_count": 1042,
   "metadata": {
    "collapsed": false
   },
   "outputs": [
    {
     "data": {
      "text/html": [
       "<div>\n",
       "<style scoped>\n",
       "    .dataframe tbody tr th:only-of-type {\n",
       "        vertical-align: middle;\n",
       "    }\n",
       "\n",
       "    .dataframe tbody tr th {\n",
       "        vertical-align: top;\n",
       "    }\n",
       "\n",
       "    .dataframe thead th {\n",
       "        text-align: right;\n",
       "    }\n",
       "</style>\n",
       "<table border=\"1\" class=\"dataframe\">\n",
       "  <thead>\n",
       "    <tr style=\"text-align: right;\">\n",
       "      <th></th>\n",
       "      <th>masterid</th>\n",
       "      <th>date</th>\n",
       "      <th>Partisan Conflict</th>\n",
       "      <th>agedec</th>\n",
       "      <th>gender</th>\n",
       "      <th>jpid</th>\n",
       "      <th>judgeopinion</th>\n",
       "      <th>pajid</th>\n",
       "      <th>race</th>\n",
       "      <th>opposition</th>\n",
       "      <th>dissent</th>\n",
       "      <th>Month</th>\n",
       "      <th>Year</th>\n",
       "    </tr>\n",
       "  </thead>\n",
       "  <tbody>\n",
       "    <tr>\n",
       "      <th>0</th>\n",
       "      <td>95.010009765625</td>\n",
       "      <td>1995-12-01</td>\n",
       "      <td>2.556076</td>\n",
       "      <td>4.0</td>\n",
       "      <td>0.0</td>\n",
       "      <td>1.0</td>\n",
       "      <td>2.0</td>\n",
       "      <td>-39.12</td>\n",
       "      <td>0.0</td>\n",
       "      <td>1</td>\n",
       "      <td>0</td>\n",
       "      <td>12</td>\n",
       "      <td>1995</td>\n",
       "    </tr>\n",
       "    <tr>\n",
       "      <th>1</th>\n",
       "      <td>95.010009765625</td>\n",
       "      <td>1995-12-01</td>\n",
       "      <td>2.556076</td>\n",
       "      <td>-8.0</td>\n",
       "      <td>0.0</td>\n",
       "      <td>0.0</td>\n",
       "      <td>2.0</td>\n",
       "      <td>-16.54</td>\n",
       "      <td>0.0</td>\n",
       "      <td>0</td>\n",
       "      <td>0</td>\n",
       "      <td>12</td>\n",
       "      <td>1995</td>\n",
       "    </tr>\n",
       "    <tr>\n",
       "      <th>2</th>\n",
       "      <td>95.010009765625</td>\n",
       "      <td>1995-12-01</td>\n",
       "      <td>2.556076</td>\n",
       "      <td>-4.0</td>\n",
       "      <td>0.0</td>\n",
       "      <td>0.0</td>\n",
       "      <td>2.0</td>\n",
       "      <td>-1.79</td>\n",
       "      <td>0.0</td>\n",
       "      <td>0</td>\n",
       "      <td>0</td>\n",
       "      <td>12</td>\n",
       "      <td>1995</td>\n",
       "    </tr>\n",
       "    <tr>\n",
       "      <th>3</th>\n",
       "      <td>95.010009765625</td>\n",
       "      <td>1995-12-01</td>\n",
       "      <td>2.556076</td>\n",
       "      <td>-15.0</td>\n",
       "      <td>0.0</td>\n",
       "      <td>0.0</td>\n",
       "      <td>2.0</td>\n",
       "      <td>-10.95</td>\n",
       "      <td>0.0</td>\n",
       "      <td>0</td>\n",
       "      <td>0</td>\n",
       "      <td>12</td>\n",
       "      <td>1995</td>\n",
       "    </tr>\n",
       "    <tr>\n",
       "      <th>4</th>\n",
       "      <td>95.01001739501953</td>\n",
       "      <td>1995-12-01</td>\n",
       "      <td>2.556076</td>\n",
       "      <td>5.0</td>\n",
       "      <td>0.0</td>\n",
       "      <td>1.0</td>\n",
       "      <td>2.0</td>\n",
       "      <td>-18.09</td>\n",
       "      <td>0.0</td>\n",
       "      <td>1</td>\n",
       "      <td>0</td>\n",
       "      <td>12</td>\n",
       "      <td>1995</td>\n",
       "    </tr>\n",
       "  </tbody>\n",
       "</table>\n",
       "</div>"
      ],
      "text/plain": [
       "            masterid       date  Partisan Conflict  agedec  gender  jpid  \\\n",
       "0    95.010009765625 1995-12-01           2.556076     4.0     0.0   1.0   \n",
       "1    95.010009765625 1995-12-01           2.556076    -8.0     0.0   0.0   \n",
       "2    95.010009765625 1995-12-01           2.556076    -4.0     0.0   0.0   \n",
       "3    95.010009765625 1995-12-01           2.556076   -15.0     0.0   0.0   \n",
       "4  95.01001739501953 1995-12-01           2.556076     5.0     0.0   1.0   \n",
       "\n",
       "   judgeopinion  pajid  race  opposition  dissent  Month  Year  \n",
       "0           2.0 -39.12   0.0           1        0     12  1995  \n",
       "1           2.0 -16.54   0.0           0        0     12  1995  \n",
       "2           2.0  -1.79   0.0           0        0     12  1995  \n",
       "3           2.0 -10.95   0.0           0        0     12  1995  \n",
       "4           2.0 -18.09   0.0           1        0     12  1995  "
      ]
     },
     "execution_count": 1042,
     "metadata": {},
     "output_type": "execute_result"
    }
   ],
   "source": [
    "c.head()"
   ]
  },
  {
   "cell_type": "code",
   "execution_count": 1046,
   "metadata": {
    "collapsed": false
   },
   "outputs": [
    {
     "data": {
      "text/plain": [
       "Year  Month\n",
       "1995  1        0.384099\n",
       "      2        0.403532\n",
       "      3        0.418301\n",
       "      4        0.461739\n",
       "      5        0.382162\n",
       "      6        0.434008\n",
       "      7        0.393103\n",
       "      8        0.418591\n",
       "      9        0.359599\n",
       "      10       0.409035\n",
       "      11       0.447820\n",
       "      12       0.476190\n",
       "1996  1        0.354399\n",
       "      2        0.468769\n",
       "      3        0.407723\n",
       "      4        0.405643\n",
       "      5        0.412196\n",
       "      6        0.387963\n",
       "      7        0.403277\n",
       "      8        0.358673\n",
       "      9        0.350877\n",
       "      10       0.455578\n",
       "      11       0.416822\n",
       "      12       0.468277\n",
       "1997  1        0.387114\n",
       "      2        0.365431\n",
       "      3        0.425620\n",
       "      4        0.399525\n",
       "      5        0.385901\n",
       "      6        0.382128\n",
       "      7        0.425048\n",
       "      8        0.399600\n",
       "      9        0.420567\n",
       "      10       0.485472\n",
       "      11       0.512058\n",
       "      12       0.467398\n",
       "1998  1        0.422092\n",
       "      2        0.485116\n",
       "      3        0.473039\n",
       "      4        0.491195\n",
       "      5        0.575554\n",
       "      6        0.504029\n",
       "      7        0.515736\n",
       "      8        0.532246\n",
       "      9        0.593001\n",
       "      10       0.590567\n",
       "      11       0.508598\n",
       "      12       0.608865\n",
       "dtype: float64"
      ]
     },
     "execution_count": 1046,
     "metadata": {},
     "output_type": "execute_result"
    }
   ],
   "source": [
    "c.groupby(['Year', 'Month']).apply(lambda x : np.sum(x['opposition'] * x['dissent']) / np.sum(x['opposition']))"
   ]
  },
  {
   "cell_type": "code",
   "execution_count": 1254,
   "metadata": {
    "collapsed": false
   },
   "outputs": [
    {
     "name": "stdout",
     "output_type": "stream",
     "text": [
      "Optimization terminated successfully.\n",
      "         Current function value: 0.431007\n",
      "         Iterations 6\n",
      "const               -1.723195\n",
      "Partisan Conflict   -0.113377\n",
      "pajid               -0.017975\n",
      "agedec               0.023339\n",
      "race                 0.143211\n",
      "gender              -0.008049\n",
      "dtype: float64\n",
      "const                0.015475\n",
      "Partisan Conflict    0.012231\n",
      "pajid                0.011881\n",
      "agedec               0.011898\n",
      "race                 0.028040\n",
      "gender               0.025020\n",
      "dtype: float64\n"
     ]
    }
   ],
   "source": [
    "import statsmodels.api as sm\n",
    "xs = sm.add_constant(xs)\n",
    "lr = sm.Logit(ys, xs).fit()\n",
    "print(lr.params)\n",
    "print(lr.bse)"
   ]
  },
  {
   "cell_type": "markdown",
   "metadata": {},
   "source": [
    "## Partisanship by judge"
   ]
  },
  {
   "cell_type": "markdown",
   "metadata": {},
   "source": [
    "Treatment: having a different political affiliation than the justice who writes the majority opinion.\n",
    "Outcome: dissenting."
   ]
  },
  {
   "cell_type": "code",
   "execution_count": 1426,
   "metadata": {
    "collapsed": false
   },
   "outputs": [],
   "source": [
    "# political opposition with first judge\n",
    "first_judge = data[data['judgeopinion']==1]\n",
    "fj = first_judge[['masterid', 'jpid', 'date']].set_index(['masterid', 'date'])\n",
    "fj.columns = ['firstjpid']"
   ]
  },
  {
   "cell_type": "code",
   "execution_count": 1427,
   "metadata": {
    "collapsed": false
   },
   "outputs": [],
   "source": [
    "data2 = pd.merge(data[data['judgeopinion'] != 1], fj, \n",
    "                 left_on = ['masterid', 'date'], \n",
    "                 right_index = True, how = 'left')"
   ]
  },
  {
   "cell_type": "code",
   "execution_count": 966,
   "metadata": {
    "collapsed": true
   },
   "outputs": [],
   "source": [
    "#data2 = data2[data2['judgeopinion'] != 1]\n",
    "data2['opposition'] = (data2['jpid'] != data2['firstjpid'])\n",
    "data2['dissent'] = (data2['judgeopinion'] != 1) & (data2['judgeopinion'] != 2)"
   ]
  },
  {
   "cell_type": "code",
   "execution_count": 967,
   "metadata": {
    "collapsed": false
   },
   "outputs": [],
   "source": [
    "data2 = data2[['dissent', 'opposition', 'date', 'Partisan Conflict']].dropna(axis = 0)"
   ]
  },
  {
   "cell_type": "code",
   "execution_count": 968,
   "metadata": {
    "collapsed": true
   },
   "outputs": [],
   "source": [
    "data_opp = data2[data2['opposition'] == True] # keep only different political affiliations"
   ]
  },
  {
   "cell_type": "code",
   "execution_count": 969,
   "metadata": {
    "collapsed": true
   },
   "outputs": [],
   "source": [
    "data_nopp = data2[data2['opposition'] == False] # keep only SAME political affiliations"
   ]
  },
  {
   "cell_type": "markdown",
   "metadata": {},
   "source": [
    "### Logistic Regression"
   ]
  },
  {
   "cell_type": "code",
   "execution_count": 971,
   "metadata": {
    "collapsed": false
   },
   "outputs": [],
   "source": [
    "y = data_opp['dissent']\n",
    "x = data_opp[['Partisan Conflict']] #, 'gender', 'EWI', 'jpid', 'pajid', 'agedec', 'select', 'cj']]\n",
    "x = x.fillna(0)\n",
    "#x = (x - x.mean()) / x.std()"
   ]
  },
  {
   "cell_type": "code",
   "execution_count": 973,
   "metadata": {
    "collapsed": false
   },
   "outputs": [
    {
     "name": "stdout",
     "output_type": "stream",
     "text": [
      "Optimization terminated successfully.\n",
      "         Current function value: 0.693106\n",
      "         Iterations 3\n"
     ]
    },
    {
     "data": {
      "text/plain": [
       "(Partisan Conflict   -0.018171\n",
       " dtype: float64, Partisan Conflict    0.006675\n",
       " dtype: float64)"
      ]
     },
     "execution_count": 973,
     "metadata": {},
     "output_type": "execute_result"
    }
   ],
   "source": [
    "import statsmodels.api as sm\n",
    "lr = sm.Logit(y, x).fit()\n",
    "lr.params, lr.bse"
   ]
  },
  {
   "cell_type": "code",
   "execution_count": 571,
   "metadata": {
    "collapsed": false
   },
   "outputs": [],
   "source": [
    "judge_vars=['judgecode', 'brthyr','race', 'gender','pajid','jpid', 'agedec', 'EWI', 'select', 'retentn', 'cj']"
   ]
  },
  {
   "cell_type": "code",
   "execution_count": 572,
   "metadata": {
    "collapsed": true
   },
   "outputs": [],
   "source": [
    "y = data_nopp['dissent']\n",
    "x = data_nopp[['Partisan Conflict']] #, 'gender', 'EWI', 'jpid', 'pajid', 'agedec', 'select', 'cj']]\n",
    "x = x.fillna(0)\n",
    "#x = (x - x.mean()) / x.std()"
   ]
  },
  {
   "cell_type": "code",
   "execution_count": 574,
   "metadata": {
    "collapsed": false
   },
   "outputs": [
    {
     "name": "stdout",
     "output_type": "stream",
     "text": [
      "Optimization terminated successfully.\n",
      "         Current function value: 0.692125\n",
      "         Iterations 3\n"
     ]
    },
    {
     "data": {
      "text/plain": [
       "(Partisan Conflict   -0.092948\n",
       " dtype: float64, Partisan Conflict    0.008666\n",
       " dtype: float64)"
      ]
     },
     "execution_count": 574,
     "metadata": {},
     "output_type": "execute_result"
    }
   ],
   "source": [
    "lr = sm.Logit(y, x).fit()\n",
    "lr.params, lr.bse"
   ]
  },
  {
   "cell_type": "markdown",
   "metadata": {},
   "source": [
    "## Dissent rate"
   ]
  },
  {
   "cell_type": "code",
   "execution_count": 1073,
   "metadata": {
    "collapsed": false
   },
   "outputs": [
    {
     "data": {
      "text/html": [
       "<div>\n",
       "<style scoped>\n",
       "    .dataframe tbody tr th:only-of-type {\n",
       "        vertical-align: middle;\n",
       "    }\n",
       "\n",
       "    .dataframe tbody tr th {\n",
       "        vertical-align: top;\n",
       "    }\n",
       "\n",
       "    .dataframe thead th {\n",
       "        text-align: right;\n",
       "    }\n",
       "</style>\n",
       "<table border=\"1\" class=\"dataframe\">\n",
       "  <thead>\n",
       "    <tr style=\"text-align: right;\">\n",
       "      <th></th>\n",
       "      <th>masterid</th>\n",
       "      <th>id_1</th>\n",
       "      <th>coder</th>\n",
       "      <th>coderid</th>\n",
       "      <th>casen_1</th>\n",
       "      <th>juris</th>\n",
       "      <th>first_ct</th>\n",
       "      <th>agency</th>\n",
       "      <th>agency_r</th>\n",
       "      <th>arbitrat</th>\n",
       "      <th>...</th>\n",
       "      <th>gender</th>\n",
       "      <th>pajid</th>\n",
       "      <th>jpid</th>\n",
       "      <th>agedec</th>\n",
       "      <th>EWI</th>\n",
       "      <th>select</th>\n",
       "      <th>retentn</th>\n",
       "      <th>cj</th>\n",
       "      <th>date</th>\n",
       "      <th>Partisan Conflict</th>\n",
       "    </tr>\n",
       "  </thead>\n",
       "  <tbody>\n",
       "    <tr>\n",
       "      <th>0</th>\n",
       "      <td>95.010009765625</td>\n",
       "      <td>102</td>\n",
       "      <td>TEB</td>\n",
       "      <td>1130</td>\n",
       "      <td>1.0</td>\n",
       "      <td>2.0</td>\n",
       "      <td>1.0</td>\n",
       "      <td>0.0</td>\n",
       "      <td>88.0</td>\n",
       "      <td>0.0</td>\n",
       "      <td>...</td>\n",
       "      <td>1.0</td>\n",
       "      <td>47.23</td>\n",
       "      <td>1.0</td>\n",
       "      <td>66.0</td>\n",
       "      <td>-1.454818</td>\n",
       "      <td>5.0</td>\n",
       "      <td>5.0</td>\n",
       "      <td>0.0</td>\n",
       "      <td>1995-12-01</td>\n",
       "      <td>2.556076</td>\n",
       "    </tr>\n",
       "    <tr>\n",
       "      <th>1</th>\n",
       "      <td>95.01001739501953</td>\n",
       "      <td>103</td>\n",
       "      <td>TEB</td>\n",
       "      <td>1130</td>\n",
       "      <td>2.0</td>\n",
       "      <td>2.0</td>\n",
       "      <td>2.0</td>\n",
       "      <td>0.0</td>\n",
       "      <td>88.0</td>\n",
       "      <td>0.0</td>\n",
       "      <td>...</td>\n",
       "      <td>1.0</td>\n",
       "      <td>26.20</td>\n",
       "      <td>1.0</td>\n",
       "      <td>65.0</td>\n",
       "      <td>-1.454818</td>\n",
       "      <td>5.0</td>\n",
       "      <td>5.0</td>\n",
       "      <td>0.0</td>\n",
       "      <td>1995-12-01</td>\n",
       "      <td>2.556076</td>\n",
       "    </tr>\n",
       "    <tr>\n",
       "      <th>2</th>\n",
       "      <td>95.01006317138672</td>\n",
       "      <td>107</td>\n",
       "      <td>TEB</td>\n",
       "      <td>1130</td>\n",
       "      <td>6.0</td>\n",
       "      <td>2.0</td>\n",
       "      <td>2.0</td>\n",
       "      <td>0.0</td>\n",
       "      <td>88.0</td>\n",
       "      <td>0.0</td>\n",
       "      <td>...</td>\n",
       "      <td>1.0</td>\n",
       "      <td>47.23</td>\n",
       "      <td>1.0</td>\n",
       "      <td>66.0</td>\n",
       "      <td>-1.454818</td>\n",
       "      <td>5.0</td>\n",
       "      <td>5.0</td>\n",
       "      <td>0.0</td>\n",
       "      <td>1995-12-01</td>\n",
       "      <td>2.556076</td>\n",
       "    </tr>\n",
       "    <tr>\n",
       "      <th>3</th>\n",
       "      <td>95.01007080078125</td>\n",
       "      <td>108</td>\n",
       "      <td>TEB</td>\n",
       "      <td>1130</td>\n",
       "      <td>7.0</td>\n",
       "      <td>2.0</td>\n",
       "      <td>2.0</td>\n",
       "      <td>0.0</td>\n",
       "      <td>88.0</td>\n",
       "      <td>0.0</td>\n",
       "      <td>...</td>\n",
       "      <td>1.0</td>\n",
       "      <td>30.69</td>\n",
       "      <td>1.0</td>\n",
       "      <td>58.0</td>\n",
       "      <td>-1.454818</td>\n",
       "      <td>5.0</td>\n",
       "      <td>5.0</td>\n",
       "      <td>0.0</td>\n",
       "      <td>1995-12-01</td>\n",
       "      <td>2.556076</td>\n",
       "    </tr>\n",
       "    <tr>\n",
       "      <th>4</th>\n",
       "      <td>95.01068115234375</td>\n",
       "      <td>169</td>\n",
       "      <td>TEB</td>\n",
       "      <td>1130</td>\n",
       "      <td>68.0</td>\n",
       "      <td>2.0</td>\n",
       "      <td>2.0</td>\n",
       "      <td>0.0</td>\n",
       "      <td>88.0</td>\n",
       "      <td>0.0</td>\n",
       "      <td>...</td>\n",
       "      <td>1.0</td>\n",
       "      <td>46.88</td>\n",
       "      <td>1.0</td>\n",
       "      <td>51.0</td>\n",
       "      <td>-1.454818</td>\n",
       "      <td>5.0</td>\n",
       "      <td>5.0</td>\n",
       "      <td>0.0</td>\n",
       "      <td>1995-12-01</td>\n",
       "      <td>2.556076</td>\n",
       "    </tr>\n",
       "  </tbody>\n",
       "</table>\n",
       "<p>5 rows × 340 columns</p>\n",
       "</div>"
      ],
      "text/plain": [
       "            masterid id_1 coder  coderid  casen_1  juris  first_ct  agency  \\\n",
       "0    95.010009765625  102   TEB     1130      1.0    2.0       1.0     0.0   \n",
       "1  95.01001739501953  103   TEB     1130      2.0    2.0       2.0     0.0   \n",
       "2  95.01006317138672  107   TEB     1130      6.0    2.0       2.0     0.0   \n",
       "3  95.01007080078125  108   TEB     1130      7.0    2.0       2.0     0.0   \n",
       "4  95.01068115234375  169   TEB     1130     68.0    2.0       2.0     0.0   \n",
       "\n",
       "   agency_r  arbitrat        ...          gender  pajid  jpid  agedec  \\\n",
       "0      88.0       0.0        ...             1.0  47.23   1.0    66.0   \n",
       "1      88.0       0.0        ...             1.0  26.20   1.0    65.0   \n",
       "2      88.0       0.0        ...             1.0  47.23   1.0    66.0   \n",
       "3      88.0       0.0        ...             1.0  30.69   1.0    58.0   \n",
       "4      88.0       0.0        ...             1.0  46.88   1.0    51.0   \n",
       "\n",
       "        EWI select retentn   cj       date  Partisan Conflict  \n",
       "0 -1.454818    5.0     5.0  0.0 1995-12-01           2.556076  \n",
       "1 -1.454818    5.0     5.0  0.0 1995-12-01           2.556076  \n",
       "2 -1.454818    5.0     5.0  0.0 1995-12-01           2.556076  \n",
       "3 -1.454818    5.0     5.0  0.0 1995-12-01           2.556076  \n",
       "4 -1.454818    5.0     5.0  0.0 1995-12-01           2.556076  \n",
       "\n",
       "[5 rows x 340 columns]"
      ]
     },
     "execution_count": 1073,
     "metadata": {},
     "output_type": "execute_result"
    }
   ],
   "source": [
    "data.head()"
   ]
  },
  {
   "cell_type": "code",
   "execution_count": 1428,
   "metadata": {
    "collapsed": false
   },
   "outputs": [],
   "source": [
    "fj = data[data['judgeopinion']==1]"
   ]
  },
  {
   "cell_type": "code",
   "execution_count": 1429,
   "metadata": {
    "collapsed": true
   },
   "outputs": [],
   "source": [
    "fj = fj[['masterid', 'date', 'jpid', 'pajid', 'agedec']].set_index(['masterid', 'date'])"
   ]
  },
  {
   "cell_type": "code",
   "execution_count": 1088,
   "metadata": {
    "collapsed": true
   },
   "outputs": [],
   "source": [
    "#fj.set_index(['masterid', 'date'], inplace = True)"
   ]
  },
  {
   "cell_type": "code",
   "execution_count": 1430,
   "metadata": {
    "collapsed": false
   },
   "outputs": [],
   "source": [
    "fj.columns = ['firstjpid', 'firstpajid', 'firstagedec']"
   ]
  },
  {
   "cell_type": "code",
   "execution_count": 1431,
   "metadata": {
    "collapsed": true
   },
   "outputs": [],
   "source": [
    "nfj = data[data['judgeopinion'] != 1]"
   ]
  },
  {
   "cell_type": "code",
   "execution_count": 1432,
   "metadata": {
    "collapsed": true
   },
   "outputs": [],
   "source": [
    "nfj = nfj[['masterid', 'date', 'jpid', 'judgeopinion', 'pajid', 'agedec']].set_index(['masterid', 'date'])"
   ]
  },
  {
   "cell_type": "code",
   "execution_count": 1433,
   "metadata": {
    "collapsed": false
   },
   "outputs": [],
   "source": [
    "#nfj.set_index(['masterid', 'date'], inplace = True)"
   ]
  },
  {
   "cell_type": "code",
   "execution_count": 1434,
   "metadata": {
    "collapsed": false
   },
   "outputs": [
    {
     "data": {
      "text/html": [
       "<div>\n",
       "<style scoped>\n",
       "    .dataframe tbody tr th:only-of-type {\n",
       "        vertical-align: middle;\n",
       "    }\n",
       "\n",
       "    .dataframe tbody tr th {\n",
       "        vertical-align: top;\n",
       "    }\n",
       "\n",
       "    .dataframe thead th {\n",
       "        text-align: right;\n",
       "    }\n",
       "</style>\n",
       "<table border=\"1\" class=\"dataframe\">\n",
       "  <thead>\n",
       "    <tr style=\"text-align: right;\">\n",
       "      <th></th>\n",
       "      <th></th>\n",
       "      <th>firstjpid</th>\n",
       "      <th>firstpajid</th>\n",
       "      <th>firstagedec</th>\n",
       "    </tr>\n",
       "    <tr>\n",
       "      <th>masterid</th>\n",
       "      <th>date</th>\n",
       "      <th></th>\n",
       "      <th></th>\n",
       "      <th></th>\n",
       "    </tr>\n",
       "  </thead>\n",
       "  <tbody>\n",
       "    <tr>\n",
       "      <th>95.010009765625</th>\n",
       "      <th>1995-12-01</th>\n",
       "      <td>1.0</td>\n",
       "      <td>47.23</td>\n",
       "      <td>66.0</td>\n",
       "    </tr>\n",
       "    <tr>\n",
       "      <th>95.01001739501953</th>\n",
       "      <th>1995-12-01</th>\n",
       "      <td>1.0</td>\n",
       "      <td>26.20</td>\n",
       "      <td>65.0</td>\n",
       "    </tr>\n",
       "    <tr>\n",
       "      <th>95.01006317138672</th>\n",
       "      <th>1995-12-01</th>\n",
       "      <td>1.0</td>\n",
       "      <td>47.23</td>\n",
       "      <td>66.0</td>\n",
       "    </tr>\n",
       "    <tr>\n",
       "      <th>95.01007080078125</th>\n",
       "      <th>1995-12-01</th>\n",
       "      <td>1.0</td>\n",
       "      <td>30.69</td>\n",
       "      <td>58.0</td>\n",
       "    </tr>\n",
       "    <tr>\n",
       "      <th>95.01068115234375</th>\n",
       "      <th>1995-12-01</th>\n",
       "      <td>1.0</td>\n",
       "      <td>46.88</td>\n",
       "      <td>51.0</td>\n",
       "    </tr>\n",
       "  </tbody>\n",
       "</table>\n",
       "</div>"
      ],
      "text/plain": [
       "                              firstjpid  firstpajid  firstagedec\n",
       "masterid          date                                          \n",
       "95.010009765625   1995-12-01        1.0       47.23         66.0\n",
       "95.01001739501953 1995-12-01        1.0       26.20         65.0\n",
       "95.01006317138672 1995-12-01        1.0       47.23         66.0\n",
       "95.01007080078125 1995-12-01        1.0       30.69         58.0\n",
       "95.01068115234375 1995-12-01        1.0       46.88         51.0"
      ]
     },
     "execution_count": 1434,
     "metadata": {},
     "output_type": "execute_result"
    }
   ],
   "source": [
    "fj.head()"
   ]
  },
  {
   "cell_type": "code",
   "execution_count": 1435,
   "metadata": {
    "collapsed": false
   },
   "outputs": [],
   "source": [
    "newtry = pd.merge(nfj, fj, left_index = True, right_index = True, how='left')"
   ]
  },
  {
   "cell_type": "code",
   "execution_count": 1436,
   "metadata": {
    "collapsed": false
   },
   "outputs": [
    {
     "data": {
      "text/html": [
       "<div>\n",
       "<style scoped>\n",
       "    .dataframe tbody tr th:only-of-type {\n",
       "        vertical-align: middle;\n",
       "    }\n",
       "\n",
       "    .dataframe tbody tr th {\n",
       "        vertical-align: top;\n",
       "    }\n",
       "\n",
       "    .dataframe thead th {\n",
       "        text-align: right;\n",
       "    }\n",
       "</style>\n",
       "<table border=\"1\" class=\"dataframe\">\n",
       "  <thead>\n",
       "    <tr style=\"text-align: right;\">\n",
       "      <th></th>\n",
       "      <th></th>\n",
       "      <th>jpid</th>\n",
       "      <th>judgeopinion</th>\n",
       "      <th>pajid</th>\n",
       "      <th>agedec</th>\n",
       "      <th>firstjpid</th>\n",
       "      <th>firstpajid</th>\n",
       "      <th>firstagedec</th>\n",
       "    </tr>\n",
       "    <tr>\n",
       "      <th>masterid</th>\n",
       "      <th>date</th>\n",
       "      <th></th>\n",
       "      <th></th>\n",
       "      <th></th>\n",
       "      <th></th>\n",
       "      <th></th>\n",
       "      <th></th>\n",
       "      <th></th>\n",
       "    </tr>\n",
       "  </thead>\n",
       "  <tbody>\n",
       "    <tr>\n",
       "      <th rowspan=\"4\" valign=\"top\">95.010009765625</th>\n",
       "      <th>1995-12-01</th>\n",
       "      <td>2.0</td>\n",
       "      <td>2</td>\n",
       "      <td>8.11</td>\n",
       "      <td>70.0</td>\n",
       "      <td>1.0</td>\n",
       "      <td>47.23</td>\n",
       "      <td>66.0</td>\n",
       "    </tr>\n",
       "    <tr>\n",
       "      <th>1995-12-01</th>\n",
       "      <td>1.0</td>\n",
       "      <td>2</td>\n",
       "      <td>30.69</td>\n",
       "      <td>58.0</td>\n",
       "      <td>1.0</td>\n",
       "      <td>47.23</td>\n",
       "      <td>66.0</td>\n",
       "    </tr>\n",
       "    <tr>\n",
       "      <th>1995-12-01</th>\n",
       "      <td>1.0</td>\n",
       "      <td>2</td>\n",
       "      <td>45.44</td>\n",
       "      <td>62.0</td>\n",
       "      <td>1.0</td>\n",
       "      <td>47.23</td>\n",
       "      <td>66.0</td>\n",
       "    </tr>\n",
       "    <tr>\n",
       "      <th>1995-12-01</th>\n",
       "      <td>1.0</td>\n",
       "      <td>2</td>\n",
       "      <td>36.28</td>\n",
       "      <td>51.0</td>\n",
       "      <td>1.0</td>\n",
       "      <td>47.23</td>\n",
       "      <td>66.0</td>\n",
       "    </tr>\n",
       "    <tr>\n",
       "      <th>95.01001739501953</th>\n",
       "      <th>1995-12-01</th>\n",
       "      <td>2.0</td>\n",
       "      <td>2</td>\n",
       "      <td>8.11</td>\n",
       "      <td>70.0</td>\n",
       "      <td>1.0</td>\n",
       "      <td>26.20</td>\n",
       "      <td>65.0</td>\n",
       "    </tr>\n",
       "  </tbody>\n",
       "</table>\n",
       "</div>"
      ],
      "text/plain": [
       "                              jpid  judgeopinion  pajid  agedec  firstjpid  \\\n",
       "masterid          date                                                       \n",
       "95.010009765625   1995-12-01   2.0             2   8.11    70.0        1.0   \n",
       "                  1995-12-01   1.0             2  30.69    58.0        1.0   \n",
       "                  1995-12-01   1.0             2  45.44    62.0        1.0   \n",
       "                  1995-12-01   1.0             2  36.28    51.0        1.0   \n",
       "95.01001739501953 1995-12-01   2.0             2   8.11    70.0        1.0   \n",
       "\n",
       "                              firstpajid  firstagedec  \n",
       "masterid          date                                 \n",
       "95.010009765625   1995-12-01       47.23         66.0  \n",
       "                  1995-12-01       47.23         66.0  \n",
       "                  1995-12-01       47.23         66.0  \n",
       "                  1995-12-01       47.23         66.0  \n",
       "95.01001739501953 1995-12-01       26.20         65.0  "
      ]
     },
     "execution_count": 1436,
     "metadata": {},
     "output_type": "execute_result"
    }
   ],
   "source": [
    "newtry.head()"
   ]
  },
  {
   "cell_type": "code",
   "execution_count": 1437,
   "metadata": {
    "collapsed": true
   },
   "outputs": [],
   "source": [
    "newtry['dissent'] = (newtry['judgeopinion'] != 2) * 1\n",
    "newtry['opposition'] = (newtry['jpid'] != newtry['firstjpid']) * 1\n",
    "newtry['pajiddif'] = normalize(newtry['pajid'] - newtry['firstpajid'])\n",
    "newtry['agedec'] = normalize(newtry['agedec'] - newtry['firstagedec'])"
   ]
  },
  {
   "cell_type": "code",
   "execution_count": 1438,
   "metadata": {
    "collapsed": false
   },
   "outputs": [],
   "source": [
    "newtry.reset_index(inplace = True)"
   ]
  },
  {
   "cell_type": "code",
   "execution_count": 1439,
   "metadata": {
    "collapsed": true
   },
   "outputs": [],
   "source": [
    "newtry['Year'] = newtry['date'].dt.year\n",
    "newtry['Month'] = newtry['date'].dt.month"
   ]
  },
  {
   "cell_type": "code",
   "execution_count": 1440,
   "metadata": {
    "collapsed": false
   },
   "outputs": [],
   "source": [
    "nt = newtry.groupby(['Year', 'Month']).apply(lambda x : np.sum( x['opposition'] * x['dissent']) / np.sum(x['opposition']))"
   ]
  },
  {
   "cell_type": "code",
   "execution_count": 1441,
   "metadata": {
    "collapsed": false
   },
   "outputs": [
    {
     "data": {
      "text/plain": [
       "[<matplotlib.lines.Line2D at 0x1ce418d4e0>]"
      ]
     },
     "execution_count": 1441,
     "metadata": {},
     "output_type": "execute_result"
    },
    {
     "data": {
      "image/png": "[encoded data removed]",
      "text/plain": [
       "<matplotlib.figure.Figure at 0x1cb6ff4198>"
      ]
     },
     "metadata": {},
     "output_type": "display_data"
    }
   ],
   "source": [
    "plt.plot(np.array(nt))\n",
    "#plt.plot(np.array(PCI))"
   ]
  },
  {
   "cell_type": "code",
   "execution_count": 1451,
   "metadata": {
    "collapsed": false
   },
   "outputs": [],
   "source": [
    "newtry2 = pd.merge(newtry, PCI, left_on = 'date', right_index = True, how = 'left')\n",
    "#newtry2 = newtry.dropna()\n",
    "newtry2 = newtry2.fillna(0)"
   ]
  },
  {
   "cell_type": "code",
   "execution_count": 1452,
   "metadata": {
    "collapsed": false
   },
   "outputs": [
    {
     "data": {
      "text/html": [
       "<div>\n",
       "<style scoped>\n",
       "    .dataframe tbody tr th:only-of-type {\n",
       "        vertical-align: middle;\n",
       "    }\n",
       "\n",
       "    .dataframe tbody tr th {\n",
       "        vertical-align: top;\n",
       "    }\n",
       "\n",
       "    .dataframe thead th {\n",
       "        text-align: right;\n",
       "    }\n",
       "</style>\n",
       "<table border=\"1\" class=\"dataframe\">\n",
       "  <thead>\n",
       "    <tr style=\"text-align: right;\">\n",
       "      <th></th>\n",
       "      <th>masterid</th>\n",
       "      <th>date</th>\n",
       "      <th>jpid</th>\n",
       "      <th>judgeopinion</th>\n",
       "      <th>pajid</th>\n",
       "      <th>agedec</th>\n",
       "      <th>firstjpid</th>\n",
       "      <th>firstpajid</th>\n",
       "      <th>firstagedec</th>\n",
       "      <th>dissent</th>\n",
       "      <th>opposition</th>\n",
       "      <th>pajiddif</th>\n",
       "      <th>Year</th>\n",
       "      <th>Month</th>\n",
       "      <th>Partisan Conflict</th>\n",
       "      <th>PCI lagged 14</th>\n",
       "      <th>PCI lagged 28</th>\n",
       "      <th>PCI lagged 56</th>\n",
       "      <th>PCI lagged 112</th>\n",
       "    </tr>\n",
       "  </thead>\n",
       "  <tbody>\n",
       "    <tr>\n",
       "      <th>0</th>\n",
       "      <td>95.010009765625</td>\n",
       "      <td>1995-12-01</td>\n",
       "      <td>2.0</td>\n",
       "      <td>2</td>\n",
       "      <td>8.11</td>\n",
       "      <td>0.327267</td>\n",
       "      <td>1.0</td>\n",
       "      <td>47.23</td>\n",
       "      <td>66.0</td>\n",
       "      <td>0</td>\n",
       "      <td>1</td>\n",
       "      <td>-1.391823</td>\n",
       "      <td>1995</td>\n",
       "      <td>12</td>\n",
       "      <td>2.787213</td>\n",
       "      <td>2.346222</td>\n",
       "      <td>2.427347</td>\n",
       "      <td>1.48767</td>\n",
       "      <td>1.594355</td>\n",
       "    </tr>\n",
       "    <tr>\n",
       "      <th>1</th>\n",
       "      <td>95.010009765625</td>\n",
       "      <td>1995-12-01</td>\n",
       "      <td>1.0</td>\n",
       "      <td>2</td>\n",
       "      <td>30.69</td>\n",
       "      <td>-0.714848</td>\n",
       "      <td>1.0</td>\n",
       "      <td>47.23</td>\n",
       "      <td>66.0</td>\n",
       "      <td>0</td>\n",
       "      <td>0</td>\n",
       "      <td>-0.584480</td>\n",
       "      <td>1995</td>\n",
       "      <td>12</td>\n",
       "      <td>2.787213</td>\n",
       "      <td>2.346222</td>\n",
       "      <td>2.427347</td>\n",
       "      <td>1.48767</td>\n",
       "      <td>1.594355</td>\n",
       "    </tr>\n",
       "    <tr>\n",
       "      <th>2</th>\n",
       "      <td>95.010009765625</td>\n",
       "      <td>1995-12-01</td>\n",
       "      <td>1.0</td>\n",
       "      <td>2</td>\n",
       "      <td>45.44</td>\n",
       "      <td>-0.367477</td>\n",
       "      <td>1.0</td>\n",
       "      <td>47.23</td>\n",
       "      <td>66.0</td>\n",
       "      <td>0</td>\n",
       "      <td>0</td>\n",
       "      <td>-0.057097</td>\n",
       "      <td>1995</td>\n",
       "      <td>12</td>\n",
       "      <td>2.787213</td>\n",
       "      <td>2.346222</td>\n",
       "      <td>2.427347</td>\n",
       "      <td>1.48767</td>\n",
       "      <td>1.594355</td>\n",
       "    </tr>\n",
       "    <tr>\n",
       "      <th>3</th>\n",
       "      <td>95.010009765625</td>\n",
       "      <td>1995-12-01</td>\n",
       "      <td>1.0</td>\n",
       "      <td>2</td>\n",
       "      <td>36.28</td>\n",
       "      <td>-1.322749</td>\n",
       "      <td>1.0</td>\n",
       "      <td>47.23</td>\n",
       "      <td>66.0</td>\n",
       "      <td>0</td>\n",
       "      <td>0</td>\n",
       "      <td>-0.384611</td>\n",
       "      <td>1995</td>\n",
       "      <td>12</td>\n",
       "      <td>2.787213</td>\n",
       "      <td>2.346222</td>\n",
       "      <td>2.427347</td>\n",
       "      <td>1.48767</td>\n",
       "      <td>1.594355</td>\n",
       "    </tr>\n",
       "    <tr>\n",
       "      <th>4</th>\n",
       "      <td>95.01001739501953</td>\n",
       "      <td>1995-12-01</td>\n",
       "      <td>2.0</td>\n",
       "      <td>2</td>\n",
       "      <td>8.11</td>\n",
       "      <td>0.414110</td>\n",
       "      <td>1.0</td>\n",
       "      <td>26.20</td>\n",
       "      <td>65.0</td>\n",
       "      <td>0</td>\n",
       "      <td>1</td>\n",
       "      <td>-0.639900</td>\n",
       "      <td>1995</td>\n",
       "      <td>12</td>\n",
       "      <td>2.787213</td>\n",
       "      <td>2.346222</td>\n",
       "      <td>2.427347</td>\n",
       "      <td>1.48767</td>\n",
       "      <td>1.594355</td>\n",
       "    </tr>\n",
       "  </tbody>\n",
       "</table>\n",
       "</div>"
      ],
      "text/plain": [
       "            masterid       date  jpid  judgeopinion  pajid    agedec  \\\n",
       "0    95.010009765625 1995-12-01   2.0             2   8.11  0.327267   \n",
       "1    95.010009765625 1995-12-01   1.0             2  30.69 -0.714848   \n",
       "2    95.010009765625 1995-12-01   1.0             2  45.44 -0.367477   \n",
       "3    95.010009765625 1995-12-01   1.0             2  36.28 -1.322749   \n",
       "4  95.01001739501953 1995-12-01   2.0             2   8.11  0.414110   \n",
       "\n",
       "   firstjpid  firstpajid  firstagedec  dissent  opposition  pajiddif  Year  \\\n",
       "0        1.0       47.23         66.0        0           1 -1.391823  1995   \n",
       "1        1.0       47.23         66.0        0           0 -0.584480  1995   \n",
       "2        1.0       47.23         66.0        0           0 -0.057097  1995   \n",
       "3        1.0       47.23         66.0        0           0 -0.384611  1995   \n",
       "4        1.0       26.20         65.0        0           1 -0.639900  1995   \n",
       "\n",
       "   Month  Partisan Conflict  PCI lagged 14  PCI lagged 28  PCI lagged 56  \\\n",
       "0     12           2.787213       2.346222       2.427347        1.48767   \n",
       "1     12           2.787213       2.346222       2.427347        1.48767   \n",
       "2     12           2.787213       2.346222       2.427347        1.48767   \n",
       "3     12           2.787213       2.346222       2.427347        1.48767   \n",
       "4     12           2.787213       2.346222       2.427347        1.48767   \n",
       "\n",
       "   PCI lagged 112  \n",
       "0        1.594355  \n",
       "1        1.594355  \n",
       "2        1.594355  \n",
       "3        1.594355  \n",
       "4        1.594355  "
      ]
     },
     "execution_count": 1452,
     "metadata": {},
     "output_type": "execute_result"
    }
   ],
   "source": [
    "newtry2.head()"
   ]
  },
  {
   "cell_type": "code",
   "execution_count": 1453,
   "metadata": {
    "collapsed": false
   },
   "outputs": [],
   "source": [
    "x = newtry2[newtry2['opposition']==1][['Partisan Conflict', 'PCI lagged 28', 'PCI lagged 56', 'PCI lagged 112', 'pajiddif', 'agedec']]\n",
    "y = newtry2[newtry2['opposition']==1]['dissent']"
   ]
  },
  {
   "cell_type": "code",
   "execution_count": 1454,
   "metadata": {
    "collapsed": false
   },
   "outputs": [
    {
     "name": "stdout",
     "output_type": "stream",
     "text": [
      "Optimization terminated successfully.\n",
      "         Current function value: 0.468818\n",
      "         Iterations 5\n",
      "const               -1.537207\n",
      "Partisan Conflict   -0.027360\n",
      "PCI lagged 28        0.073954\n",
      "PCI lagged 56        0.041261\n",
      "PCI lagged 112       0.054636\n",
      "pajiddif             0.014410\n",
      "agedec               0.016028\n",
      "dtype: float64\n",
      "const                0.008914\n",
      "Partisan Conflict    0.013680\n",
      "PCI lagged 28        0.017111\n",
      "PCI lagged 56        0.013988\n",
      "PCI lagged 112       0.010071\n",
      "pajiddif             0.008861\n",
      "agedec               0.010075\n",
      "dtype: float64\n"
     ]
    }
   ],
   "source": [
    "x = sm.add_constant(x)\n",
    "lr = sm.Logit(y, x)\n",
    "res = lr.fit()\n",
    "print(res.params)\n",
    "print(res.bse)"
   ]
  },
  {
   "cell_type": "code",
   "execution_count": 1448,
   "metadata": {
    "collapsed": false
   },
   "outputs": [
    {
     "name": "stdout",
     "output_type": "stream",
     "text": [
      "Optimization terminated successfully.\n",
      "         Current function value: 0.431448\n",
      "         Iterations 6\n",
      "const               -1.681559\n",
      "Partisan Conflict   -0.051917\n",
      "PCI lagged 28       -0.047773\n",
      "PCI lagged 56       -0.026755\n",
      "pajiddif            -0.026894\n",
      "agedec               0.026889\n",
      "dtype: float64\n",
      "const                0.011780\n",
      "Partisan Conflict    0.018365\n",
      "PCI lagged 28        0.023545\n",
      "PCI lagged 56        0.017965\n",
      "pajiddif             0.018328\n",
      "agedec               0.013165\n",
      "dtype: float64\n"
     ]
    }
   ],
   "source": [
    "x = newtry2[newtry2['opposition']==0][['Partisan Conflict','PCI lagged 28', 'PCI lagged 56', 'pajiddif', 'agedec']]\n",
    "y = newtry2[newtry2['opposition']==0]['dissent']\n",
    "x = sm.add_constant(x)\n",
    "lr = sm.Logit(y, x)\n",
    "res = lr.fit()\n",
    "print(res.params)\n",
    "print(res.bse)"
   ]
  },
  {
   "cell_type": "markdown",
   "metadata": {},
   "source": [
    "## Lagged outcome"
   ]
  },
  {
   "cell_type": "code",
   "execution_count": 1449,
   "metadata": {
    "collapsed": false
   },
   "outputs": [],
   "source": [
    "#PCI['PCI lagged 7'] = PCI['Partisan Conflict'].shift(-7).fillna(method='ffill')\n",
    "PCI['PCI lagged 14'] = PCI['Partisan Conflict'].shift(-14)#.fillna(method='ffill')\n",
    "PCI['PCI lagged 28'] = PCI['Partisan Conflict'].shift(-28)#.fillna(method='ffill')\n",
    "PCI['PCI lagged 56'] = PCI['Partisan Conflict'].shift(-56)#.fillna(method='ffill')\n",
    "PCI['PCI lagged 112'] = PCI['Partisan Conflict'].shift(-112)"
   ]
  },
  {
   "cell_type": "code",
   "execution_count": 1450,
   "metadata": {
    "collapsed": false
   },
   "outputs": [
    {
     "data": {
      "text/html": [
       "<div>\n",
       "<style scoped>\n",
       "    .dataframe tbody tr th:only-of-type {\n",
       "        vertical-align: middle;\n",
       "    }\n",
       "\n",
       "    .dataframe tbody tr th {\n",
       "        vertical-align: top;\n",
       "    }\n",
       "\n",
       "    .dataframe thead th {\n",
       "        text-align: right;\n",
       "    }\n",
       "</style>\n",
       "<table border=\"1\" class=\"dataframe\">\n",
       "  <thead>\n",
       "    <tr style=\"text-align: right;\">\n",
       "      <th></th>\n",
       "      <th>Partisan Conflict</th>\n",
       "      <th>PCI lagged 14</th>\n",
       "      <th>PCI lagged 28</th>\n",
       "      <th>PCI lagged 56</th>\n",
       "      <th>PCI lagged 112</th>\n",
       "    </tr>\n",
       "    <tr>\n",
       "      <th>date</th>\n",
       "      <th></th>\n",
       "      <th></th>\n",
       "      <th></th>\n",
       "      <th></th>\n",
       "      <th></th>\n",
       "    </tr>\n",
       "  </thead>\n",
       "  <tbody>\n",
       "    <tr>\n",
       "      <th>1995-01-15</th>\n",
       "      <td>0.253971</td>\n",
       "      <td>1.087631</td>\n",
       "      <td>1.288041</td>\n",
       "      <td>0.800431</td>\n",
       "      <td>0.924473</td>\n",
       "    </tr>\n",
       "    <tr>\n",
       "      <th>1995-01-16</th>\n",
       "      <td>0.338251</td>\n",
       "      <td>1.119998</td>\n",
       "      <td>1.284770</td>\n",
       "      <td>0.780365</td>\n",
       "      <td>0.946513</td>\n",
       "    </tr>\n",
       "    <tr>\n",
       "      <th>1995-01-17</th>\n",
       "      <td>0.419971</td>\n",
       "      <td>1.149217</td>\n",
       "      <td>1.279648</td>\n",
       "      <td>0.761042</td>\n",
       "      <td>0.969119</td>\n",
       "    </tr>\n",
       "    <tr>\n",
       "      <th>1995-01-18</th>\n",
       "      <td>0.497339</td>\n",
       "      <td>1.175381</td>\n",
       "      <td>1.253646</td>\n",
       "      <td>0.796143</td>\n",
       "      <td>0.992284</td>\n",
       "    </tr>\n",
       "    <tr>\n",
       "      <th>1995-01-19</th>\n",
       "      <td>0.570447</td>\n",
       "      <td>1.198582</td>\n",
       "      <td>1.264223</td>\n",
       "      <td>0.724981</td>\n",
       "      <td>1.016001</td>\n",
       "    </tr>\n",
       "    <tr>\n",
       "      <th>1995-01-20</th>\n",
       "      <td>0.639388</td>\n",
       "      <td>1.218914</td>\n",
       "      <td>1.254105</td>\n",
       "      <td>0.708329</td>\n",
       "      <td>1.040264</td>\n",
       "    </tr>\n",
       "    <tr>\n",
       "      <th>1995-01-21</th>\n",
       "      <td>0.704255</td>\n",
       "      <td>1.236468</td>\n",
       "      <td>1.242507</td>\n",
       "      <td>0.692593</td>\n",
       "      <td>1.065066</td>\n",
       "    </tr>\n",
       "    <tr>\n",
       "      <th>1995-01-22</th>\n",
       "      <td>0.765140</td>\n",
       "      <td>1.251338</td>\n",
       "      <td>1.229522</td>\n",
       "      <td>0.677765</td>\n",
       "      <td>1.090400</td>\n",
       "    </tr>\n",
       "    <tr>\n",
       "      <th>1995-01-23</th>\n",
       "      <td>0.822136</td>\n",
       "      <td>1.263615</td>\n",
       "      <td>1.215241</td>\n",
       "      <td>0.663840</td>\n",
       "      <td>1.167868</td>\n",
       "    </tr>\n",
       "    <tr>\n",
       "      <th>1995-01-24</th>\n",
       "      <td>0.875336</td>\n",
       "      <td>1.273394</td>\n",
       "      <td>1.199759</td>\n",
       "      <td>0.650810</td>\n",
       "      <td>1.142620</td>\n",
       "    </tr>\n",
       "    <tr>\n",
       "      <th>1995-01-25</th>\n",
       "      <td>0.924832</td>\n",
       "      <td>1.280766</td>\n",
       "      <td>1.183168</td>\n",
       "      <td>0.638668</td>\n",
       "      <td>1.169378</td>\n",
       "    </tr>\n",
       "    <tr>\n",
       "      <th>1995-01-26</th>\n",
       "      <td>0.970717</td>\n",
       "      <td>1.285824</td>\n",
       "      <td>1.165559</td>\n",
       "      <td>0.627409</td>\n",
       "      <td>1.196414</td>\n",
       "    </tr>\n",
       "    <tr>\n",
       "      <th>1995-01-27</th>\n",
       "      <td>1.013083</td>\n",
       "      <td>1.288661</td>\n",
       "      <td>1.147027</td>\n",
       "      <td>0.617024</td>\n",
       "      <td>1.223608</td>\n",
       "    </tr>\n",
       "    <tr>\n",
       "      <th>1995-01-28</th>\n",
       "      <td>1.052024</td>\n",
       "      <td>1.289369</td>\n",
       "      <td>1.127663</td>\n",
       "      <td>0.607508</td>\n",
       "      <td>1.250839</td>\n",
       "    </tr>\n",
       "    <tr>\n",
       "      <th>1995-01-29</th>\n",
       "      <td>1.087631</td>\n",
       "      <td>1.288041</td>\n",
       "      <td>1.107560</td>\n",
       "      <td>0.598854</td>\n",
       "      <td>1.277987</td>\n",
       "    </tr>\n",
       "    <tr>\n",
       "      <th>1995-01-30</th>\n",
       "      <td>1.119998</td>\n",
       "      <td>1.284770</td>\n",
       "      <td>1.086811</td>\n",
       "      <td>0.591055</td>\n",
       "      <td>1.304931</td>\n",
       "    </tr>\n",
       "    <tr>\n",
       "      <th>1995-01-31</th>\n",
       "      <td>1.149217</td>\n",
       "      <td>1.279648</td>\n",
       "      <td>1.065508</td>\n",
       "      <td>0.584104</td>\n",
       "      <td>1.331551</td>\n",
       "    </tr>\n",
       "    <tr>\n",
       "      <th>1995-02-01</th>\n",
       "      <td>1.175381</td>\n",
       "      <td>1.253646</td>\n",
       "      <td>1.043745</td>\n",
       "      <td>0.577994</td>\n",
       "      <td>1.357727</td>\n",
       "    </tr>\n",
       "    <tr>\n",
       "      <th>1995-02-02</th>\n",
       "      <td>1.198582</td>\n",
       "      <td>1.264223</td>\n",
       "      <td>1.021613</td>\n",
       "      <td>0.572720</td>\n",
       "      <td>1.383338</td>\n",
       "    </tr>\n",
       "    <tr>\n",
       "      <th>1995-02-03</th>\n",
       "      <td>1.218914</td>\n",
       "      <td>1.254105</td>\n",
       "      <td>0.999206</td>\n",
       "      <td>0.568273</td>\n",
       "      <td>1.408264</td>\n",
       "    </tr>\n",
       "    <tr>\n",
       "      <th>1995-02-04</th>\n",
       "      <td>1.236468</td>\n",
       "      <td>1.242507</td>\n",
       "      <td>0.976616</td>\n",
       "      <td>0.564648</td>\n",
       "      <td>1.432385</td>\n",
       "    </tr>\n",
       "    <tr>\n",
       "      <th>1995-02-05</th>\n",
       "      <td>1.251338</td>\n",
       "      <td>1.229522</td>\n",
       "      <td>0.953936</td>\n",
       "      <td>0.561838</td>\n",
       "      <td>1.455579</td>\n",
       "    </tr>\n",
       "    <tr>\n",
       "      <th>1995-02-06</th>\n",
       "      <td>1.263615</td>\n",
       "      <td>1.215241</td>\n",
       "      <td>0.931258</td>\n",
       "      <td>0.559836</td>\n",
       "      <td>1.477727</td>\n",
       "    </tr>\n",
       "    <tr>\n",
       "      <th>1995-02-07</th>\n",
       "      <td>1.273394</td>\n",
       "      <td>1.199759</td>\n",
       "      <td>0.908676</td>\n",
       "      <td>0.558634</td>\n",
       "      <td>1.498708</td>\n",
       "    </tr>\n",
       "    <tr>\n",
       "      <th>1995-02-08</th>\n",
       "      <td>1.280766</td>\n",
       "      <td>1.183168</td>\n",
       "      <td>0.886281</td>\n",
       "      <td>0.558228</td>\n",
       "      <td>1.518402</td>\n",
       "    </tr>\n",
       "    <tr>\n",
       "      <th>1995-02-09</th>\n",
       "      <td>1.285824</td>\n",
       "      <td>1.165559</td>\n",
       "      <td>0.864166</td>\n",
       "      <td>0.558609</td>\n",
       "      <td>1.536688</td>\n",
       "    </tr>\n",
       "    <tr>\n",
       "      <th>1995-02-10</th>\n",
       "      <td>1.288661</td>\n",
       "      <td>1.147027</td>\n",
       "      <td>0.842425</td>\n",
       "      <td>0.559771</td>\n",
       "      <td>1.553447</td>\n",
       "    </tr>\n",
       "    <tr>\n",
       "      <th>1995-02-11</th>\n",
       "      <td>1.289369</td>\n",
       "      <td>1.127663</td>\n",
       "      <td>0.821149</td>\n",
       "      <td>0.561707</td>\n",
       "      <td>1.568557</td>\n",
       "    </tr>\n",
       "    <tr>\n",
       "      <th>1995-02-12</th>\n",
       "      <td>1.288041</td>\n",
       "      <td>1.107560</td>\n",
       "      <td>0.800431</td>\n",
       "      <td>0.564411</td>\n",
       "      <td>1.581898</td>\n",
       "    </tr>\n",
       "    <tr>\n",
       "      <th>1995-02-13</th>\n",
       "      <td>1.284770</td>\n",
       "      <td>1.086811</td>\n",
       "      <td>0.780365</td>\n",
       "      <td>0.567876</td>\n",
       "      <td>1.593349</td>\n",
       "    </tr>\n",
       "    <tr>\n",
       "      <th>...</th>\n",
       "      <td>...</td>\n",
       "      <td>...</td>\n",
       "      <td>...</td>\n",
       "      <td>...</td>\n",
       "      <td>...</td>\n",
       "    </tr>\n",
       "    <tr>\n",
       "      <th>1999-11-16</th>\n",
       "      <td>-0.471287</td>\n",
       "      <td>-1.856988</td>\n",
       "      <td>-2.252163</td>\n",
       "      <td>NaN</td>\n",
       "      <td>NaN</td>\n",
       "    </tr>\n",
       "    <tr>\n",
       "      <th>1999-11-17</th>\n",
       "      <td>-0.566440</td>\n",
       "      <td>-1.938438</td>\n",
       "      <td>-2.188518</td>\n",
       "      <td>NaN</td>\n",
       "      <td>NaN</td>\n",
       "    </tr>\n",
       "    <tr>\n",
       "      <th>1999-11-18</th>\n",
       "      <td>-0.664689</td>\n",
       "      <td>-2.014209</td>\n",
       "      <td>NaN</td>\n",
       "      <td>NaN</td>\n",
       "      <td>NaN</td>\n",
       "    </tr>\n",
       "    <tr>\n",
       "      <th>1999-11-19</th>\n",
       "      <td>-0.765407</td>\n",
       "      <td>-2.083671</td>\n",
       "      <td>NaN</td>\n",
       "      <td>NaN</td>\n",
       "      <td>NaN</td>\n",
       "    </tr>\n",
       "    <tr>\n",
       "      <th>1999-11-20</th>\n",
       "      <td>-0.867968</td>\n",
       "      <td>-2.146200</td>\n",
       "      <td>NaN</td>\n",
       "      <td>NaN</td>\n",
       "      <td>NaN</td>\n",
       "    </tr>\n",
       "    <tr>\n",
       "      <th>1999-11-21</th>\n",
       "      <td>-0.971744</td>\n",
       "      <td>-2.201167</td>\n",
       "      <td>NaN</td>\n",
       "      <td>NaN</td>\n",
       "      <td>NaN</td>\n",
       "    </tr>\n",
       "    <tr>\n",
       "      <th>1999-11-22</th>\n",
       "      <td>-1.076109</td>\n",
       "      <td>-2.247945</td>\n",
       "      <td>NaN</td>\n",
       "      <td>NaN</td>\n",
       "      <td>NaN</td>\n",
       "    </tr>\n",
       "    <tr>\n",
       "      <th>1999-11-23</th>\n",
       "      <td>-1.180436</td>\n",
       "      <td>-2.285908</td>\n",
       "      <td>NaN</td>\n",
       "      <td>NaN</td>\n",
       "      <td>NaN</td>\n",
       "    </tr>\n",
       "    <tr>\n",
       "      <th>1999-11-24</th>\n",
       "      <td>-1.284097</td>\n",
       "      <td>-2.314429</td>\n",
       "      <td>NaN</td>\n",
       "      <td>NaN</td>\n",
       "      <td>NaN</td>\n",
       "    </tr>\n",
       "    <tr>\n",
       "      <th>1999-11-25</th>\n",
       "      <td>-1.386466</td>\n",
       "      <td>-2.332881</td>\n",
       "      <td>NaN</td>\n",
       "      <td>NaN</td>\n",
       "      <td>NaN</td>\n",
       "    </tr>\n",
       "    <tr>\n",
       "      <th>1999-11-26</th>\n",
       "      <td>-1.486916</td>\n",
       "      <td>-2.340637</td>\n",
       "      <td>NaN</td>\n",
       "      <td>NaN</td>\n",
       "      <td>NaN</td>\n",
       "    </tr>\n",
       "    <tr>\n",
       "      <th>1999-11-27</th>\n",
       "      <td>-1.584820</td>\n",
       "      <td>-2.337071</td>\n",
       "      <td>NaN</td>\n",
       "      <td>NaN</td>\n",
       "      <td>NaN</td>\n",
       "    </tr>\n",
       "    <tr>\n",
       "      <th>1999-11-28</th>\n",
       "      <td>-1.679552</td>\n",
       "      <td>-2.321554</td>\n",
       "      <td>NaN</td>\n",
       "      <td>NaN</td>\n",
       "      <td>NaN</td>\n",
       "    </tr>\n",
       "    <tr>\n",
       "      <th>1999-11-29</th>\n",
       "      <td>-1.770483</td>\n",
       "      <td>-2.293460</td>\n",
       "      <td>NaN</td>\n",
       "      <td>NaN</td>\n",
       "      <td>NaN</td>\n",
       "    </tr>\n",
       "    <tr>\n",
       "      <th>1999-11-30</th>\n",
       "      <td>-1.856988</td>\n",
       "      <td>-2.252163</td>\n",
       "      <td>NaN</td>\n",
       "      <td>NaN</td>\n",
       "      <td>NaN</td>\n",
       "    </tr>\n",
       "    <tr>\n",
       "      <th>1999-12-01</th>\n",
       "      <td>-1.938438</td>\n",
       "      <td>-2.188518</td>\n",
       "      <td>NaN</td>\n",
       "      <td>NaN</td>\n",
       "      <td>NaN</td>\n",
       "    </tr>\n",
       "    <tr>\n",
       "      <th>1999-12-02</th>\n",
       "      <td>-2.014209</td>\n",
       "      <td>NaN</td>\n",
       "      <td>NaN</td>\n",
       "      <td>NaN</td>\n",
       "      <td>NaN</td>\n",
       "    </tr>\n",
       "    <tr>\n",
       "      <th>1999-12-03</th>\n",
       "      <td>-2.083671</td>\n",
       "      <td>NaN</td>\n",
       "      <td>NaN</td>\n",
       "      <td>NaN</td>\n",
       "      <td>NaN</td>\n",
       "    </tr>\n",
       "    <tr>\n",
       "      <th>1999-12-04</th>\n",
       "      <td>-2.146200</td>\n",
       "      <td>NaN</td>\n",
       "      <td>NaN</td>\n",
       "      <td>NaN</td>\n",
       "      <td>NaN</td>\n",
       "    </tr>\n",
       "    <tr>\n",
       "      <th>1999-12-05</th>\n",
       "      <td>-2.201167</td>\n",
       "      <td>NaN</td>\n",
       "      <td>NaN</td>\n",
       "      <td>NaN</td>\n",
       "      <td>NaN</td>\n",
       "    </tr>\n",
       "    <tr>\n",
       "      <th>1999-12-06</th>\n",
       "      <td>-2.247945</td>\n",
       "      <td>NaN</td>\n",
       "      <td>NaN</td>\n",
       "      <td>NaN</td>\n",
       "      <td>NaN</td>\n",
       "    </tr>\n",
       "    <tr>\n",
       "      <th>1999-12-07</th>\n",
       "      <td>-2.285908</td>\n",
       "      <td>NaN</td>\n",
       "      <td>NaN</td>\n",
       "      <td>NaN</td>\n",
       "      <td>NaN</td>\n",
       "    </tr>\n",
       "    <tr>\n",
       "      <th>1999-12-08</th>\n",
       "      <td>-2.314429</td>\n",
       "      <td>NaN</td>\n",
       "      <td>NaN</td>\n",
       "      <td>NaN</td>\n",
       "      <td>NaN</td>\n",
       "    </tr>\n",
       "    <tr>\n",
       "      <th>1999-12-09</th>\n",
       "      <td>-2.332881</td>\n",
       "      <td>NaN</td>\n",
       "      <td>NaN</td>\n",
       "      <td>NaN</td>\n",
       "      <td>NaN</td>\n",
       "    </tr>\n",
       "    <tr>\n",
       "      <th>1999-12-10</th>\n",
       "      <td>-2.340637</td>\n",
       "      <td>NaN</td>\n",
       "      <td>NaN</td>\n",
       "      <td>NaN</td>\n",
       "      <td>NaN</td>\n",
       "    </tr>\n",
       "    <tr>\n",
       "      <th>1999-12-11</th>\n",
       "      <td>-2.337071</td>\n",
       "      <td>NaN</td>\n",
       "      <td>NaN</td>\n",
       "      <td>NaN</td>\n",
       "      <td>NaN</td>\n",
       "    </tr>\n",
       "    <tr>\n",
       "      <th>1999-12-12</th>\n",
       "      <td>-2.321554</td>\n",
       "      <td>NaN</td>\n",
       "      <td>NaN</td>\n",
       "      <td>NaN</td>\n",
       "      <td>NaN</td>\n",
       "    </tr>\n",
       "    <tr>\n",
       "      <th>1999-12-13</th>\n",
       "      <td>-2.293460</td>\n",
       "      <td>NaN</td>\n",
       "      <td>NaN</td>\n",
       "      <td>NaN</td>\n",
       "      <td>NaN</td>\n",
       "    </tr>\n",
       "    <tr>\n",
       "      <th>1999-12-14</th>\n",
       "      <td>-2.252163</td>\n",
       "      <td>NaN</td>\n",
       "      <td>NaN</td>\n",
       "      <td>NaN</td>\n",
       "      <td>NaN</td>\n",
       "    </tr>\n",
       "    <tr>\n",
       "      <th>1999-12-15</th>\n",
       "      <td>-2.188518</td>\n",
       "      <td>NaN</td>\n",
       "      <td>NaN</td>\n",
       "      <td>NaN</td>\n",
       "      <td>NaN</td>\n",
       "    </tr>\n",
       "  </tbody>\n",
       "</table>\n",
       "<p>1796 rows × 5 columns</p>\n",
       "</div>"
      ],
      "text/plain": [
       "            Partisan Conflict  PCI lagged 14  PCI lagged 28  PCI lagged 56  \\\n",
       "date                                                                         \n",
       "1995-01-15           0.253971       1.087631       1.288041       0.800431   \n",
       "1995-01-16           0.338251       1.119998       1.284770       0.780365   \n",
       "1995-01-17           0.419971       1.149217       1.279648       0.761042   \n",
       "1995-01-18           0.497339       1.175381       1.253646       0.796143   \n",
       "1995-01-19           0.570447       1.198582       1.264223       0.724981   \n",
       "1995-01-20           0.639388       1.218914       1.254105       0.708329   \n",
       "1995-01-21           0.704255       1.236468       1.242507       0.692593   \n",
       "1995-01-22           0.765140       1.251338       1.229522       0.677765   \n",
       "1995-01-23           0.822136       1.263615       1.215241       0.663840   \n",
       "1995-01-24           0.875336       1.273394       1.199759       0.650810   \n",
       "1995-01-25           0.924832       1.280766       1.183168       0.638668   \n",
       "1995-01-26           0.970717       1.285824       1.165559       0.627409   \n",
       "1995-01-27           1.013083       1.288661       1.147027       0.617024   \n",
       "1995-01-28           1.052024       1.289369       1.127663       0.607508   \n",
       "1995-01-29           1.087631       1.288041       1.107560       0.598854   \n",
       "1995-01-30           1.119998       1.284770       1.086811       0.591055   \n",
       "1995-01-31           1.149217       1.279648       1.065508       0.584104   \n",
       "1995-02-01           1.175381       1.253646       1.043745       0.577994   \n",
       "1995-02-02           1.198582       1.264223       1.021613       0.572720   \n",
       "1995-02-03           1.218914       1.254105       0.999206       0.568273   \n",
       "1995-02-04           1.236468       1.242507       0.976616       0.564648   \n",
       "1995-02-05           1.251338       1.229522       0.953936       0.561838   \n",
       "1995-02-06           1.263615       1.215241       0.931258       0.559836   \n",
       "1995-02-07           1.273394       1.199759       0.908676       0.558634   \n",
       "1995-02-08           1.280766       1.183168       0.886281       0.558228   \n",
       "1995-02-09           1.285824       1.165559       0.864166       0.558609   \n",
       "1995-02-10           1.288661       1.147027       0.842425       0.559771   \n",
       "1995-02-11           1.289369       1.127663       0.821149       0.561707   \n",
       "1995-02-12           1.288041       1.107560       0.800431       0.564411   \n",
       "1995-02-13           1.284770       1.086811       0.780365       0.567876   \n",
       "...                       ...            ...            ...            ...   \n",
       "1999-11-16          -0.471287      -1.856988      -2.252163            NaN   \n",
       "1999-11-17          -0.566440      -1.938438      -2.188518            NaN   \n",
       "1999-11-18          -0.664689      -2.014209            NaN            NaN   \n",
       "1999-11-19          -0.765407      -2.083671            NaN            NaN   \n",
       "1999-11-20          -0.867968      -2.146200            NaN            NaN   \n",
       "1999-11-21          -0.971744      -2.201167            NaN            NaN   \n",
       "1999-11-22          -1.076109      -2.247945            NaN            NaN   \n",
       "1999-11-23          -1.180436      -2.285908            NaN            NaN   \n",
       "1999-11-24          -1.284097      -2.314429            NaN            NaN   \n",
       "1999-11-25          -1.386466      -2.332881            NaN            NaN   \n",
       "1999-11-26          -1.486916      -2.340637            NaN            NaN   \n",
       "1999-11-27          -1.584820      -2.337071            NaN            NaN   \n",
       "1999-11-28          -1.679552      -2.321554            NaN            NaN   \n",
       "1999-11-29          -1.770483      -2.293460            NaN            NaN   \n",
       "1999-11-30          -1.856988      -2.252163            NaN            NaN   \n",
       "1999-12-01          -1.938438      -2.188518            NaN            NaN   \n",
       "1999-12-02          -2.014209            NaN            NaN            NaN   \n",
       "1999-12-03          -2.083671            NaN            NaN            NaN   \n",
       "1999-12-04          -2.146200            NaN            NaN            NaN   \n",
       "1999-12-05          -2.201167            NaN            NaN            NaN   \n",
       "1999-12-06          -2.247945            NaN            NaN            NaN   \n",
       "1999-12-07          -2.285908            NaN            NaN            NaN   \n",
       "1999-12-08          -2.314429            NaN            NaN            NaN   \n",
       "1999-12-09          -2.332881            NaN            NaN            NaN   \n",
       "1999-12-10          -2.340637            NaN            NaN            NaN   \n",
       "1999-12-11          -2.337071            NaN            NaN            NaN   \n",
       "1999-12-12          -2.321554            NaN            NaN            NaN   \n",
       "1999-12-13          -2.293460            NaN            NaN            NaN   \n",
       "1999-12-14          -2.252163            NaN            NaN            NaN   \n",
       "1999-12-15          -2.188518            NaN            NaN            NaN   \n",
       "\n",
       "            PCI lagged 112  \n",
       "date                        \n",
       "1995-01-15        0.924473  \n",
       "1995-01-16        0.946513  \n",
       "1995-01-17        0.969119  \n",
       "1995-01-18        0.992284  \n",
       "1995-01-19        1.016001  \n",
       "1995-01-20        1.040264  \n",
       "1995-01-21        1.065066  \n",
       "1995-01-22        1.090400  \n",
       "1995-01-23        1.167868  \n",
       "1995-01-24        1.142620  \n",
       "1995-01-25        1.169378  \n",
       "1995-01-26        1.196414  \n",
       "1995-01-27        1.223608  \n",
       "1995-01-28        1.250839  \n",
       "1995-01-29        1.277987  \n",
       "1995-01-30        1.304931  \n",
       "1995-01-31        1.331551  \n",
       "1995-02-01        1.357727  \n",
       "1995-02-02        1.383338  \n",
       "1995-02-03        1.408264  \n",
       "1995-02-04        1.432385  \n",
       "1995-02-05        1.455579  \n",
       "1995-02-06        1.477727  \n",
       "1995-02-07        1.498708  \n",
       "1995-02-08        1.518402  \n",
       "1995-02-09        1.536688  \n",
       "1995-02-10        1.553447  \n",
       "1995-02-11        1.568557  \n",
       "1995-02-12        1.581898  \n",
       "1995-02-13        1.593349  \n",
       "...                    ...  \n",
       "1999-11-16             NaN  \n",
       "1999-11-17             NaN  \n",
       "1999-11-18             NaN  \n",
       "1999-11-19             NaN  \n",
       "1999-11-20             NaN  \n",
       "1999-11-21             NaN  \n",
       "1999-11-22             NaN  \n",
       "1999-11-23             NaN  \n",
       "1999-11-24             NaN  \n",
       "1999-11-25             NaN  \n",
       "1999-11-26             NaN  \n",
       "1999-11-27             NaN  \n",
       "1999-11-28             NaN  \n",
       "1999-11-29             NaN  \n",
       "1999-11-30             NaN  \n",
       "1999-12-01             NaN  \n",
       "1999-12-02             NaN  \n",
       "1999-12-03             NaN  \n",
       "1999-12-04             NaN  \n",
       "1999-12-05             NaN  \n",
       "1999-12-06             NaN  \n",
       "1999-12-07             NaN  \n",
       "1999-12-08             NaN  \n",
       "1999-12-09             NaN  \n",
       "1999-12-10             NaN  \n",
       "1999-12-11             NaN  \n",
       "1999-12-12             NaN  \n",
       "1999-12-13             NaN  \n",
       "1999-12-14             NaN  \n",
       "1999-12-15             NaN  \n",
       "\n",
       "[1796 rows x 5 columns]"
      ]
     },
     "execution_count": 1450,
     "metadata": {},
     "output_type": "execute_result"
    }
   ],
   "source": [
    "PCI"
   ]
  }
 ],
 "metadata": {
  "anaconda-cloud": {},
  "celltoolbar": "Raw Cell Format",
  "kernelspec": {
   "display_name": "Python [default]",
   "language": "python",
   "name": "python3"
  },
  "language_info": {
   "codemirror_mode": {
    "name": "ipython",
    "version": 3
   },
   "file_extension": ".py",
   "mimetype": "text/x-python",
   "name": "python",
   "nbconvert_exporter": "python",
   "pygments_lexer": "ipython3",
   "version": "3.5.2"
  }
 },
 "nbformat": 4,
 "nbformat_minor": 1
}
