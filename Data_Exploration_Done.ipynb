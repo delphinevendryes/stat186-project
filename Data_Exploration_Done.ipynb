{
 "cells": [
  {
   "cell_type": "markdown",
   "metadata": {},
   "source": [
    "# STAT186: Project data exploration"
   ]
  },
  {
   "cell_type": "code",
   "execution_count": 503,
   "metadata": {
    "collapsed": true
   },
   "outputs": [],
   "source": [
    "import sys\n",
    "import os\n",
    "import pandas as pd\n",
    "import numpy as np"
   ]
  },
  {
   "cell_type": "code",
   "execution_count": 632,
   "metadata": {
    "collapsed": false
   },
   "outputs": [],
   "source": [
    "#os.listdir('..')"
   ]
  },
  {
   "cell_type": "code",
   "execution_count": 505,
   "metadata": {
    "collapsed": false
   },
   "outputs": [],
   "source": [
    "data = pd.read_csv('../stat186-projdata-2.csv', index_col = 0, low_memory=False)"
   ]
  },
  {
   "cell_type": "code",
   "execution_count": 506,
   "metadata": {
    "collapsed": false
   },
   "outputs": [
    {
     "data": {
      "text/plain": [
       "(171409, 341)"
      ]
     },
     "execution_count": 506,
     "metadata": {},
     "output_type": "execute_result"
    }
   ],
   "source": [
    "data.shape"
   ]
  },
  {
   "cell_type": "code",
   "execution_count": 507,
   "metadata": {
    "collapsed": false
   },
   "outputs": [
    {
     "data": {
      "text/html": [
       "<div>\n",
       "<style scoped>\n",
       "    .dataframe tbody tr th:only-of-type {\n",
       "        vertical-align: middle;\n",
       "    }\n",
       "\n",
       "    .dataframe tbody tr th {\n",
       "        vertical-align: top;\n",
       "    }\n",
       "\n",
       "    .dataframe thead th {\n",
       "        text-align: right;\n",
       "    }\n",
       "</style>\n",
       "<table border=\"1\" class=\"dataframe\">\n",
       "  <thead>\n",
       "    <tr style=\"text-align: right;\">\n",
       "      <th></th>\n",
       "      <th>masterid</th>\n",
       "      <th>id_1</th>\n",
       "      <th>coder</th>\n",
       "      <th>coderid</th>\n",
       "      <th>casen_1</th>\n",
       "      <th>juris</th>\n",
       "      <th>first_ct</th>\n",
       "      <th>agency</th>\n",
       "      <th>agency_r</th>\n",
       "      <th>arbitrat</th>\n",
       "      <th>...</th>\n",
       "      <th>brthyr</th>\n",
       "      <th>race</th>\n",
       "      <th>gender</th>\n",
       "      <th>pajid</th>\n",
       "      <th>jpid</th>\n",
       "      <th>agedec</th>\n",
       "      <th>EWI</th>\n",
       "      <th>select</th>\n",
       "      <th>retentn</th>\n",
       "      <th>cj</th>\n",
       "    </tr>\n",
       "  </thead>\n",
       "  <tbody>\n",
       "    <tr>\n",
       "      <th>0</th>\n",
       "      <td>95.010009765625</td>\n",
       "      <td>102</td>\n",
       "      <td>TEB</td>\n",
       "      <td>1130</td>\n",
       "      <td>1.0</td>\n",
       "      <td>2.0</td>\n",
       "      <td>1.0</td>\n",
       "      <td>0.0</td>\n",
       "      <td>88.0</td>\n",
       "      <td>0.0</td>\n",
       "      <td>...</td>\n",
       "      <td>1929.0</td>\n",
       "      <td>1.0</td>\n",
       "      <td>1.0</td>\n",
       "      <td>47.23</td>\n",
       "      <td>1.0</td>\n",
       "      <td>66.0</td>\n",
       "      <td>-1.454818</td>\n",
       "      <td>5.0</td>\n",
       "      <td>5.0</td>\n",
       "      <td>0.0</td>\n",
       "    </tr>\n",
       "    <tr>\n",
       "      <th>1</th>\n",
       "      <td>95.01001739501953</td>\n",
       "      <td>103</td>\n",
       "      <td>TEB</td>\n",
       "      <td>1130</td>\n",
       "      <td>2.0</td>\n",
       "      <td>2.0</td>\n",
       "      <td>2.0</td>\n",
       "      <td>0.0</td>\n",
       "      <td>88.0</td>\n",
       "      <td>0.0</td>\n",
       "      <td>...</td>\n",
       "      <td>1930.0</td>\n",
       "      <td>1.0</td>\n",
       "      <td>1.0</td>\n",
       "      <td>26.20</td>\n",
       "      <td>1.0</td>\n",
       "      <td>65.0</td>\n",
       "      <td>-1.454818</td>\n",
       "      <td>5.0</td>\n",
       "      <td>5.0</td>\n",
       "      <td>0.0</td>\n",
       "    </tr>\n",
       "  </tbody>\n",
       "</table>\n",
       "<p>2 rows × 341 columns</p>\n",
       "</div>"
      ],
      "text/plain": [
       "            masterid id_1 coder  coderid  casen_1  juris  first_ct  agency  \\\n",
       "0    95.010009765625  102   TEB     1130      1.0    2.0       1.0     0.0   \n",
       "1  95.01001739501953  103   TEB     1130      2.0    2.0       2.0     0.0   \n",
       "\n",
       "   agency_r  arbitrat ...   brthyr  race  gender  pajid  jpid agedec  \\\n",
       "0      88.0       0.0 ...   1929.0   1.0     1.0  47.23   1.0   66.0   \n",
       "1      88.0       0.0 ...   1930.0   1.0     1.0  26.20   1.0   65.0   \n",
       "\n",
       "        EWI  select  retentn   cj  \n",
       "0 -1.454818     5.0      5.0  0.0  \n",
       "1 -1.454818     5.0      5.0  0.0  \n",
       "\n",
       "[2 rows x 341 columns]"
      ]
     },
     "execution_count": 507,
     "metadata": {},
     "output_type": "execute_result"
    }
   ],
   "source": [
    "data.head(2)"
   ]
  },
  {
   "cell_type": "code",
   "execution_count": 529,
   "metadata": {
    "collapsed": false
   },
   "outputs": [],
   "source": [
    "data[['decs_day', 'decs_mo', 'decs_yr']] = data[['decs_day', 'decs_mo', 'decs_yr']].fillna(0)"
   ]
  },
  {
   "cell_type": "code",
   "execution_count": 538,
   "metadata": {
    "collapsed": false
   },
   "outputs": [],
   "source": [
    "data['date'] = data['decs_day'].astype(int).astype(str) + '/' + data['decs_mo'].astype(int).astype(str) + '/' + data['decs_yr'].astype(int).astype(str)"
   ]
  },
  {
   "cell_type": "code",
   "execution_count": 539,
   "metadata": {
    "collapsed": false
   },
   "outputs": [
    {
     "data": {
      "text/plain": [
       "0    1/12/1995\n",
       "1    1/12/1995\n",
       "2    29/9/1995\n",
       "3    15/9/1995\n",
       "4    17/3/1995\n",
       "Name: date, dtype: object"
      ]
     },
     "execution_count": 539,
     "metadata": {},
     "output_type": "execute_result"
    }
   ],
   "source": [
    "data['date'].head()"
   ]
  },
  {
   "cell_type": "code",
   "execution_count": 548,
   "metadata": {
    "collapsed": false
   },
   "outputs": [],
   "source": [
    "data['date'] = pd.to_datetime(data['date'], format = '%d/%m/%Y', errors = 'coerce')"
   ]
  },
  {
   "cell_type": "code",
   "execution_count": 554,
   "metadata": {
    "collapsed": false
   },
   "outputs": [],
   "source": [
    "data.drop(['decs_day', 'decs_mo', 'decs_yr'], axis = 1, inplace = True)"
   ]
  },
  {
   "cell_type": "code",
   "execution_count": 558,
   "metadata": {
    "collapsed": true
   },
   "outputs": [],
   "source": [
    "judge_vars=['judgecode', 'brthyr','race', 'gender','pajid','jpid', 'agedec', 'EWI', 'select', 'retentn', 'cj']"
   ]
  },
  {
   "cell_type": "markdown",
   "metadata": {},
   "source": [
    "## Judge data"
   ]
  },
  {
   "cell_type": "code",
   "execution_count": 562,
   "metadata": {
    "collapsed": false
   },
   "outputs": [],
   "source": [
    "jdata = data[judge_vars].groupby('judgecode').first()"
   ]
  },
  {
   "cell_type": "code",
   "execution_count": 578,
   "metadata": {
    "collapsed": false
   },
   "outputs": [
    {
     "data": {
      "text/plain": [
       "gender      1.193617\n",
       "agedec     58.530837\n",
       "race      517.000000\n",
       "dtype: float64"
      ]
     },
     "execution_count": 578,
     "metadata": {},
     "output_type": "execute_result"
    }
   ],
   "source": [
    "jdata.agg({'race': 'sum', 'agedec': 'mean', 'gender': 'mean'})"
   ]
  },
  {
   "cell_type": "markdown",
   "metadata": {},
   "source": [
    "## State"
   ]
  },
  {
   "cell_type": "code",
   "execution_count": 581,
   "metadata": {
    "collapsed": false
   },
   "outputs": [
    {
     "data": {
      "text/plain": [
       "array([ 1,  2,  3,  4,  5,  6,  7,  8,  9, 10, 11, 12, 13, 14, 15, 16, 17,\n",
       "       18, 19, 20, 21, 22, 23, 24, 25, 26, 27, 28, 29, 30, 31, 32, 33, 34,\n",
       "       35, 36, 37, 38, 39, 40, 41, 42, 43, 44, 45, 46, 47, 48, 49, 50,  0])"
      ]
     },
     "execution_count": 581,
     "metadata": {},
     "output_type": "execute_result"
    }
   ],
   "source": [
    "data['state_2'].unique()"
   ]
  },
  {
   "cell_type": "code",
   "execution_count": 589,
   "metadata": {
    "collapsed": false
   },
   "outputs": [],
   "source": [
    "s = pd.read_csv('../states-codes-capitals.csv', sep = ';')"
   ]
  },
  {
   "cell_type": "code",
   "execution_count": 591,
   "metadata": {
    "collapsed": false
   },
   "outputs": [
    {
     "data": {
      "text/html": [
       "<div>\n",
       "<style scoped>\n",
       "    .dataframe tbody tr th:only-of-type {\n",
       "        vertical-align: middle;\n",
       "    }\n",
       "\n",
       "    .dataframe tbody tr th {\n",
       "        vertical-align: top;\n",
       "    }\n",
       "\n",
       "    .dataframe thead th {\n",
       "        text-align: right;\n",
       "    }\n",
       "</style>\n",
       "<table border=\"1\" class=\"dataframe\">\n",
       "  <thead>\n",
       "    <tr style=\"text-align: right;\">\n",
       "      <th></th>\n",
       "      <th>STATE</th>\n",
       "      <th>CODE</th>\n",
       "      <th>CAPITAL</th>\n",
       "    </tr>\n",
       "  </thead>\n",
       "  <tbody>\n",
       "    <tr>\n",
       "      <th>0</th>\n",
       "      <td>Alabama</td>\n",
       "      <td>AL</td>\n",
       "      <td>Montgomery</td>\n",
       "    </tr>\n",
       "    <tr>\n",
       "      <th>1</th>\n",
       "      <td>Alaska</td>\n",
       "      <td>AK</td>\n",
       "      <td>Juneau</td>\n",
       "    </tr>\n",
       "    <tr>\n",
       "      <th>2</th>\n",
       "      <td>Arizona</td>\n",
       "      <td>AZ</td>\n",
       "      <td>Phoenix</td>\n",
       "    </tr>\n",
       "    <tr>\n",
       "      <th>3</th>\n",
       "      <td>Arkansas</td>\n",
       "      <td>AR</td>\n",
       "      <td>Little Rock</td>\n",
       "    </tr>\n",
       "    <tr>\n",
       "      <th>4</th>\n",
       "      <td>California</td>\n",
       "      <td>CA</td>\n",
       "      <td>Sacramento</td>\n",
       "    </tr>\n",
       "  </tbody>\n",
       "</table>\n",
       "</div>"
      ],
      "text/plain": [
       "        STATE  CODE      CAPITAL\n",
       "0     Alabama    AL   Montgomery\n",
       "1      Alaska    AK       Juneau\n",
       "2     Arizona    AZ      Phoenix\n",
       "3    Arkansas    AR  Little Rock\n",
       "4  California    CA   Sacramento"
      ]
     },
     "execution_count": 591,
     "metadata": {},
     "output_type": "execute_result"
    }
   ],
   "source": [
    "s.head()"
   ]
  },
  {
   "cell_type": "markdown",
   "metadata": {},
   "source": [
    "## Weather in SF from 1995 to 1998"
   ]
  },
  {
   "cell_type": "code",
   "execution_count": 601,
   "metadata": {
    "collapsed": false
   },
   "outputs": [],
   "source": [
    "w = pd.read_csv('../ca-sf.csv', low_memory = False)"
   ]
  },
  {
   "cell_type": "code",
   "execution_count": 602,
   "metadata": {
    "collapsed": false
   },
   "outputs": [
    {
     "data": {
      "text/plain": [
       "(38095, 92)"
      ]
     },
     "execution_count": 602,
     "metadata": {},
     "output_type": "execute_result"
    }
   ],
   "source": [
    "w.shape"
   ]
  },
  {
   "cell_type": "code",
   "execution_count": 614,
   "metadata": {
    "collapsed": false
   },
   "outputs": [],
   "source": [
    "w = w.groupby(['DATE']).mean().reset_index()"
   ]
  },
  {
   "cell_type": "code",
   "execution_count": 616,
   "metadata": {
    "collapsed": false
   },
   "outputs": [],
   "source": [
    "prcp = w[['DATE', 'PRCP']]"
   ]
  },
  {
   "cell_type": "code",
   "execution_count": 619,
   "metadata": {
    "collapsed": false
   },
   "outputs": [
    {
     "data": {
      "text/plain": [
       "0.49623545516769335"
      ]
     },
     "execution_count": 619,
     "metadata": {},
     "output_type": "execute_result"
    }
   ],
   "source": [
    "sum(prcp['PRCP'] == 0)/len(prcp)"
   ]
  },
  {
   "cell_type": "code",
   "execution_count": 621,
   "metadata": {
    "collapsed": false
   },
   "outputs": [
    {
     "name": "stderr",
     "output_type": "stream",
     "text": [
      "/Users/delphine/anaconda3/lib/python3.5/site-packages/ipykernel/__main__.py:1: SettingWithCopyWarning: \n",
      "A value is trying to be set on a copy of a slice from a DataFrame.\n",
      "Try using .loc[row_indexer,col_indexer] = value instead\n",
      "\n",
      "See the caveats in the documentation: http://pandas.pydata.org/pandas-docs/stable/indexing.html#indexing-view-versus-copy\n",
      "  if __name__ == '__main__':\n"
     ]
    }
   ],
   "source": [
    "prcp['DATE'] = pd.to_datetime(prcp['DATE'])"
   ]
  },
  {
   "cell_type": "code",
   "execution_count": 624,
   "metadata": {
    "collapsed": false
   },
   "outputs": [
    {
     "name": "stderr",
     "output_type": "stream",
     "text": [
      "/Users/delphine/anaconda3/lib/python3.5/site-packages/ipykernel/__main__.py:1: SettingWithCopyWarning: \n",
      "A value is trying to be set on a copy of a slice from a DataFrame.\n",
      "Try using .loc[row_indexer,col_indexer] = value instead\n",
      "\n",
      "See the caveats in the documentation: http://pandas.pydata.org/pandas-docs/stable/indexing.html#indexing-view-versus-copy\n",
      "  if __name__ == '__main__':\n"
     ]
    }
   ],
   "source": [
    "prcp['PRCP'] = 1*(prcp['PRCP'] > 0)"
   ]
  },
  {
   "cell_type": "markdown",
   "metadata": {},
   "source": [
    "## Merge weather for CA"
   ]
  },
  {
   "cell_type": "code",
   "execution_count": 625,
   "metadata": {
    "collapsed": true
   },
   "outputs": [],
   "source": [
    "ca = data[data['state_2']==5]"
   ]
  },
  {
   "cell_type": "code",
   "execution_count": 628,
   "metadata": {
    "collapsed": false
   },
   "outputs": [],
   "source": [
    "ca = pd.merge(ca, prcp, left_on = 'date', right_on = 'DATE', how = 'inner')"
   ]
  },
  {
   "cell_type": "code",
   "execution_count": 631,
   "metadata": {
    "collapsed": false,
    "scrolled": false
   },
   "outputs": [],
   "source": [
    "ca.drop('DATE', axis = 1, inplace = True)"
   ]
  },
  {
   "cell_type": "markdown",
   "metadata": {},
   "source": [
    "## Missing values"
   ]
  },
  {
   "cell_type": "code",
   "execution_count": 508,
   "metadata": {
    "collapsed": false
   },
   "outputs": [
    {
     "data": {
      "text/plain": [
       "masterid             0\n",
       "id_1                 0\n",
       "coder                0\n",
       "coderid              0\n",
       "casen_1             21\n",
       "juris               26\n",
       "first_ct            24\n",
       "agency              24\n",
       "agency_r          2086\n",
       "arbitrat          1021\n",
       "dec1_yr             26\n",
       "dec1_mo             26\n",
       "dec1_day            26\n",
       "rev_ct              26\n",
       "crossapp             5\n",
       "title_p1             8\n",
       "title_p2           234\n",
       "type_p1            346\n",
       "type_p2            657\n",
       "o_plain             65\n",
       "o_defend          6053\n",
       "state_2              0\n",
       "docket            4427\n",
       "docket_n          1039\n",
       "reporter            16\n",
       "rep_vol              0\n",
       "rep_page             7\n",
       "decs_yr              0\n",
       "decs_mo             21\n",
       "decs_day            29\n",
       "                 ...  \n",
       "ms_usc          168732\n",
       "ms_uscty        168732\n",
       "ms_uscdc        168732\n",
       "ms_stc          168732\n",
       "ms_stcty        168732\n",
       "ms_stcdc        168732\n",
       "enbanc              47\n",
       "judgename        16079\n",
       "judgecode           27\n",
       "judgevote            0\n",
       "judgeopinion         0\n",
       "_jposition        2796\n",
       "_jadhoc              0\n",
       "adhoctype       168613\n",
       "adhoctext       168617\n",
       "opassign             6\n",
       "disordr              6\n",
       "votordr              6\n",
       "belitid              6\n",
       "bmassid              6\n",
       "brthyr            4784\n",
       "race              3692\n",
       "gender            2870\n",
       "pajid             6237\n",
       "jpid             25724\n",
       "agedec            4784\n",
       "EWI               6822\n",
       "select               6\n",
       "retentn          11019\n",
       "cj                2870\n",
       "Length: 341, dtype: int64"
      ]
     },
     "execution_count": 508,
     "metadata": {},
     "output_type": "execute_result"
    }
   ],
   "source": [
    "data.isnull().sum(axis = 0)"
   ]
  },
  {
   "cell_type": "markdown",
   "metadata": {},
   "source": [
    "# Feature description"
   ]
  },
  {
   "cell_type": "markdown",
   "metadata": {
    "collapsed": true
   },
   "source": [
    "masterid<br>\n",
    "id_1<br>\n",
    "coder<br>\n",
    "coderid<br>\n",
    "casen_1<br>\n",
    "juris: manner in which state supreme court takes jurisdiction<br>\n",
    "first_ct: court that heard this case for the first time<br>\n",
    "agency: Agency Action prior to litigation (binary)<br>\n",
    "agency_r: If yes to agency, did the SSC reverse the final agency action? (binary)<br>\n",
    "arbitrat: Did this case involve arbitration or mediation? (binary)<br>\n",
    "dec1_yr, dec1_mo, dec1_day: What was the year/month/day of the first court decision in this case?<br>\n",
    "rev_ct: Court being reviewed by the state supreme court<br>\n",
    "crossapp: Are both Litigants classified as appellants? (binary)\n",
    "title_p1: Case title first party listed (note: this corresponds to the first line on the template)<br>\n",
    "title_p2: Case title second party listed<br>\n",
    "type_p1: Is the first party listed in the title the petitioner or respondent?<br>\n",
    "type_p2: Is the second party listed in the title the petitioner or respondent?<br>\n",
    "o_plain: Which party was the original plaintiff (Petitioner / Respondent / Other)<br>\n",
    "o_defend: Which party was the original defendant (Petitioner / Respondent / Other)<br>\n",
    "state_2: state in USA (encoded by number from 1 to 50)<br>\n",
    "docket: docket number (don't know what this is)<br>\n",
    "docket_n: Number of docket numbers in this opinion.<br>\n",
    "reporter: Regional Reporter<br>\n",
    "rep_vol: volume number of reporter<br>\n",
    "rep_page<br>\n",
    "decs_yr, decs_mo, decs_day: Date of supreme court decision<br>\n",
    "classact: Is this case a class action suit? (binary) <br>\n",
    "amicus: Were amicus curiae briefs filed in the supreme court? (binary)<br>\n",
    "multi_p: Are there multiple petitioners/appellants in this case? (binary)<br>\n",
    "multi_r: Are there multiple respondents/appellees in this case? (binary)<br>\n",
    "\n",
    "## Petitioners and appellants\n",
    "#### First petitioner/appellant: \n",
    "- p1_persn: Natural person first appellant encoded by a number, 46 categories (eg: child, student, wife, public official)\n",
    "- p1_busi: private business first petitioner encoded by number for type of business (eg: agriculture, bank, etc)<br>\n",
    "- p1_org: Private organization or association first appellant encoded by a number for type of organization (eg: Business or trade association, Charitable or philanthropic organization, etc)\n",
    "- p1_lgov: Local or county government first appellant encoded by a number for type of government org (eg: Legislative, School board, board of trustees for college or junior college)\n",
    "- p1_sgov: State government first appellant encoded by number for type (eg: Executive/Administrative, Police)\n",
    "- p1_edu: Educational institution categories first appellant encoded by number (eg: Private, Non-Religious - Pre-K)\n",
    "- p1_other: Other first appellant (binary)\n",
    "- p1_otext: Description of other litigant type\n",
    "\n",
    "#### Second petitioner/appellant:\n",
    "- p2_persn, p2_busi, p2_org, p2_lgov, p2_sgov, p2_edu, p2_other, p2_otext: idem\n",
    "\n",
    "#### First respondent\n",
    "- r1_persn, r1_busi, r1_org, r1_lgov, r1_sgov, r1_edu, r1_other, r1_otext: idem\n",
    "\n",
    "#### Second respondent\n",
    "- r2_persn, r2_busi, r2_org, r2_lgov, r2_sgov, r2_edu, r2_other, r2_otext: idem\n",
    "\n",
    "## Public Defender\n",
    "\n",
    "pubdef: For criminal cases only, was the criminal defendant represented before the supreme court by a public defender or a state appointed counsel? (binary)\n",
    "\n",
    "## Case Classification\n",
    "genissue: general issue classification (Criminal Cases, Civil Government, Civil Private, Juvenile, Non-adversarial cases)\n",
    "### Criminal Cases\n",
    "##### Issue Confidence Scale\n",
    "ca_conf: On a scale of one to ten, how confident are you with the classification of this case as a criminal appeal (where ten indicates most confident and one indicates least confident)?<br>\n",
    "### Binary variables for crime types\n",
    "I did not explain the variable when the explanation is just the name of the variable.\n",
    "\n",
    "assaulta: Assault - aggravated<br>\n",
    "assaulto: Assault - other<br>\n",
    "arson: <br>\n",
    "burglary<br>\n",
    "disorder: disorderly conduct<br>\n",
    "dui: Driving under the influence<br>\n",
    "drugabus: drug abuse violations (including possession)<br>\n",
    "drugsell: Drug trafficking<br>\n",
    "drunk: drunkenness<br>\n",
    "embezzle: embezzlement<br>\n",
    "forge: Forgery and counterfeiting<br>\n",
    "fraud: <br>\n",
    "gamble<br>\n",
    "kidnap<br>\n",
    "theft: Larceny/Theft<br>\n",
    "liquor: liquor laws<br>\n",
    "mans_neg: Manslaughter - negligent<br>\n",
    "mans_non: Manslaughter - non-negligent<br>\n",
    "autothft: Motor vehicle theft<br>\n",
    "murder<br>\n",
    "fam_kids: Offenses against family and children<br>\n",
    "prostitu: Prostitution and commercialized vice<br>\n",
    "rape: Rape/Sexual assault<br>\n",
    "robbery<br>\n",
    "sex_gen: Sex offenses (except rape and prostitution)<br>\n",
    "stolen: Stolen property - buying, receiving, possessing<br>\n",
    "traffic: Traffic offenses (other than DUI)<br>\n",
    "vagrancy<br>\n",
    "vandal: Vandalism<br>\n",
    "weapons: Weapons - carrying, possessing, concealing<br>\n",
    "con_oth: Other conviction reviewed?<br>\n",
    "ca_tot_c: Total number of convictions reviewed?<br>\n",
    "\n",
    "##### Identification confidence scale\n",
    "con_conf: On a scale of one to ten, how confident are you with your identification of the convictions reviewed in this case (where ten indicates most confident and one indicates least confident)?<br>\n",
    "\n",
    "#### Identification of Death Penalty Cases\n",
    "death_c: Was the death penalty considered but not imposed? (binary) <br>\n",
    "death_im: Was the death penalty imposed by the trial court? (binary) <br>\n",
    "\n",
    "#### Pre- and Post-Conviction Criminal Cases\n",
    "bail: Bail (binary) <br>\n",
    "parole: Probation and parole (binary)<br>\n",
    "\n",
    "#### Legal Issues in Criminal Cases\n",
    "Binary variables for legal issues in criminal cases.\n",
    "\n",
    "ca_atty: councel issues (binary)<br>\n",
    "ca_cruel: Cruel and unusual punishment (binary)<br>\n",
    "ca_disc: Discovery<br>\n",
    "ca_doubj: Double jeopardy<br>\n",
    "ca_entra: Entrapment<br>\n",
    "ca_ev_m: Evidence - material<br>\n",
    "ca_ev_w: Evidence - expert or witness testimony<br>\n",
    "ca_gjury: Grand jury indictment<br>\n",
    "ca_insan: Insanity defense or arguments of mental incompetence<br>\n",
    "ca_jr_in: Jury instruction<br>\n",
    "ca_jr_sl: Jury selection<br>\n",
    "ca_plea: Plea bargaining or guilty plea<br>\n",
    "ca_prej: Prejudicial conduct by prosecutor<br>\n",
    "ca_race: Racial discrimination against defendant<br>\n",
    "ca_recus: Recusal by judge or other official issues<br>\n",
    "ca_serch: Search and seizure<br>\n",
    "ca_self: Self-incrimination<br>\n",
    "ca_sent: Sentencing (including proportionality)<br>\n",
    "ca_sevr: Severance of defendants for trial<br>\n",
    "ca_speed: Speedy trial<br>\n",
    "ca_suff: Sufficiency of evidence<br>\n",
    "ca_trial: Trial by jury<br>\n",
    "ca_venue: venue<br>\n",
    "ca_othis: ???<br>\n",
    "ca_tot_i: Total number of legal issues addressed by the Supreme Court (not binary)<br>\n",
    "##### Issue Confidence Scale\n",
    "ca_lconf: On a scale of one to ten, how confident are you with your classification of the legal issues raised in this case (where ten indicates most confident and one indicates least confident)?<br>\n",
    "\n",
    "### Civil private cases\n",
    "##### Confidence Scale\n",
    "cp_conf: scale conf for classification<br>\n",
    "\n",
    "### Binary variables for civil private cases types\n",
    "##### Domestic\n",
    "gen_dom: Domestic relations<br>\n",
    "adopt: adoption<br>\n",
    "civilcom: civil commitment<br>\n",
    "divorce: separation and divorce<br>\n",
    "childsup: child support an custody<br>\n",
    "domvioln: domestic violence - restraining orders<br>\n",
    "invlster: involuntary sterilization<br>\n",
    "paternty: Paternity<br>\n",
    "dom_oth: other domestic relations issues<br>\n",
    "##### Estates\n",
    "gen_est: Estates<br>\n",
    "will: probate, wills, intestate estates<br>\n",
    "trustee: guardianship, conservatorship, trusteeship<br>\n",
    "est_oth: other estate issues<br>\n",
    "##### Contracts\n",
    "gen_cont: contracts general category<br>\n",
    "cp_enfor: enforcement (breech, specific performance)<br>\n",
    "relation: debtor-creditor relations<br>\n",
    "insure: Insurance<br>\n",
    "tenant: tenant-landlord<br>\n",
    "ownershp: Ownership of real property<br>\n",
    "cont_oth: other contract issues<br>\n",
    "##### Torts\n",
    "gen_ptor: torts general category - civil private<br>\n",
    "malprc_m: medical malpractice<br>\n",
    "malprc_p: Professional malpractice<br>\n",
    "automobl: automobiles<br>\n",
    "products: product liability<br>\n",
    "toxic: toxic substance<br>\n",
    "cp_prem: Premises liability<br>\n",
    "cp_libel: libel/slander/defamation<br>\n",
    "cp_workr: Employee injury and workers’ compensation<br>\n",
    "cp_disc: Employment discrimination<br>\n",
    "cp_oth_l: other labor disputes<br>\n",
    "ptor_oth: other torts<br>\n",
    "Description of other<br>\n",
    "cp_i_cnf: On a scale of one to ten, how confident are you with your identification of the issues reviewed in this case (where ten indicates most confident and one indicates least confident)?<br>\n",
    "\n",
    "### Civil government cases\n",
    "cg_conf: On a scale of one to ten, how confident are you with the classification of this case as civil government (where ten indicates most confident and one indicates least confident)?<br>\n",
    "##### Elections\n",
    "gen_elec: Elections<br>\n",
    "redist: Apportionment and redistricting<br>\n",
    "elect: Contested elections<br>\n",
    "ballot: Ballot access<br>\n",
    "campaign: campaign spending<br>\n",
    "elec_oth: other election issues<br>\n",
    "\n",
    "##### First amendment\n",
    "gen_frst: first amendment issues <br>\n",
    "aid2paro: aid to parochial schools <br>\n",
    "comspch: commercial speech <br>\n",
    "religion: free exercise of religion <br>\n",
    "cg_libel: libel/slander/defamation <br>\n",
    "oath: loyalty oath <br>\n",
    "obscene: obscenity <br>\n",
    "protest: protest/marches/picketing <br>\n",
    "frst_oth: other first amendment issues<br>\n",
    "\n",
    "##### Government regulation\n",
    "gen_greg: government regulation <br>\n",
    "consumer: consumer protection <br>\n",
    "emdomain: eminent domain <br>\n",
    "environm: environmental protection <br>\n",
    "welfare: government benefits/welfare/Medicaid<br>\n",
    "license: licensing and permits <br>\n",
    "taxes: taxation <br>\n",
    "transpt: transportation <br>\n",
    "utility: utilities regulation <br>\n",
    "zoning: zoning and planning <br>\n",
    "greg_oth: other governmental regulation<br>\n",
    "\n",
    "##### Law practice\n",
    "gen_law: practice of law <br>\n",
    "baradmit: bar admission <br>\n",
    "disp_att: disciplinary proceedings against attorneys<br>\n",
    "disp_jud: disciplinary proceedings against judge <br>\n",
    "rules: promulgation of rules of practice <br>\n",
    "law_oth: other practice of law issues<br>\n",
    "\n",
    "##### Public contracts\n",
    "gen_pubc: public contracts <br>\n",
    "affirmac: affirmative action/minority set asides<br>\n",
    "cg_enfor: contract enforcement (breech, specific performance)<br>\n",
    "cg_disc: employment discrimination<br>\n",
    "pubc_oth: other public contract issues<br>\n",
    "\n",
    "##### Privacy issues\n",
    "gen_priv: privacy issues <br>\n",
    "abortion: abortion <br>\n",
    "foia: access to information <br>\n",
    "gayright: homosexual rights <br>\n",
    "drugtest: mandatory drug testing <br>\n",
    "steriliz:  mandatory sterilization <br>\n",
    "dieright: right to die <br>\n",
    "priv_oth: other privacy issues <br>\n",
    "\n",
    "##### Torts\n",
    "gen_gtor: torts <br>\n",
    "cg_workr: employee injury and workers’ compensation<br>\n",
    "cg_prem: premises liability <br>\n",
    "gtor_oth: other torts <br>\n",
    "\n",
    "cg_i_cnf: On a scale of one to ten, how confident are you with your identification of the issues reviewed in this case (where ten indicates most confident and one indicates least confident)?<br>\n",
    "\n",
    "### Legal Issues in Civil Cases\n",
    "\n",
    "##### Abuse of discretion by trial judge\n",
    "cv_abuse: abuse of discretion by trial judge<br>\n",
    "cv_arbit: arbitrary or capricious standard<br>\n",
    "cv_erro: clearly erroneous standard\t<br>\n",
    "cv_atty: counsel (including attorney’s fees)\t<br>\n",
    "cv_disc: discovery <br>\n",
    "cv_dscm: discrimination\t<br>\n",
    "cv_ev_m: evidence - material \t<br>\n",
    "cv_ev_w: evidence - expert or witness testimony<br>\n",
    "cv_claim: failure to state a claim <br>\n",
    "cv_immun: government immunity <br>\n",
    "cv_jr_in: jury instructions <br>\n",
    "cv_jr_sl: jury selection <br>\n",
    "cv_moot: mootness\t<br>\n",
    "cv_ripe: ripeness/failure to exhaust administrative remedies\t<br>\n",
    "cv_recus: recusal by judge or other official<br>\n",
    "cv_stand: standing to sue <br>\n",
    "cv_suff: sufficiency of evidence <br>\n",
    "cv_sumju: summary judgement <br>\n",
    "cv_injun: validity of injunction <br>\n",
    "cv_venue: venue <br>\n",
    "cv_othis: other legal issues <br>\n",
    "cv_ot_i: total number of legal issues addressed by the supreme court\t<br>\n",
    "\n",
    "cv_lconf: on a scale of one to ten, how confident are you with your classification of the legal issues raised in this case (where ten indicates most confident and one indicates least confident)?<br>\n",
    "\n",
    "### Decisions in Criminal Cases\n",
    "\n",
    "##### Features of the Opinion\n",
    "ca_majfm: form of the court majority<br>\n",
    "ca_opnfm: form of the court’s opinion <br>\n",
    "ca_disp: supreme Court’s disposition of the lower court\t<br>\n",
    "ca_winp: winning party in the supreme court\t<br>\n",
    "ca_conv: did the supreme court overturn any convictions in this case?\t<br>\n",
    "ca_sento: did the supreme court overturn a sentence in this case?<br>\n",
    "ca_capo: did the supreme court overturn a death sentence in this case?\t<br>\n",
    "\n",
    "##### Rulings on Constitutionality\n",
    "ca_usc: is there a constitutional challenge to a law passed by another branch of government under the U.S. Constitution? <br>\n",
    "ca_uscty: if yes, what type of law was challenged?<br>\n",
    "ca_uscdc: if yes, was the law declared unconstitutional?<br>\n",
    "\n",
    "##### Constitutionality: State Constitution\n",
    "ca_stc: is there a constitutional challenge to a law passed by another branch of government under the state constitution?\t<br>\n",
    "ca_stcty: if yes, what type of law was challenged?<br>\n",
    "ca_stdc: if yes, was the law declared unconstitutional?\t<br>\n",
    "\n",
    "\n",
    "### Decisions in Civil Private Cases\n",
    "\n",
    "##### Form of the court’s opinion\n",
    "cp_majfm: form of the court majority <br>\n",
    "cp_opnfm: form of the court’s opinion <br>\n",
    "cp_disp: supreme court’s disposition of lower court<br>\n",
    "cp_winp: winning party in the supreme court <br>\n",
    "cp_verdo: did the supreme court reduce liability or overturn a verdict?<br>\n",
    "cp_awrdo: did the supreme court reduce or overturn a monetary award?<br>\n",
    "cp_injo: did the supreme court overturn an injunction or other order?\t<br>\n",
    "\n",
    "##### Rulings on US Constitutionality\n",
    "cp_usc: is there a constitutional challenge to a law passed by another branch of government under the US Constitution?\t<br>\n",
    "cp_uscty: if yes, what type of law was challenged?<br>\n",
    "cp_uscdc: if yes, was the law declared unconstitutional? <br>\n",
    "\n",
    "##### Rulings on State Constitutionality\n",
    "cp_stc: is there a constitutional challenge to a law passed by another branch of government under the state <br>\n",
    "cp_stcty: if yes, what type of law was challenged?<br>\t\n",
    "cp_stcdc: if yes, was the law declared unconstitutional?<br>\n",
    "\n",
    "### Decisions in Civil Government Cases\n",
    "\n",
    "##### Form of the court majority\n",
    "cg_majfm: form of the court majority<br>\n",
    "cg_opnfm: form of the court’s opinion<br>\n",
    "cg_disp: supreme court’s disposition of lower court\t<br>\n",
    "cg_winp: winning party in the supreme court\t<br>\n",
    "cg_verdo: did the supreme court reduce liability or overturn a verdict?<br>\n",
    "cg_awrdo: did the supreme court reduce or overturn a monetary award?<br>\n",
    "cg_injo: did the supreme court overturn an injunction or other order?<br>\n",
    "\n",
    "##### Rulings on US Constitutionality\n",
    "cg_usc: is there a constitutional challenge to a law passed by another branch of government under the U.S. Constitution? <br>\n",
    "cg_uscty: if yes, what type of law was challenged? <br>\n",
    "cg_uscdc: if yes, was the law declared unconstitutional?<br>\n",
    "\n",
    "##### Rulings on State Constitutionality\n",
    "cg_stc: is there a constitutional challenge to a law passed by another branch of government under the state constitution?<br>\n",
    "cg_stcty: if yes, what type of law was challenged?<br>\n",
    "cg_stcdc: if yes, was the law declared unconstitutional?<br>\n",
    "\n",
    "### Juvenile Cases\n",
    "\n",
    "jv_conf: on a scale of one to ten, how confident are you with the classification of this case as a juvenile case (where ten indicates most confident and one indicates least confident)?\t<br>\n",
    "\n",
    "##### Characteristics of cases\n",
    "gen_del: delinquency <br>\n",
    "del_viol: delinquency - violent offenses<br>\n",
    "del_prop: delinquency - property offenses<br>\n",
    "del_drug: delinquency - drug offenses<br>\n",
    "del_ord: delinquency - publicorder offenses\t<br>\n",
    "del_oth: delinquency - other <br>\n",
    "truant: truancy <br>\n",
    "curfew: curfew <br>\n",
    "runaway: runaway <br>\n",
    "gangrel: were any of the juvenile’s activities gang related? <br>\n",
    "\n",
    "#####  Decisions in Juvenile Cases\n",
    "jv_majfm: form of the court majority<br>\n",
    "jv_opnfm: form of the court’s opinion<br>\n",
    "jv_disp: supreme court’s disposition of the lower court <br>\n",
    "jv_winp: winning party in the supreme court <br>\n",
    "jv_delo: did the supreme court overturn a finding of delinquency? <br>\n",
    "jv_probo: did the supreme court overturn a probation/confinement sentence? <br>\n",
    "\n",
    "##### Rulings on US Constitutionality\n",
    "jv_usc: is there a constitutional challenge to a law passed by another branch of government under the US Constitution? <br>\n",
    "jv_uscty: if yes, what type of law was challenged? <br>\n",
    "jv_uscdc: if yes, was the law declared unconstitutional?<br>\n",
    "\n",
    "##### Rulings on State Constitutionality\n",
    "jv_stc: is there a constitutional challenge to a law passed by another branch of government under the state constitution? <br>\n",
    "jv_stcty: if yes, what type of law was challenged? <br>\n",
    "jv_stcdc: if yes, was the law declared unconstitutional? <br>\n",
    "\n",
    "### Miscellaneous Cases\n",
    "\n",
    "##### Non-Adversarial Cases\n",
    "ms_conf: on a scale of one to ten, how confident are you with the classification of this case as nonadversarial (where ten indicates most confident and one indicates least confident)?<br>\n",
    "\n",
    "##### Types of Non-Adversarial Cases\n",
    "certific: certification <br>\n",
    "cert_ct: if certification, which court is certifying this case<br>\n",
    "advisory: advisory opinion <br>\n",
    "non_bar: non-adversarial matters regarding the bar <br>\n",
    "non_oth: other non-adversarial cases <br>\n",
    "\n",
    "##### Decisions in Non-Adversarial Cases\n",
    "ms_majfm: form of the court majority <br>\n",
    "ms_opnfm: form of the court’s opinion <br>\n",
    "\n",
    "##### Rulings on US Constitutionality\n",
    "ms_usc: is there a constitutional challenge to a law passed by another branch of government under the US Constitution?<br>\n",
    "ms_uscty: if yes, what type of law was challenged? <br>\n",
    "ms_uscdc: if yes, was the law declared unconstitutional? <br>\n",
    "\n",
    "##### Rulings on State Constitutionality\n",
    "ms_stc: is there a constitutional challenge to a law passed by another branch of government under the state constitution? <br>\n",
    "ms_stcty: if yes, what type of law was challenged? <br>\n",
    "ms_stcdc: if yes, was the law declared unconstitutional? <br>\n",
    "\n",
    "### Sitting justice involvement and behavior\n",
    "This section contains information for justices 1-9. justice 1 is used as an example below: <br>\n",
    "\n",
    "enbanc: did the court sit en banc? <br>\n",
    "j1_name: justice name - 1 <br>\n",
    "j1_vote: justice 1 vote <br>\n",
    "j1_opin: justice 1 opinion behavior <br>\n",
    "\n",
    "### Substitute / ad hoc justice involvement and behavior\n",
    "This section contains information regarding substitute / ad hoc justices 1-3. Substitute / ad hoc justice 1 is used as an example below: <br>\n",
    "\n",
    "s1_name: ad hoc justice 1 vote  <br>\n",
    "s1_text: name of ad hoc justice 1 that does not appear on list  <br>\n",
    "s1_type: is ad hoc justice 1 retired, a substitute, or other? <br>\n",
    "s1_vote: ad hoc justice 1 vote  <br>\n",
    "s1_opin: ad hoc justice 1 opinion behavior   <br>"
   ]
  },
  {
   "cell_type": "markdown",
   "metadata": {},
   "source": [
    "### To do\n",
    "\n",
    "opassign: <br>\n",
    "disordr: <br>\n",
    "votordr: <br>\n",
    "belitid: <br>\n",
    "bmassid: <br>\n",
    "brthyr: year of birth of the justice<br>\n",
    "race: race of justice<br>\n",
    "gender: gender of justice - 1: male, 0: female<br>\n",
    "pajid: <br>\n",
    "jpid: <br>\n",
    "agedec: age at the time of the decision<br>\n",
    "EWI: <br>\n",
    "select: <br>\n",
    "retentn: <br>\n",
    "cj: <br>"
   ]
  },
  {
   "cell_type": "markdown",
   "metadata": {},
   "source": [
    "## Criminal cases"
   ]
  },
  {
   "cell_type": "markdown",
   "metadata": {},
   "source": [
    "This should only select criminal cases:"
   ]
  },
  {
   "cell_type": "code",
   "execution_count": 511,
   "metadata": {
    "collapsed": false
   },
   "outputs": [
    {
     "data": {
      "text/plain": [
       "322"
      ]
     },
     "execution_count": 511,
     "metadata": {},
     "output_type": "execute_result"
    }
   ],
   "source": [
    "data['id_1'].nunique()"
   ]
  },
  {
   "cell_type": "code",
   "execution_count": 510,
   "metadata": {
    "collapsed": false
   },
   "outputs": [
    {
     "data": {
      "text/plain": [
       "array([0., 1.])"
      ]
     },
     "execution_count": 510,
     "metadata": {},
     "output_type": "execute_result"
    }
   ],
   "source": [
    "data['_jadhoc'].unique()"
   ]
  },
  {
   "cell_type": "code",
   "execution_count": 509,
   "metadata": {
    "collapsed": false
   },
   "outputs": [
    {
     "data": {
      "text/plain": [
       "array([ 1.,  2.,  3.,  4.,  5.,  6.,  7.,  9., nan])"
      ]
     },
     "execution_count": 509,
     "metadata": {},
     "output_type": "execute_result"
    }
   ],
   "source": [
    "data['_jposition'].unique()"
   ]
  },
  {
   "cell_type": "code",
   "execution_count": 512,
   "metadata": {
    "collapsed": false
   },
   "outputs": [
    {
     "data": {
      "text/plain": [
       "472"
      ]
     },
     "execution_count": 512,
     "metadata": {},
     "output_type": "execute_result"
    }
   ],
   "source": [
    "# code of judge 1\n",
    "data['judgecode'].nunique()"
   ]
  },
  {
   "cell_type": "code",
   "execution_count": 239,
   "metadata": {
    "collapsed": false
   },
   "outputs": [],
   "source": [
    "dna = data[data['genissue']==1]"
   ]
  },
  {
   "cell_type": "code",
   "execution_count": 212,
   "metadata": {
    "collapsed": true
   },
   "outputs": [],
   "source": [
    "dna = dna.replace(88, np.nan)"
   ]
  },
  {
   "cell_type": "code",
   "execution_count": 213,
   "metadata": {
    "collapsed": false
   },
   "outputs": [
    {
     "data": {
      "text/plain": [
       "(55601, 341)"
      ]
     },
     "execution_count": 213,
     "metadata": {},
     "output_type": "execute_result"
    }
   ],
   "source": [
    "dna.shape"
   ]
  },
  {
   "cell_type": "code",
   "execution_count": 214,
   "metadata": {
    "collapsed": false
   },
   "outputs": [],
   "source": [
    "dna = dna.dropna(how = 'all', axis = 1)"
   ]
  },
  {
   "cell_type": "code",
   "execution_count": 215,
   "metadata": {
    "collapsed": false
   },
   "outputs": [
    {
     "data": {
      "text/plain": [
       "(55601, 311)"
      ]
     },
     "execution_count": 215,
     "metadata": {},
     "output_type": "execute_result"
    }
   ],
   "source": [
    "dna.shape"
   ]
  },
  {
   "cell_type": "code",
   "execution_count": 65,
   "metadata": {
    "collapsed": false
   },
   "outputs": [],
   "source": [
    "#[c for c in data.columns if c not in dna.columns]"
   ]
  },
  {
   "cell_type": "code",
   "execution_count": 66,
   "metadata": {
    "collapsed": false
   },
   "outputs": [
    {
     "data": {
      "text/plain": [
       "23156     10.0\n",
       "50888     10.0\n",
       "78705     10.0\n",
       "105922    10.0\n",
       "131773    10.0\n",
       "149299    10.0\n",
       "163430    10.0\n",
       "Name: ca_conf, dtype: float64"
      ]
     },
     "execution_count": 66,
     "metadata": {},
     "output_type": "execute_result"
    }
   ],
   "source": [
    "dna[dna['cp_conf']==10]['ca_conf']"
   ]
  },
  {
   "cell_type": "code",
   "execution_count": 82,
   "metadata": {
    "collapsed": false
   },
   "outputs": [
    {
     "data": {
      "text/plain": [
       "13013     0.0\n",
       "40857     0.0\n",
       "68638     0.0\n",
       "96058     0.0\n",
       "122406    0.0\n",
       "143580    0.0\n",
       "158281    0.0\n",
       "166802    0.0\n",
       "Name: arson, dtype: float64"
      ]
     },
     "execution_count": 82,
     "metadata": {},
     "output_type": "execute_result"
    }
   ],
   "source": [
    "dna[dna['elect']==1]['arson']"
   ]
  },
  {
   "cell_type": "code",
   "execution_count": 240,
   "metadata": {
    "collapsed": false
   },
   "outputs": [],
   "source": [
    "cat = pd.read_csv('../crime_cat.csv', header=None, names = ['cat'])"
   ]
  },
  {
   "cell_type": "code",
   "execution_count": 241,
   "metadata": {
    "collapsed": false
   },
   "outputs": [
    {
     "data": {
      "text/plain": [
       "assaulta     3201.0\n",
       "assaulto     2155.0\n",
       "arson         620.0\n",
       "burglary     3476.0\n",
       "disorder      381.0\n",
       "dui          2700.0\n",
       "drugabus     4682.0\n",
       "drugsell     2567.0\n",
       "drunk          37.0\n",
       "embezzle       56.0\n",
       "forge         275.0\n",
       "fraud         378.0\n",
       "gamble         14.0\n",
       "kidnap       2212.0\n",
       "theft        2433.0\n",
       "liquor         66.0\n",
       "mans_neg      679.0\n",
       "mans_non      563.0\n",
       "autothft      312.0\n",
       "murder      20097.0\n",
       "fam_kids     2258.0\n",
       "prostitu       60.0\n",
       "rape         5012.0\n",
       "robbery      6065.0\n",
       "sex_gen      1636.0\n",
       "stolen        437.0\n",
       "traffic       643.0\n",
       "vagrancy       12.0\n",
       "vandal         44.0\n",
       "weapons      4337.0\n",
       "con_oth      8239.0\n",
       "dtype: float64"
      ]
     },
     "execution_count": 241,
     "metadata": {},
     "output_type": "execute_result"
    }
   ],
   "source": [
    "dna[[c for c in cat['cat']]].sum(axis = 0)"
   ]
  },
  {
   "cell_type": "code",
   "execution_count": 242,
   "metadata": {
    "collapsed": false
   },
   "outputs": [
    {
     "data": {
      "text/plain": [
       "(7651, 341)"
      ]
     },
     "execution_count": 242,
     "metadata": {},
     "output_type": "execute_result"
    }
   ],
   "source": [
    "idx = dna[[c for c in cat['cat']]].sum(axis = 1) == 0 # cases with no category....\n",
    "dna[idx].shape"
   ]
  },
  {
   "cell_type": "code",
   "execution_count": 245,
   "metadata": {
    "collapsed": false,
    "scrolled": false
   },
   "outputs": [
    {
     "data": {
      "text/plain": [
       "(9007, 341)"
      ]
     },
     "execution_count": 245,
     "metadata": {},
     "output_type": "execute_result"
    }
   ],
   "source": [
    "dna[dna['ca_tot_c']==0].shape"
   ]
  },
  {
   "cell_type": "code",
   "execution_count": 286,
   "metadata": {
    "collapsed": false
   },
   "outputs": [
    {
     "data": {
      "text/plain": [
       "array([1995., 1996., 1997., 1998.,   nan])"
      ]
     },
     "execution_count": 286,
     "metadata": {},
     "output_type": "execute_result"
    }
   ],
   "source": [
    "data['decs_yr'].unique()"
   ]
  },
  {
   "cell_type": "code",
   "execution_count": 246,
   "metadata": {
    "collapsed": true
   },
   "outputs": [],
   "source": [
    "zero_con = dna[dna['ca_tot_c']==0]"
   ]
  },
  {
   "cell_type": "code",
   "execution_count": 253,
   "metadata": {
    "collapsed": false
   },
   "outputs": [
    {
     "data": {
      "text/html": [
       "<div>\n",
       "<style scoped>\n",
       "    .dataframe tbody tr th:only-of-type {\n",
       "        vertical-align: middle;\n",
       "    }\n",
       "\n",
       "    .dataframe tbody tr th {\n",
       "        vertical-align: top;\n",
       "    }\n",
       "\n",
       "    .dataframe thead th {\n",
       "        text-align: right;\n",
       "    }\n",
       "</style>\n",
       "<table border=\"1\" class=\"dataframe\">\n",
       "  <thead>\n",
       "    <tr style=\"text-align: right;\">\n",
       "      <th></th>\n",
       "      <th>decs_day</th>\n",
       "      <th>decs_mo</th>\n",
       "      <th>decs_yr</th>\n",
       "      <th>dec1_day</th>\n",
       "    </tr>\n",
       "  </thead>\n",
       "  <tbody>\n",
       "    <tr>\n",
       "      <th>184</th>\n",
       "      <td>22.0</td>\n",
       "      <td>9.0</td>\n",
       "      <td>1995.0</td>\n",
       "      <td>88.0</td>\n",
       "    </tr>\n",
       "    <tr>\n",
       "      <th>189</th>\n",
       "      <td>28.0</td>\n",
       "      <td>7.0</td>\n",
       "      <td>1995.0</td>\n",
       "      <td>88.0</td>\n",
       "    </tr>\n",
       "    <tr>\n",
       "      <th>334</th>\n",
       "      <td>7.0</td>\n",
       "      <td>2.0</td>\n",
       "      <td>1995.0</td>\n",
       "      <td>99.0</td>\n",
       "    </tr>\n",
       "    <tr>\n",
       "      <th>353</th>\n",
       "      <td>20.0</td>\n",
       "      <td>4.0</td>\n",
       "      <td>1995.0</td>\n",
       "      <td>99.0</td>\n",
       "    </tr>\n",
       "    <tr>\n",
       "      <th>402</th>\n",
       "      <td>2.0</td>\n",
       "      <td>10.0</td>\n",
       "      <td>1995.0</td>\n",
       "      <td>99.0</td>\n",
       "    </tr>\n",
       "    <tr>\n",
       "      <th>415</th>\n",
       "      <td>27.0</td>\n",
       "      <td>2.0</td>\n",
       "      <td>1995.0</td>\n",
       "      <td>99.0</td>\n",
       "    </tr>\n",
       "    <tr>\n",
       "      <th>421</th>\n",
       "      <td>27.0</td>\n",
       "      <td>2.0</td>\n",
       "      <td>1995.0</td>\n",
       "      <td>99.0</td>\n",
       "    </tr>\n",
       "    <tr>\n",
       "      <th>492</th>\n",
       "      <td>6.0</td>\n",
       "      <td>3.0</td>\n",
       "      <td>1995.0</td>\n",
       "      <td>6.0</td>\n",
       "    </tr>\n",
       "    <tr>\n",
       "      <th>495</th>\n",
       "      <td>27.0</td>\n",
       "      <td>3.0</td>\n",
       "      <td>1995.0</td>\n",
       "      <td>99.0</td>\n",
       "    </tr>\n",
       "    <tr>\n",
       "      <th>496</th>\n",
       "      <td>18.0</td>\n",
       "      <td>9.0</td>\n",
       "      <td>1995.0</td>\n",
       "      <td>99.0</td>\n",
       "    </tr>\n",
       "    <tr>\n",
       "      <th>509</th>\n",
       "      <td>4.0</td>\n",
       "      <td>12.0</td>\n",
       "      <td>1995.0</td>\n",
       "      <td>99.0</td>\n",
       "    </tr>\n",
       "    <tr>\n",
       "      <th>538</th>\n",
       "      <td>11.0</td>\n",
       "      <td>9.0</td>\n",
       "      <td>1995.0</td>\n",
       "      <td>18.0</td>\n",
       "    </tr>\n",
       "    <tr>\n",
       "      <th>566</th>\n",
       "      <td>16.0</td>\n",
       "      <td>10.0</td>\n",
       "      <td>1995.0</td>\n",
       "      <td>99.0</td>\n",
       "    </tr>\n",
       "    <tr>\n",
       "      <th>689</th>\n",
       "      <td>17.0</td>\n",
       "      <td>1.0</td>\n",
       "      <td>1995.0</td>\n",
       "      <td>99.0</td>\n",
       "    </tr>\n",
       "    <tr>\n",
       "      <th>712</th>\n",
       "      <td>21.0</td>\n",
       "      <td>2.0</td>\n",
       "      <td>1995.0</td>\n",
       "      <td>99.0</td>\n",
       "    </tr>\n",
       "    <tr>\n",
       "      <th>714</th>\n",
       "      <td>20.0</td>\n",
       "      <td>3.0</td>\n",
       "      <td>1995.0</td>\n",
       "      <td>99.0</td>\n",
       "    </tr>\n",
       "    <tr>\n",
       "      <th>715</th>\n",
       "      <td>6.0</td>\n",
       "      <td>3.0</td>\n",
       "      <td>1995.0</td>\n",
       "      <td>6.0</td>\n",
       "    </tr>\n",
       "    <tr>\n",
       "      <th>725</th>\n",
       "      <td>13.0</td>\n",
       "      <td>2.0</td>\n",
       "      <td>1995.0</td>\n",
       "      <td>99.0</td>\n",
       "    </tr>\n",
       "    <tr>\n",
       "      <th>731</th>\n",
       "      <td>10.0</td>\n",
       "      <td>4.0</td>\n",
       "      <td>1995.0</td>\n",
       "      <td>99.0</td>\n",
       "    </tr>\n",
       "    <tr>\n",
       "      <th>732</th>\n",
       "      <td>10.0</td>\n",
       "      <td>4.0</td>\n",
       "      <td>1995.0</td>\n",
       "      <td>99.0</td>\n",
       "    </tr>\n",
       "    <tr>\n",
       "      <th>747</th>\n",
       "      <td>3.0</td>\n",
       "      <td>4.0</td>\n",
       "      <td>1995.0</td>\n",
       "      <td>99.0</td>\n",
       "    </tr>\n",
       "    <tr>\n",
       "      <th>751</th>\n",
       "      <td>15.0</td>\n",
       "      <td>5.0</td>\n",
       "      <td>1995.0</td>\n",
       "      <td>26.0</td>\n",
       "    </tr>\n",
       "    <tr>\n",
       "      <th>754</th>\n",
       "      <td>24.0</td>\n",
       "      <td>4.0</td>\n",
       "      <td>1995.0</td>\n",
       "      <td>24.0</td>\n",
       "    </tr>\n",
       "    <tr>\n",
       "      <th>758</th>\n",
       "      <td>15.0</td>\n",
       "      <td>5.0</td>\n",
       "      <td>1995.0</td>\n",
       "      <td>99.0</td>\n",
       "    </tr>\n",
       "    <tr>\n",
       "      <th>760</th>\n",
       "      <td>8.0</td>\n",
       "      <td>5.0</td>\n",
       "      <td>1995.0</td>\n",
       "      <td>99.0</td>\n",
       "    </tr>\n",
       "    <tr>\n",
       "      <th>761</th>\n",
       "      <td>22.0</td>\n",
       "      <td>5.0</td>\n",
       "      <td>1995.0</td>\n",
       "      <td>99.0</td>\n",
       "    </tr>\n",
       "    <tr>\n",
       "      <th>773</th>\n",
       "      <td>12.0</td>\n",
       "      <td>6.0</td>\n",
       "      <td>1995.0</td>\n",
       "      <td>9.0</td>\n",
       "    </tr>\n",
       "    <tr>\n",
       "      <th>777</th>\n",
       "      <td>5.0</td>\n",
       "      <td>6.0</td>\n",
       "      <td>1995.0</td>\n",
       "      <td>99.0</td>\n",
       "    </tr>\n",
       "    <tr>\n",
       "      <th>794</th>\n",
       "      <td>26.0</td>\n",
       "      <td>6.0</td>\n",
       "      <td>1995.0</td>\n",
       "      <td>26.0</td>\n",
       "    </tr>\n",
       "    <tr>\n",
       "      <th>799</th>\n",
       "      <td>19.0</td>\n",
       "      <td>6.0</td>\n",
       "      <td>1995.0</td>\n",
       "      <td>99.0</td>\n",
       "    </tr>\n",
       "    <tr>\n",
       "      <th>...</th>\n",
       "      <td>...</td>\n",
       "      <td>...</td>\n",
       "      <td>...</td>\n",
       "      <td>...</td>\n",
       "    </tr>\n",
       "    <tr>\n",
       "      <th>170159</th>\n",
       "      <td>1.0</td>\n",
       "      <td>2.0</td>\n",
       "      <td>1996.0</td>\n",
       "      <td>99.0</td>\n",
       "    </tr>\n",
       "    <tr>\n",
       "      <th>170227</th>\n",
       "      <td>12.0</td>\n",
       "      <td>8.0</td>\n",
       "      <td>1997.0</td>\n",
       "      <td>99.0</td>\n",
       "    </tr>\n",
       "    <tr>\n",
       "      <th>170275</th>\n",
       "      <td>27.0</td>\n",
       "      <td>3.0</td>\n",
       "      <td>1997.0</td>\n",
       "      <td>99.0</td>\n",
       "    </tr>\n",
       "    <tr>\n",
       "      <th>170286</th>\n",
       "      <td>18.0</td>\n",
       "      <td>12.0</td>\n",
       "      <td>1997.0</td>\n",
       "      <td>99.0</td>\n",
       "    </tr>\n",
       "    <tr>\n",
       "      <th>170332</th>\n",
       "      <td>15.0</td>\n",
       "      <td>12.0</td>\n",
       "      <td>1997.0</td>\n",
       "      <td>99.0</td>\n",
       "    </tr>\n",
       "    <tr>\n",
       "      <th>170336</th>\n",
       "      <td>21.0</td>\n",
       "      <td>1.0</td>\n",
       "      <td>1997.0</td>\n",
       "      <td>99.0</td>\n",
       "    </tr>\n",
       "    <tr>\n",
       "      <th>170425</th>\n",
       "      <td>10.0</td>\n",
       "      <td>1.0</td>\n",
       "      <td>1997.0</td>\n",
       "      <td>99.0</td>\n",
       "    </tr>\n",
       "    <tr>\n",
       "      <th>170454</th>\n",
       "      <td>8.0</td>\n",
       "      <td>12.0</td>\n",
       "      <td>1997.0</td>\n",
       "      <td>99.0</td>\n",
       "    </tr>\n",
       "    <tr>\n",
       "      <th>170513</th>\n",
       "      <td>2.0</td>\n",
       "      <td>9.0</td>\n",
       "      <td>1997.0</td>\n",
       "      <td>99.0</td>\n",
       "    </tr>\n",
       "    <tr>\n",
       "      <th>170533</th>\n",
       "      <td>10.0</td>\n",
       "      <td>10.0</td>\n",
       "      <td>1997.0</td>\n",
       "      <td>99.0</td>\n",
       "    </tr>\n",
       "    <tr>\n",
       "      <th>170538</th>\n",
       "      <td>12.0</td>\n",
       "      <td>5.0</td>\n",
       "      <td>1997.0</td>\n",
       "      <td>99.0</td>\n",
       "    </tr>\n",
       "    <tr>\n",
       "      <th>170596</th>\n",
       "      <td>17.0</td>\n",
       "      <td>11.0</td>\n",
       "      <td>1997.0</td>\n",
       "      <td>99.0</td>\n",
       "    </tr>\n",
       "    <tr>\n",
       "      <th>170648</th>\n",
       "      <td>24.0</td>\n",
       "      <td>12.0</td>\n",
       "      <td>1998.0</td>\n",
       "      <td>24.0</td>\n",
       "    </tr>\n",
       "    <tr>\n",
       "      <th>170672</th>\n",
       "      <td>30.0</td>\n",
       "      <td>1.0</td>\n",
       "      <td>1998.0</td>\n",
       "      <td>99.0</td>\n",
       "    </tr>\n",
       "    <tr>\n",
       "      <th>170701</th>\n",
       "      <td>9.0</td>\n",
       "      <td>3.0</td>\n",
       "      <td>1998.0</td>\n",
       "      <td>99.0</td>\n",
       "    </tr>\n",
       "    <tr>\n",
       "      <th>170713</th>\n",
       "      <td>20.0</td>\n",
       "      <td>5.0</td>\n",
       "      <td>1998.0</td>\n",
       "      <td>99.0</td>\n",
       "    </tr>\n",
       "    <tr>\n",
       "      <th>170766</th>\n",
       "      <td>25.0</td>\n",
       "      <td>9.0</td>\n",
       "      <td>1998.0</td>\n",
       "      <td>30.0</td>\n",
       "    </tr>\n",
       "    <tr>\n",
       "      <th>170821</th>\n",
       "      <td>1.0</td>\n",
       "      <td>5.0</td>\n",
       "      <td>1998.0</td>\n",
       "      <td>99.0</td>\n",
       "    </tr>\n",
       "    <tr>\n",
       "      <th>170890</th>\n",
       "      <td>31.0</td>\n",
       "      <td>7.0</td>\n",
       "      <td>1998.0</td>\n",
       "      <td>99.0</td>\n",
       "    </tr>\n",
       "    <tr>\n",
       "      <th>171078</th>\n",
       "      <td>23.0</td>\n",
       "      <td>2.0</td>\n",
       "      <td>1995.0</td>\n",
       "      <td>30.0</td>\n",
       "    </tr>\n",
       "    <tr>\n",
       "      <th>171081</th>\n",
       "      <td>24.0</td>\n",
       "      <td>3.0</td>\n",
       "      <td>1995.0</td>\n",
       "      <td>24.0</td>\n",
       "    </tr>\n",
       "    <tr>\n",
       "      <th>171123</th>\n",
       "      <td>2.0</td>\n",
       "      <td>5.0</td>\n",
       "      <td>1996.0</td>\n",
       "      <td>13.0</td>\n",
       "    </tr>\n",
       "    <tr>\n",
       "      <th>171126</th>\n",
       "      <td>27.0</td>\n",
       "      <td>6.0</td>\n",
       "      <td>1996.0</td>\n",
       "      <td>99.0</td>\n",
       "    </tr>\n",
       "    <tr>\n",
       "      <th>171133</th>\n",
       "      <td>31.0</td>\n",
       "      <td>7.0</td>\n",
       "      <td>1996.0</td>\n",
       "      <td>99.0</td>\n",
       "    </tr>\n",
       "    <tr>\n",
       "      <th>171139</th>\n",
       "      <td>25.0</td>\n",
       "      <td>4.0</td>\n",
       "      <td>1996.0</td>\n",
       "      <td>99.0</td>\n",
       "    </tr>\n",
       "    <tr>\n",
       "      <th>171150</th>\n",
       "      <td>21.0</td>\n",
       "      <td>3.0</td>\n",
       "      <td>1996.0</td>\n",
       "      <td>99.0</td>\n",
       "    </tr>\n",
       "    <tr>\n",
       "      <th>171280</th>\n",
       "      <td>25.0</td>\n",
       "      <td>9.0</td>\n",
       "      <td>1998.0</td>\n",
       "      <td>30.0</td>\n",
       "    </tr>\n",
       "    <tr>\n",
       "      <th>171285</th>\n",
       "      <td>1.0</td>\n",
       "      <td>5.0</td>\n",
       "      <td>1998.0</td>\n",
       "      <td>99.0</td>\n",
       "    </tr>\n",
       "    <tr>\n",
       "      <th>171293</th>\n",
       "      <td>31.0</td>\n",
       "      <td>7.0</td>\n",
       "      <td>1998.0</td>\n",
       "      <td>99.0</td>\n",
       "    </tr>\n",
       "    <tr>\n",
       "      <th>171324</th>\n",
       "      <td>31.0</td>\n",
       "      <td>7.0</td>\n",
       "      <td>1996.0</td>\n",
       "      <td>99.0</td>\n",
       "    </tr>\n",
       "  </tbody>\n",
       "</table>\n",
       "<p>9007 rows × 4 columns</p>\n",
       "</div>"
      ],
      "text/plain": [
       "        decs_day  decs_mo  decs_yr  dec1_day\n",
       "184         22.0      9.0   1995.0      88.0\n",
       "189         28.0      7.0   1995.0      88.0\n",
       "334          7.0      2.0   1995.0      99.0\n",
       "353         20.0      4.0   1995.0      99.0\n",
       "402          2.0     10.0   1995.0      99.0\n",
       "415         27.0      2.0   1995.0      99.0\n",
       "421         27.0      2.0   1995.0      99.0\n",
       "492          6.0      3.0   1995.0       6.0\n",
       "495         27.0      3.0   1995.0      99.0\n",
       "496         18.0      9.0   1995.0      99.0\n",
       "509          4.0     12.0   1995.0      99.0\n",
       "538         11.0      9.0   1995.0      18.0\n",
       "566         16.0     10.0   1995.0      99.0\n",
       "689         17.0      1.0   1995.0      99.0\n",
       "712         21.0      2.0   1995.0      99.0\n",
       "714         20.0      3.0   1995.0      99.0\n",
       "715          6.0      3.0   1995.0       6.0\n",
       "725         13.0      2.0   1995.0      99.0\n",
       "731         10.0      4.0   1995.0      99.0\n",
       "732         10.0      4.0   1995.0      99.0\n",
       "747          3.0      4.0   1995.0      99.0\n",
       "751         15.0      5.0   1995.0      26.0\n",
       "754         24.0      4.0   1995.0      24.0\n",
       "758         15.0      5.0   1995.0      99.0\n",
       "760          8.0      5.0   1995.0      99.0\n",
       "761         22.0      5.0   1995.0      99.0\n",
       "773         12.0      6.0   1995.0       9.0\n",
       "777          5.0      6.0   1995.0      99.0\n",
       "794         26.0      6.0   1995.0      26.0\n",
       "799         19.0      6.0   1995.0      99.0\n",
       "...          ...      ...      ...       ...\n",
       "170159       1.0      2.0   1996.0      99.0\n",
       "170227      12.0      8.0   1997.0      99.0\n",
       "170275      27.0      3.0   1997.0      99.0\n",
       "170286      18.0     12.0   1997.0      99.0\n",
       "170332      15.0     12.0   1997.0      99.0\n",
       "170336      21.0      1.0   1997.0      99.0\n",
       "170425      10.0      1.0   1997.0      99.0\n",
       "170454       8.0     12.0   1997.0      99.0\n",
       "170513       2.0      9.0   1997.0      99.0\n",
       "170533      10.0     10.0   1997.0      99.0\n",
       "170538      12.0      5.0   1997.0      99.0\n",
       "170596      17.0     11.0   1997.0      99.0\n",
       "170648      24.0     12.0   1998.0      24.0\n",
       "170672      30.0      1.0   1998.0      99.0\n",
       "170701       9.0      3.0   1998.0      99.0\n",
       "170713      20.0      5.0   1998.0      99.0\n",
       "170766      25.0      9.0   1998.0      30.0\n",
       "170821       1.0      5.0   1998.0      99.0\n",
       "170890      31.0      7.0   1998.0      99.0\n",
       "171078      23.0      2.0   1995.0      30.0\n",
       "171081      24.0      3.0   1995.0      24.0\n",
       "171123       2.0      5.0   1996.0      13.0\n",
       "171126      27.0      6.0   1996.0      99.0\n",
       "171133      31.0      7.0   1996.0      99.0\n",
       "171139      25.0      4.0   1996.0      99.0\n",
       "171150      21.0      3.0   1996.0      99.0\n",
       "171280      25.0      9.0   1998.0      30.0\n",
       "171285       1.0      5.0   1998.0      99.0\n",
       "171293      31.0      7.0   1998.0      99.0\n",
       "171324      31.0      7.0   1996.0      99.0\n",
       "\n",
       "[9007 rows x 4 columns]"
      ]
     },
     "execution_count": 253,
     "metadata": {},
     "output_type": "execute_result"
    }
   ],
   "source": [
    "zero_con[['decs_day', 'decs_mo', 'decs_yr', 'dec1_day']]"
   ]
  },
  {
   "cell_type": "code",
   "execution_count": 224,
   "metadata": {
    "collapsed": false
   },
   "outputs": [
    {
     "data": {
      "text/html": [
       "<div>\n",
       "<style scoped>\n",
       "    .dataframe tbody tr th:only-of-type {\n",
       "        vertical-align: middle;\n",
       "    }\n",
       "\n",
       "    .dataframe tbody tr th {\n",
       "        vertical-align: top;\n",
       "    }\n",
       "\n",
       "    .dataframe thead th {\n",
       "        text-align: right;\n",
       "    }\n",
       "</style>\n",
       "<table border=\"1\" class=\"dataframe\">\n",
       "  <thead>\n",
       "    <tr style=\"text-align: right;\">\n",
       "      <th></th>\n",
       "      <th>masterid</th>\n",
       "      <th>id_1</th>\n",
       "      <th>coder</th>\n",
       "      <th>coderid</th>\n",
       "      <th>casen_1</th>\n",
       "      <th>juris</th>\n",
       "      <th>first_ct</th>\n",
       "      <th>agency</th>\n",
       "      <th>agency_r</th>\n",
       "      <th>arbitrat</th>\n",
       "      <th>...</th>\n",
       "      <th>ms_stc</th>\n",
       "      <th>enbanc</th>\n",
       "      <th>judgename</th>\n",
       "      <th>judgecode</th>\n",
       "      <th>judgevote</th>\n",
       "      <th>judgeopinion</th>\n",
       "      <th>_jposition</th>\n",
       "      <th>_jadhoc</th>\n",
       "      <th>adhoctype</th>\n",
       "      <th>adhoctext</th>\n",
       "    </tr>\n",
       "    <tr>\n",
       "      <th>ca_tot_c</th>\n",
       "      <th></th>\n",
       "      <th></th>\n",
       "      <th></th>\n",
       "      <th></th>\n",
       "      <th></th>\n",
       "      <th></th>\n",
       "      <th></th>\n",
       "      <th></th>\n",
       "      <th></th>\n",
       "      <th></th>\n",
       "      <th></th>\n",
       "      <th></th>\n",
       "      <th></th>\n",
       "      <th></th>\n",
       "      <th></th>\n",
       "      <th></th>\n",
       "      <th></th>\n",
       "      <th></th>\n",
       "      <th></th>\n",
       "      <th></th>\n",
       "      <th></th>\n",
       "    </tr>\n",
       "  </thead>\n",
       "  <tbody>\n",
       "    <tr>\n",
       "      <th>0.0</th>\n",
       "      <td>7578</td>\n",
       "      <td>7578</td>\n",
       "      <td>7578</td>\n",
       "      <td>7578</td>\n",
       "      <td>7515</td>\n",
       "      <td>7570</td>\n",
       "      <td>7573</td>\n",
       "      <td>7485</td>\n",
       "      <td>216</td>\n",
       "      <td>7540</td>\n",
       "      <td>...</td>\n",
       "      <td>0</td>\n",
       "      <td>7578</td>\n",
       "      <td>6896</td>\n",
       "      <td>7471</td>\n",
       "      <td>7564</td>\n",
       "      <td>7578</td>\n",
       "      <td>7490</td>\n",
       "      <td>7578</td>\n",
       "      <td>88</td>\n",
       "      <td>88</td>\n",
       "    </tr>\n",
       "    <tr>\n",
       "      <th>1.0</th>\n",
       "      <td>60</td>\n",
       "      <td>60</td>\n",
       "      <td>60</td>\n",
       "      <td>60</td>\n",
       "      <td>60</td>\n",
       "      <td>60</td>\n",
       "      <td>60</td>\n",
       "      <td>53</td>\n",
       "      <td>0</td>\n",
       "      <td>60</td>\n",
       "      <td>...</td>\n",
       "      <td>0</td>\n",
       "      <td>60</td>\n",
       "      <td>54</td>\n",
       "      <td>59</td>\n",
       "      <td>60</td>\n",
       "      <td>60</td>\n",
       "      <td>60</td>\n",
       "      <td>60</td>\n",
       "      <td>0</td>\n",
       "      <td>0</td>\n",
       "    </tr>\n",
       "  </tbody>\n",
       "</table>\n",
       "<p>2 rows × 310 columns</p>\n",
       "</div>"
      ],
      "text/plain": [
       "          masterid  id_1  coder  coderid  casen_1  juris  first_ct  agency  \\\n",
       "ca_tot_c                                                                     \n",
       "0.0           7578  7578   7578     7578     7515   7570      7573    7485   \n",
       "1.0             60    60     60       60       60     60        60      53   \n",
       "\n",
       "          agency_r  arbitrat    ...      ms_stc  enbanc  judgename  judgecode  \\\n",
       "ca_tot_c                        ...                                             \n",
       "0.0            216      7540    ...           0    7578       6896       7471   \n",
       "1.0              0        60    ...           0      60         54         59   \n",
       "\n",
       "          judgevote  judgeopinion  _jposition  _jadhoc  adhoctype  adhoctext  \n",
       "ca_tot_c                                                                      \n",
       "0.0            7564          7578        7490     7578         88         88  \n",
       "1.0              60            60          60       60          0          0  \n",
       "\n",
       "[2 rows x 310 columns]"
      ]
     },
     "execution_count": 224,
     "metadata": {},
     "output_type": "execute_result"
    }
   ],
   "source": [
    "dna[idx].groupby(['ca_tot_c']).count()"
   ]
  },
  {
   "cell_type": "code",
   "execution_count": 144,
   "metadata": {
    "collapsed": false
   },
   "outputs": [
    {
     "data": {
      "text/plain": [
       "(29924, 311)"
      ]
     },
     "execution_count": 144,
     "metadata": {},
     "output_type": "execute_result"
    }
   ],
   "source": [
    "idx = dna[[c for c in cat['cat'] if c in dna.columns]].sum(axis = 1) == 1\n",
    "dna[idx].shape"
   ]
  },
  {
   "cell_type": "code",
   "execution_count": 145,
   "metadata": {
    "collapsed": false
   },
   "outputs": [
    {
     "data": {
      "text/plain": [
       "(11145, 311)"
      ]
     },
     "execution_count": 145,
     "metadata": {},
     "output_type": "execute_result"
    }
   ],
   "source": [
    "idx = dna[[c for c in cat['cat'] if c in dna.columns]].sum(axis = 1) == 2\n",
    "dna[idx].shape"
   ]
  },
  {
   "cell_type": "code",
   "execution_count": 146,
   "metadata": {
    "collapsed": false
   },
   "outputs": [
    {
     "data": {
      "text/plain": [
       "(4426, 311)"
      ]
     },
     "execution_count": 146,
     "metadata": {},
     "output_type": "execute_result"
    }
   ],
   "source": [
    "idx = dna[[c for c in cat['cat'] if c in dna.columns]].sum(axis = 1) == 3\n",
    "dna[idx].shape"
   ]
  },
  {
   "cell_type": "code",
   "execution_count": 147,
   "metadata": {
    "collapsed": false
   },
   "outputs": [
    {
     "data": {
      "text/plain": [
       "(1567, 311)"
      ]
     },
     "execution_count": 147,
     "metadata": {},
     "output_type": "execute_result"
    }
   ],
   "source": [
    "idx = dna[[c for c in cat['cat'] if c in dna.columns]].sum(axis = 1) == 4\n",
    "dna[idx].shape"
   ]
  },
  {
   "cell_type": "code",
   "execution_count": 148,
   "metadata": {
    "collapsed": false
   },
   "outputs": [
    {
     "data": {
      "text/plain": [
       "(85, 311)"
      ]
     },
     "execution_count": 148,
     "metadata": {},
     "output_type": "execute_result"
    }
   ],
   "source": [
    "idx = dna[[c for c in cat['cat'] if c in dna.columns]].sum(axis = 1) == 6\n",
    "dna[idx].shape"
   ]
  },
  {
   "cell_type": "code",
   "execution_count": 153,
   "metadata": {
    "collapsed": false
   },
   "outputs": [
    {
     "data": {
      "text/plain": [
       "(37, 311)"
      ]
     },
     "execution_count": 153,
     "metadata": {},
     "output_type": "execute_result"
    }
   ],
   "source": [
    "idx = dna[[c for c in cat['cat'] if c in dna.columns]].sum(axis = 1) == 7\n",
    "dna[idx].shape"
   ]
  },
  {
   "cell_type": "code",
   "execution_count": 156,
   "metadata": {
    "collapsed": false
   },
   "outputs": [
    {
     "data": {
      "text/plain": [
       "1760       6.0\n",
       "1863       7.0\n",
       "7795      14.0\n",
       "18350      8.0\n",
       "19160      7.0\n",
       "19275     11.0\n",
       "29544      6.0\n",
       "29650      7.0\n",
       "35669     14.0\n",
       "46095      8.0\n",
       "46902      7.0\n",
       "47017     11.0\n",
       "57277      6.0\n",
       "57383      7.0\n",
       "63429     14.0\n",
       "73910      8.0\n",
       "74719      7.0\n",
       "74834     11.0\n",
       "85051      6.0\n",
       "85149      7.0\n",
       "90987     14.0\n",
       "101259     8.0\n",
       "102053     7.0\n",
       "102168    11.0\n",
       "112086     6.0\n",
       "112187     7.0\n",
       "117606    14.0\n",
       "128177     7.0\n",
       "128290    11.0\n",
       "137161     6.0\n",
       "137266     7.0\n",
       "140698    14.0\n",
       "147277     7.0\n",
       "147359    11.0\n",
       "152974     6.0\n",
       "153078     7.0\n",
       "155934    14.0\n",
       "Name: ca_tot_c, dtype: float64"
      ]
     },
     "execution_count": 156,
     "metadata": {},
     "output_type": "execute_result"
    }
   ],
   "source": [
    "dna[idx]['ca_tot_c']"
   ]
  },
  {
   "cell_type": "code",
   "execution_count": null,
   "metadata": {
    "collapsed": true
   },
   "outputs": [],
   "source": [
    "[1., 0., 2., 5., 3., 4., 6.]"
   ]
  },
  {
   "cell_type": "code",
   "execution_count": 203,
   "metadata": {
    "collapsed": false
   },
   "outputs": [
    {
     "name": "stdout",
     "output_type": "stream",
     "text": [
      "judgename\n",
      "judgecode\n",
      "judgevote\n",
      "judgeopinion\n"
     ]
    }
   ],
   "source": [
    "for c in data.columns:\n",
    "    if 'judge' in c:\n",
    "        print(c)\n",
    "#data[['judgename','judgecode']]"
   ]
  },
  {
   "cell_type": "code",
   "execution_count": 206,
   "metadata": {
    "collapsed": false
   },
   "outputs": [
    {
     "data": {
      "text/plain": [
       "(171346,)"
      ]
     },
     "execution_count": 206,
     "metadata": {},
     "output_type": "execute_result"
    }
   ],
   "source": [
    "data['judgeopinion'].dropna().shape"
   ]
  },
  {
   "cell_type": "code",
   "execution_count": 207,
   "metadata": {
    "collapsed": false
   },
   "outputs": [
    {
     "data": {
      "text/plain": [
       "(155275,)"
      ]
     },
     "execution_count": 207,
     "metadata": {},
     "output_type": "execute_result"
    }
   ],
   "source": [
    "data['judgename'].dropna().shape"
   ]
  },
  {
   "cell_type": "code",
   "execution_count": 208,
   "metadata": {
    "collapsed": false
   },
   "outputs": [
    {
     "data": {
      "text/plain": [
       "(171346,)"
      ]
     },
     "execution_count": 208,
     "metadata": {},
     "output_type": "execute_result"
    }
   ],
   "source": [
    "data['judgevote'].dropna().shape"
   ]
  },
  {
   "cell_type": "code",
   "execution_count": 209,
   "metadata": {
    "collapsed": false
   },
   "outputs": [
    {
     "data": {
      "text/plain": [
       "(171319,)"
      ]
     },
     "execution_count": 209,
     "metadata": {},
     "output_type": "execute_result"
    }
   ],
   "source": [
    "data['judgecode'].dropna().shape"
   ]
  },
  {
   "cell_type": "code",
   "execution_count": 210,
   "metadata": {
    "collapsed": false
   },
   "outputs": [
    {
     "data": {
      "text/plain": [
       "(342749, 341)"
      ]
     },
     "execution_count": 210,
     "metadata": {},
     "output_type": "execute_result"
    }
   ],
   "source": [
    "data.shape"
   ]
  },
  {
   "cell_type": "code",
   "execution_count": 228,
   "metadata": {
    "collapsed": false
   },
   "outputs": [
    {
     "data": {
      "text/plain": [
       "320"
      ]
     },
     "execution_count": 228,
     "metadata": {},
     "output_type": "execute_result"
    }
   ],
   "source": [
    "data['id_1'].nunique()"
   ]
  },
  {
   "cell_type": "code",
   "execution_count": 501,
   "metadata": {
    "collapsed": false
   },
   "outputs": [
    {
     "data": {
      "text/html": [
       "<div>\n",
       "<style scoped>\n",
       "    .dataframe tbody tr th:only-of-type {\n",
       "        vertical-align: middle;\n",
       "    }\n",
       "\n",
       "    .dataframe tbody tr th {\n",
       "        vertical-align: top;\n",
       "    }\n",
       "\n",
       "    .dataframe thead th {\n",
       "        text-align: right;\n",
       "    }\n",
       "</style>\n",
       "<table border=\"1\" class=\"dataframe\">\n",
       "  <thead>\n",
       "    <tr style=\"text-align: right;\">\n",
       "      <th></th>\n",
       "      <th>parole</th>\n",
       "      <th>masterid</th>\n",
       "    </tr>\n",
       "    <tr>\n",
       "      <th>parole</th>\n",
       "      <th></th>\n",
       "      <th></th>\n",
       "    </tr>\n",
       "  </thead>\n",
       "  <tbody>\n",
       "    <tr>\n",
       "      <th>0.0</th>\n",
       "      <td>1</td>\n",
       "      <td>27824</td>\n",
       "    </tr>\n",
       "    <tr>\n",
       "      <th>1.0</th>\n",
       "      <td>1</td>\n",
       "      <td>282</td>\n",
       "    </tr>\n",
       "    <tr>\n",
       "      <th>88.0</th>\n",
       "      <td>1</td>\n",
       "      <td>32</td>\n",
       "    </tr>\n",
       "  </tbody>\n",
       "</table>\n",
       "</div>"
      ],
      "text/plain": [
       "        parole  masterid\n",
       "parole                  \n",
       "0.0          1     27824\n",
       "1.0          1       282\n",
       "88.0         1        32"
      ]
     },
     "execution_count": 501,
     "metadata": {},
     "output_type": "execute_result"
    }
   ],
   "source": [
    "data[['parole', 'masterid']].groupby(['parole']).nunique()"
   ]
  },
  {
   "cell_type": "code",
   "execution_count": 328,
   "metadata": {
    "collapsed": false
   },
   "outputs": [],
   "source": [
    "judge_data = data[171346:342749]"
   ]
  },
  {
   "cell_type": "code",
   "execution_count": 331,
   "metadata": {
    "collapsed": false
   },
   "outputs": [
    {
     "data": {
      "text/html": [
       "<div>\n",
       "<style scoped>\n",
       "    .dataframe tbody tr th:only-of-type {\n",
       "        vertical-align: middle;\n",
       "    }\n",
       "\n",
       "    .dataframe tbody tr th {\n",
       "        vertical-align: top;\n",
       "    }\n",
       "\n",
       "    .dataframe thead th {\n",
       "        text-align: right;\n",
       "    }\n",
       "</style>\n",
       "<table border=\"1\" class=\"dataframe\">\n",
       "  <thead>\n",
       "    <tr style=\"text-align: right;\">\n",
       "      <th></th>\n",
       "      <th>opassign</th>\n",
       "      <th>disordr</th>\n",
       "      <th>votordr</th>\n",
       "      <th>belitid</th>\n",
       "      <th>bmassid</th>\n",
       "      <th>brthyr</th>\n",
       "      <th>race</th>\n",
       "      <th>gender</th>\n",
       "      <th>pajid</th>\n",
       "      <th>jpid</th>\n",
       "      <th>agedec</th>\n",
       "      <th>EWI</th>\n",
       "      <th>select</th>\n",
       "      <th>retentn</th>\n",
       "      <th>cj</th>\n",
       "    </tr>\n",
       "  </thead>\n",
       "  <tbody>\n",
       "    <tr>\n",
       "      <th>171346</th>\n",
       "      <td>6.0</td>\n",
       "      <td>3.0</td>\n",
       "      <td>10.0</td>\n",
       "      <td>35.325</td>\n",
       "      <td>33.43</td>\n",
       "      <td>1929.0</td>\n",
       "      <td>1.0</td>\n",
       "      <td>1.0</td>\n",
       "      <td>47.23</td>\n",
       "      <td>1.0</td>\n",
       "      <td>66.0</td>\n",
       "      <td>-1.454818</td>\n",
       "      <td>5.0</td>\n",
       "      <td>5.0</td>\n",
       "      <td>0.0</td>\n",
       "    </tr>\n",
       "    <tr>\n",
       "      <th>171347</th>\n",
       "      <td>6.0</td>\n",
       "      <td>3.0</td>\n",
       "      <td>10.0</td>\n",
       "      <td>35.325</td>\n",
       "      <td>33.43</td>\n",
       "      <td>1930.0</td>\n",
       "      <td>1.0</td>\n",
       "      <td>1.0</td>\n",
       "      <td>26.20</td>\n",
       "      <td>1.0</td>\n",
       "      <td>65.0</td>\n",
       "      <td>-1.454818</td>\n",
       "      <td>5.0</td>\n",
       "      <td>5.0</td>\n",
       "      <td>0.0</td>\n",
       "    </tr>\n",
       "    <tr>\n",
       "      <th>171348</th>\n",
       "      <td>6.0</td>\n",
       "      <td>3.0</td>\n",
       "      <td>10.0</td>\n",
       "      <td>35.325</td>\n",
       "      <td>33.43</td>\n",
       "      <td>1937.0</td>\n",
       "      <td>1.0</td>\n",
       "      <td>1.0</td>\n",
       "      <td>30.69</td>\n",
       "      <td>1.0</td>\n",
       "      <td>58.0</td>\n",
       "      <td>-1.454818</td>\n",
       "      <td>5.0</td>\n",
       "      <td>5.0</td>\n",
       "      <td>0.0</td>\n",
       "    </tr>\n",
       "    <tr>\n",
       "      <th>171349</th>\n",
       "      <td>6.0</td>\n",
       "      <td>3.0</td>\n",
       "      <td>10.0</td>\n",
       "      <td>35.325</td>\n",
       "      <td>33.43</td>\n",
       "      <td>1936.0</td>\n",
       "      <td>1.0</td>\n",
       "      <td>1.0</td>\n",
       "      <td>45.16</td>\n",
       "      <td>1.0</td>\n",
       "      <td>59.0</td>\n",
       "      <td>-1.454818</td>\n",
       "      <td>5.0</td>\n",
       "      <td>5.0</td>\n",
       "      <td>1.0</td>\n",
       "    </tr>\n",
       "    <tr>\n",
       "      <th>171353</th>\n",
       "      <td>6.0</td>\n",
       "      <td>3.0</td>\n",
       "      <td>10.0</td>\n",
       "      <td>35.325</td>\n",
       "      <td>33.43</td>\n",
       "      <td>1952.0</td>\n",
       "      <td>1.0</td>\n",
       "      <td>1.0</td>\n",
       "      <td>45.16</td>\n",
       "      <td>1.0</td>\n",
       "      <td>43.0</td>\n",
       "      <td>-1.454818</td>\n",
       "      <td>5.0</td>\n",
       "      <td>5.0</td>\n",
       "      <td>0.0</td>\n",
       "    </tr>\n",
       "  </tbody>\n",
       "</table>\n",
       "</div>"
      ],
      "text/plain": [
       "        opassign  disordr  votordr  belitid  bmassid  brthyr  race  gender  \\\n",
       "171346       6.0      3.0     10.0   35.325    33.43  1929.0   1.0     1.0   \n",
       "171347       6.0      3.0     10.0   35.325    33.43  1930.0   1.0     1.0   \n",
       "171348       6.0      3.0     10.0   35.325    33.43  1937.0   1.0     1.0   \n",
       "171349       6.0      3.0     10.0   35.325    33.43  1936.0   1.0     1.0   \n",
       "171353       6.0      3.0     10.0   35.325    33.43  1952.0   1.0     1.0   \n",
       "\n",
       "        pajid  jpid  agedec       EWI  select  retentn   cj  \n",
       "171346  47.23   1.0    66.0 -1.454818     5.0      5.0  0.0  \n",
       "171347  26.20   1.0    65.0 -1.454818     5.0      5.0  0.0  \n",
       "171348  30.69   1.0    58.0 -1.454818     5.0      5.0  0.0  \n",
       "171349  45.16   1.0    59.0 -1.454818     5.0      5.0  1.0  \n",
       "171353  45.16   1.0    43.0 -1.454818     5.0      5.0  0.0  "
      ]
     },
     "execution_count": 331,
     "metadata": {},
     "output_type": "execute_result"
    }
   ],
   "source": [
    "judge_data.dropna(how = 'all', axis = 1).drop_duplicates().head()"
   ]
  },
  {
   "cell_type": "code",
   "execution_count": 384,
   "metadata": {
    "collapsed": true
   },
   "outputs": [],
   "source": [
    "judge_data = judge_data.dropna(how = 'all', axis = 1).reset_index(drop=True)"
   ]
  },
  {
   "cell_type": "code",
   "execution_count": 329,
   "metadata": {
    "collapsed": true
   },
   "outputs": [],
   "source": [
    "case_data = data[0:171346]"
   ]
  },
  {
   "cell_type": "code",
   "execution_count": 385,
   "metadata": {
    "collapsed": false
   },
   "outputs": [],
   "source": [
    "case_data = case_data.dropna(how = 'all', axis = 1).reset_index(drop=True) #.drop_duplicates().head()"
   ]
  },
  {
   "cell_type": "code",
   "execution_count": 428,
   "metadata": {
    "collapsed": false
   },
   "outputs": [
    {
     "data": {
      "text/plain": [
       "((171403, 15), (171346, 326))"
      ]
     },
     "execution_count": 428,
     "metadata": {},
     "output_type": "execute_result"
    }
   ],
   "source": [
    "judge_data.shape, case_data.shape"
   ]
  },
  {
   "cell_type": "code",
   "execution_count": 430,
   "metadata": {
    "collapsed": false
   },
   "outputs": [],
   "source": [
    "# case_data.iloc[-50:-25]['judgename']"
   ]
  },
  {
   "cell_type": "code",
   "execution_count": 426,
   "metadata": {
    "collapsed": false
   },
   "outputs": [
    {
     "data": {
      "text/plain": [
       "array([ 6.,  9., 10.,  3.,  7.,  8.,  2.,  4.,  5.,  1.])"
      ]
     },
     "execution_count": 426,
     "metadata": {},
     "output_type": "execute_result"
    }
   ],
   "source": [
    "judge_data['opassign'].unique()"
   ]
  },
  {
   "cell_type": "code",
   "execution_count": 427,
   "metadata": {
    "collapsed": false
   },
   "outputs": [
    {
     "data": {
      "text/plain": [
       "(171403, 15)"
      ]
     },
     "execution_count": 427,
     "metadata": {},
     "output_type": "execute_result"
    }
   ],
   "source": [
    "judge_data.shape"
   ]
  },
  {
   "cell_type": "code",
   "execution_count": 433,
   "metadata": {
    "collapsed": false
   },
   "outputs": [
    {
     "data": {
      "text/plain": [
       "0"
      ]
     },
     "execution_count": 433,
     "metadata": {},
     "output_type": "execute_result"
    }
   ],
   "source": [
    "case_data['id_1'].isnull().sum()"
   ]
  },
  {
   "cell_type": "code",
   "execution_count": 476,
   "metadata": {
    "collapsed": false
   },
   "outputs": [
    {
     "data": {
      "text/plain": [
       "(16016, 326)"
      ]
     },
     "execution_count": 476,
     "metadata": {},
     "output_type": "execute_result"
    }
   ],
   "source": [
    "case_data[case_data['_jposition']==6].shape"
   ]
  },
  {
   "cell_type": "markdown",
   "metadata": {},
   "source": [
    "Cases in Alabama."
   ]
  },
  {
   "cell_type": "code",
   "execution_count": 488,
   "metadata": {
    "collapsed": false
   },
   "outputs": [],
   "source": [
    "alabama = case_data[case_data['state_2'] == 1.0]"
   ]
  },
  {
   "cell_type": "code",
   "execution_count": 489,
   "metadata": {
    "collapsed": true
   },
   "outputs": [],
   "source": [
    "alabama = alabama[alabama['_jposition']==1]"
   ]
  },
  {
   "cell_type": "code",
   "execution_count": 490,
   "metadata": {
    "collapsed": false
   },
   "outputs": [
    {
     "data": {
      "text/plain": [
       "(797, 326)"
      ]
     },
     "execution_count": 490,
     "metadata": {},
     "output_type": "execute_result"
    }
   ],
   "source": [
    "alabama.shape"
   ]
  },
  {
   "cell_type": "code",
   "execution_count": 492,
   "metadata": {
    "collapsed": false
   },
   "outputs": [],
   "source": [
    "alabama = alabama[alabama['genissue']==1]"
   ]
  },
  {
   "cell_type": "code",
   "execution_count": 494,
   "metadata": {
    "collapsed": false
   },
   "outputs": [
    {
     "data": {
      "text/plain": [
       "(98, 326)"
      ]
     },
     "execution_count": 494,
     "metadata": {},
     "output_type": "execute_result"
    }
   ],
   "source": [
    "alabama.shape"
   ]
  },
  {
   "cell_type": "code",
   "execution_count": 499,
   "metadata": {
    "collapsed": false
   },
   "outputs": [
    {
     "data": {
      "text/html": [
       "<div>\n",
       "<style scoped>\n",
       "    .dataframe tbody tr th:only-of-type {\n",
       "        vertical-align: middle;\n",
       "    }\n",
       "\n",
       "    .dataframe tbody tr th {\n",
       "        vertical-align: top;\n",
       "    }\n",
       "\n",
       "    .dataframe thead th {\n",
       "        text-align: right;\n",
       "    }\n",
       "</style>\n",
       "<table border=\"1\" class=\"dataframe\">\n",
       "  <thead>\n",
       "    <tr style=\"text-align: right;\">\n",
       "      <th></th>\n",
       "      <th>masterid</th>\n",
       "      <th>id_1</th>\n",
       "      <th>coder</th>\n",
       "      <th>coderid</th>\n",
       "      <th>casen_1</th>\n",
       "      <th>juris</th>\n",
       "      <th>first_ct</th>\n",
       "      <th>agency</th>\n",
       "      <th>agency_r</th>\n",
       "      <th>arbitrat</th>\n",
       "      <th>...</th>\n",
       "      <th>ms_stcdc</th>\n",
       "      <th>enbanc</th>\n",
       "      <th>judgename</th>\n",
       "      <th>judgecode</th>\n",
       "      <th>judgevote</th>\n",
       "      <th>judgeopinion</th>\n",
       "      <th>_jposition</th>\n",
       "      <th>_jadhoc</th>\n",
       "      <th>adhoctype</th>\n",
       "      <th>adhoctext</th>\n",
       "    </tr>\n",
       "  </thead>\n",
       "  <tbody>\n",
       "    <tr>\n",
       "      <th>4</th>\n",
       "      <td>95.010048</td>\n",
       "      <td>106.0</td>\n",
       "      <td>TEB</td>\n",
       "      <td>1130.0</td>\n",
       "      <td>5.0</td>\n",
       "      <td>2.0</td>\n",
       "      <td>2.0</td>\n",
       "      <td>0.0</td>\n",
       "      <td>88.0</td>\n",
       "      <td>0.0</td>\n",
       "      <td>...</td>\n",
       "      <td>NaN</td>\n",
       "      <td>0.0</td>\n",
       "      <td>109.0</td>\n",
       "      <td>109.0</td>\n",
       "      <td>1.0</td>\n",
       "      <td>1.0</td>\n",
       "      <td>1.0</td>\n",
       "      <td>0.0</td>\n",
       "      <td>NaN</td>\n",
       "      <td>NaN</td>\n",
       "    </tr>\n",
       "    <tr>\n",
       "      <th>189</th>\n",
       "      <td>95.011902</td>\n",
       "      <td>291.0</td>\n",
       "      <td>TEB</td>\n",
       "      <td>1130.0</td>\n",
       "      <td>154.0</td>\n",
       "      <td>2.0</td>\n",
       "      <td>2.0</td>\n",
       "      <td>0.0</td>\n",
       "      <td>88.0</td>\n",
       "      <td>0.0</td>\n",
       "      <td>...</td>\n",
       "      <td>NaN</td>\n",
       "      <td>0.0</td>\n",
       "      <td>106.0</td>\n",
       "      <td>106.0</td>\n",
       "      <td>1.0</td>\n",
       "      <td>1.0</td>\n",
       "      <td>1.0</td>\n",
       "      <td>0.0</td>\n",
       "      <td>NaN</td>\n",
       "      <td>NaN</td>\n",
       "    </tr>\n",
       "  </tbody>\n",
       "</table>\n",
       "<p>2 rows × 326 columns</p>\n",
       "</div>"
      ],
      "text/plain": [
       "      masterid   id_1 coder  coderid  casen_1  juris  first_ct  agency  \\\n",
       "4    95.010048  106.0   TEB   1130.0      5.0    2.0       2.0     0.0   \n",
       "189  95.011902  291.0   TEB   1130.0    154.0    2.0       2.0     0.0   \n",
       "\n",
       "     agency_r  arbitrat    ...      ms_stcdc  enbanc  judgename  judgecode  \\\n",
       "4        88.0       0.0    ...           NaN     0.0      109.0      109.0   \n",
       "189      88.0       0.0    ...           NaN     0.0      106.0      106.0   \n",
       "\n",
       "     judgevote judgeopinion _jposition  _jadhoc  adhoctype  adhoctext  \n",
       "4          1.0          1.0        1.0      0.0        NaN        NaN  \n",
       "189        1.0          1.0        1.0      0.0        NaN        NaN  \n",
       "\n",
       "[2 rows x 326 columns]"
      ]
     },
     "execution_count": 499,
     "metadata": {},
     "output_type": "execute_result"
    }
   ],
   "source": [
    "alabama[alabama['parole']==1]"
   ]
  },
  {
   "cell_type": "code",
   "execution_count": 470,
   "metadata": {
    "collapsed": false
   },
   "outputs": [
    {
     "data": {
      "text/plain": [
       "28142"
      ]
     },
     "execution_count": 470,
     "metadata": {},
     "output_type": "execute_result"
    }
   ],
   "source": [
    "case_data['masterid'].nunique()"
   ]
  },
  {
   "cell_type": "code",
   "execution_count": 502,
   "metadata": {
    "collapsed": false
   },
   "outputs": [
    {
     "data": {
      "text/plain": [
       "(171403, 15)"
      ]
     },
     "execution_count": 502,
     "metadata": {},
     "output_type": "execute_result"
    }
   ],
   "source": [
    "judge_data.shape"
   ]
  },
  {
   "cell_type": "code",
   "execution_count": 487,
   "metadata": {
    "collapsed": false
   },
   "outputs": [
    {
     "data": {
      "text/plain": [
       "43409     9\n",
       "124824    9\n",
       "124831    9\n",
       "124836    9\n",
       "124842    9\n",
       "168677    9\n",
       "168678    9\n",
       "168679    9\n",
       "168680    9\n",
       "168681    9\n",
       "168682    9\n",
       "168683    9\n",
       "168684    9\n",
       "168685    9\n",
       "168686    9\n",
       "168687    9\n",
       "168688    9\n",
       "168689    9\n",
       "168690    9\n",
       "168691    9\n",
       "168692    9\n",
       "168693    9\n",
       "168694    9\n",
       "168695    9\n",
       "168697    9\n",
       "168698    9\n",
       "168699    9\n",
       "168700    9\n",
       "169810    9\n",
       "169811    9\n",
       "         ..\n",
       "169813    9\n",
       "169814    9\n",
       "169815    9\n",
       "169816    9\n",
       "169817    9\n",
       "169818    9\n",
       "169819    9\n",
       "169820    9\n",
       "169821    9\n",
       "169822    9\n",
       "169823    9\n",
       "169824    9\n",
       "169825    9\n",
       "170291    9\n",
       "170292    9\n",
       "170293    9\n",
       "170294    9\n",
       "170295    9\n",
       "170708    9\n",
       "170709    9\n",
       "170710    9\n",
       "170711    9\n",
       "171025    9\n",
       "171026    9\n",
       "171027    9\n",
       "171028    9\n",
       "171029    9\n",
       "171031    9\n",
       "171187    9\n",
       "171362    9\n",
       "Length: 61, dtype: int64"
      ]
     },
     "execution_count": 487,
     "metadata": {},
     "output_type": "execute_result"
    }
   ],
   "source": [
    "judge_data.isnull().sum(axis = 1)[judge_data.isnull().sum(axis = 1) > 8]"
   ]
  }
 ],
 "metadata": {
  "anaconda-cloud": {},
  "celltoolbar": "Raw Cell Format",
  "kernelspec": {
   "display_name": "Python [default]",
   "language": "python",
   "name": "python3"
  },
  "language_info": {
   "codemirror_mode": {
    "name": "ipython",
    "version": 3
   },
   "file_extension": ".py",
   "mimetype": "text/x-python",
   "name": "python",
   "nbconvert_exporter": "python",
   "pygments_lexer": "ipython3",
   "version": "3.5.2"
  }
 },
 "nbformat": 4,
 "nbformat_minor": 1
}
