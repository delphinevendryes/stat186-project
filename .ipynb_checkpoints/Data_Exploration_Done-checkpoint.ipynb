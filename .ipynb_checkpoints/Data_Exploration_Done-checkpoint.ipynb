{
 "cells": [
  {
   "cell_type": "markdown",
   "metadata": {},
   "source": [
    "# STAT186: Project data exploration"
   ]
  },
  {
   "cell_type": "code",
   "execution_count": 161,
   "metadata": {
    "collapsed": true
   },
   "outputs": [],
   "source": [
    "import sys\n",
    "import os\n",
    "import pandas as pd\n",
    "import numpy as np"
   ]
  },
  {
   "cell_type": "code",
   "execution_count": 162,
   "metadata": {
    "collapsed": false
   },
   "outputs": [
    {
     "data": {
      "text/plain": [
       "['.Caetano_Maheshri_QE2017.pdf.icloud',\n",
       " '.DS_Store',\n",
       " '6889.full.pdf',\n",
       " 'code',\n",
       " 'crime_cat.csv',\n",
       " 'E833.full.pdf',\n",
       " 'GreenSpry2014.pdf',\n",
       " 'Revised Codebook 8-05.pdf',\n",
       " 'stat186-judgedata.csv',\n",
       " 'stat186-projdata.csv']"
      ]
     },
     "execution_count": 162,
     "metadata": {},
     "output_type": "execute_result"
    }
   ],
   "source": [
    "os.listdir('..')"
   ]
  },
  {
   "cell_type": "code",
   "execution_count": 163,
   "metadata": {
    "collapsed": false
   },
   "outputs": [],
   "source": [
    "data = pd.read_csv('../stat186-projdata.csv', index_col = 0, low_memory=False)"
   ]
  },
  {
   "cell_type": "code",
   "execution_count": 67,
   "metadata": {
    "collapsed": false
   },
   "outputs": [
    {
     "data": {
      "text/plain": [
       "(342749, 341)"
      ]
     },
     "execution_count": 67,
     "metadata": {},
     "output_type": "execute_result"
    }
   ],
   "source": [
    "data.shape"
   ]
  },
  {
   "cell_type": "code",
   "execution_count": 70,
   "metadata": {
    "collapsed": false
   },
   "outputs": [
    {
     "data": {
      "text/html": [
       "<div>\n",
       "<style>\n",
       "    .dataframe thead tr:only-child th {\n",
       "        text-align: right;\n",
       "    }\n",
       "\n",
       "    .dataframe thead th {\n",
       "        text-align: left;\n",
       "    }\n",
       "\n",
       "    .dataframe tbody tr th {\n",
       "        vertical-align: top;\n",
       "    }\n",
       "</style>\n",
       "<table border=\"1\" class=\"dataframe\">\n",
       "  <thead>\n",
       "    <tr style=\"text-align: right;\">\n",
       "      <th></th>\n",
       "      <th>masterid</th>\n",
       "      <th>id_1</th>\n",
       "      <th>coder</th>\n",
       "      <th>coderid</th>\n",
       "      <th>casen_1</th>\n",
       "      <th>juris</th>\n",
       "      <th>first_ct</th>\n",
       "      <th>agency</th>\n",
       "      <th>agency_r</th>\n",
       "      <th>arbitrat</th>\n",
       "      <th>dec1_yr</th>\n",
       "      <th>dec1_mo</th>\n",
       "      <th>dec1_day</th>\n",
       "      <th>rev_ct</th>\n",
       "      <th>crossapp</th>\n",
       "      <th>title_p1</th>\n",
       "      <th>title_p2</th>\n",
       "      <th>type_p1</th>\n",
       "      <th>type_p2</th>\n",
       "      <th>o_plain</th>\n",
       "      <th>o_defend</th>\n",
       "      <th>state_2</th>\n",
       "      <th>docket</th>\n",
       "      <th>docket_n</th>\n",
       "      <th>reporter</th>\n",
       "      <th>rep_vol</th>\n",
       "      <th>rep_page</th>\n",
       "      <th>decs_yr</th>\n",
       "      <th>decs_mo</th>\n",
       "      <th>decs_day</th>\n",
       "      <th>classact</th>\n",
       "      <th>amicus</th>\n",
       "      <th>multi_p</th>\n",
       "      <th>multi_r</th>\n",
       "      <th>p1_persn</th>\n",
       "      <th>p1_busi</th>\n",
       "      <th>p1_org</th>\n",
       "      <th>p1_lgov</th>\n",
       "      <th>p1_sgov</th>\n",
       "      <th>p1_edu</th>\n",
       "      <th>p1_other</th>\n",
       "      <th>p1_otext</th>\n",
       "      <th>p2_persn</th>\n",
       "      <th>p2_busi</th>\n",
       "      <th>p2_org</th>\n",
       "      <th>p2_lgov</th>\n",
       "      <th>p2_sgov</th>\n",
       "      <th>p2_edu</th>\n",
       "      <th>p2_other</th>\n",
       "      <th>p2_otext</th>\n",
       "      <th>r1_persn</th>\n",
       "      <th>r1_busi</th>\n",
       "      <th>r1_org</th>\n",
       "      <th>r1_lgov</th>\n",
       "      <th>r1_sgov</th>\n",
       "      <th>r1_edu</th>\n",
       "      <th>r1_other</th>\n",
       "      <th>r1_otext</th>\n",
       "      <th>r2_persn</th>\n",
       "      <th>r2_busi</th>\n",
       "      <th>r2_org</th>\n",
       "      <th>r2_lgov</th>\n",
       "      <th>r2_sgov</th>\n",
       "      <th>r2_edu</th>\n",
       "      <th>r2_other</th>\n",
       "      <th>r2_otext</th>\n",
       "      <th>pubdef</th>\n",
       "      <th>genissue</th>\n",
       "      <th>ca_conf</th>\n",
       "      <th>assaulta</th>\n",
       "      <th>assaulto</th>\n",
       "      <th>arson</th>\n",
       "      <th>burglary</th>\n",
       "      <th>disorder</th>\n",
       "      <th>dui</th>\n",
       "      <th>drugabus</th>\n",
       "      <th>drugsell</th>\n",
       "      <th>drunk</th>\n",
       "      <th>embezzle</th>\n",
       "      <th>forge</th>\n",
       "      <th>fraud</th>\n",
       "      <th>gamble</th>\n",
       "      <th>kidnap</th>\n",
       "      <th>theft</th>\n",
       "      <th>liquor</th>\n",
       "      <th>mans_neg</th>\n",
       "      <th>mans_non</th>\n",
       "      <th>autothft</th>\n",
       "      <th>murder</th>\n",
       "      <th>fam_kids</th>\n",
       "      <th>prostitu</th>\n",
       "      <th>rape</th>\n",
       "      <th>robbery</th>\n",
       "      <th>sex_gen</th>\n",
       "      <th>stolen</th>\n",
       "      <th>traffic</th>\n",
       "      <th>vagrancy</th>\n",
       "      <th>vandal</th>\n",
       "      <th>weapons</th>\n",
       "      <th>con_oth</th>\n",
       "      <th>con_conf</th>\n",
       "      <th>death_c</th>\n",
       "      <th>death_im</th>\n",
       "      <th>ca_tot_c</th>\n",
       "      <th>bail</th>\n",
       "      <th>parole</th>\n",
       "      <th>ca_atty</th>\n",
       "      <th>ca_cruel</th>\n",
       "      <th>ca_disc</th>\n",
       "      <th>ca_doubj</th>\n",
       "      <th>ca_entra</th>\n",
       "      <th>ca_ev_m</th>\n",
       "      <th>ca_ev_w</th>\n",
       "      <th>ca_gjury</th>\n",
       "      <th>ca_insan</th>\n",
       "      <th>ca_jr_in</th>\n",
       "      <th>ca_jr_sl</th>\n",
       "      <th>ca_plea</th>\n",
       "      <th>ca_prej</th>\n",
       "      <th>ca_race</th>\n",
       "      <th>ca_recus</th>\n",
       "      <th>ca_serch</th>\n",
       "      <th>ca_self</th>\n",
       "      <th>ca_sent</th>\n",
       "      <th>ca_sevr</th>\n",
       "      <th>ca_speed</th>\n",
       "      <th>ca_suff</th>\n",
       "      <th>ca_trial</th>\n",
       "      <th>ca_venue</th>\n",
       "      <th>ca_othis</th>\n",
       "      <th>ca_tot_i</th>\n",
       "      <th>ca_lconf</th>\n",
       "      <th>cp_conf</th>\n",
       "      <th>gen_dom</th>\n",
       "      <th>adopt</th>\n",
       "      <th>civilcom</th>\n",
       "      <th>divorce</th>\n",
       "      <th>childsup</th>\n",
       "      <th>domvioln</th>\n",
       "      <th>invlster</th>\n",
       "      <th>paternty</th>\n",
       "      <th>dom_oth</th>\n",
       "      <th>gen_est</th>\n",
       "      <th>will</th>\n",
       "      <th>trustee</th>\n",
       "      <th>est_oth</th>\n",
       "      <th>gen_cont</th>\n",
       "      <th>cp_enfor</th>\n",
       "      <th>relation</th>\n",
       "      <th>insure</th>\n",
       "      <th>tenant</th>\n",
       "      <th>ownershp</th>\n",
       "      <th>cont_oth</th>\n",
       "      <th>gen_ptor</th>\n",
       "      <th>malprc_m</th>\n",
       "      <th>malprc_p</th>\n",
       "      <th>automobl</th>\n",
       "      <th>products</th>\n",
       "      <th>toxic</th>\n",
       "      <th>cp_prem</th>\n",
       "      <th>cp_libel</th>\n",
       "      <th>cp_workr</th>\n",
       "      <th>cp_disc</th>\n",
       "      <th>cp_oth_l</th>\n",
       "      <th>ptor_oth</th>\n",
       "      <th>cp_i_cnf</th>\n",
       "      <th>cg_conf</th>\n",
       "      <th>gen_elec</th>\n",
       "      <th>redist</th>\n",
       "      <th>elect</th>\n",
       "      <th>ballot</th>\n",
       "      <th>campaign</th>\n",
       "      <th>elec_oth</th>\n",
       "      <th>gen_frst</th>\n",
       "      <th>aid2paro</th>\n",
       "      <th>religion</th>\n",
       "      <th>cg_libel</th>\n",
       "      <th>oath</th>\n",
       "      <th>protest</th>\n",
       "      <th>obscene</th>\n",
       "      <th>comspch</th>\n",
       "      <th>frst_oth</th>\n",
       "      <th>gen_greg</th>\n",
       "      <th>taxes</th>\n",
       "      <th>zoning</th>\n",
       "      <th>utility</th>\n",
       "      <th>emdomain</th>\n",
       "      <th>license</th>\n",
       "      <th>welfare</th>\n",
       "      <th>transpt</th>\n",
       "      <th>consumer</th>\n",
       "      <th>environm</th>\n",
       "      <th>greg_oth</th>\n",
       "      <th>gen_law</th>\n",
       "      <th>baradmit</th>\n",
       "      <th>disp_jud</th>\n",
       "      <th>rules</th>\n",
       "      <th>disp_att</th>\n",
       "      <th>law_oth</th>\n",
       "      <th>gen_pubc</th>\n",
       "      <th>affirmac</th>\n",
       "      <th>cg_enfor</th>\n",
       "      <th>cg_disc</th>\n",
       "      <th>pubc_oth</th>\n",
       "      <th>gen_priv</th>\n",
       "      <th>steriliz</th>\n",
       "      <th>foia</th>\n",
       "      <th>abortion</th>\n",
       "      <th>dieright</th>\n",
       "      <th>drugtest</th>\n",
       "      <th>gayright</th>\n",
       "      <th>priv_oth</th>\n",
       "      <th>gen_gtor</th>\n",
       "      <th>cg_prem</th>\n",
       "      <th>cg_workr</th>\n",
       "      <th>gtor_oth</th>\n",
       "      <th>cg_i_cnf</th>\n",
       "      <th>cv_abuse</th>\n",
       "      <th>cv_arbit</th>\n",
       "      <th>cv_erro</th>\n",
       "      <th>cv_atty</th>\n",
       "      <th>cv_disc</th>\n",
       "      <th>cv_dscm</th>\n",
       "      <th>cv_ev_m</th>\n",
       "      <th>cv_ev_w</th>\n",
       "      <th>cv_claim</th>\n",
       "      <th>cv_immun</th>\n",
       "      <th>cv_jr_in</th>\n",
       "      <th>cv_jr_sl</th>\n",
       "      <th>cv_moot</th>\n",
       "      <th>cv_ripe</th>\n",
       "      <th>cv_recus</th>\n",
       "      <th>cv_stand</th>\n",
       "      <th>cv_suff</th>\n",
       "      <th>cv_sumju</th>\n",
       "      <th>cv_injun</th>\n",
       "      <th>cv_venue</th>\n",
       "      <th>cv_othis</th>\n",
       "      <th>cv_ot_i</th>\n",
       "      <th>cv_lconf</th>\n",
       "      <th>ca_majfm</th>\n",
       "      <th>ca_opnfm</th>\n",
       "      <th>ca_usc</th>\n",
       "      <th>ca_uscty</th>\n",
       "      <th>ca_uscdc</th>\n",
       "      <th>ca_stc</th>\n",
       "      <th>ca_stcty</th>\n",
       "      <th>ca_stdc</th>\n",
       "      <th>ca_disp</th>\n",
       "      <th>ca_winp</th>\n",
       "      <th>ca_conv</th>\n",
       "      <th>ca_sento</th>\n",
       "      <th>ca_capo</th>\n",
       "      <th>cp_majfm</th>\n",
       "      <th>cp_opnfm</th>\n",
       "      <th>cp_usc</th>\n",
       "      <th>cp_uscty</th>\n",
       "      <th>cp_uscdc</th>\n",
       "      <th>cp_stc</th>\n",
       "      <th>cp_stcty</th>\n",
       "      <th>cp_stcdc</th>\n",
       "      <th>cp_disp</th>\n",
       "      <th>cp_winp</th>\n",
       "      <th>cp_verdo</th>\n",
       "      <th>cp_awrdo</th>\n",
       "      <th>cp_injo</th>\n",
       "      <th>cg_majfm</th>\n",
       "      <th>cg_opnfm</th>\n",
       "      <th>cg_usc</th>\n",
       "      <th>cg_verdo</th>\n",
       "      <th>cg_awrdo</th>\n",
       "      <th>cg_injo</th>\n",
       "      <th>cg_uscty</th>\n",
       "      <th>cg_uscdc</th>\n",
       "      <th>cg_stc</th>\n",
       "      <th>cg_stcty</th>\n",
       "      <th>cg_stcdc</th>\n",
       "      <th>cg_disp</th>\n",
       "      <th>cg_winp</th>\n",
       "      <th>jv_conf</th>\n",
       "      <th>gen_del</th>\n",
       "      <th>del_viol</th>\n",
       "      <th>del_prop</th>\n",
       "      <th>del_drug</th>\n",
       "      <th>del_ord</th>\n",
       "      <th>del_oth</th>\n",
       "      <th>truant</th>\n",
       "      <th>curfew</th>\n",
       "      <th>runaway</th>\n",
       "      <th>gangrel</th>\n",
       "      <th>jv_oth</th>\n",
       "      <th>jv_majfm</th>\n",
       "      <th>jv_opnfm</th>\n",
       "      <th>jv_disp</th>\n",
       "      <th>jv_winp</th>\n",
       "      <th>jv_delo</th>\n",
       "      <th>jv_probo</th>\n",
       "      <th>jv_usc</th>\n",
       "      <th>jv_uscty</th>\n",
       "      <th>jv_uscdc</th>\n",
       "      <th>jv_stc</th>\n",
       "      <th>jv_stcty</th>\n",
       "      <th>jv_stcdc</th>\n",
       "      <th>ms_conf</th>\n",
       "      <th>certific</th>\n",
       "      <th>cert_ct</th>\n",
       "      <th>advisory</th>\n",
       "      <th>non_bar</th>\n",
       "      <th>non_oth</th>\n",
       "      <th>ms_majfm</th>\n",
       "      <th>ms_opnfm</th>\n",
       "      <th>ms_usc</th>\n",
       "      <th>ms_uscty</th>\n",
       "      <th>ms_uscdc</th>\n",
       "      <th>ms_stc</th>\n",
       "      <th>ms_stcty</th>\n",
       "      <th>ms_stcdc</th>\n",
       "      <th>enbanc</th>\n",
       "      <th>judgename</th>\n",
       "      <th>judgecode</th>\n",
       "      <th>judgevote</th>\n",
       "      <th>judgeopinion</th>\n",
       "      <th>_jposition</th>\n",
       "      <th>_jadhoc</th>\n",
       "      <th>adhoctype</th>\n",
       "      <th>adhoctext</th>\n",
       "      <th>opassign</th>\n",
       "      <th>disordr</th>\n",
       "      <th>votordr</th>\n",
       "      <th>belitid</th>\n",
       "      <th>bmassid</th>\n",
       "      <th>brthyr</th>\n",
       "      <th>race</th>\n",
       "      <th>gender</th>\n",
       "      <th>pajid</th>\n",
       "      <th>jpid</th>\n",
       "      <th>agedec</th>\n",
       "      <th>EWI</th>\n",
       "      <th>select</th>\n",
       "      <th>retentn</th>\n",
       "      <th>cj</th>\n",
       "    </tr>\n",
       "  </thead>\n",
       "  <tbody>\n",
       "  </tbody>\n",
       "</table>\n",
       "</div>"
      ],
      "text/plain": [
       "Empty DataFrame\n",
       "Columns: [masterid, id_1, coder, coderid, casen_1, juris, first_ct, agency, agency_r, arbitrat, dec1_yr, dec1_mo, dec1_day, rev_ct, crossapp, title_p1, title_p2, type_p1, type_p2, o_plain, o_defend, state_2, docket, docket_n, reporter, rep_vol, rep_page, decs_yr, decs_mo, decs_day, classact, amicus, multi_p, multi_r, p1_persn, p1_busi, p1_org, p1_lgov, p1_sgov, p1_edu, p1_other, p1_otext, p2_persn, p2_busi, p2_org, p2_lgov, p2_sgov, p2_edu, p2_other, p2_otext, r1_persn, r1_busi, r1_org, r1_lgov, r1_sgov, r1_edu, r1_other, r1_otext, r2_persn, r2_busi, r2_org, r2_lgov, r2_sgov, r2_edu, r2_other, r2_otext, pubdef, genissue, ca_conf, assaulta, assaulto, arson, burglary, disorder, dui, drugabus, drugsell, drunk, embezzle, forge, fraud, gamble, kidnap, theft, liquor, mans_neg, mans_non, autothft, murder, fam_kids, prostitu, rape, robbery, sex_gen, stolen, traffic, vagrancy, vandal, weapons, con_oth, ...]\n",
       "Index: []"
      ]
     },
     "execution_count": 70,
     "metadata": {},
     "output_type": "execute_result"
    }
   ],
   "source": [
    "data.head(0)"
   ]
  },
  {
   "cell_type": "markdown",
   "metadata": {},
   "source": [
    "I think the first few columns only give info about who encoded the data."
   ]
  },
  {
   "cell_type": "markdown",
   "metadata": {},
   "source": [
    "## Missing values"
   ]
  },
  {
   "cell_type": "code",
   "execution_count": 44,
   "metadata": {
    "collapsed": false
   },
   "outputs": [
    {
     "data": {
      "text/plain": [
       "masterid        171403\n",
       "id_1            171403\n",
       "coder           171403\n",
       "coderid         171403\n",
       "casen_1         171424\n",
       "juris           171429\n",
       "first_ct        171427\n",
       "agency          171427\n",
       "agency_r        173489\n",
       "arbitrat        172424\n",
       "dec1_yr         171429\n",
       "dec1_mo         171429\n",
       "dec1_day        171429\n",
       "rev_ct          171429\n",
       "crossapp        171408\n",
       "title_p1        171411\n",
       "title_p2        171637\n",
       "type_p1         171741\n",
       "type_p2         172052\n",
       "o_plain         171460\n",
       "o_defend        177448\n",
       "state_2         171403\n",
       "docket          175829\n",
       "docket_n        172433\n",
       "reporter        171411\n",
       "rep_vol         171403\n",
       "rep_page        171410\n",
       "decs_yr         171403\n",
       "decs_mo         171424\n",
       "decs_day        171432\n",
       "                 ...  \n",
       "ms_usc          340085\n",
       "ms_uscty        340085\n",
       "ms_uscdc        340085\n",
       "ms_stc          340085\n",
       "ms_stcty        340085\n",
       "ms_stcdc        340085\n",
       "enbanc          171450\n",
       "judgename       187474\n",
       "judgecode       171430\n",
       "judgevote       171403\n",
       "judgeopinion    171403\n",
       "_jposition      174197\n",
       "_jadhoc         171403\n",
       "adhoctype       339955\n",
       "adhoctext       339959\n",
       "opassign        171346\n",
       "disordr         171346\n",
       "votordr         171346\n",
       "belitid         171346\n",
       "bmassid         171346\n",
       "brthyr          176130\n",
       "race            175038\n",
       "gender          174216\n",
       "pajid           177583\n",
       "jpid            197069\n",
       "agedec          176130\n",
       "EWI             178162\n",
       "select          171346\n",
       "retentn         182359\n",
       "cj              174216\n",
       "Length: 341, dtype: int64"
      ]
     },
     "execution_count": 44,
     "metadata": {},
     "output_type": "execute_result"
    }
   ],
   "source": [
    "data.isnull().sum(axis = 0)"
   ]
  },
  {
   "cell_type": "code",
   "execution_count": 45,
   "metadata": {
    "collapsed": true
   },
   "outputs": [],
   "source": [
    "data.dropna(axis=0, how='any', thresh=None, subset=['masterid'], inplace=True)"
   ]
  },
  {
   "cell_type": "code",
   "execution_count": 46,
   "metadata": {
    "collapsed": false
   },
   "outputs": [
    {
     "data": {
      "text/plain": [
       "(171346, 341)"
      ]
     },
     "execution_count": 46,
     "metadata": {},
     "output_type": "execute_result"
    }
   ],
   "source": [
    "data.shape"
   ]
  },
  {
   "cell_type": "markdown",
   "metadata": {},
   "source": [
    "Information about petitioners and respondents.\n"
   ]
  },
  {
   "cell_type": "markdown",
   "metadata": {},
   "source": [
    "# Feature description"
   ]
  },
  {
   "cell_type": "markdown",
   "metadata": {
    "collapsed": true
   },
   "source": [
    "masterid<br>\n",
    "id_1<br>\n",
    "coder<br>\n",
    "coderid<br>\n",
    "casen_1<br>\n",
    "juris: manner in which state supreme court takes jurisdiction<br>\n",
    "first_ct: court that heard this case for the first time<br>\n",
    "agency: Agency Action prior to litigation (binary)<br>\n",
    "agency_r: If yes to agency, did the SSC reverse the final agency action? (binary)<br>\n",
    "arbitrat: Did this case involve arbitration or mediation? (binary)<br>\n",
    "dec1_yr, dec1_mo, dec1_day: What was the year/month/day of the first court decision in this case?<br>\n",
    "rev_ct: Court being reviewed by the state supreme court<br>\n",
    "crossapp: Are both Litigants classified as appellants? (binary)\n",
    "title_p1: Case title first party listed (note: this corresponds to the first line on the template)<br>\n",
    "title_p2: Case title second party listed<br>\n",
    "type_p1: Is the first party listed in the title the petitioner or respondent?<br>\n",
    "type_p2: Is the second party listed in the title the petitioner or respondent?<br>\n",
    "o_plain: Which party was the original plaintiff (Petitioner / Respondent / Other)<br>\n",
    "o_defend: Which party was the original defendant (Petitioner / Respondent / Other)<br>\n",
    "state_2: state in USA (encoded by number from 1 to 50)<br>\n",
    "docket: docket number (don't know what this is)<br>\n",
    "docket_n: Number of docket numbers in this opinion.<br>\n",
    "reporter: Regional Reporter<br>\n",
    "rep_vol: volume number of reporter<br>\n",
    "rep_page<br>\n",
    "decs_yr, decs_mo, decs_day: Date of supreme court decision<br>\n",
    "classact: Is this case a class action suit? (binary) <br>\n",
    "amicus: Were amicus curiae briefs filed in the supreme court? (binary)<br>\n",
    "multi_p: Are there multiple petitioners/appellants in this case? (binary)<br>\n",
    "multi_r: Are there multiple respondents/appellees in this case? (binary)<br>\n",
    "\n",
    "## Petitioners and appellants\n",
    "#### First petitioner/appellant: \n",
    "- p1_persn: Natural person first appellant encoded by a number, 46 categories (eg: child, student, wife, public official)\n",
    "- p1_busi: private business first petitioner encoded by number for type of business (eg: agriculture, bank, etc)<br>\n",
    "- p1_org: Private organization or association first appellant encoded by a number for type of organization (eg: Business or trade association, Charitable or philanthropic organization, etc)\n",
    "- p1_lgov: Local or county government first appellant encoded by a number for type of government org (eg: Legislative, School board, board of trustees for college or junior college)\n",
    "- p1_sgov: State government first appellant encoded by number for type (eg: Executive/Administrative, Police)\n",
    "- p1_edu: Educational institution categories first appellant encoded by number (eg: Private, Non-Religious - Pre-K)\n",
    "- p1_other: Other first appellant (binary)\n",
    "- p1_otext: Description of other litigant type\n",
    "\n",
    "#### Second petitioner/appellant:\n",
    "- p2_persn, p2_busi, p2_org, p2_lgov, p2_sgov, p2_edu, p2_other, p2_otext: idem\n",
    "\n",
    "#### First respondent\n",
    "- r1_persn, r1_busi, r1_org, r1_lgov, r1_sgov, r1_edu, r1_other, r1_otext: idem\n",
    "\n",
    "#### Second respondent\n",
    "- r2_persn, r2_busi, r2_org, r2_lgov, r2_sgov, r2_edu, r2_other, r2_otext: idem\n",
    "\n",
    "## Public Defender\n",
    "\n",
    "pubdef: For criminal cases only, was the criminal defendant represented before the supreme court by a public defender or a state appointed counsel? (binary)\n",
    "\n",
    "## Case Classification\n",
    "genissue: general issue classification (Criminal Cases, Civil Government, Civil Private, Juvenile, Non-adversarial cases)\n",
    "### Criminal Cases\n",
    "##### Issue Confidence Scale\n",
    "ca_conf: On a scale of one to ten, how confident are you with the classification of this case as a criminal appeal (where ten indicates most confident and one indicates least confident)?<br>\n",
    "### Binary variables for crime types\n",
    "I did not explain the variable when the explanation is just the name of the variable.\n",
    "\n",
    "assaulta: Assault - aggravated<br>\n",
    "assaulto: Assault - other<br>\n",
    "arson: <br>\n",
    "burglary<br>\n",
    "disorder: disorderly conduct<br>\n",
    "dui: Driving under the influence<br>\n",
    "drugabus: drug abuse violations (including possession)<br>\n",
    "drugsell: Drug trafficking<br>\n",
    "drunk: drunkenness<br>\n",
    "embezzle: embezzlement<br>\n",
    "forge: Forgery and counterfeiting<br>\n",
    "fraud: <br>\n",
    "gamble<br>\n",
    "kidnap<br>\n",
    "theft: Larceny/Theft<br>\n",
    "liquor: liquor laws<br>\n",
    "mans_neg: Manslaughter - negligent<br>\n",
    "mans_non: Manslaughter - non-negligent<br>\n",
    "autothft: Motor vehicle theft<br>\n",
    "murder<br>\n",
    "fam_kids: Offenses against family and children<br>\n",
    "prostitu: Prostitution and commercialized vice<br>\n",
    "rape: Rape/Sexual assault<br>\n",
    "robbery<br>\n",
    "sex_gen: Sex offenses (except rape and prostitution)<br>\n",
    "stolen: Stolen property - buying, receiving, possessing<br>\n",
    "traffic: Traffic offenses (other than DUI)<br>\n",
    "vagrancy<br>\n",
    "vandal: Vandalism<br>\n",
    "weapons: Weapons - carrying, possessing, concealing<br>\n",
    "con_oth: Other conviction reviewed?<br>\n",
    "ca_tot_c: Total number of convictions reviewed?<br>\n",
    "\n",
    "##### Identification confidence scale\n",
    "con_conf: On a scale of one to ten, how confident are you with your identification of the convictions reviewed in this case (where ten indicates most confident and one indicates least confident)?<br>\n",
    "\n",
    "#### Identification of Death Penalty Cases\n",
    "death_c: Was the death penalty considered but not imposed? (binary) <br>\n",
    "death_im: Was the death penalty imposed by the trial court? (binary) <br>\n",
    "\n",
    "#### Pre- and Post-Conviction Criminal Cases\n",
    "bail: Bail (binary) <br>\n",
    "parole: Probation and parole (binary)<br>\n",
    "\n",
    "#### Legal Issues in Criminal Cases\n",
    "Binary variables for legal issues in criminal cases.\n",
    "\n",
    "ca_atty: councel issues (binary)<br>\n",
    "ca_cruel: Cruel and unusual punishment (binary)<br>\n",
    "ca_disc: Discovery<br>\n",
    "ca_doubj: Double jeopardy<br>\n",
    "ca_entra: Entrapment<br>\n",
    "ca_ev_m: Evidence - material<br>\n",
    "ca_ev_w: Evidence - expert or witness testimony<br>\n",
    "ca_gjury: Grand jury indictment<br>\n",
    "ca_insan: Insanity defense or arguments of mental incompetence<br>\n",
    "ca_jr_in: Jury instruction<br>\n",
    "ca_jr_sl: Jury selection<br>\n",
    "ca_plea: Plea bargaining or guilty plea<br>\n",
    "ca_prej: Prejudicial conduct by prosecutor<br>\n",
    "ca_race: Racial discrimination against defendant<br>\n",
    "ca_recus: Recusal by judge or other official issues<br>\n",
    "ca_serch: Search and seizure<br>\n",
    "ca_self: Self-incrimination<br>\n",
    "ca_sent: Sentencing (including proportionality)<br>\n",
    "ca_sevr: Severance of defendants for trial<br>\n",
    "ca_speed: Speedy trial<br>\n",
    "ca_suff: Sufficiency of evidence<br>\n",
    "ca_trial: Trial by jury<br>\n",
    "ca_venue: venue<br>\n",
    "ca_othis: ???<br>\n",
    "ca_tot_i: Total number of legal issues addressed by the Supreme Court (not binary)<br>\n",
    "##### Issue Confidence Scale\n",
    "ca_lconf: On a scale of one to ten, how confident are you with your classification of the legal issues raised in this case (where ten indicates most confident and one indicates least confident)?<br>\n",
    "\n",
    "### Civil private cases\n",
    "##### Confidence Scale\n",
    "cp_conf: scale conf for classification<br>\n",
    "\n",
    "### Binary variables for civil private cases types\n",
    "##### Domestic\n",
    "gen_dom: Domestic relations<br>\n",
    "adopt: adoption<br>\n",
    "civilcom: civil commitment<br>\n",
    "divorce: separation and divorce<br>\n",
    "childsup: child support an custody<br>\n",
    "domvioln: domestic violence - restraining orders<br>\n",
    "invlster: involuntary sterilization<br>\n",
    "paternty: Paternity<br>\n",
    "dom_oth: other domestic relations issues<br>\n",
    "##### Estates\n",
    "gen_est: Estates<br>\n",
    "will: probate, wills, intestate estates<br>\n",
    "trustee: guardianship, conservatorship, trusteeship<br>\n",
    "est_oth: other estate issues<br>\n",
    "##### Contracts\n",
    "gen_cont: contracts general category<br>\n",
    "cp_enfor: enforcement (breech, specific performance)<br>\n",
    "relation: debtor-creditor relations<br>\n",
    "insure: Insurance<br>\n",
    "tenant: tenant-landlord<br>\n",
    "ownershp: Ownership of real property<br>\n",
    "cont_oth: other contract issues<br>\n",
    "##### Torts\n",
    "gen_ptor: torts general category - civil private<br>\n",
    "malprc_m: medical malpractice<br>\n",
    "malprc_p: Professional malpractice<br>\n",
    "automobl: automobiles<br>\n",
    "products: product liability<br>\n",
    "toxic: toxic substance<br>\n",
    "cp_prem: Premises liability<br>\n",
    "cp_libel: libel/slander/defamation<br>\n",
    "cp_workr: Employee injury and workers’ compensation<br>\n",
    "cp_disc: Employment discrimination<br>\n",
    "cp_oth_l: other labor disputes<br>\n",
    "ptor_oth: other torts<br>\n",
    "Description of other<br>\n",
    "cp_i_cnf: On a scale of one to ten, how confident are you with your identification of the issues reviewed in this case (where ten indicates most confident and one indicates least confident)?<br>\n",
    "\n",
    "### Civil government cases\n",
    "cg_conf: On a scale of one to ten, how confident are you with the classification of this case as civil government (where ten indicates most confident and one indicates least confident)?<br>\n",
    "##### Elections\n",
    "gen_elec: Elections<br>\n",
    "redist: Apportionment and redistricting<br>\n",
    "elect: Contested elections<br>\n",
    "ballot: Ballot access<br>\n",
    "campaign: campaign spending<br>\n",
    "elec_oth: other election issues<br>\n",
    "\n",
    "##### First amendment\n",
    "gen_frst: first amendment issues <br>\n",
    "aid2paro: aid to parochial schools <br>\n",
    "comspch: commercial speech <br>\n",
    "religion: free exercise of religion <br>\n",
    "cg_libel: libel/slander/defamation <br>\n",
    "oath: loyalty oath <br>\n",
    "obscene: obscenity <br>\n",
    "protest: protest/marches/picketing <br>\n",
    "frst_oth: other first amendment issues<br>\n",
    "\n",
    "##### Government regulation\n",
    "gen_greg: government regulation <br>\n",
    "consumer: consumer protection <br>\n",
    "emdomain: eminent domain <br>\n",
    "environm: environmental protection <br>\n",
    "welfare: government benefits/welfare/Medicaid<br>\n",
    "license: licensing and permits <br>\n",
    "taxes: taxation <br>\n",
    "transpt: transportation <br>\n",
    "utility: utilities regulation <br>\n",
    "zoning: zoning and planning <br>\n",
    "greg_oth: other governmental regulation<br>\n",
    "\n",
    "##### Law practice\n",
    "gen_law: practice of law <br>\n",
    "baradmit: bar admission <br>\n",
    "disp_att: disciplinary proceedings against attorneys<br>\n",
    "disp_jud: disciplinary proceedings against judge <br>\n",
    "rules: promulgation of rules of practice <br>\n",
    "law_oth: other practice of law issues<br>\n",
    "\n",
    "##### Public contracts\n",
    "gen_pubc: public contracts <br>\n",
    "affirmac: affirmative action/minority set asides<br>\n",
    "cg_enfor: contract enforcement (breech, specific performance)<br>\n",
    "cg_disc: employment discrimination<br>\n",
    "pubc_oth: other public contract issues<br>\n",
    "\n",
    "##### Privacy issues\n",
    "gen_priv: privacy issues <br>\n",
    "abortion: abortion <br>\n",
    "foia: access to information <br>\n",
    "gayright: homosexual rights <br>\n",
    "drugtest: mandatory drug testing <br>\n",
    "steriliz:  mandatory sterilization <br>\n",
    "dieright: right to die <br>\n",
    "priv_oth: other privacy issues <br>\n",
    "\n",
    "##### Torts\n",
    "gen_gtor: torts <br>\n",
    "cg_workr: employee injury and workers’ compensation<br>\n",
    "cg_prem: premises liability <br>\n",
    "gtor_oth: other torts <br>\n",
    "\n",
    "cg_i_cnf: On a scale of one to ten, how confident are you with your identification of the issues reviewed in this case (where ten indicates most confident and one indicates least confident)?<br>\n",
    "\n",
    "### Legal Issues in Civil Cases\n",
    "\n",
    "##### Abuse of discretion by trial judge\n",
    "cv_abuse: abuse of discretion by trial judge<br>\n",
    "cv_arbit: arbitrary or capricious standard<br>\n",
    "cv_erro: clearly erroneous standard\t<br>\n",
    "cv_atty: counsel (including attorney’s fees)\t<br>\n",
    "cv_disc: discovery <br>\n",
    "cv_dscm: discrimination\t<br>\n",
    "cv_ev_m: evidence - material \t<br>\n",
    "cv_ev_w: evidence - expert or witness testimony<br>\n",
    "cv_claim: failure to state a claim <br>\n",
    "cv_immun: government immunity <br>\n",
    "cv_jr_in: jury instructions <br>\n",
    "cv_jr_sl: jury selection <br>\n",
    "cv_moot: mootness\t<br>\n",
    "cv_ripe: ripeness/failure to exhaust administrative remedies\t<br>\n",
    "cv_recus: recusal by judge or other official<br>\n",
    "cv_stand: standing to sue <br>\n",
    "cv_suff: sufficiency of evidence <br>\n",
    "cv_sumju: summary judgement <br>\n",
    "cv_injun: validity of injunction <br>\n",
    "cv_venue: venue <br>\n",
    "cv_othis: other legal issues <br>\n",
    "cv_ot_i: total number of legal issues addressed by the supreme court\t<br>\n",
    "\n",
    "cv_lconf: on a scale of one to ten, how confident are you with your classification of the legal issues raised in this case (where ten indicates most confident and one indicates least confident)?<br>\n",
    "\n",
    "### Decisions in Criminal Cases\n",
    "\n",
    "##### Features of the Opinion\n",
    "ca_majfm: form of the court majority<br>\n",
    "ca_opnfm: form of the court’s opinion <br>\n",
    "ca_disp: supreme Court’s disposition of the lower court\t<br>\n",
    "ca_winp: winning party in the supreme court\t<br>\n",
    "ca_conv: did the supreme court overturn any convictions in this case?\t<br>\n",
    "ca_sento: did the supreme court overturn a sentence in this case?<br>\n",
    "ca_capo: did the supreme court overturn a death sentence in this case?\t<br>\n",
    "\n",
    "##### Rulings on Constitutionality\n",
    "ca_usc: is there a constitutional challenge to a law passed by another branch of government under the U.S. Constitution? <br>\n",
    "ca_uscty: if yes, what type of law was challenged?<br>\n",
    "ca_uscdc: if yes, was the law declared unconstitutional?<br>\n",
    "\n",
    "##### Constitutionality: State Constitution\n",
    "ca_stc: is there a constitutional challenge to a law passed by another branch of government under the state constitution?\t<br>\n",
    "ca_stcty: if yes, what type of law was challenged?<br>\n",
    "ca_stdc: if yes, was the law declared unconstitutional?\t<br>\n",
    "\n",
    "\n",
    "### Decisions in Civil Private Cases\n",
    "\n",
    "##### Form of the court’s opinion\n",
    "cp_majfm: form of the court majority <br>\n",
    "cp_opnfm: form of the court’s opinion <br>\n",
    "cp_disp: supreme court’s disposition of lower court<br>\n",
    "cp_winp: winning party in the supreme court <br>\n",
    "cp_verdo: did the supreme court reduce liability or overturn a verdict?<br>\n",
    "cp_awrdo: did the supreme court reduce or overturn a monetary award?<br>\n",
    "cp_injo: did the supreme court overturn an injunction or other order?\t<br>\n",
    "\n",
    "##### Rulings on US Constitutionality\n",
    "cp_usc: is there a constitutional challenge to a law passed by another branch of government under the US Constitution?\t<br>\n",
    "cp_uscty: if yes, what type of law was challenged?<br>\n",
    "cp_uscdc: if yes, was the law declared unconstitutional? <br>\n",
    "\n",
    "##### Rulings on State Constitutionality\n",
    "cp_stc: is there a constitutional challenge to a law passed by another branch of government under the state <br>\n",
    "cp_stcty: if yes, what type of law was challenged?<br>\t\n",
    "cp_stcdc: if yes, was the law declared unconstitutional?<br>\n",
    "\n",
    "### Decisions in Civil Government Cases\n",
    "\n",
    "##### Form of the court majority\n",
    "cg_majfm: form of the court majority<br>\n",
    "cg_opnfm: form of the court’s opinion<br>\n",
    "cg_disp: supreme court’s disposition of lower court\t<br>\n",
    "cg_winp: winning party in the supreme court\t<br>\n",
    "cg_verdo: did the supreme court reduce liability or overturn a verdict?<br>\n",
    "cg_awrdo: did the supreme court reduce or overturn a monetary award?<br>\n",
    "cg_injo: did the supreme court overturn an injunction or other order?<br>\n",
    "\n",
    "##### Rulings on US Constitutionality\n",
    "cg_usc: is there a constitutional challenge to a law passed by another branch of government under the U.S. Constitution? <br>\n",
    "cg_uscty: if yes, what type of law was challenged? <br>\n",
    "cg_uscdc: if yes, was the law declared unconstitutional?<br>\n",
    "\n",
    "##### Rulings on State Constitutionality\n",
    "cg_stc: is there a constitutional challenge to a law passed by another branch of government under the state constitution?<br>\n",
    "cg_stcty: if yes, what type of law was challenged?<br>\n",
    "cg_stcdc: if yes, was the law declared unconstitutional?<br>\n",
    "\n",
    "### Juvenile Cases\n",
    "\n",
    "jv_conf: on a scale of one to ten, how confident are you with the classification of this case as a juvenile case (where ten indicates most confident and one indicates least confident)?\t<br>\n",
    "\n",
    "##### Characteristics of cases\n",
    "gen_del: delinquency <br>\n",
    "del_viol: delinquency - violent offenses<br>\n",
    "del_prop: delinquency - property offenses<br>\n",
    "del_drug: delinquency - drug offenses<br>\n",
    "del_ord: delinquency - publicorder offenses\t<br>\n",
    "del_oth: delinquency - other <br>\n",
    "truant: truancy <br>\n",
    "curfew: curfew <br>\n",
    "runaway: runaway <br>\n",
    "gangrel: were any of the juvenile’s activities gang related? <br>\n",
    "\n",
    "#####  Decisions in Juvenile Cases\n",
    "jv_majfm: form of the court majority<br>\n",
    "jv_opnfm: form of the court’s opinion<br>\n",
    "jv_disp: supreme court’s disposition of the lower court <br>\n",
    "jv_winp: winning party in the supreme court <br>\n",
    "jv_delo: did the supreme court overturn a finding of delinquency? <br>\n",
    "jv_probo: did the supreme court overturn a probation/confinement sentence? <br>\n",
    "\n",
    "##### Rulings on US Constitutionality\n",
    "jv_usc: is there a constitutional challenge to a law passed by another branch of government under the US Constitution? <br>\n",
    "jv_uscty: if yes, what type of law was challenged? <br>\n",
    "jv_uscdc: if yes, was the law declared unconstitutional?<br>\n",
    "\n",
    "##### Rulings on State Constitutionality\n",
    "jv_stc: is there a constitutional challenge to a law passed by another branch of government under the state constitution? <br>\n",
    "jv_stcty: if yes, what type of law was challenged? <br>\n",
    "jv_stcdc: if yes, was the law declared unconstitutional? <br>\n",
    "\n",
    "### Miscellaneous Cases\n",
    "\n",
    "##### Non-Adversarial Cases\n",
    "ms_conf: on a scale of one to ten, how confident are you with the classification of this case as nonadversarial (where ten indicates most confident and one indicates least confident)?<br>\n",
    "\n",
    "##### Types of Non-Adversarial Cases\n",
    "certific: certification <br>\n",
    "cert_ct: if certification, which court is certifying this case<br>\n",
    "advisory: advisory opinion <br>\n",
    "non_bar: non-adversarial matters regarding the bar <br>\n",
    "non_oth: other non-adversarial cases <br>\n",
    "\n",
    "##### Decisions in Non-Adversarial Cases\n",
    "ms_majfm: form of the court majority <br>\n",
    "ms_opnfm: form of the court’s opinion <br>\n",
    "\n",
    "##### Rulings on US Constitutionality\n",
    "ms_usc: is there a constitutional challenge to a law passed by another branch of government under the US Constitution?<br>\n",
    "ms_uscty: if yes, what type of law was challenged? <br>\n",
    "ms_uscdc: if yes, was the law declared unconstitutional? <br>\n",
    "\n",
    "##### Rulings on State Constitutionality\n",
    "ms_stc: is there a constitutional challenge to a law passed by another branch of government under the state constitution? <br>\n",
    "ms_stcty: if yes, what type of law was challenged? <br>\n",
    "ms_stcdc: if yes, was the law declared unconstitutional? <br>\n",
    "\n",
    "### Sitting justice involvement and behavior\n",
    "This section contains information for justices 1-9. justice 1 is used as an example below: <br>\n",
    "\n",
    "enbanc: did the court sit en banc? <br>\n",
    "j1_name: justice name - 1 <br>\n",
    "j1_vote: justice 1 vote <br>\n",
    "j1_opin: justice 1 opinion behavior <br>\n",
    "\n",
    "### Substitute / ad hoc justice involvement and behavior\n",
    "This section contains information regarding substitute / ad hoc justices 1-3. Substitute / ad hoc justice 1 is used as an example below: <br>\n",
    "\n",
    "s1_name: ad hoc justice 1 vote  <br>\n",
    "s1_text: name of ad hoc justice 1 that does not appear on list  <br>\n",
    "s1_type: is ad hoc justice 1 retired, a substitute, or other? <br>\n",
    "s1_vote: ad hoc justice 1 vote  <br>\n",
    "s1_opin: ad hoc justice 1 opinion behavior   <br>"
   ]
  },
  {
   "cell_type": "markdown",
   "metadata": {},
   "source": [
    "### To do\n",
    "\n",
    "opassign: <br>\n",
    "disordr: <br>\n",
    "votordr: <br>\n",
    "belitid: <br>\n",
    "bmassid: <br>\n",
    "brthyr: <br>\n",
    "race: <br>\n",
    "gender: <br>\n",
    "pajid: <br>\n",
    "jpid: <br>\n",
    "agedec: <br>\n",
    "EWI: <br>\n",
    "select: <br>\n",
    "retentn: <br>\n",
    "cj: <br>"
   ]
  },
  {
   "cell_type": "code",
   "execution_count": null,
   "metadata": {
    "collapsed": true
   },
   "outputs": [],
   "source": []
  },
  {
   "cell_type": "code",
   "execution_count": null,
   "metadata": {
    "collapsed": true
   },
   "outputs": [],
   "source": []
  },
  {
   "cell_type": "code",
   "execution_count": null,
   "metadata": {
    "collapsed": true
   },
   "outputs": [],
   "source": []
  },
  {
   "cell_type": "code",
   "execution_count": null,
   "metadata": {
    "collapsed": true
   },
   "outputs": [],
   "source": [
    "elec_oth\tgen_frst\taid2paro\treligion\tcg_libel\toath\tprotest\tobscene\tcomspch\tfrst_oth\tgen_greg\ttaxes\tzoning\tutility\temdomain\tlicense\twelfare\ttranspt\tconsumer\tenvironm\tgreg_oth\tgen_law\tbaradmit\tdisp_jud\trules\tdisp_att\tlaw_oth\tgen_pubc\taffirmac\tcg_enfor\tcg_disc\tpubc_oth\tgen_priv\tsteriliz\tfoia\tabortion\tdieright\tdrugtest\tgayright\tpriv_oth\tgen_gtor\tcg_prem\tcg_workr\tgtor_oth\tcg_i_cnf\tcv_abuse\tcv_arbit\tcv_erro\tcv_atty\tcv_disc\tcv_dscm\tcv_ev_m\tcv_ev_w\tcv_claim\tcv_immun\tcv_jr_in\tcv_jr_sl\tcv_moot\tcv_ripe\tcv_recus\tcv_stand\tcv_suff\tcv_sumju\tcv_injun\tcv_venue\tcv_othis\tcv_ot_i\tcv_lconf\tca_majfm\tca_opnfm\tca_usc\tca_uscty\tca_uscdc\tca_stc\tca_stcty\tca_stdc\tca_disp\tca_winp\tca_conv\tca_sento\tca_capo\tcp_majfm\tcp_opnfm\tcp_usc\tcp_uscty\tcp_uscdc\tcp_stc\tcp_stcty\tcp_stcdc\tcp_disp\tcp_winp\tcp_verdo\tcp_awrdo\tcp_injo\tcg_majfm\tcg_opnfm\tcg_usc\tcg_verdo\tcg_awrdo\tcg_injo\tcg_uscty\tcg_uscdc\tcg_stc\tcg_stcty\tcg_stcdc\tcg_disp\tcg_winp\tjv_conf\tgen_del\tdel_viol\tdel_prop\tdel_drug\tdel_ord\tdel_oth\ttruant\tcurfew\trunaway\tgangrel\tjv_oth\tjv_majfm\tjv_opnfm\tjv_disp\tjv_winp\tjv_delo\tjv_probo\tjv_usc\tjv_uscty\tjv_uscdc\tjv_stc\tjv_stcty\tjv_stcdc\tms_conf\tcertific\tcert_ct\tadvisory\tnon_bar\tnon_oth\tms_majfm\tms_opnfm\tms_usc\tms_uscty\tms_uscdc\tms_stc\tms_stcty\tms_stcdc\tenbanc\tjudgename\tjudgecode\tjudgevote\tjudgeopinion\t_jposition\t_jadhoc\tadhoctype\tadhoctext\topassign\tdisordr\tvotordr\tbelitid\tbmassid\tbrthyr\trace\tgender\tpajid\tjpid\tagedec\tEWI\tselect\tretentn\tcj"
   ]
  },
  {
   "cell_type": "code",
   "execution_count": null,
   "metadata": {
    "collapsed": true
   },
   "outputs": [],
   "source": []
  },
  {
   "cell_type": "code",
   "execution_count": 7,
   "metadata": {
    "collapsed": false
   },
   "outputs": [],
   "source": [
    "jdata = pd.read_csv('../stat186-judgedata.csv', index_col = 0, low_memory=False)"
   ]
  },
  {
   "cell_type": "code",
   "execution_count": 4,
   "metadata": {
    "collapsed": false
   },
   "outputs": [
    {
     "data": {
      "text/plain": [
       "(342749, 341)"
      ]
     },
     "execution_count": 4,
     "metadata": {},
     "output_type": "execute_result"
    }
   ],
   "source": [
    "jdata.shape"
   ]
  },
  {
   "cell_type": "code",
   "execution_count": 5,
   "metadata": {
    "collapsed": false
   },
   "outputs": [
    {
     "data": {
      "text/html": [
       "<div>\n",
       "<style scoped>\n",
       "    .dataframe tbody tr th:only-of-type {\n",
       "        vertical-align: middle;\n",
       "    }\n",
       "\n",
       "    .dataframe tbody tr th {\n",
       "        vertical-align: top;\n",
       "    }\n",
       "\n",
       "    .dataframe thead th {\n",
       "        text-align: right;\n",
       "    }\n",
       "</style>\n",
       "<table border=\"1\" class=\"dataframe\">\n",
       "  <thead>\n",
       "    <tr style=\"text-align: right;\">\n",
       "      <th></th>\n",
       "      <th>masterid</th>\n",
       "      <th>id_1</th>\n",
       "      <th>coder</th>\n",
       "      <th>coderid</th>\n",
       "      <th>casen_1</th>\n",
       "      <th>juris</th>\n",
       "      <th>first_ct</th>\n",
       "      <th>agency</th>\n",
       "      <th>agency_r</th>\n",
       "      <th>arbitrat</th>\n",
       "      <th>...</th>\n",
       "      <th>brthyr</th>\n",
       "      <th>race</th>\n",
       "      <th>gender</th>\n",
       "      <th>pajid</th>\n",
       "      <th>jpid</th>\n",
       "      <th>agedec</th>\n",
       "      <th>EWI</th>\n",
       "      <th>select</th>\n",
       "      <th>retentn</th>\n",
       "      <th>cj</th>\n",
       "    </tr>\n",
       "  </thead>\n",
       "  <tbody>\n",
       "    <tr>\n",
       "      <th>0</th>\n",
       "      <td>95.010010</td>\n",
       "      <td>102.0</td>\n",
       "      <td>TEB</td>\n",
       "      <td>1130.0</td>\n",
       "      <td>1.0</td>\n",
       "      <td>2.0</td>\n",
       "      <td>1.0</td>\n",
       "      <td>0.0</td>\n",
       "      <td>88.0</td>\n",
       "      <td>0.0</td>\n",
       "      <td>...</td>\n",
       "      <td>NaN</td>\n",
       "      <td>NaN</td>\n",
       "      <td>NaN</td>\n",
       "      <td>NaN</td>\n",
       "      <td>NaN</td>\n",
       "      <td>NaN</td>\n",
       "      <td>NaN</td>\n",
       "      <td>NaN</td>\n",
       "      <td>NaN</td>\n",
       "      <td>NaN</td>\n",
       "    </tr>\n",
       "    <tr>\n",
       "      <th>1</th>\n",
       "      <td>95.010017</td>\n",
       "      <td>103.0</td>\n",
       "      <td>TEB</td>\n",
       "      <td>1130.0</td>\n",
       "      <td>2.0</td>\n",
       "      <td>2.0</td>\n",
       "      <td>2.0</td>\n",
       "      <td>0.0</td>\n",
       "      <td>88.0</td>\n",
       "      <td>0.0</td>\n",
       "      <td>...</td>\n",
       "      <td>NaN</td>\n",
       "      <td>NaN</td>\n",
       "      <td>NaN</td>\n",
       "      <td>NaN</td>\n",
       "      <td>NaN</td>\n",
       "      <td>NaN</td>\n",
       "      <td>NaN</td>\n",
       "      <td>NaN</td>\n",
       "      <td>NaN</td>\n",
       "      <td>NaN</td>\n",
       "    </tr>\n",
       "    <tr>\n",
       "      <th>2</th>\n",
       "      <td>95.010033</td>\n",
       "      <td>104.0</td>\n",
       "      <td>TEB</td>\n",
       "      <td>1130.0</td>\n",
       "      <td>3.0</td>\n",
       "      <td>2.0</td>\n",
       "      <td>2.0</td>\n",
       "      <td>0.0</td>\n",
       "      <td>88.0</td>\n",
       "      <td>0.0</td>\n",
       "      <td>...</td>\n",
       "      <td>NaN</td>\n",
       "      <td>NaN</td>\n",
       "      <td>NaN</td>\n",
       "      <td>NaN</td>\n",
       "      <td>NaN</td>\n",
       "      <td>NaN</td>\n",
       "      <td>NaN</td>\n",
       "      <td>NaN</td>\n",
       "      <td>NaN</td>\n",
       "      <td>NaN</td>\n",
       "    </tr>\n",
       "    <tr>\n",
       "      <th>3</th>\n",
       "      <td>95.010040</td>\n",
       "      <td>105.0</td>\n",
       "      <td>TEB</td>\n",
       "      <td>1130.0</td>\n",
       "      <td>4.0</td>\n",
       "      <td>2.0</td>\n",
       "      <td>2.0</td>\n",
       "      <td>0.0</td>\n",
       "      <td>88.0</td>\n",
       "      <td>0.0</td>\n",
       "      <td>...</td>\n",
       "      <td>NaN</td>\n",
       "      <td>NaN</td>\n",
       "      <td>NaN</td>\n",
       "      <td>NaN</td>\n",
       "      <td>NaN</td>\n",
       "      <td>NaN</td>\n",
       "      <td>NaN</td>\n",
       "      <td>NaN</td>\n",
       "      <td>NaN</td>\n",
       "      <td>NaN</td>\n",
       "    </tr>\n",
       "    <tr>\n",
       "      <th>4</th>\n",
       "      <td>95.010048</td>\n",
       "      <td>106.0</td>\n",
       "      <td>TEB</td>\n",
       "      <td>1130.0</td>\n",
       "      <td>5.0</td>\n",
       "      <td>2.0</td>\n",
       "      <td>2.0</td>\n",
       "      <td>0.0</td>\n",
       "      <td>88.0</td>\n",
       "      <td>0.0</td>\n",
       "      <td>...</td>\n",
       "      <td>NaN</td>\n",
       "      <td>NaN</td>\n",
       "      <td>NaN</td>\n",
       "      <td>NaN</td>\n",
       "      <td>NaN</td>\n",
       "      <td>NaN</td>\n",
       "      <td>NaN</td>\n",
       "      <td>NaN</td>\n",
       "      <td>NaN</td>\n",
       "      <td>NaN</td>\n",
       "    </tr>\n",
       "  </tbody>\n",
       "</table>\n",
       "<p>5 rows × 341 columns</p>\n",
       "</div>"
      ],
      "text/plain": [
       "    masterid   id_1 coder  coderid  casen_1  juris  first_ct  agency  \\\n",
       "0  95.010010  102.0   TEB   1130.0      1.0    2.0       1.0     0.0   \n",
       "1  95.010017  103.0   TEB   1130.0      2.0    2.0       2.0     0.0   \n",
       "2  95.010033  104.0   TEB   1130.0      3.0    2.0       2.0     0.0   \n",
       "3  95.010040  105.0   TEB   1130.0      4.0    2.0       2.0     0.0   \n",
       "4  95.010048  106.0   TEB   1130.0      5.0    2.0       2.0     0.0   \n",
       "\n",
       "   agency_r  arbitrat ...  brthyr  race  gender  pajid  jpid agedec EWI  \\\n",
       "0      88.0       0.0 ...     NaN   NaN     NaN    NaN   NaN    NaN NaN   \n",
       "1      88.0       0.0 ...     NaN   NaN     NaN    NaN   NaN    NaN NaN   \n",
       "2      88.0       0.0 ...     NaN   NaN     NaN    NaN   NaN    NaN NaN   \n",
       "3      88.0       0.0 ...     NaN   NaN     NaN    NaN   NaN    NaN NaN   \n",
       "4      88.0       0.0 ...     NaN   NaN     NaN    NaN   NaN    NaN NaN   \n",
       "\n",
       "   select  retentn  cj  \n",
       "0     NaN      NaN NaN  \n",
       "1     NaN      NaN NaN  \n",
       "2     NaN      NaN NaN  \n",
       "3     NaN      NaN NaN  \n",
       "4     NaN      NaN NaN  \n",
       "\n",
       "[5 rows x 341 columns]"
      ]
     },
     "execution_count": 5,
     "metadata": {},
     "output_type": "execute_result"
    }
   ],
   "source": [
    "jdata.head()"
   ]
  },
  {
   "cell_type": "markdown",
   "metadata": {},
   "source": [
    "## Criminal cases"
   ]
  },
  {
   "cell_type": "code",
   "execution_count": 168,
   "metadata": {
    "collapsed": false
   },
   "outputs": [
    {
     "data": {
      "text/html": [
       "<div>\n",
       "<style scoped>\n",
       "    .dataframe tbody tr th:only-of-type {\n",
       "        vertical-align: middle;\n",
       "    }\n",
       "\n",
       "    .dataframe tbody tr th {\n",
       "        vertical-align: top;\n",
       "    }\n",
       "\n",
       "    .dataframe thead th {\n",
       "        text-align: right;\n",
       "    }\n",
       "</style>\n",
       "<table border=\"1\" class=\"dataframe\">\n",
       "  <thead>\n",
       "    <tr style=\"text-align: right;\">\n",
       "      <th></th>\n",
       "      <th>casen_1</th>\n",
       "    </tr>\n",
       "    <tr>\n",
       "      <th>fraud</th>\n",
       "      <th></th>\n",
       "    </tr>\n",
       "  </thead>\n",
       "  <tbody>\n",
       "    <tr>\n",
       "      <th>0.0</th>\n",
       "      <td>170915</td>\n",
       "    </tr>\n",
       "    <tr>\n",
       "      <th>1.0</th>\n",
       "      <td>378</td>\n",
       "    </tr>\n",
       "  </tbody>\n",
       "</table>\n",
       "</div>"
      ],
      "text/plain": [
       "       casen_1\n",
       "fraud         \n",
       "0.0     170915\n",
       "1.0        378"
      ]
     },
     "execution_count": 168,
     "metadata": {},
     "output_type": "execute_result"
    }
   ],
   "source": [
    "data[['casen_1','fraud']].groupby('fraud').count()"
   ]
  },
  {
   "cell_type": "code",
   "execution_count": 169,
   "metadata": {
    "collapsed": false
   },
   "outputs": [
    {
     "data": {
      "text/plain": [
       "347       1.0\n",
       "590       1.0\n",
       "1158      1.0\n",
       "1533      1.0\n",
       "1943      1.0\n",
       "2390      1.0\n",
       "2469      1.0\n",
       "4522      1.0\n",
       "4530      1.0\n",
       "4679      1.0\n",
       "4936      1.0\n",
       "5327      1.0\n",
       "7107      1.0\n",
       "7395      1.0\n",
       "9157      1.0\n",
       "9901      1.0\n",
       "10184     1.0\n",
       "10461     1.0\n",
       "11330     1.0\n",
       "11407     1.0\n",
       "12029     1.0\n",
       "12104     1.0\n",
       "12741     1.0\n",
       "13140     1.0\n",
       "14031     1.0\n",
       "15168     1.0\n",
       "15906     1.0\n",
       "16419     1.0\n",
       "16945     1.0\n",
       "17242     1.0\n",
       "         ... \n",
       "159314    1.0\n",
       "160608    1.0\n",
       "160784    1.0\n",
       "160810    1.0\n",
       "161410    1.0\n",
       "161892    1.0\n",
       "162314    1.0\n",
       "162466    1.0\n",
       "163024    1.0\n",
       "164240    1.0\n",
       "164257    1.0\n",
       "164258    1.0\n",
       "164755    1.0\n",
       "164757    1.0\n",
       "164780    1.0\n",
       "165378    1.0\n",
       "165422    1.0\n",
       "165612    1.0\n",
       "165838    1.0\n",
       "166510    1.0\n",
       "166553    1.0\n",
       "166926    1.0\n",
       "167303    1.0\n",
       "167710    1.0\n",
       "168417    1.0\n",
       "168474    1.0\n",
       "168632    1.0\n",
       "168762    1.0\n",
       "170944    1.0\n",
       "170970    1.0\n",
       "Name: genissue, Length: 378, dtype: float64"
      ]
     },
     "execution_count": 169,
     "metadata": {},
     "output_type": "execute_result"
    }
   ],
   "source": [
    "data[data['fraud']==1]['genissue']"
   ]
  },
  {
   "cell_type": "code",
   "execution_count": null,
   "metadata": {
    "collapsed": true
   },
   "outputs": [],
   "source": []
  },
  {
   "cell_type": "code",
   "execution_count": 170,
   "metadata": {
    "collapsed": false
   },
   "outputs": [],
   "source": [
    "dna = data[data['genissue']==1]"
   ]
  },
  {
   "cell_type": "code",
   "execution_count": 171,
   "metadata": {
    "collapsed": true
   },
   "outputs": [],
   "source": [
    "dna = dna.replace(88, np.nan)"
   ]
  },
  {
   "cell_type": "code",
   "execution_count": 172,
   "metadata": {
    "collapsed": false
   },
   "outputs": [
    {
     "data": {
      "text/plain": [
       "(55601, 341)"
      ]
     },
     "execution_count": 172,
     "metadata": {},
     "output_type": "execute_result"
    }
   ],
   "source": [
    "dna.shape"
   ]
  },
  {
   "cell_type": "code",
   "execution_count": 174,
   "metadata": {
    "collapsed": false
   },
   "outputs": [],
   "source": [
    "dna = dna.dropna(how = 'all', axis = 1)"
   ]
  },
  {
   "cell_type": "code",
   "execution_count": 175,
   "metadata": {
    "collapsed": false
   },
   "outputs": [
    {
     "data": {
      "text/plain": [
       "(55601, 311)"
      ]
     },
     "execution_count": 175,
     "metadata": {},
     "output_type": "execute_result"
    }
   ],
   "source": [
    "dna.shape"
   ]
  },
  {
   "cell_type": "code",
   "execution_count": 65,
   "metadata": {
    "collapsed": false
   },
   "outputs": [],
   "source": [
    "#[c for c in data.columns if c not in dna.columns]"
   ]
  },
  {
   "cell_type": "code",
   "execution_count": 66,
   "metadata": {
    "collapsed": false
   },
   "outputs": [
    {
     "data": {
      "text/plain": [
       "23156     10.0\n",
       "50888     10.0\n",
       "78705     10.0\n",
       "105922    10.0\n",
       "131773    10.0\n",
       "149299    10.0\n",
       "163430    10.0\n",
       "Name: ca_conf, dtype: float64"
      ]
     },
     "execution_count": 66,
     "metadata": {},
     "output_type": "execute_result"
    }
   ],
   "source": [
    "dna[dna['cp_conf']==10]['ca_conf']"
   ]
  },
  {
   "cell_type": "code",
   "execution_count": 82,
   "metadata": {
    "collapsed": false
   },
   "outputs": [
    {
     "data": {
      "text/plain": [
       "13013     0.0\n",
       "40857     0.0\n",
       "68638     0.0\n",
       "96058     0.0\n",
       "122406    0.0\n",
       "143580    0.0\n",
       "158281    0.0\n",
       "166802    0.0\n",
       "Name: arson, dtype: float64"
      ]
     },
     "execution_count": 82,
     "metadata": {},
     "output_type": "execute_result"
    }
   ],
   "source": [
    "dna[dna['elect']==1]['arson']"
   ]
  },
  {
   "cell_type": "code",
   "execution_count": 190,
   "metadata": {
    "collapsed": false
   },
   "outputs": [],
   "source": [
    "cat = pd.read_csv('../crime_cat.csv', header=None, names = ['cat'])"
   ]
  },
  {
   "cell_type": "code",
   "execution_count": 191,
   "metadata": {
    "collapsed": false
   },
   "outputs": [
    {
     "data": {
      "text/html": [
       "<div>\n",
       "<style scoped>\n",
       "    .dataframe tbody tr th:only-of-type {\n",
       "        vertical-align: middle;\n",
       "    }\n",
       "\n",
       "    .dataframe tbody tr th {\n",
       "        vertical-align: top;\n",
       "    }\n",
       "\n",
       "    .dataframe thead th {\n",
       "        text-align: right;\n",
       "    }\n",
       "</style>\n",
       "<table border=\"1\" class=\"dataframe\">\n",
       "  <thead>\n",
       "    <tr style=\"text-align: right;\">\n",
       "      <th></th>\n",
       "      <th>cat</th>\n",
       "    </tr>\n",
       "  </thead>\n",
       "  <tbody>\n",
       "    <tr>\n",
       "      <th>0</th>\n",
       "      <td>assaulta</td>\n",
       "    </tr>\n",
       "    <tr>\n",
       "      <th>1</th>\n",
       "      <td>assaulto</td>\n",
       "    </tr>\n",
       "    <tr>\n",
       "      <th>2</th>\n",
       "      <td>arson</td>\n",
       "    </tr>\n",
       "    <tr>\n",
       "      <th>3</th>\n",
       "      <td>burglary</td>\n",
       "    </tr>\n",
       "    <tr>\n",
       "      <th>4</th>\n",
       "      <td>disorder</td>\n",
       "    </tr>\n",
       "    <tr>\n",
       "      <th>5</th>\n",
       "      <td>dui</td>\n",
       "    </tr>\n",
       "    <tr>\n",
       "      <th>6</th>\n",
       "      <td>drugabus</td>\n",
       "    </tr>\n",
       "    <tr>\n",
       "      <th>7</th>\n",
       "      <td>drugsell</td>\n",
       "    </tr>\n",
       "    <tr>\n",
       "      <th>8</th>\n",
       "      <td>drunk</td>\n",
       "    </tr>\n",
       "    <tr>\n",
       "      <th>9</th>\n",
       "      <td>embezzle</td>\n",
       "    </tr>\n",
       "    <tr>\n",
       "      <th>10</th>\n",
       "      <td>forge</td>\n",
       "    </tr>\n",
       "    <tr>\n",
       "      <th>11</th>\n",
       "      <td>fraud</td>\n",
       "    </tr>\n",
       "    <tr>\n",
       "      <th>12</th>\n",
       "      <td>gamble</td>\n",
       "    </tr>\n",
       "    <tr>\n",
       "      <th>13</th>\n",
       "      <td>kidnap</td>\n",
       "    </tr>\n",
       "    <tr>\n",
       "      <th>14</th>\n",
       "      <td>theft</td>\n",
       "    </tr>\n",
       "    <tr>\n",
       "      <th>15</th>\n",
       "      <td>liquor</td>\n",
       "    </tr>\n",
       "    <tr>\n",
       "      <th>16</th>\n",
       "      <td>mans_neg</td>\n",
       "    </tr>\n",
       "    <tr>\n",
       "      <th>17</th>\n",
       "      <td>mans_non</td>\n",
       "    </tr>\n",
       "    <tr>\n",
       "      <th>18</th>\n",
       "      <td>autothft</td>\n",
       "    </tr>\n",
       "    <tr>\n",
       "      <th>19</th>\n",
       "      <td>murder</td>\n",
       "    </tr>\n",
       "    <tr>\n",
       "      <th>20</th>\n",
       "      <td>fam_kids</td>\n",
       "    </tr>\n",
       "    <tr>\n",
       "      <th>21</th>\n",
       "      <td>prostitu</td>\n",
       "    </tr>\n",
       "    <tr>\n",
       "      <th>22</th>\n",
       "      <td>rape</td>\n",
       "    </tr>\n",
       "    <tr>\n",
       "      <th>23</th>\n",
       "      <td>robbery</td>\n",
       "    </tr>\n",
       "    <tr>\n",
       "      <th>24</th>\n",
       "      <td>sex_gen</td>\n",
       "    </tr>\n",
       "    <tr>\n",
       "      <th>25</th>\n",
       "      <td>stolen</td>\n",
       "    </tr>\n",
       "    <tr>\n",
       "      <th>26</th>\n",
       "      <td>traffic</td>\n",
       "    </tr>\n",
       "    <tr>\n",
       "      <th>27</th>\n",
       "      <td>vagrancy</td>\n",
       "    </tr>\n",
       "    <tr>\n",
       "      <th>28</th>\n",
       "      <td>vandal</td>\n",
       "    </tr>\n",
       "    <tr>\n",
       "      <th>29</th>\n",
       "      <td>weapons</td>\n",
       "    </tr>\n",
       "    <tr>\n",
       "      <th>30</th>\n",
       "      <td>con_oth</td>\n",
       "    </tr>\n",
       "  </tbody>\n",
       "</table>\n",
       "</div>"
      ],
      "text/plain": [
       "         cat\n",
       "0   assaulta\n",
       "1   assaulto\n",
       "2      arson\n",
       "3   burglary\n",
       "4   disorder\n",
       "5        dui\n",
       "6   drugabus\n",
       "7   drugsell\n",
       "8      drunk\n",
       "9   embezzle\n",
       "10     forge\n",
       "11     fraud\n",
       "12    gamble\n",
       "13    kidnap\n",
       "14     theft\n",
       "15    liquor\n",
       "16  mans_neg\n",
       "17  mans_non\n",
       "18  autothft\n",
       "19    murder\n",
       "20  fam_kids\n",
       "21  prostitu\n",
       "22      rape\n",
       "23   robbery\n",
       "24   sex_gen\n",
       "25    stolen\n",
       "26   traffic\n",
       "27  vagrancy\n",
       "28    vandal\n",
       "29   weapons\n",
       "30   con_oth"
      ]
     },
     "execution_count": 191,
     "metadata": {},
     "output_type": "execute_result"
    }
   ],
   "source": [
    "cat"
   ]
  },
  {
   "cell_type": "code",
   "execution_count": 193,
   "metadata": {
    "collapsed": false
   },
   "outputs": [
    {
     "data": {
      "text/plain": [
       "assaulta     3201.0\n",
       "assaulto     2155.0\n",
       "arson         620.0\n",
       "burglary     3476.0\n",
       "disorder      381.0\n",
       "dui          2700.0\n",
       "drugabus     4682.0\n",
       "drugsell     2567.0\n",
       "drunk          37.0\n",
       "embezzle       56.0\n",
       "forge         275.0\n",
       "fraud         378.0\n",
       "gamble         14.0\n",
       "kidnap       2212.0\n",
       "theft        2433.0\n",
       "liquor         66.0\n",
       "mans_neg      679.0\n",
       "mans_non      563.0\n",
       "autothft      312.0\n",
       "murder      20097.0\n",
       "fam_kids     2258.0\n",
       "prostitu       60.0\n",
       "rape         5012.0\n",
       "robbery      6065.0\n",
       "sex_gen      1636.0\n",
       "stolen        437.0\n",
       "traffic       643.0\n",
       "vagrancy       12.0\n",
       "vandal         44.0\n",
       "weapons      4337.0\n",
       "con_oth      8239.0\n",
       "dtype: float64"
      ]
     },
     "execution_count": 193,
     "metadata": {},
     "output_type": "execute_result"
    }
   ],
   "source": [
    "dna[[c for c in cat['cat']]].sum(axis = 0)"
   ]
  },
  {
   "cell_type": "code",
   "execution_count": 197,
   "metadata": {
    "collapsed": false
   },
   "outputs": [
    {
     "data": {
      "text/plain": [
       "(7651, 311)"
      ]
     },
     "execution_count": 197,
     "metadata": {},
     "output_type": "execute_result"
    }
   ],
   "source": [
    "idx = dna[[c for c in cat['cat'] if c in dna.columns]].sum(axis = 1) == 0 # cases with no category....\n",
    "dna[idx].shape"
   ]
  },
  {
   "cell_type": "code",
   "execution_count": 199,
   "metadata": {
    "collapsed": false
   },
   "outputs": [
    {
     "data": {
      "text/plain": [
       "masterid        1278\n",
       "id_1             205\n",
       "coder             17\n",
       "coderid           17\n",
       "casen_1          198\n",
       "juris             13\n",
       "first_ct           5\n",
       "agency             2\n",
       "agency_r           2\n",
       "arbitrat           2\n",
       "dec1_yr           16\n",
       "dec1_mo           13\n",
       "dec1_day          32\n",
       "rev_ct             7\n",
       "crossapp           2\n",
       "title_p1         476\n",
       "title_p2         880\n",
       "type_p1            3\n",
       "type_p2            3\n",
       "o_plain            4\n",
       "o_defend           4\n",
       "state_2           50\n",
       "docket          1179\n",
       "docket_n           7\n",
       "reporter           7\n",
       "rep_vol          289\n",
       "rep_page         819\n",
       "decs_yr            4\n",
       "decs_mo           12\n",
       "decs_day          31\n",
       "                ... \n",
       "truant             1\n",
       "curfew             1\n",
       "runaway            1\n",
       "gangrel            1\n",
       "jv_oth             2\n",
       "jv_majfm           0\n",
       "jv_opnfm           0\n",
       "jv_disp            0\n",
       "jv_winp            0\n",
       "jv_delo            0\n",
       "jv_probo           0\n",
       "jv_usc             0\n",
       "jv_stc             0\n",
       "certific           1\n",
       "cert_ct            1\n",
       "advisory           1\n",
       "non_bar            1\n",
       "non_oth            1\n",
       "ms_usc             0\n",
       "ms_uscdc           0\n",
       "ms_stc             0\n",
       "enbanc             2\n",
       "judgename        409\n",
       "judgecode        421\n",
       "judgevote          2\n",
       "judgeopinion      12\n",
       "_jposition         8\n",
       "_jadhoc            2\n",
       "adhoctype          2\n",
       "adhoctext         49\n",
       "Length: 311, dtype: int64"
      ]
     },
     "execution_count": 199,
     "metadata": {},
     "output_type": "execute_result"
    }
   ],
   "source": [
    "dna[idx].nunique()"
   ]
  },
  {
   "cell_type": "code",
   "execution_count": 144,
   "metadata": {
    "collapsed": false
   },
   "outputs": [
    {
     "data": {
      "text/plain": [
       "(29924, 311)"
      ]
     },
     "execution_count": 144,
     "metadata": {},
     "output_type": "execute_result"
    }
   ],
   "source": [
    "idx = dna[[c for c in cat['cat'] if c in dna.columns]].sum(axis = 1) == 1\n",
    "dna[idx].shape"
   ]
  },
  {
   "cell_type": "code",
   "execution_count": 145,
   "metadata": {
    "collapsed": false
   },
   "outputs": [
    {
     "data": {
      "text/plain": [
       "(11145, 311)"
      ]
     },
     "execution_count": 145,
     "metadata": {},
     "output_type": "execute_result"
    }
   ],
   "source": [
    "idx = dna[[c for c in cat['cat'] if c in dna.columns]].sum(axis = 1) == 2\n",
    "dna[idx].shape"
   ]
  },
  {
   "cell_type": "code",
   "execution_count": 146,
   "metadata": {
    "collapsed": false
   },
   "outputs": [
    {
     "data": {
      "text/plain": [
       "(4426, 311)"
      ]
     },
     "execution_count": 146,
     "metadata": {},
     "output_type": "execute_result"
    }
   ],
   "source": [
    "idx = dna[[c for c in cat['cat'] if c in dna.columns]].sum(axis = 1) == 3\n",
    "dna[idx].shape"
   ]
  },
  {
   "cell_type": "code",
   "execution_count": 147,
   "metadata": {
    "collapsed": false
   },
   "outputs": [
    {
     "data": {
      "text/plain": [
       "(1567, 311)"
      ]
     },
     "execution_count": 147,
     "metadata": {},
     "output_type": "execute_result"
    }
   ],
   "source": [
    "idx = dna[[c for c in cat['cat'] if c in dna.columns]].sum(axis = 1) == 4\n",
    "dna[idx].shape"
   ]
  },
  {
   "cell_type": "code",
   "execution_count": 148,
   "metadata": {
    "collapsed": false
   },
   "outputs": [
    {
     "data": {
      "text/plain": [
       "(85, 311)"
      ]
     },
     "execution_count": 148,
     "metadata": {},
     "output_type": "execute_result"
    }
   ],
   "source": [
    "idx = dna[[c for c in cat['cat'] if c in dna.columns]].sum(axis = 1) == 6\n",
    "dna[idx].shape"
   ]
  },
  {
   "cell_type": "code",
   "execution_count": 153,
   "metadata": {
    "collapsed": false
   },
   "outputs": [
    {
     "data": {
      "text/plain": [
       "(37, 311)"
      ]
     },
     "execution_count": 153,
     "metadata": {},
     "output_type": "execute_result"
    }
   ],
   "source": [
    "idx = dna[[c for c in cat['cat'] if c in dna.columns]].sum(axis = 1) == 7\n",
    "dna[idx].shape"
   ]
  },
  {
   "cell_type": "code",
   "execution_count": 156,
   "metadata": {
    "collapsed": false
   },
   "outputs": [
    {
     "data": {
      "text/plain": [
       "1760       6.0\n",
       "1863       7.0\n",
       "7795      14.0\n",
       "18350      8.0\n",
       "19160      7.0\n",
       "19275     11.0\n",
       "29544      6.0\n",
       "29650      7.0\n",
       "35669     14.0\n",
       "46095      8.0\n",
       "46902      7.0\n",
       "47017     11.0\n",
       "57277      6.0\n",
       "57383      7.0\n",
       "63429     14.0\n",
       "73910      8.0\n",
       "74719      7.0\n",
       "74834     11.0\n",
       "85051      6.0\n",
       "85149      7.0\n",
       "90987     14.0\n",
       "101259     8.0\n",
       "102053     7.0\n",
       "102168    11.0\n",
       "112086     6.0\n",
       "112187     7.0\n",
       "117606    14.0\n",
       "128177     7.0\n",
       "128290    11.0\n",
       "137161     6.0\n",
       "137266     7.0\n",
       "140698    14.0\n",
       "147277     7.0\n",
       "147359    11.0\n",
       "152974     6.0\n",
       "153078     7.0\n",
       "155934    14.0\n",
       "Name: ca_tot_c, dtype: float64"
      ]
     },
     "execution_count": 156,
     "metadata": {},
     "output_type": "execute_result"
    }
   ],
   "source": [
    "dna[idx]['ca_tot_c']"
   ]
  },
  {
   "cell_type": "code",
   "execution_count": null,
   "metadata": {
    "collapsed": true
   },
   "outputs": [],
   "source": [
    "[1., 0., 2., 5., 3., 4., 6.]"
   ]
  },
  {
   "cell_type": "code",
   "execution_count": 203,
   "metadata": {
    "collapsed": false
   },
   "outputs": [
    {
     "name": "stdout",
     "output_type": "stream",
     "text": [
      "judgename\n",
      "judgecode\n",
      "judgevote\n",
      "judgeopinion\n"
     ]
    }
   ],
   "source": [
    "for c in data.columns:\n",
    "    if 'judge' in c:\n",
    "        print(c)\n",
    "#data[['judgename','judgecode']]"
   ]
  },
  {
   "cell_type": "code",
   "execution_count": 206,
   "metadata": {
    "collapsed": false
   },
   "outputs": [
    {
     "data": {
      "text/plain": [
       "(171346,)"
      ]
     },
     "execution_count": 206,
     "metadata": {},
     "output_type": "execute_result"
    }
   ],
   "source": [
    "data['judgeopinion'].dropna().shape"
   ]
  },
  {
   "cell_type": "code",
   "execution_count": 207,
   "metadata": {
    "collapsed": false
   },
   "outputs": [
    {
     "data": {
      "text/plain": [
       "(155275,)"
      ]
     },
     "execution_count": 207,
     "metadata": {},
     "output_type": "execute_result"
    }
   ],
   "source": [
    "data['judgename'].dropna().shape"
   ]
  },
  {
   "cell_type": "code",
   "execution_count": 208,
   "metadata": {
    "collapsed": false
   },
   "outputs": [
    {
     "data": {
      "text/plain": [
       "(171346,)"
      ]
     },
     "execution_count": 208,
     "metadata": {},
     "output_type": "execute_result"
    }
   ],
   "source": [
    "data['judgevote'].dropna().shape"
   ]
  },
  {
   "cell_type": "code",
   "execution_count": 209,
   "metadata": {
    "collapsed": false
   },
   "outputs": [
    {
     "data": {
      "text/plain": [
       "(171319,)"
      ]
     },
     "execution_count": 209,
     "metadata": {},
     "output_type": "execute_result"
    }
   ],
   "source": [
    "data['judgecode'].dropna().shape"
   ]
  },
  {
   "cell_type": "code",
   "execution_count": 210,
   "metadata": {
    "collapsed": false
   },
   "outputs": [
    {
     "data": {
      "text/plain": [
       "(342749, 341)"
      ]
     },
     "execution_count": 210,
     "metadata": {},
     "output_type": "execute_result"
    }
   ],
   "source": [
    "data.shape"
   ]
  }
 ],
 "metadata": {
  "anaconda-cloud": {},
  "celltoolbar": "Raw Cell Format",
  "kernelspec": {
   "display_name": "Python [default]",
   "language": "python",
   "name": "python3"
  },
  "language_info": {
   "codemirror_mode": {
    "name": "ipython",
    "version": 3
   },
   "file_extension": ".py",
   "mimetype": "text/x-python",
   "name": "python",
   "nbconvert_exporter": "python",
   "pygments_lexer": "ipython3",
   "version": "3.5.2"
  }
 },
 "nbformat": 4,
 "nbformat_minor": 1
}
