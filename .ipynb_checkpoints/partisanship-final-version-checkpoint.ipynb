{
 "cells": [
  {
   "cell_type": "markdown",
   "metadata": {},
   "source": [
    "# STAT186: partisanship"
   ]
  },
  {
   "cell_type": "code",
   "execution_count": 1125,
   "metadata": {
    "collapsed": true
   },
   "outputs": [],
   "source": [
    "import sys\n",
    "import os\n",
    "import pandas as pd\n",
    "import numpy as np\n",
    "import matplotlib.pyplot as plt\n",
    "plt.style.use('classic')\n",
    "from copy import deepcopy\n",
    "%matplotlib inline"
   ]
  },
  {
   "cell_type": "code",
   "execution_count": 1126,
   "metadata": {
    "collapsed": false
   },
   "outputs": [],
   "source": [
    "def preprocess_PCI(PCI):\n",
    "    p = deepcopy(PCI)\n",
    "    p = p[(p['Year'] > 1994) & (p['Year'] < 1999)]\n",
    "    p['Month'] = [i % 12 + 1 for i in range(len(partisan_conflict))]\n",
    "    return p\n",
    "\n",
    "def daily_freq(PCI, order = 2):\n",
    "    PCI['date'] = '15/' + PCI['Month'].astype(str) + '/' + PCI['Year'].astype(str)\n",
    "    PCI['date'] = pd.to_datetime(PCI['date'], format = '%d/%m/%Y', errors = 'coerce')\n",
    "    PCI = PCI.drop(['Year', 'Month'], axis = 1).set_index('date')\n",
    "    return PCI.resample('D').interpolate(method='spline', order=order)\n",
    "\n",
    "def normalize(x):\n",
    "    return (x - x.mean())/x.std()\n",
    "\n",
    "def date_format(d):\n",
    "    d[['decs_day', 'decs_mo', 'decs_yr']] = d[['decs_day', 'decs_mo', 'decs_yr']].fillna(0)\n",
    "    d['date'] = d['decs_day'].astype(int).astype(str) + '/' + d['decs_mo'].astype(int).astype(str) + '/' + d['decs_yr'].astype(int).astype(str)\n",
    "    d['date'] = pd.to_datetime(d['date'], format = '%d/%m/%Y', errors = 'coerce')\n",
    "    d.drop(['decs_day', 'decs_mo', 'decs_yr'], axis = 1, inplace = True)\n",
    "    return d\n",
    "\n",
    "def subtract_first_judge(df):\n",
    "    df = df.set_index(['masterid', 'date'])\n",
    "    fj = df[df['judgeopinion']==1.0].drop(['Partisan Conflict', 'judgeopinion'], axis = 1)\n",
    "    fj['Partisan Conflict'] = 0\n",
    "    fj['judgeopinion'] = 0\n",
    "    nfj = df[df['judgeopinion']!=1.0]\n",
    "    return nfj.subtract(fj)\n",
    "    "
   ]
  },
  {
   "cell_type": "code",
   "execution_count": 1127,
   "metadata": {
    "collapsed": false
   },
   "outputs": [
    {
     "data": {
      "text/plain": [
       "['.DS_Store',\n",
       " 'crime_cat.csv',\n",
       " 'pci-index-release.xlsx',\n",
       " 'stat186-projdata-2.csv',\n",
       " 'states-codes-capitals.csv',\n",
       " 'states-codes-supcourt-city.csv',\n",
       " 'weather']"
      ]
     },
     "execution_count": 1127,
     "metadata": {},
     "output_type": "execute_result"
    }
   ],
   "source": [
    "os.listdir('../data/')"
   ]
  },
  {
   "cell_type": "code",
   "execution_count": 1128,
   "metadata": {
    "collapsed": false
   },
   "outputs": [],
   "source": [
    "data = pd.read_csv('../data/stat186-projdata-2.csv', index_col = 0, low_memory=False)\n",
    "data = date_format(data)"
   ]
  },
  {
   "cell_type": "code",
   "execution_count": 900,
   "metadata": {
    "collapsed": false
   },
   "outputs": [
    {
     "data": {
      "text/plain": [
       "(171409, 339)"
      ]
     },
     "execution_count": 900,
     "metadata": {},
     "output_type": "execute_result"
    }
   ],
   "source": [
    "data.shape"
   ]
  },
  {
   "cell_type": "code",
   "execution_count": 901,
   "metadata": {
    "collapsed": false
   },
   "outputs": [
    {
     "data": {
      "text/html": [
       "<div>\n",
       "<style scoped>\n",
       "    .dataframe tbody tr th:only-of-type {\n",
       "        vertical-align: middle;\n",
       "    }\n",
       "\n",
       "    .dataframe tbody tr th {\n",
       "        vertical-align: top;\n",
       "    }\n",
       "\n",
       "    .dataframe thead th {\n",
       "        text-align: right;\n",
       "    }\n",
       "</style>\n",
       "<table border=\"1\" class=\"dataframe\">\n",
       "  <thead>\n",
       "    <tr style=\"text-align: right;\">\n",
       "      <th></th>\n",
       "      <th>masterid</th>\n",
       "      <th>id_1</th>\n",
       "      <th>coder</th>\n",
       "      <th>coderid</th>\n",
       "      <th>casen_1</th>\n",
       "      <th>juris</th>\n",
       "      <th>first_ct</th>\n",
       "      <th>agency</th>\n",
       "      <th>agency_r</th>\n",
       "      <th>arbitrat</th>\n",
       "      <th>...</th>\n",
       "      <th>race</th>\n",
       "      <th>gender</th>\n",
       "      <th>pajid</th>\n",
       "      <th>jpid</th>\n",
       "      <th>agedec</th>\n",
       "      <th>EWI</th>\n",
       "      <th>select</th>\n",
       "      <th>retentn</th>\n",
       "      <th>cj</th>\n",
       "      <th>date</th>\n",
       "    </tr>\n",
       "  </thead>\n",
       "  <tbody>\n",
       "    <tr>\n",
       "      <th>0</th>\n",
       "      <td>95.010009765625</td>\n",
       "      <td>102</td>\n",
       "      <td>TEB</td>\n",
       "      <td>1130</td>\n",
       "      <td>1.0</td>\n",
       "      <td>2.0</td>\n",
       "      <td>1.0</td>\n",
       "      <td>0.0</td>\n",
       "      <td>88.0</td>\n",
       "      <td>0.0</td>\n",
       "      <td>...</td>\n",
       "      <td>1.0</td>\n",
       "      <td>1.0</td>\n",
       "      <td>47.23</td>\n",
       "      <td>1.0</td>\n",
       "      <td>66.0</td>\n",
       "      <td>-1.454818</td>\n",
       "      <td>5.0</td>\n",
       "      <td>5.0</td>\n",
       "      <td>0.0</td>\n",
       "      <td>1995-12-01</td>\n",
       "    </tr>\n",
       "    <tr>\n",
       "      <th>1</th>\n",
       "      <td>95.01001739501953</td>\n",
       "      <td>103</td>\n",
       "      <td>TEB</td>\n",
       "      <td>1130</td>\n",
       "      <td>2.0</td>\n",
       "      <td>2.0</td>\n",
       "      <td>2.0</td>\n",
       "      <td>0.0</td>\n",
       "      <td>88.0</td>\n",
       "      <td>0.0</td>\n",
       "      <td>...</td>\n",
       "      <td>1.0</td>\n",
       "      <td>1.0</td>\n",
       "      <td>26.20</td>\n",
       "      <td>1.0</td>\n",
       "      <td>65.0</td>\n",
       "      <td>-1.454818</td>\n",
       "      <td>5.0</td>\n",
       "      <td>5.0</td>\n",
       "      <td>0.0</td>\n",
       "      <td>1995-12-01</td>\n",
       "    </tr>\n",
       "  </tbody>\n",
       "</table>\n",
       "<p>2 rows × 339 columns</p>\n",
       "</div>"
      ],
      "text/plain": [
       "            masterid id_1 coder  coderid  casen_1  juris  first_ct  agency  \\\n",
       "0    95.010009765625  102   TEB     1130      1.0    2.0       1.0     0.0   \n",
       "1  95.01001739501953  103   TEB     1130      2.0    2.0       2.0     0.0   \n",
       "\n",
       "   agency_r  arbitrat    ...      race  gender  pajid  jpid  agedec       EWI  \\\n",
       "0      88.0       0.0    ...       1.0     1.0  47.23   1.0    66.0 -1.454818   \n",
       "1      88.0       0.0    ...       1.0     1.0  26.20   1.0    65.0 -1.454818   \n",
       "\n",
       "  select  retentn   cj       date  \n",
       "0    5.0      5.0  0.0 1995-12-01  \n",
       "1    5.0      5.0  0.0 1995-12-01  \n",
       "\n",
       "[2 rows x 339 columns]"
      ]
     },
     "execution_count": 901,
     "metadata": {},
     "output_type": "execute_result"
    }
   ],
   "source": [
    "data.head(2)"
   ]
  },
  {
   "cell_type": "code",
   "execution_count": 808,
   "metadata": {
    "collapsed": true
   },
   "outputs": [],
   "source": [
    "judge_vars=['judgecode', 'brthyr','race', 'gender','pajid','jpid', 'agedec', 'EWI', 'select', 'retentn', 'cj']"
   ]
  },
  {
   "cell_type": "code",
   "execution_count": 902,
   "metadata": {
    "collapsed": false
   },
   "outputs": [
    {
     "data": {
      "text/html": [
       "<div>\n",
       "<style scoped>\n",
       "    .dataframe tbody tr th:only-of-type {\n",
       "        vertical-align: middle;\n",
       "    }\n",
       "\n",
       "    .dataframe tbody tr th {\n",
       "        vertical-align: top;\n",
       "    }\n",
       "\n",
       "    .dataframe thead th {\n",
       "        text-align: right;\n",
       "    }\n",
       "</style>\n",
       "<table border=\"1\" class=\"dataframe\">\n",
       "  <thead>\n",
       "    <tr style=\"text-align: right;\">\n",
       "      <th></th>\n",
       "      <th>Partisan Conflict</th>\n",
       "    </tr>\n",
       "    <tr>\n",
       "      <th>date</th>\n",
       "      <th></th>\n",
       "    </tr>\n",
       "  </thead>\n",
       "  <tbody>\n",
       "    <tr>\n",
       "      <th>1995-01-15</th>\n",
       "      <td>0.133502</td>\n",
       "    </tr>\n",
       "    <tr>\n",
       "      <th>1995-01-16</th>\n",
       "      <td>0.194759</td>\n",
       "    </tr>\n",
       "    <tr>\n",
       "      <th>1995-01-17</th>\n",
       "      <td>0.250497</td>\n",
       "    </tr>\n",
       "    <tr>\n",
       "      <th>1995-01-18</th>\n",
       "      <td>0.304431</td>\n",
       "    </tr>\n",
       "    <tr>\n",
       "      <th>1995-01-19</th>\n",
       "      <td>0.356562</td>\n",
       "    </tr>\n",
       "  </tbody>\n",
       "</table>\n",
       "</div>"
      ],
      "text/plain": [
       "            Partisan Conflict\n",
       "date                         \n",
       "1995-01-15           0.133502\n",
       "1995-01-16           0.194759\n",
       "1995-01-17           0.250497\n",
       "1995-01-18           0.304431\n",
       "1995-01-19           0.356562"
      ]
     },
     "execution_count": 902,
     "metadata": {},
     "output_type": "execute_result"
    }
   ],
   "source": [
    "PCI = pd.read_excel('../data/pci-index-release.xlsx')\n",
    "PCI = preprocess_PCI(PCI)\n",
    "PCI = daily_freq(PCI)\n",
    "PCI = normalize(PCI)\n",
    "PCI.head()"
   ]
  },
  {
   "cell_type": "code",
   "execution_count": 895,
   "metadata": {
    "collapsed": false
   },
   "outputs": [
    {
     "data": {
      "image/png": "[encoded data removed]",
      "text/plain": [
       "<matplotlib.figure.Figure at 0x1cb79d0908>"
      ]
     },
     "metadata": {},
     "output_type": "display_data"
    }
   ],
   "source": [
    "fig, ax = plt.subplots(figsize = (20, 3))\n",
    "ax.set_title('Normalized upsampled PCI')\n",
    "plt.xticks(rotation=45, fontsize = 8)\n",
    "q = ax.plot(PCI, label = 'PCI')"
   ]
  },
  {
   "cell_type": "code",
   "execution_count": 903,
   "metadata": {
    "collapsed": false
   },
   "outputs": [],
   "source": [
    "data = pd.merge(data, PCI.reset_index(), on = ['date'])"
   ]
  },
  {
   "cell_type": "markdown",
   "metadata": {},
   "source": [
    "# Control for observable confounders and lagged outcomes"
   ]
  },
  {
   "cell_type": "code",
   "execution_count": 918,
   "metadata": {
    "collapsed": false
   },
   "outputs": [
    {
     "data": {
      "text/html": [
       "<div>\n",
       "<style scoped>\n",
       "    .dataframe tbody tr th:only-of-type {\n",
       "        vertical-align: middle;\n",
       "    }\n",
       "\n",
       "    .dataframe tbody tr th {\n",
       "        vertical-align: top;\n",
       "    }\n",
       "\n",
       "    .dataframe thead th {\n",
       "        text-align: right;\n",
       "    }\n",
       "</style>\n",
       "<table border=\"1\" class=\"dataframe\">\n",
       "  <thead>\n",
       "    <tr style=\"text-align: right;\">\n",
       "      <th></th>\n",
       "      <th>masterid</th>\n",
       "      <th>id_1</th>\n",
       "      <th>coder</th>\n",
       "      <th>coderid</th>\n",
       "      <th>casen_1</th>\n",
       "      <th>juris</th>\n",
       "      <th>first_ct</th>\n",
       "      <th>agency</th>\n",
       "      <th>agency_r</th>\n",
       "      <th>arbitrat</th>\n",
       "      <th>...</th>\n",
       "      <th>gender</th>\n",
       "      <th>pajid</th>\n",
       "      <th>jpid</th>\n",
       "      <th>agedec</th>\n",
       "      <th>EWI</th>\n",
       "      <th>select</th>\n",
       "      <th>retentn</th>\n",
       "      <th>cj</th>\n",
       "      <th>date</th>\n",
       "      <th>Partisan Conflict</th>\n",
       "    </tr>\n",
       "  </thead>\n",
       "  <tbody>\n",
       "    <tr>\n",
       "      <th>0</th>\n",
       "      <td>95.010009765625</td>\n",
       "      <td>102</td>\n",
       "      <td>TEB</td>\n",
       "      <td>1130</td>\n",
       "      <td>1.0</td>\n",
       "      <td>2.0</td>\n",
       "      <td>1.0</td>\n",
       "      <td>0.0</td>\n",
       "      <td>88.0</td>\n",
       "      <td>0.0</td>\n",
       "      <td>...</td>\n",
       "      <td>1.0</td>\n",
       "      <td>47.23</td>\n",
       "      <td>1.0</td>\n",
       "      <td>66.0</td>\n",
       "      <td>-1.454818</td>\n",
       "      <td>5.0</td>\n",
       "      <td>5.0</td>\n",
       "      <td>0.0</td>\n",
       "      <td>1995-12-01</td>\n",
       "      <td>2.556076</td>\n",
       "    </tr>\n",
       "    <tr>\n",
       "      <th>1</th>\n",
       "      <td>95.01001739501953</td>\n",
       "      <td>103</td>\n",
       "      <td>TEB</td>\n",
       "      <td>1130</td>\n",
       "      <td>2.0</td>\n",
       "      <td>2.0</td>\n",
       "      <td>2.0</td>\n",
       "      <td>0.0</td>\n",
       "      <td>88.0</td>\n",
       "      <td>0.0</td>\n",
       "      <td>...</td>\n",
       "      <td>1.0</td>\n",
       "      <td>26.20</td>\n",
       "      <td>1.0</td>\n",
       "      <td>65.0</td>\n",
       "      <td>-1.454818</td>\n",
       "      <td>5.0</td>\n",
       "      <td>5.0</td>\n",
       "      <td>0.0</td>\n",
       "      <td>1995-12-01</td>\n",
       "      <td>2.556076</td>\n",
       "    </tr>\n",
       "  </tbody>\n",
       "</table>\n",
       "<p>2 rows × 340 columns</p>\n",
       "</div>"
      ],
      "text/plain": [
       "            masterid id_1 coder  coderid  casen_1  juris  first_ct  agency  \\\n",
       "0    95.010009765625  102   TEB     1130      1.0    2.0       1.0     0.0   \n",
       "1  95.01001739501953  103   TEB     1130      2.0    2.0       2.0     0.0   \n",
       "\n",
       "   agency_r  arbitrat        ...          gender  pajid  jpid  agedec  \\\n",
       "0      88.0       0.0        ...             1.0  47.23   1.0    66.0   \n",
       "1      88.0       0.0        ...             1.0  26.20   1.0    65.0   \n",
       "\n",
       "        EWI select retentn   cj       date  Partisan Conflict  \n",
       "0 -1.454818    5.0     5.0  0.0 1995-12-01           2.556076  \n",
       "1 -1.454818    5.0     5.0  0.0 1995-12-01           2.556076  \n",
       "\n",
       "[2 rows x 340 columns]"
      ]
     },
     "execution_count": 918,
     "metadata": {},
     "output_type": "execute_result"
    }
   ],
   "source": [
    "data.head(2)"
   ]
  },
  {
   "cell_type": "code",
   "execution_count": 919,
   "metadata": {
    "collapsed": false
   },
   "outputs": [],
   "source": [
    "case_data = data[['date', 'masterid', 'judgecode', \n",
    "                  'pajid', 'jpid', 'judgeopinion', \n",
    "                  'race', 'gender', 'agedec', \n",
    "                  'Partisan Conflict']]"
   ]
  },
  {
   "cell_type": "code",
   "execution_count": 920,
   "metadata": {
    "collapsed": false
   },
   "outputs": [
    {
     "data": {
      "text/html": [
       "<div>\n",
       "<style scoped>\n",
       "    .dataframe tbody tr th:only-of-type {\n",
       "        vertical-align: middle;\n",
       "    }\n",
       "\n",
       "    .dataframe tbody tr th {\n",
       "        vertical-align: top;\n",
       "    }\n",
       "\n",
       "    .dataframe thead th {\n",
       "        text-align: right;\n",
       "    }\n",
       "</style>\n",
       "<table border=\"1\" class=\"dataframe\">\n",
       "  <thead>\n",
       "    <tr style=\"text-align: right;\">\n",
       "      <th></th>\n",
       "      <th>date</th>\n",
       "      <th>masterid</th>\n",
       "      <th>judgecode</th>\n",
       "      <th>pajid</th>\n",
       "      <th>jpid</th>\n",
       "      <th>judgeopinion</th>\n",
       "      <th>race</th>\n",
       "      <th>gender</th>\n",
       "      <th>agedec</th>\n",
       "      <th>Partisan Conflict</th>\n",
       "    </tr>\n",
       "  </thead>\n",
       "  <tbody>\n",
       "    <tr>\n",
       "      <th>0</th>\n",
       "      <td>1995-12-01</td>\n",
       "      <td>95.010009765625</td>\n",
       "      <td>107.0</td>\n",
       "      <td>47.23</td>\n",
       "      <td>1.0</td>\n",
       "      <td>1</td>\n",
       "      <td>1.0</td>\n",
       "      <td>1.0</td>\n",
       "      <td>66.0</td>\n",
       "      <td>2.556076</td>\n",
       "    </tr>\n",
       "    <tr>\n",
       "      <th>1</th>\n",
       "      <td>1995-12-01</td>\n",
       "      <td>95.01001739501953</td>\n",
       "      <td>109.0</td>\n",
       "      <td>26.20</td>\n",
       "      <td>1.0</td>\n",
       "      <td>1</td>\n",
       "      <td>1.0</td>\n",
       "      <td>1.0</td>\n",
       "      <td>65.0</td>\n",
       "      <td>2.556076</td>\n",
       "    </tr>\n",
       "  </tbody>\n",
       "</table>\n",
       "</div>"
      ],
      "text/plain": [
       "        date           masterid  judgecode  pajid  jpid  judgeopinion  race  \\\n",
       "0 1995-12-01    95.010009765625      107.0  47.23   1.0             1   1.0   \n",
       "1 1995-12-01  95.01001739501953      109.0  26.20   1.0             1   1.0   \n",
       "\n",
       "   gender  agedec  Partisan Conflict  \n",
       "0     1.0    66.0           2.556076  \n",
       "1     1.0    65.0           2.556076  "
      ]
     },
     "execution_count": 920,
     "metadata": {},
     "output_type": "execute_result"
    }
   ],
   "source": [
    "case_data.head(2)"
   ]
  },
  {
   "cell_type": "code",
   "execution_count": 921,
   "metadata": {
    "collapsed": false
   },
   "outputs": [
    {
     "data": {
      "text/plain": [
       "(168172, 10)"
      ]
     },
     "execution_count": 921,
     "metadata": {},
     "output_type": "execute_result"
    }
   ],
   "source": [
    "case_data.shape"
   ]
  },
  {
   "cell_type": "code",
   "execution_count": 922,
   "metadata": {
    "collapsed": false
   },
   "outputs": [],
   "source": [
    "case_data = remove_no_judge_code(case_data)\n",
    "case_data = case_data[case_data['judgeopinion'] != 55]"
   ]
  },
  {
   "cell_type": "code",
   "execution_count": 929,
   "metadata": {
    "collapsed": false
   },
   "outputs": [
    {
     "data": {
      "text/html": [
       "<div>\n",
       "<style scoped>\n",
       "    .dataframe tbody tr th:only-of-type {\n",
       "        vertical-align: middle;\n",
       "    }\n",
       "\n",
       "    .dataframe tbody tr th {\n",
       "        vertical-align: top;\n",
       "    }\n",
       "\n",
       "    .dataframe thead th {\n",
       "        text-align: right;\n",
       "    }\n",
       "</style>\n",
       "<table border=\"1\" class=\"dataframe\">\n",
       "  <thead>\n",
       "    <tr style=\"text-align: right;\">\n",
       "      <th></th>\n",
       "      <th>date</th>\n",
       "      <th>masterid</th>\n",
       "      <th>pajid</th>\n",
       "      <th>jpid</th>\n",
       "      <th>judgeopinion</th>\n",
       "      <th>race</th>\n",
       "      <th>gender</th>\n",
       "      <th>agedec</th>\n",
       "      <th>Partisan Conflict</th>\n",
       "    </tr>\n",
       "  </thead>\n",
       "  <tbody>\n",
       "    <tr>\n",
       "      <th>0</th>\n",
       "      <td>1995-12-01</td>\n",
       "      <td>95.010009765625</td>\n",
       "      <td>47.23</td>\n",
       "      <td>1.0</td>\n",
       "      <td>1</td>\n",
       "      <td>1.0</td>\n",
       "      <td>1.0</td>\n",
       "      <td>66.0</td>\n",
       "      <td>2.556076</td>\n",
       "    </tr>\n",
       "    <tr>\n",
       "      <th>1</th>\n",
       "      <td>1995-12-01</td>\n",
       "      <td>95.01001739501953</td>\n",
       "      <td>26.20</td>\n",
       "      <td>1.0</td>\n",
       "      <td>1</td>\n",
       "      <td>1.0</td>\n",
       "      <td>1.0</td>\n",
       "      <td>65.0</td>\n",
       "      <td>2.556076</td>\n",
       "    </tr>\n",
       "    <tr>\n",
       "      <th>2</th>\n",
       "      <td>1995-12-01</td>\n",
       "      <td>95.01006317138672</td>\n",
       "      <td>47.23</td>\n",
       "      <td>1.0</td>\n",
       "      <td>1</td>\n",
       "      <td>1.0</td>\n",
       "      <td>1.0</td>\n",
       "      <td>66.0</td>\n",
       "      <td>2.556076</td>\n",
       "    </tr>\n",
       "    <tr>\n",
       "      <th>3</th>\n",
       "      <td>1995-12-01</td>\n",
       "      <td>95.01007080078125</td>\n",
       "      <td>30.69</td>\n",
       "      <td>1.0</td>\n",
       "      <td>1</td>\n",
       "      <td>1.0</td>\n",
       "      <td>1.0</td>\n",
       "      <td>58.0</td>\n",
       "      <td>2.556076</td>\n",
       "    </tr>\n",
       "    <tr>\n",
       "      <th>4</th>\n",
       "      <td>1995-12-01</td>\n",
       "      <td>95.01068115234375</td>\n",
       "      <td>46.88</td>\n",
       "      <td>1.0</td>\n",
       "      <td>1</td>\n",
       "      <td>2.0</td>\n",
       "      <td>1.0</td>\n",
       "      <td>51.0</td>\n",
       "      <td>2.556076</td>\n",
       "    </tr>\n",
       "  </tbody>\n",
       "</table>\n",
       "</div>"
      ],
      "text/plain": [
       "        date           masterid  pajid  jpid  judgeopinion  race  gender  \\\n",
       "0 1995-12-01    95.010009765625  47.23   1.0             1   1.0     1.0   \n",
       "1 1995-12-01  95.01001739501953  26.20   1.0             1   1.0     1.0   \n",
       "2 1995-12-01  95.01006317138672  47.23   1.0             1   1.0     1.0   \n",
       "3 1995-12-01  95.01007080078125  30.69   1.0             1   1.0     1.0   \n",
       "4 1995-12-01  95.01068115234375  46.88   1.0             1   2.0     1.0   \n",
       "\n",
       "   agedec  Partisan Conflict  \n",
       "0    66.0           2.556076  \n",
       "1    65.0           2.556076  \n",
       "2    66.0           2.556076  \n",
       "3    58.0           2.556076  \n",
       "4    51.0           2.556076  "
      ]
     },
     "execution_count": 929,
     "metadata": {},
     "output_type": "execute_result"
    }
   ],
   "source": [
    "case_data.head()"
   ]
  },
  {
   "cell_type": "code",
   "execution_count": 1050,
   "metadata": {
    "collapsed": false
   },
   "outputs": [],
   "source": [
    "c = subtract_first_judge(case_data)"
   ]
  },
  {
   "cell_type": "code",
   "execution_count": 1051,
   "metadata": {
    "collapsed": false
   },
   "outputs": [
    {
     "data": {
      "text/html": [
       "<div>\n",
       "<style scoped>\n",
       "    .dataframe tbody tr th:only-of-type {\n",
       "        vertical-align: middle;\n",
       "    }\n",
       "\n",
       "    .dataframe tbody tr th {\n",
       "        vertical-align: top;\n",
       "    }\n",
       "\n",
       "    .dataframe thead th {\n",
       "        text-align: right;\n",
       "    }\n",
       "</style>\n",
       "<table border=\"1\" class=\"dataframe\">\n",
       "  <thead>\n",
       "    <tr style=\"text-align: right;\">\n",
       "      <th></th>\n",
       "      <th></th>\n",
       "      <th>Partisan Conflict</th>\n",
       "      <th>agedec</th>\n",
       "      <th>gender</th>\n",
       "      <th>jpid</th>\n",
       "      <th>judgeopinion</th>\n",
       "      <th>pajid</th>\n",
       "      <th>race</th>\n",
       "    </tr>\n",
       "    <tr>\n",
       "      <th>masterid</th>\n",
       "      <th>date</th>\n",
       "      <th></th>\n",
       "      <th></th>\n",
       "      <th></th>\n",
       "      <th></th>\n",
       "      <th></th>\n",
       "      <th></th>\n",
       "      <th></th>\n",
       "    </tr>\n",
       "  </thead>\n",
       "  <tbody>\n",
       "    <tr>\n",
       "      <th rowspan=\"4\" valign=\"top\">95.010009765625</th>\n",
       "      <th>1995-12-01</th>\n",
       "      <td>2.556076</td>\n",
       "      <td>4.0</td>\n",
       "      <td>0.0</td>\n",
       "      <td>1.0</td>\n",
       "      <td>2.0</td>\n",
       "      <td>-39.12</td>\n",
       "      <td>0.0</td>\n",
       "    </tr>\n",
       "    <tr>\n",
       "      <th>1995-12-01</th>\n",
       "      <td>2.556076</td>\n",
       "      <td>-8.0</td>\n",
       "      <td>0.0</td>\n",
       "      <td>0.0</td>\n",
       "      <td>2.0</td>\n",
       "      <td>-16.54</td>\n",
       "      <td>0.0</td>\n",
       "    </tr>\n",
       "    <tr>\n",
       "      <th>1995-12-01</th>\n",
       "      <td>2.556076</td>\n",
       "      <td>-4.0</td>\n",
       "      <td>0.0</td>\n",
       "      <td>0.0</td>\n",
       "      <td>2.0</td>\n",
       "      <td>-1.79</td>\n",
       "      <td>0.0</td>\n",
       "    </tr>\n",
       "    <tr>\n",
       "      <th>1995-12-01</th>\n",
       "      <td>2.556076</td>\n",
       "      <td>-15.0</td>\n",
       "      <td>0.0</td>\n",
       "      <td>0.0</td>\n",
       "      <td>2.0</td>\n",
       "      <td>-10.95</td>\n",
       "      <td>0.0</td>\n",
       "    </tr>\n",
       "    <tr>\n",
       "      <th rowspan=\"6\" valign=\"top\">95.01001739501953</th>\n",
       "      <th>1995-12-01</th>\n",
       "      <td>2.556076</td>\n",
       "      <td>5.0</td>\n",
       "      <td>0.0</td>\n",
       "      <td>1.0</td>\n",
       "      <td>2.0</td>\n",
       "      <td>-18.09</td>\n",
       "      <td>0.0</td>\n",
       "    </tr>\n",
       "    <tr>\n",
       "      <th>1995-12-01</th>\n",
       "      <td>2.556076</td>\n",
       "      <td>-7.0</td>\n",
       "      <td>0.0</td>\n",
       "      <td>0.0</td>\n",
       "      <td>2.0</td>\n",
       "      <td>4.49</td>\n",
       "      <td>0.0</td>\n",
       "    </tr>\n",
       "    <tr>\n",
       "      <th>1995-12-01</th>\n",
       "      <td>2.556076</td>\n",
       "      <td>-3.0</td>\n",
       "      <td>0.0</td>\n",
       "      <td>0.0</td>\n",
       "      <td>2.0</td>\n",
       "      <td>19.24</td>\n",
       "      <td>0.0</td>\n",
       "    </tr>\n",
       "    <tr>\n",
       "      <th>1995-12-01</th>\n",
       "      <td>2.556076</td>\n",
       "      <td>-22.0</td>\n",
       "      <td>0.0</td>\n",
       "      <td>0.0</td>\n",
       "      <td>2.0</td>\n",
       "      <td>18.96</td>\n",
       "      <td>0.0</td>\n",
       "    </tr>\n",
       "    <tr>\n",
       "      <th>1995-12-01</th>\n",
       "      <td>2.556076</td>\n",
       "      <td>-14.0</td>\n",
       "      <td>0.0</td>\n",
       "      <td>0.0</td>\n",
       "      <td>2.0</td>\n",
       "      <td>20.68</td>\n",
       "      <td>1.0</td>\n",
       "    </tr>\n",
       "    <tr>\n",
       "      <th>1995-12-01</th>\n",
       "      <td>2.556076</td>\n",
       "      <td>-14.0</td>\n",
       "      <td>0.0</td>\n",
       "      <td>0.0</td>\n",
       "      <td>2.0</td>\n",
       "      <td>10.08</td>\n",
       "      <td>0.0</td>\n",
       "    </tr>\n",
       "    <tr>\n",
       "      <th rowspan=\"6\" valign=\"top\">95.01004791259766</th>\n",
       "      <th>1995-03-17</th>\n",
       "      <td>0.624620</td>\n",
       "      <td>-7.0</td>\n",
       "      <td>0.0</td>\n",
       "      <td>0.0</td>\n",
       "      <td>2.0</td>\n",
       "      <td>4.49</td>\n",
       "      <td>0.0</td>\n",
       "    </tr>\n",
       "    <tr>\n",
       "      <th>1995-03-17</th>\n",
       "      <td>0.624620</td>\n",
       "      <td>-2.0</td>\n",
       "      <td>1.0</td>\n",
       "      <td>0.0</td>\n",
       "      <td>2.0</td>\n",
       "      <td>4.28</td>\n",
       "      <td>0.0</td>\n",
       "    </tr>\n",
       "    <tr>\n",
       "      <th>1995-03-17</th>\n",
       "      <td>0.624620</td>\n",
       "      <td>-3.0</td>\n",
       "      <td>0.0</td>\n",
       "      <td>0.0</td>\n",
       "      <td>2.0</td>\n",
       "      <td>19.24</td>\n",
       "      <td>0.0</td>\n",
       "    </tr>\n",
       "    <tr>\n",
       "      <th>1995-03-17</th>\n",
       "      <td>0.624620</td>\n",
       "      <td>1.0</td>\n",
       "      <td>0.0</td>\n",
       "      <td>0.0</td>\n",
       "      <td>2.0</td>\n",
       "      <td>21.03</td>\n",
       "      <td>0.0</td>\n",
       "    </tr>\n",
       "    <tr>\n",
       "      <th>1995-03-17</th>\n",
       "      <td>0.624620</td>\n",
       "      <td>-14.0</td>\n",
       "      <td>0.0</td>\n",
       "      <td>0.0</td>\n",
       "      <td>2.0</td>\n",
       "      <td>20.68</td>\n",
       "      <td>1.0</td>\n",
       "    </tr>\n",
       "    <tr>\n",
       "      <th>1995-03-17</th>\n",
       "      <td>0.624620</td>\n",
       "      <td>-14.0</td>\n",
       "      <td>0.0</td>\n",
       "      <td>0.0</td>\n",
       "      <td>2.0</td>\n",
       "      <td>10.08</td>\n",
       "      <td>0.0</td>\n",
       "    </tr>\n",
       "    <tr>\n",
       "      <th rowspan=\"4\" valign=\"top\">95.01006317138672</th>\n",
       "      <th>1995-12-01</th>\n",
       "      <td>2.556076</td>\n",
       "      <td>4.0</td>\n",
       "      <td>0.0</td>\n",
       "      <td>1.0</td>\n",
       "      <td>2.0</td>\n",
       "      <td>-39.12</td>\n",
       "      <td>0.0</td>\n",
       "    </tr>\n",
       "    <tr>\n",
       "      <th>1995-12-01</th>\n",
       "      <td>2.556076</td>\n",
       "      <td>-8.0</td>\n",
       "      <td>0.0</td>\n",
       "      <td>0.0</td>\n",
       "      <td>2.0</td>\n",
       "      <td>-16.54</td>\n",
       "      <td>0.0</td>\n",
       "    </tr>\n",
       "    <tr>\n",
       "      <th>1995-12-01</th>\n",
       "      <td>2.556076</td>\n",
       "      <td>-4.0</td>\n",
       "      <td>0.0</td>\n",
       "      <td>0.0</td>\n",
       "      <td>2.0</td>\n",
       "      <td>-1.79</td>\n",
       "      <td>0.0</td>\n",
       "    </tr>\n",
       "    <tr>\n",
       "      <th>1995-12-01</th>\n",
       "      <td>2.556076</td>\n",
       "      <td>-15.0</td>\n",
       "      <td>0.0</td>\n",
       "      <td>0.0</td>\n",
       "      <td>2.0</td>\n",
       "      <td>-10.95</td>\n",
       "      <td>0.0</td>\n",
       "    </tr>\n",
       "    <tr>\n",
       "      <th rowspan=\"4\" valign=\"top\">95.01007080078125</th>\n",
       "      <th>1995-12-01</th>\n",
       "      <td>2.556076</td>\n",
       "      <td>12.0</td>\n",
       "      <td>0.0</td>\n",
       "      <td>1.0</td>\n",
       "      <td>2.0</td>\n",
       "      <td>-22.58</td>\n",
       "      <td>0.0</td>\n",
       "    </tr>\n",
       "    <tr>\n",
       "      <th>1995-12-01</th>\n",
       "      <td>2.556076</td>\n",
       "      <td>4.0</td>\n",
       "      <td>0.0</td>\n",
       "      <td>0.0</td>\n",
       "      <td>2.0</td>\n",
       "      <td>14.75</td>\n",
       "      <td>0.0</td>\n",
       "    </tr>\n",
       "    <tr>\n",
       "      <th>1995-12-01</th>\n",
       "      <td>2.556076</td>\n",
       "      <td>8.0</td>\n",
       "      <td>0.0</td>\n",
       "      <td>0.0</td>\n",
       "      <td>2.0</td>\n",
       "      <td>16.54</td>\n",
       "      <td>0.0</td>\n",
       "    </tr>\n",
       "    <tr>\n",
       "      <th>1995-12-01</th>\n",
       "      <td>2.556076</td>\n",
       "      <td>-7.0</td>\n",
       "      <td>0.0</td>\n",
       "      <td>0.0</td>\n",
       "      <td>2.0</td>\n",
       "      <td>5.59</td>\n",
       "      <td>0.0</td>\n",
       "    </tr>\n",
       "    <tr>\n",
       "      <th rowspan=\"6\" valign=\"top\">95.01007843017578</th>\n",
       "      <th>1995-11-22</th>\n",
       "      <td>2.702780</td>\n",
       "      <td>15.0</td>\n",
       "      <td>0.0</td>\n",
       "      <td>0.0</td>\n",
       "      <td>2.0</td>\n",
       "      <td>-14.47</td>\n",
       "      <td>0.0</td>\n",
       "    </tr>\n",
       "    <tr>\n",
       "      <th>1995-11-22</th>\n",
       "      <td>2.702780</td>\n",
       "      <td>20.0</td>\n",
       "      <td>1.0</td>\n",
       "      <td>0.0</td>\n",
       "      <td>2.0</td>\n",
       "      <td>-14.68</td>\n",
       "      <td>0.0</td>\n",
       "    </tr>\n",
       "    <tr>\n",
       "      <th>1995-11-22</th>\n",
       "      <td>2.702780</td>\n",
       "      <td>23.0</td>\n",
       "      <td>0.0</td>\n",
       "      <td>0.0</td>\n",
       "      <td>2.0</td>\n",
       "      <td>2.07</td>\n",
       "      <td>0.0</td>\n",
       "    </tr>\n",
       "    <tr>\n",
       "      <th>1995-11-22</th>\n",
       "      <td>2.702780</td>\n",
       "      <td>8.0</td>\n",
       "      <td>0.0</td>\n",
       "      <td>0.0</td>\n",
       "      <td>2.0</td>\n",
       "      <td>-8.88</td>\n",
       "      <td>0.0</td>\n",
       "    </tr>\n",
       "    <tr>\n",
       "      <th>1995-11-22</th>\n",
       "      <td>2.702780</td>\n",
       "      <td>27.0</td>\n",
       "      <td>0.0</td>\n",
       "      <td>1.0</td>\n",
       "      <td>9.0</td>\n",
       "      <td>-37.05</td>\n",
       "      <td>0.0</td>\n",
       "    </tr>\n",
       "    <tr>\n",
       "      <th>1995-11-22</th>\n",
       "      <td>2.702780</td>\n",
       "      <td>22.0</td>\n",
       "      <td>0.0</td>\n",
       "      <td>0.0</td>\n",
       "      <td>9.0</td>\n",
       "      <td>-18.96</td>\n",
       "      <td>0.0</td>\n",
       "    </tr>\n",
       "    <tr>\n",
       "      <th>...</th>\n",
       "      <th>...</th>\n",
       "      <td>...</td>\n",
       "      <td>...</td>\n",
       "      <td>...</td>\n",
       "      <td>...</td>\n",
       "      <td>...</td>\n",
       "      <td>...</td>\n",
       "      <td>...</td>\n",
       "    </tr>\n",
       "    <tr>\n",
       "      <th>98.50144958496094</th>\n",
       "      <th>1998-12-04</th>\n",
       "      <td>-1.232231</td>\n",
       "      <td>NaN</td>\n",
       "      <td>0.0</td>\n",
       "      <td>0.0</td>\n",
       "      <td>2.0</td>\n",
       "      <td>40.68</td>\n",
       "      <td>0.0</td>\n",
       "    </tr>\n",
       "    <tr>\n",
       "      <th rowspan=\"3\" valign=\"top\">98.50145721435547</th>\n",
       "      <th>1998-12-07</th>\n",
       "      <td>-1.171871</td>\n",
       "      <td>NaN</td>\n",
       "      <td>0.0</td>\n",
       "      <td>0.0</td>\n",
       "      <td>2.0</td>\n",
       "      <td>-40.46</td>\n",
       "      <td>0.0</td>\n",
       "    </tr>\n",
       "    <tr>\n",
       "      <th>1998-12-07</th>\n",
       "      <td>-1.171871</td>\n",
       "      <td>-2.0</td>\n",
       "      <td>0.0</td>\n",
       "      <td>1.0</td>\n",
       "      <td>2.0</td>\n",
       "      <td>-42.56</td>\n",
       "      <td>0.0</td>\n",
       "    </tr>\n",
       "    <tr>\n",
       "      <th>1998-12-07</th>\n",
       "      <td>-1.171871</td>\n",
       "      <td>-12.0</td>\n",
       "      <td>0.0</td>\n",
       "      <td>0.0</td>\n",
       "      <td>2.0</td>\n",
       "      <td>0.22</td>\n",
       "      <td>0.0</td>\n",
       "    </tr>\n",
       "    <tr>\n",
       "      <th rowspan=\"3\" valign=\"top\">98.50148010253906</th>\n",
       "      <th>1998-12-04</th>\n",
       "      <td>-1.232231</td>\n",
       "      <td>NaN</td>\n",
       "      <td>0.0</td>\n",
       "      <td>0.0</td>\n",
       "      <td>2.0</td>\n",
       "      <td>40.46</td>\n",
       "      <td>0.0</td>\n",
       "    </tr>\n",
       "    <tr>\n",
       "      <th>1998-12-04</th>\n",
       "      <td>-1.232231</td>\n",
       "      <td>NaN</td>\n",
       "      <td>0.0</td>\n",
       "      <td>0.0</td>\n",
       "      <td>2.0</td>\n",
       "      <td>40.68</td>\n",
       "      <td>0.0</td>\n",
       "    </tr>\n",
       "    <tr>\n",
       "      <th>1998-12-04</th>\n",
       "      <td>-1.232231</td>\n",
       "      <td>NaN</td>\n",
       "      <td>0.0</td>\n",
       "      <td>1.0</td>\n",
       "      <td>2.0</td>\n",
       "      <td>-2.10</td>\n",
       "      <td>0.0</td>\n",
       "    </tr>\n",
       "    <tr>\n",
       "      <th rowspan=\"3\" valign=\"top\">98.5014877319336</th>\n",
       "      <th>1998-12-14</th>\n",
       "      <td>-0.909909</td>\n",
       "      <td>NaN</td>\n",
       "      <td>0.0</td>\n",
       "      <td>0.0</td>\n",
       "      <td>2.0</td>\n",
       "      <td>-40.46</td>\n",
       "      <td>0.0</td>\n",
       "    </tr>\n",
       "    <tr>\n",
       "      <th>1998-12-14</th>\n",
       "      <td>-0.909909</td>\n",
       "      <td>-12.0</td>\n",
       "      <td>0.0</td>\n",
       "      <td>0.0</td>\n",
       "      <td>2.0</td>\n",
       "      <td>0.22</td>\n",
       "      <td>0.0</td>\n",
       "    </tr>\n",
       "    <tr>\n",
       "      <th>1998-12-14</th>\n",
       "      <td>-0.909909</td>\n",
       "      <td>-2.0</td>\n",
       "      <td>0.0</td>\n",
       "      <td>1.0</td>\n",
       "      <td>2.0</td>\n",
       "      <td>-42.56</td>\n",
       "      <td>0.0</td>\n",
       "    </tr>\n",
       "    <tr>\n",
       "      <th rowspan=\"3\" valign=\"top\">98.50150299072266</th>\n",
       "      <th>1998-12-10</th>\n",
       "      <td>-1.080366</td>\n",
       "      <td>-12.0</td>\n",
       "      <td>0.0</td>\n",
       "      <td>0.0</td>\n",
       "      <td>6.0</td>\n",
       "      <td>0.22</td>\n",
       "      <td>0.0</td>\n",
       "    </tr>\n",
       "    <tr>\n",
       "      <th>1998-12-10</th>\n",
       "      <td>-1.080366</td>\n",
       "      <td>NaN</td>\n",
       "      <td>0.0</td>\n",
       "      <td>0.0</td>\n",
       "      <td>7.0</td>\n",
       "      <td>-40.46</td>\n",
       "      <td>0.0</td>\n",
       "    </tr>\n",
       "    <tr>\n",
       "      <th>1998-12-10</th>\n",
       "      <td>-1.080366</td>\n",
       "      <td>0.0</td>\n",
       "      <td>0.0</td>\n",
       "      <td>1.0</td>\n",
       "      <td>2.0</td>\n",
       "      <td>-21.37</td>\n",
       "      <td>0.0</td>\n",
       "    </tr>\n",
       "    <tr>\n",
       "      <th rowspan=\"2\" valign=\"top\">98.50151062011719</th>\n",
       "      <th>1998-12-10</th>\n",
       "      <td>-1.080366</td>\n",
       "      <td>-2.0</td>\n",
       "      <td>0.0</td>\n",
       "      <td>1.0</td>\n",
       "      <td>2.0</td>\n",
       "      <td>-42.56</td>\n",
       "      <td>0.0</td>\n",
       "    </tr>\n",
       "    <tr>\n",
       "      <th>1998-12-10</th>\n",
       "      <td>-1.080366</td>\n",
       "      <td>NaN</td>\n",
       "      <td>0.0</td>\n",
       "      <td>0.0</td>\n",
       "      <td>2.0</td>\n",
       "      <td>-40.46</td>\n",
       "      <td>0.0</td>\n",
       "    </tr>\n",
       "    <tr>\n",
       "      <th rowspan=\"3\" valign=\"top\">98.50151824951172</th>\n",
       "      <th>1998-12-10</th>\n",
       "      <td>-1.080366</td>\n",
       "      <td>NaN</td>\n",
       "      <td>0.0</td>\n",
       "      <td>0.0</td>\n",
       "      <td>2.0</td>\n",
       "      <td>40.46</td>\n",
       "      <td>0.0</td>\n",
       "    </tr>\n",
       "    <tr>\n",
       "      <th>1998-12-10</th>\n",
       "      <td>-1.080366</td>\n",
       "      <td>NaN</td>\n",
       "      <td>0.0</td>\n",
       "      <td>1.0</td>\n",
       "      <td>2.0</td>\n",
       "      <td>-2.10</td>\n",
       "      <td>0.0</td>\n",
       "    </tr>\n",
       "    <tr>\n",
       "      <th>1998-12-10</th>\n",
       "      <td>-1.080366</td>\n",
       "      <td>NaN</td>\n",
       "      <td>0.0</td>\n",
       "      <td>0.0</td>\n",
       "      <td>2.0</td>\n",
       "      <td>40.68</td>\n",
       "      <td>0.0</td>\n",
       "    </tr>\n",
       "    <tr>\n",
       "      <th rowspan=\"3\" valign=\"top\">98.50153350830078</th>\n",
       "      <th>1998-12-09</th>\n",
       "      <td>-1.114328</td>\n",
       "      <td>12.0</td>\n",
       "      <td>0.0</td>\n",
       "      <td>0.0</td>\n",
       "      <td>2.0</td>\n",
       "      <td>-0.22</td>\n",
       "      <td>0.0</td>\n",
       "    </tr>\n",
       "    <tr>\n",
       "      <th>1998-12-09</th>\n",
       "      <td>-1.114328</td>\n",
       "      <td>NaN</td>\n",
       "      <td>0.0</td>\n",
       "      <td>0.0</td>\n",
       "      <td>2.0</td>\n",
       "      <td>-40.68</td>\n",
       "      <td>0.0</td>\n",
       "    </tr>\n",
       "    <tr>\n",
       "      <th>1998-12-09</th>\n",
       "      <td>-1.114328</td>\n",
       "      <td>10.0</td>\n",
       "      <td>0.0</td>\n",
       "      <td>1.0</td>\n",
       "      <td>2.0</td>\n",
       "      <td>-42.78</td>\n",
       "      <td>0.0</td>\n",
       "    </tr>\n",
       "    <tr>\n",
       "      <th rowspan=\"3\" valign=\"top\">98.50154113769531</th>\n",
       "      <th>1998-12-10</th>\n",
       "      <td>-1.080366</td>\n",
       "      <td>NaN</td>\n",
       "      <td>0.0</td>\n",
       "      <td>0.0</td>\n",
       "      <td>2.0</td>\n",
       "      <td>40.46</td>\n",
       "      <td>0.0</td>\n",
       "    </tr>\n",
       "    <tr>\n",
       "      <th>1998-12-10</th>\n",
       "      <td>-1.080366</td>\n",
       "      <td>NaN</td>\n",
       "      <td>0.0</td>\n",
       "      <td>0.0</td>\n",
       "      <td>2.0</td>\n",
       "      <td>40.68</td>\n",
       "      <td>0.0</td>\n",
       "    </tr>\n",
       "    <tr>\n",
       "      <th>1998-12-10</th>\n",
       "      <td>-1.080366</td>\n",
       "      <td>NaN</td>\n",
       "      <td>0.0</td>\n",
       "      <td>1.0</td>\n",
       "      <td>2.0</td>\n",
       "      <td>-2.10</td>\n",
       "      <td>0.0</td>\n",
       "    </tr>\n",
       "    <tr>\n",
       "      <th rowspan=\"3\" valign=\"top\">98.50154876708984</th>\n",
       "      <th>1998-12-08</th>\n",
       "      <td>-1.144830</td>\n",
       "      <td>NaN</td>\n",
       "      <td>0.0</td>\n",
       "      <td>0.0</td>\n",
       "      <td>2.0</td>\n",
       "      <td>40.46</td>\n",
       "      <td>0.0</td>\n",
       "    </tr>\n",
       "    <tr>\n",
       "      <th>1998-12-08</th>\n",
       "      <td>-1.144830</td>\n",
       "      <td>NaN</td>\n",
       "      <td>0.0</td>\n",
       "      <td>0.0</td>\n",
       "      <td>2.0</td>\n",
       "      <td>40.68</td>\n",
       "      <td>0.0</td>\n",
       "    </tr>\n",
       "    <tr>\n",
       "      <th>1998-12-08</th>\n",
       "      <td>-1.144830</td>\n",
       "      <td>NaN</td>\n",
       "      <td>0.0</td>\n",
       "      <td>1.0</td>\n",
       "      <td>2.0</td>\n",
       "      <td>-2.10</td>\n",
       "      <td>0.0</td>\n",
       "    </tr>\n",
       "    <tr>\n",
       "      <th rowspan=\"3\" valign=\"top\">98.50163269042969</th>\n",
       "      <th>1998-12-15</th>\n",
       "      <td>-0.839745</td>\n",
       "      <td>NaN</td>\n",
       "      <td>0.0</td>\n",
       "      <td>0.0</td>\n",
       "      <td>2.0</td>\n",
       "      <td>40.46</td>\n",
       "      <td>0.0</td>\n",
       "    </tr>\n",
       "    <tr>\n",
       "      <th>1998-12-15</th>\n",
       "      <td>-0.839745</td>\n",
       "      <td>NaN</td>\n",
       "      <td>0.0</td>\n",
       "      <td>1.0</td>\n",
       "      <td>2.0</td>\n",
       "      <td>-2.10</td>\n",
       "      <td>0.0</td>\n",
       "    </tr>\n",
       "    <tr>\n",
       "      <th>1998-12-15</th>\n",
       "      <td>-0.839745</td>\n",
       "      <td>NaN</td>\n",
       "      <td>0.0</td>\n",
       "      <td>0.0</td>\n",
       "      <td>2.0</td>\n",
       "      <td>40.68</td>\n",
       "      <td>0.0</td>\n",
       "    </tr>\n",
       "  </tbody>\n",
       "</table>\n",
       "<p>114168 rows × 7 columns</p>\n",
       "</div>"
      ],
      "text/plain": [
       "                              Partisan Conflict  agedec  gender  jpid  \\\n",
       "masterid          date                                                  \n",
       "95.010009765625   1995-12-01           2.556076     4.0     0.0   1.0   \n",
       "                  1995-12-01           2.556076    -8.0     0.0   0.0   \n",
       "                  1995-12-01           2.556076    -4.0     0.0   0.0   \n",
       "                  1995-12-01           2.556076   -15.0     0.0   0.0   \n",
       "95.01001739501953 1995-12-01           2.556076     5.0     0.0   1.0   \n",
       "                  1995-12-01           2.556076    -7.0     0.0   0.0   \n",
       "                  1995-12-01           2.556076    -3.0     0.0   0.0   \n",
       "                  1995-12-01           2.556076   -22.0     0.0   0.0   \n",
       "                  1995-12-01           2.556076   -14.0     0.0   0.0   \n",
       "                  1995-12-01           2.556076   -14.0     0.0   0.0   \n",
       "95.01004791259766 1995-03-17           0.624620    -7.0     0.0   0.0   \n",
       "                  1995-03-17           0.624620    -2.0     1.0   0.0   \n",
       "                  1995-03-17           0.624620    -3.0     0.0   0.0   \n",
       "                  1995-03-17           0.624620     1.0     0.0   0.0   \n",
       "                  1995-03-17           0.624620   -14.0     0.0   0.0   \n",
       "                  1995-03-17           0.624620   -14.0     0.0   0.0   \n",
       "95.01006317138672 1995-12-01           2.556076     4.0     0.0   1.0   \n",
       "                  1995-12-01           2.556076    -8.0     0.0   0.0   \n",
       "                  1995-12-01           2.556076    -4.0     0.0   0.0   \n",
       "                  1995-12-01           2.556076   -15.0     0.0   0.0   \n",
       "95.01007080078125 1995-12-01           2.556076    12.0     0.0   1.0   \n",
       "                  1995-12-01           2.556076     4.0     0.0   0.0   \n",
       "                  1995-12-01           2.556076     8.0     0.0   0.0   \n",
       "                  1995-12-01           2.556076    -7.0     0.0   0.0   \n",
       "95.01007843017578 1995-11-22           2.702780    15.0     0.0   0.0   \n",
       "                  1995-11-22           2.702780    20.0     1.0   0.0   \n",
       "                  1995-11-22           2.702780    23.0     0.0   0.0   \n",
       "                  1995-11-22           2.702780     8.0     0.0   0.0   \n",
       "                  1995-11-22           2.702780    27.0     0.0   1.0   \n",
       "                  1995-11-22           2.702780    22.0     0.0   0.0   \n",
       "...                                         ...     ...     ...   ...   \n",
       "98.50144958496094 1998-12-04          -1.232231     NaN     0.0   0.0   \n",
       "98.50145721435547 1998-12-07          -1.171871     NaN     0.0   0.0   \n",
       "                  1998-12-07          -1.171871    -2.0     0.0   1.0   \n",
       "                  1998-12-07          -1.171871   -12.0     0.0   0.0   \n",
       "98.50148010253906 1998-12-04          -1.232231     NaN     0.0   0.0   \n",
       "                  1998-12-04          -1.232231     NaN     0.0   0.0   \n",
       "                  1998-12-04          -1.232231     NaN     0.0   1.0   \n",
       "98.5014877319336  1998-12-14          -0.909909     NaN     0.0   0.0   \n",
       "                  1998-12-14          -0.909909   -12.0     0.0   0.0   \n",
       "                  1998-12-14          -0.909909    -2.0     0.0   1.0   \n",
       "98.50150299072266 1998-12-10          -1.080366   -12.0     0.0   0.0   \n",
       "                  1998-12-10          -1.080366     NaN     0.0   0.0   \n",
       "                  1998-12-10          -1.080366     0.0     0.0   1.0   \n",
       "98.50151062011719 1998-12-10          -1.080366    -2.0     0.0   1.0   \n",
       "                  1998-12-10          -1.080366     NaN     0.0   0.0   \n",
       "98.50151824951172 1998-12-10          -1.080366     NaN     0.0   0.0   \n",
       "                  1998-12-10          -1.080366     NaN     0.0   1.0   \n",
       "                  1998-12-10          -1.080366     NaN     0.0   0.0   \n",
       "98.50153350830078 1998-12-09          -1.114328    12.0     0.0   0.0   \n",
       "                  1998-12-09          -1.114328     NaN     0.0   0.0   \n",
       "                  1998-12-09          -1.114328    10.0     0.0   1.0   \n",
       "98.50154113769531 1998-12-10          -1.080366     NaN     0.0   0.0   \n",
       "                  1998-12-10          -1.080366     NaN     0.0   0.0   \n",
       "                  1998-12-10          -1.080366     NaN     0.0   1.0   \n",
       "98.50154876708984 1998-12-08          -1.144830     NaN     0.0   0.0   \n",
       "                  1998-12-08          -1.144830     NaN     0.0   0.0   \n",
       "                  1998-12-08          -1.144830     NaN     0.0   1.0   \n",
       "98.50163269042969 1998-12-15          -0.839745     NaN     0.0   0.0   \n",
       "                  1998-12-15          -0.839745     NaN     0.0   1.0   \n",
       "                  1998-12-15          -0.839745     NaN     0.0   0.0   \n",
       "\n",
       "                              judgeopinion  pajid  race  \n",
       "masterid          date                                   \n",
       "95.010009765625   1995-12-01           2.0 -39.12   0.0  \n",
       "                  1995-12-01           2.0 -16.54   0.0  \n",
       "                  1995-12-01           2.0  -1.79   0.0  \n",
       "                  1995-12-01           2.0 -10.95   0.0  \n",
       "95.01001739501953 1995-12-01           2.0 -18.09   0.0  \n",
       "                  1995-12-01           2.0   4.49   0.0  \n",
       "                  1995-12-01           2.0  19.24   0.0  \n",
       "                  1995-12-01           2.0  18.96   0.0  \n",
       "                  1995-12-01           2.0  20.68   1.0  \n",
       "                  1995-12-01           2.0  10.08   0.0  \n",
       "95.01004791259766 1995-03-17           2.0   4.49   0.0  \n",
       "                  1995-03-17           2.0   4.28   0.0  \n",
       "                  1995-03-17           2.0  19.24   0.0  \n",
       "                  1995-03-17           2.0  21.03   0.0  \n",
       "                  1995-03-17           2.0  20.68   1.0  \n",
       "                  1995-03-17           2.0  10.08   0.0  \n",
       "95.01006317138672 1995-12-01           2.0 -39.12   0.0  \n",
       "                  1995-12-01           2.0 -16.54   0.0  \n",
       "                  1995-12-01           2.0  -1.79   0.0  \n",
       "                  1995-12-01           2.0 -10.95   0.0  \n",
       "95.01007080078125 1995-12-01           2.0 -22.58   0.0  \n",
       "                  1995-12-01           2.0  14.75   0.0  \n",
       "                  1995-12-01           2.0  16.54   0.0  \n",
       "                  1995-12-01           2.0   5.59   0.0  \n",
       "95.01007843017578 1995-11-22           2.0 -14.47   0.0  \n",
       "                  1995-11-22           2.0 -14.68   0.0  \n",
       "                  1995-11-22           2.0   2.07   0.0  \n",
       "                  1995-11-22           2.0  -8.88   0.0  \n",
       "                  1995-11-22           9.0 -37.05   0.0  \n",
       "                  1995-11-22           9.0 -18.96   0.0  \n",
       "...                                    ...    ...   ...  \n",
       "98.50144958496094 1998-12-04           2.0  40.68   0.0  \n",
       "98.50145721435547 1998-12-07           2.0 -40.46   0.0  \n",
       "                  1998-12-07           2.0 -42.56   0.0  \n",
       "                  1998-12-07           2.0   0.22   0.0  \n",
       "98.50148010253906 1998-12-04           2.0  40.46   0.0  \n",
       "                  1998-12-04           2.0  40.68   0.0  \n",
       "                  1998-12-04           2.0  -2.10   0.0  \n",
       "98.5014877319336  1998-12-14           2.0 -40.46   0.0  \n",
       "                  1998-12-14           2.0   0.22   0.0  \n",
       "                  1998-12-14           2.0 -42.56   0.0  \n",
       "98.50150299072266 1998-12-10           6.0   0.22   0.0  \n",
       "                  1998-12-10           7.0 -40.46   0.0  \n",
       "                  1998-12-10           2.0 -21.37   0.0  \n",
       "98.50151062011719 1998-12-10           2.0 -42.56   0.0  \n",
       "                  1998-12-10           2.0 -40.46   0.0  \n",
       "98.50151824951172 1998-12-10           2.0  40.46   0.0  \n",
       "                  1998-12-10           2.0  -2.10   0.0  \n",
       "                  1998-12-10           2.0  40.68   0.0  \n",
       "98.50153350830078 1998-12-09           2.0  -0.22   0.0  \n",
       "                  1998-12-09           2.0 -40.68   0.0  \n",
       "                  1998-12-09           2.0 -42.78   0.0  \n",
       "98.50154113769531 1998-12-10           2.0  40.46   0.0  \n",
       "                  1998-12-10           2.0  40.68   0.0  \n",
       "                  1998-12-10           2.0  -2.10   0.0  \n",
       "98.50154876708984 1998-12-08           2.0  40.46   0.0  \n",
       "                  1998-12-08           2.0  40.68   0.0  \n",
       "                  1998-12-08           2.0  -2.10   0.0  \n",
       "98.50163269042969 1998-12-15           2.0  40.46   0.0  \n",
       "                  1998-12-15           2.0  -2.10   0.0  \n",
       "                  1998-12-15           2.0  40.68   0.0  \n",
       "\n",
       "[114168 rows x 7 columns]"
      ]
     },
     "execution_count": 1051,
     "metadata": {},
     "output_type": "execute_result"
    }
   ],
   "source": [
    "c.dropna(how = 'all', axis = 0)"
   ]
  },
  {
   "cell_type": "code",
   "execution_count": 1052,
   "metadata": {
    "collapsed": false
   },
   "outputs": [],
   "source": [
    "def features_same_party(cd):\n",
    "    dat = cd.copy()\n",
    "    dat = dat[dat['jpid']==0]\n",
    "    \n",
    "    dat['dissent'] = dat['judgeopinion'].map({1:0, 2:0, 3:1, 4:1, 5:1, 6:1, 7:1, 8:1, 9:1, 10:1, 11:1})\n",
    "    \n",
    "    dat['pajid'] = normalize(dat['pajid'])\n",
    "    dat['agedec'] = normalize(dat['agedec'])\n",
    "    dat['race'] = (dat['race'] != 0) * 1\n",
    "    dat['gender'] = (dat['gender'] != 0) * 1\n",
    "\n",
    "    dat = dat.fillna(0)\n",
    "    \n",
    "    y = dat['dissent'] * 1\n",
    "    x = dat[['Partisan Conflict', 'pajid', 'agedec']] #.drop(['dissent', 'judgeopinion', 'jpid'], axis = 1)\n",
    "    return y, x\n",
    "\n",
    "def features_different_party(cd):\n",
    "    dat = cd.copy()\n",
    "    dat['dissent'] = dat['judgeopinion'].map({1:0, 2:0, 3:1, 4:1, 5:1, 6:1, 7:1, 8:1, 9:1, 10:1, 11:1})\n",
    "    dat = dat[dat['jpid']!=0]\n",
    "    \n",
    "    dat['pajid'] = normalize(dat['pajid'])\n",
    "    dat['agedec'] = normalize(dat['agedec'])\n",
    "    dat['race'] = (dat['race'] != 0) * 1\n",
    "    dat['gender'] = (dat['gender'] != 0) * 1\n",
    "\n",
    "    dat = dat.fillna(0)\n",
    "    #dat = dat.dropna()\n",
    "    \n",
    "    y = dat['dissent'] * 1\n",
    "    x = dat[['Partisan Conflict', 'pajid', 'agedec']] #.drop(['dissent', 'judgeopinion', 'jpid'], axis = 1)\n",
    "    return y, x"
   ]
  },
  {
   "cell_type": "code",
   "execution_count": 1037,
   "metadata": {
    "collapsed": true
   },
   "outputs": [],
   "source": []
  },
  {
   "cell_type": "code",
   "execution_count": 1064,
   "metadata": {
    "collapsed": false
   },
   "outputs": [],
   "source": [
    "yd, xd = features_different_party(c)\n",
    "ys, xs = features_same_party(c)"
   ]
  },
  {
   "cell_type": "code",
   "execution_count": 1065,
   "metadata": {
    "collapsed": false
   },
   "outputs": [],
   "source": [
    "dissent_rate_different = yd.groupby('date').apply(lambda x : np.sum(x)/len(x))\n",
    "dissent_rate_same = ys.groupby('date').apply(lambda x : np.sum(x)/len(x))"
   ]
  },
  {
   "cell_type": "code",
   "execution_count": 1066,
   "metadata": {
    "collapsed": false
   },
   "outputs": [
    {
     "data": {
      "text/plain": [
       "(array([728325., 728506., 728690., 728872., 729056., 729237., 729421.,\n",
       "        729602.]), <a list of 8 Text xticklabel objects>)"
      ]
     },
     "execution_count": 1066,
     "metadata": {},
     "output_type": "execute_result"
    },
    {
     "data": {
      "image/png": "[encoded data removed]",
      "text/plain": [
       "<matplotlib.figure.Figure at 0x1cc35ee710>"
      ]
     },
     "metadata": {},
     "output_type": "display_data"
    }
   ],
   "source": [
    "plt.plot(dissent_rate_different)\n",
    "#plt.plot(dissent_rate_same)\n",
    "plt.plot((PCI - np.min(PCI))/ (np.max(PCI)-np.min(PCI)))\n",
    "plt.xticks(rotation = 'vertical')"
   ]
  },
  {
   "cell_type": "code",
   "execution_count": 1067,
   "metadata": {
    "collapsed": false
   },
   "outputs": [
    {
     "data": {
      "text/plain": [
       "masterid           date      \n",
       "95.010009765625    1995-12-01    0.0\n",
       "95.01001739501953  1995-12-01    0.0\n",
       "95.0100326538086   1995-09-29    0.0\n",
       "                   1995-09-29    0.0\n",
       "                   1995-09-29    0.0\n",
       "Name: dissent, dtype: float64"
      ]
     },
     "execution_count": 1067,
     "metadata": {},
     "output_type": "execute_result"
    }
   ],
   "source": [
    "yd.head()"
   ]
  },
  {
   "cell_type": "code",
   "execution_count": 1068,
   "metadata": {
    "collapsed": false
   },
   "outputs": [],
   "source": [
    "yd = yd.reset_index()\n",
    "yd['Month'] = yd['date'].dt.month\n",
    "yd['Year'] = yd['date'].dt.year"
   ]
  },
  {
   "cell_type": "code",
   "execution_count": 1069,
   "metadata": {
    "collapsed": false
   },
   "outputs": [],
   "source": [
    "yd.drop(['masterid', 'date'], axis =1, inplace = True)"
   ]
  },
  {
   "cell_type": "code",
   "execution_count": 1070,
   "metadata": {
    "collapsed": false
   },
   "outputs": [],
   "source": [
    "pdd = yd.groupby(['Year', 'Month']).mean()"
   ]
  },
  {
   "cell_type": "code",
   "execution_count": 1071,
   "metadata": {
    "collapsed": false
   },
   "outputs": [
    {
     "data": {
      "text/plain": [
       "Year  Month\n",
       "1995  1        0.079507\n",
       "      2        0.076521\n",
       "      3        0.097168\n",
       "      4        0.062467\n",
       "      5        0.093672\n",
       "Name: dissent, dtype: float64"
      ]
     },
     "execution_count": 1071,
     "metadata": {},
     "output_type": "execute_result"
    }
   ],
   "source": [
    "pdd['dissent'].head()"
   ]
  },
  {
   "cell_type": "code",
   "execution_count": 1072,
   "metadata": {
    "collapsed": false
   },
   "outputs": [
    {
     "data": {
      "text/plain": [
       "[<matplotlib.lines.Line2D at 0x1ca4eaa278>]"
      ]
     },
     "execution_count": 1072,
     "metadata": {},
     "output_type": "execute_result"
    },
    {
     "data": {
      "image/png": "[encoded data removed]",
      "text/plain": [
       "<matplotlib.figure.Figure at 0x1ca4ac0a90>"
      ]
     },
     "metadata": {},
     "output_type": "display_data"
    }
   ],
   "source": [
    "plt.plot(np.array(pdd))"
   ]
  },
  {
   "cell_type": "code",
   "execution_count": null,
   "metadata": {
    "collapsed": true
   },
   "outputs": [],
   "source": [
    "c['opposition'] = (c['jpid']!=0)*1\n",
    "c['dissent'] = (c['judgeopinion']!=2)*1"
   ]
  },
  {
   "cell_type": "code",
   "execution_count": 1040,
   "metadata": {
    "collapsed": false
   },
   "outputs": [],
   "source": [
    "c.reset_index(inplace=True)"
   ]
  },
  {
   "cell_type": "code",
   "execution_count": 1041,
   "metadata": {
    "collapsed": false
   },
   "outputs": [],
   "source": [
    "c['Month'] = c['date'].dt.month\n",
    "c['Year'] = c['date'].dt.year"
   ]
  },
  {
   "cell_type": "code",
   "execution_count": 1042,
   "metadata": {
    "collapsed": false
   },
   "outputs": [
    {
     "data": {
      "text/html": [
       "<div>\n",
       "<style scoped>\n",
       "    .dataframe tbody tr th:only-of-type {\n",
       "        vertical-align: middle;\n",
       "    }\n",
       "\n",
       "    .dataframe tbody tr th {\n",
       "        vertical-align: top;\n",
       "    }\n",
       "\n",
       "    .dataframe thead th {\n",
       "        text-align: right;\n",
       "    }\n",
       "</style>\n",
       "<table border=\"1\" class=\"dataframe\">\n",
       "  <thead>\n",
       "    <tr style=\"text-align: right;\">\n",
       "      <th></th>\n",
       "      <th>masterid</th>\n",
       "      <th>date</th>\n",
       "      <th>Partisan Conflict</th>\n",
       "      <th>agedec</th>\n",
       "      <th>gender</th>\n",
       "      <th>jpid</th>\n",
       "      <th>judgeopinion</th>\n",
       "      <th>pajid</th>\n",
       "      <th>race</th>\n",
       "      <th>opposition</th>\n",
       "      <th>dissent</th>\n",
       "      <th>Month</th>\n",
       "      <th>Year</th>\n",
       "    </tr>\n",
       "  </thead>\n",
       "  <tbody>\n",
       "    <tr>\n",
       "      <th>0</th>\n",
       "      <td>95.010009765625</td>\n",
       "      <td>1995-12-01</td>\n",
       "      <td>2.556076</td>\n",
       "      <td>4.0</td>\n",
       "      <td>0.0</td>\n",
       "      <td>1.0</td>\n",
       "      <td>2.0</td>\n",
       "      <td>-39.12</td>\n",
       "      <td>0.0</td>\n",
       "      <td>1</td>\n",
       "      <td>0</td>\n",
       "      <td>12</td>\n",
       "      <td>1995</td>\n",
       "    </tr>\n",
       "    <tr>\n",
       "      <th>1</th>\n",
       "      <td>95.010009765625</td>\n",
       "      <td>1995-12-01</td>\n",
       "      <td>2.556076</td>\n",
       "      <td>-8.0</td>\n",
       "      <td>0.0</td>\n",
       "      <td>0.0</td>\n",
       "      <td>2.0</td>\n",
       "      <td>-16.54</td>\n",
       "      <td>0.0</td>\n",
       "      <td>0</td>\n",
       "      <td>0</td>\n",
       "      <td>12</td>\n",
       "      <td>1995</td>\n",
       "    </tr>\n",
       "    <tr>\n",
       "      <th>2</th>\n",
       "      <td>95.010009765625</td>\n",
       "      <td>1995-12-01</td>\n",
       "      <td>2.556076</td>\n",
       "      <td>-4.0</td>\n",
       "      <td>0.0</td>\n",
       "      <td>0.0</td>\n",
       "      <td>2.0</td>\n",
       "      <td>-1.79</td>\n",
       "      <td>0.0</td>\n",
       "      <td>0</td>\n",
       "      <td>0</td>\n",
       "      <td>12</td>\n",
       "      <td>1995</td>\n",
       "    </tr>\n",
       "    <tr>\n",
       "      <th>3</th>\n",
       "      <td>95.010009765625</td>\n",
       "      <td>1995-12-01</td>\n",
       "      <td>2.556076</td>\n",
       "      <td>-15.0</td>\n",
       "      <td>0.0</td>\n",
       "      <td>0.0</td>\n",
       "      <td>2.0</td>\n",
       "      <td>-10.95</td>\n",
       "      <td>0.0</td>\n",
       "      <td>0</td>\n",
       "      <td>0</td>\n",
       "      <td>12</td>\n",
       "      <td>1995</td>\n",
       "    </tr>\n",
       "    <tr>\n",
       "      <th>4</th>\n",
       "      <td>95.01001739501953</td>\n",
       "      <td>1995-12-01</td>\n",
       "      <td>2.556076</td>\n",
       "      <td>5.0</td>\n",
       "      <td>0.0</td>\n",
       "      <td>1.0</td>\n",
       "      <td>2.0</td>\n",
       "      <td>-18.09</td>\n",
       "      <td>0.0</td>\n",
       "      <td>1</td>\n",
       "      <td>0</td>\n",
       "      <td>12</td>\n",
       "      <td>1995</td>\n",
       "    </tr>\n",
       "  </tbody>\n",
       "</table>\n",
       "</div>"
      ],
      "text/plain": [
       "            masterid       date  Partisan Conflict  agedec  gender  jpid  \\\n",
       "0    95.010009765625 1995-12-01           2.556076     4.0     0.0   1.0   \n",
       "1    95.010009765625 1995-12-01           2.556076    -8.0     0.0   0.0   \n",
       "2    95.010009765625 1995-12-01           2.556076    -4.0     0.0   0.0   \n",
       "3    95.010009765625 1995-12-01           2.556076   -15.0     0.0   0.0   \n",
       "4  95.01001739501953 1995-12-01           2.556076     5.0     0.0   1.0   \n",
       "\n",
       "   judgeopinion  pajid  race  opposition  dissent  Month  Year  \n",
       "0           2.0 -39.12   0.0           1        0     12  1995  \n",
       "1           2.0 -16.54   0.0           0        0     12  1995  \n",
       "2           2.0  -1.79   0.0           0        0     12  1995  \n",
       "3           2.0 -10.95   0.0           0        0     12  1995  \n",
       "4           2.0 -18.09   0.0           1        0     12  1995  "
      ]
     },
     "execution_count": 1042,
     "metadata": {},
     "output_type": "execute_result"
    }
   ],
   "source": [
    "c.head()"
   ]
  },
  {
   "cell_type": "code",
   "execution_count": 1046,
   "metadata": {
    "collapsed": false
   },
   "outputs": [
    {
     "data": {
      "text/plain": [
       "Year  Month\n",
       "1995  1        0.384099\n",
       "      2        0.403532\n",
       "      3        0.418301\n",
       "      4        0.461739\n",
       "      5        0.382162\n",
       "      6        0.434008\n",
       "      7        0.393103\n",
       "      8        0.418591\n",
       "      9        0.359599\n",
       "      10       0.409035\n",
       "      11       0.447820\n",
       "      12       0.476190\n",
       "1996  1        0.354399\n",
       "      2        0.468769\n",
       "      3        0.407723\n",
       "      4        0.405643\n",
       "      5        0.412196\n",
       "      6        0.387963\n",
       "      7        0.403277\n",
       "      8        0.358673\n",
       "      9        0.350877\n",
       "      10       0.455578\n",
       "      11       0.416822\n",
       "      12       0.468277\n",
       "1997  1        0.387114\n",
       "      2        0.365431\n",
       "      3        0.425620\n",
       "      4        0.399525\n",
       "      5        0.385901\n",
       "      6        0.382128\n",
       "      7        0.425048\n",
       "      8        0.399600\n",
       "      9        0.420567\n",
       "      10       0.485472\n",
       "      11       0.512058\n",
       "      12       0.467398\n",
       "1998  1        0.422092\n",
       "      2        0.485116\n",
       "      3        0.473039\n",
       "      4        0.491195\n",
       "      5        0.575554\n",
       "      6        0.504029\n",
       "      7        0.515736\n",
       "      8        0.532246\n",
       "      9        0.593001\n",
       "      10       0.590567\n",
       "      11       0.508598\n",
       "      12       0.608865\n",
       "dtype: float64"
      ]
     },
     "execution_count": 1046,
     "metadata": {},
     "output_type": "execute_result"
    }
   ],
   "source": [
    "c.groupby(['Year', 'Month']).apply(lambda x : np.sum(x['opposition'] * x['dissent']) / np.sum(x['opposition']))"
   ]
  },
  {
   "cell_type": "code",
   "execution_count": 953,
   "metadata": {
    "collapsed": false
   },
   "outputs": [
    {
     "name": "stdout",
     "output_type": "stream",
     "text": [
      "Optimization terminated successfully.\n",
      "         Current function value: 0.692145\n",
      "         Iterations 3\n",
      "Partisan Conflict   -0.090213\n",
      "pajid               -0.013697\n",
      "agedec               0.009456\n",
      "dtype: float64\n",
      "Partisan Conflict    0.008921\n",
      "pajid                0.009013\n",
      "agedec               0.008706\n",
      "dtype: float64\n"
     ]
    }
   ],
   "source": [
    "import statsmodels.api as sm\n",
    "lr = sm.Logit(y, x).fit()\n",
    "print(lr.params)\n",
    "print(lr.bse)"
   ]
  },
  {
   "cell_type": "markdown",
   "metadata": {},
   "source": [
    "## Partisanship by judge"
   ]
  },
  {
   "cell_type": "markdown",
   "metadata": {},
   "source": [
    "Treatment: having a different political affiliation than the justice who writes the majority opinion.\n",
    "Outcome: dissenting."
   ]
  },
  {
   "cell_type": "code",
   "execution_count": 1122,
   "metadata": {
    "collapsed": false
   },
   "outputs": [],
   "source": [
    "# political opposition with first judge\n",
    "first_judge = data[data['judgeopinion']==1]\n",
    "fj = first_judge[['masterid', 'jpid', 'date']].set_index(['masterid', 'date'])\n",
    "fj.columns = ['firstjpid']"
   ]
  },
  {
   "cell_type": "code",
   "execution_count": 1123,
   "metadata": {
    "collapsed": false
   },
   "outputs": [
    {
     "ename": "TypeError",
     "evalue": "merge() got multiple values for argument 'how'",
     "output_type": "error",
     "traceback": [
      "\u001b[0;31m---------------------------------------------------------------------------\u001b[0m",
      "\u001b[0;31mTypeError\u001b[0m                                 Traceback (most recent call last)",
      "\u001b[0;32m<ipython-input-1123-261757aa87fd>\u001b[0m in \u001b[0;36m<module>\u001b[0;34m()\u001b[0m\n\u001b[1;32m      1\u001b[0m data2 = pd.merge(data[data['judgeopinion'] != 1], fj, \n\u001b[1;32m      2\u001b[0m                  \u001b[0mleft_on\u001b[0m \u001b[0;34m=\u001b[0m \u001b[0;34m[\u001b[0m\u001b[0;34m'masterid'\u001b[0m\u001b[0;34m,\u001b[0m \u001b[0;34m'date'\u001b[0m\u001b[0;34m]\u001b[0m\u001b[0;34m,\u001b[0m\u001b[0;34m\u001b[0m\u001b[0m\n\u001b[0;32m----> 3\u001b[0;31m                  right_index = True, how = 'left')\n\u001b[0m",
      "\u001b[0;31mTypeError\u001b[0m: merge() got multiple values for argument 'how'"
     ]
    }
   ],
   "source": [
    "data2 = pd.merge(data[data['judgeopinion'] != 1], fj, \n",
    "                 left_on = ['masterid', 'date'], \n",
    "                 right_index = True, how = 'left')"
   ]
  },
  {
   "cell_type": "code",
   "execution_count": 966,
   "metadata": {
    "collapsed": true
   },
   "outputs": [],
   "source": [
    "#data2 = data2[data2['judgeopinion'] != 1]\n",
    "data2['opposition'] = (data2['jpid'] != data2['firstjpid'])\n",
    "data2['dissent'] = (data2['judgeopinion'] != 1) & (data2['judgeopinion'] != 2)"
   ]
  },
  {
   "cell_type": "code",
   "execution_count": 967,
   "metadata": {
    "collapsed": false
   },
   "outputs": [],
   "source": [
    "data2 = data2[['dissent', 'opposition', 'date', 'Partisan Conflict']].dropna(axis = 0)"
   ]
  },
  {
   "cell_type": "code",
   "execution_count": 968,
   "metadata": {
    "collapsed": true
   },
   "outputs": [],
   "source": [
    "data_opp = data2[data2['opposition'] == True] # keep only different political affiliations"
   ]
  },
  {
   "cell_type": "code",
   "execution_count": 969,
   "metadata": {
    "collapsed": true
   },
   "outputs": [],
   "source": [
    "data_nopp = data2[data2['opposition'] == False] # keep only SAME political affiliations"
   ]
  },
  {
   "cell_type": "markdown",
   "metadata": {},
   "source": [
    "### Logistic Regression"
   ]
  },
  {
   "cell_type": "code",
   "execution_count": 971,
   "metadata": {
    "collapsed": false
   },
   "outputs": [],
   "source": [
    "y = data_opp['dissent']\n",
    "x = data_opp[['Partisan Conflict']] #, 'gender', 'EWI', 'jpid', 'pajid', 'agedec', 'select', 'cj']]\n",
    "x = x.fillna(0)\n",
    "#x = (x - x.mean()) / x.std()"
   ]
  },
  {
   "cell_type": "code",
   "execution_count": 973,
   "metadata": {
    "collapsed": false
   },
   "outputs": [
    {
     "name": "stdout",
     "output_type": "stream",
     "text": [
      "Optimization terminated successfully.\n",
      "         Current function value: 0.693106\n",
      "         Iterations 3\n"
     ]
    },
    {
     "data": {
      "text/plain": [
       "(Partisan Conflict   -0.018171\n",
       " dtype: float64, Partisan Conflict    0.006675\n",
       " dtype: float64)"
      ]
     },
     "execution_count": 973,
     "metadata": {},
     "output_type": "execute_result"
    }
   ],
   "source": [
    "import statsmodels.api as sm\n",
    "lr = sm.Logit(y, x).fit()\n",
    "lr.params, lr.bse"
   ]
  },
  {
   "cell_type": "code",
   "execution_count": 571,
   "metadata": {
    "collapsed": false
   },
   "outputs": [],
   "source": [
    "judge_vars=['judgecode', 'brthyr','race', 'gender','pajid','jpid', 'agedec', 'EWI', 'select', 'retentn', 'cj']"
   ]
  },
  {
   "cell_type": "code",
   "execution_count": 572,
   "metadata": {
    "collapsed": true
   },
   "outputs": [],
   "source": [
    "y = data_nopp['dissent']\n",
    "x = data_nopp[['Partisan Conflict']] #, 'gender', 'EWI', 'jpid', 'pajid', 'agedec', 'select', 'cj']]\n",
    "x = x.fillna(0)\n",
    "#x = (x - x.mean()) / x.std()"
   ]
  },
  {
   "cell_type": "code",
   "execution_count": 574,
   "metadata": {
    "collapsed": false
   },
   "outputs": [
    {
     "name": "stdout",
     "output_type": "stream",
     "text": [
      "Optimization terminated successfully.\n",
      "         Current function value: 0.692125\n",
      "         Iterations 3\n"
     ]
    },
    {
     "data": {
      "text/plain": [
       "(Partisan Conflict   -0.092948\n",
       " dtype: float64, Partisan Conflict    0.008666\n",
       " dtype: float64)"
      ]
     },
     "execution_count": 574,
     "metadata": {},
     "output_type": "execute_result"
    }
   ],
   "source": [
    "lr = sm.Logit(y, x).fit()\n",
    "lr.params, lr.bse"
   ]
  },
  {
   "cell_type": "markdown",
   "metadata": {},
   "source": [
    "## Dissent rate"
   ]
  },
  {
   "cell_type": "code",
   "execution_count": 1073,
   "metadata": {
    "collapsed": false
   },
   "outputs": [
    {
     "data": {
      "text/html": [
       "<div>\n",
       "<style scoped>\n",
       "    .dataframe tbody tr th:only-of-type {\n",
       "        vertical-align: middle;\n",
       "    }\n",
       "\n",
       "    .dataframe tbody tr th {\n",
       "        vertical-align: top;\n",
       "    }\n",
       "\n",
       "    .dataframe thead th {\n",
       "        text-align: right;\n",
       "    }\n",
       "</style>\n",
       "<table border=\"1\" class=\"dataframe\">\n",
       "  <thead>\n",
       "    <tr style=\"text-align: right;\">\n",
       "      <th></th>\n",
       "      <th>masterid</th>\n",
       "      <th>id_1</th>\n",
       "      <th>coder</th>\n",
       "      <th>coderid</th>\n",
       "      <th>casen_1</th>\n",
       "      <th>juris</th>\n",
       "      <th>first_ct</th>\n",
       "      <th>agency</th>\n",
       "      <th>agency_r</th>\n",
       "      <th>arbitrat</th>\n",
       "      <th>...</th>\n",
       "      <th>gender</th>\n",
       "      <th>pajid</th>\n",
       "      <th>jpid</th>\n",
       "      <th>agedec</th>\n",
       "      <th>EWI</th>\n",
       "      <th>select</th>\n",
       "      <th>retentn</th>\n",
       "      <th>cj</th>\n",
       "      <th>date</th>\n",
       "      <th>Partisan Conflict</th>\n",
       "    </tr>\n",
       "  </thead>\n",
       "  <tbody>\n",
       "    <tr>\n",
       "      <th>0</th>\n",
       "      <td>95.010009765625</td>\n",
       "      <td>102</td>\n",
       "      <td>TEB</td>\n",
       "      <td>1130</td>\n",
       "      <td>1.0</td>\n",
       "      <td>2.0</td>\n",
       "      <td>1.0</td>\n",
       "      <td>0.0</td>\n",
       "      <td>88.0</td>\n",
       "      <td>0.0</td>\n",
       "      <td>...</td>\n",
       "      <td>1.0</td>\n",
       "      <td>47.23</td>\n",
       "      <td>1.0</td>\n",
       "      <td>66.0</td>\n",
       "      <td>-1.454818</td>\n",
       "      <td>5.0</td>\n",
       "      <td>5.0</td>\n",
       "      <td>0.0</td>\n",
       "      <td>1995-12-01</td>\n",
       "      <td>2.556076</td>\n",
       "    </tr>\n",
       "    <tr>\n",
       "      <th>1</th>\n",
       "      <td>95.01001739501953</td>\n",
       "      <td>103</td>\n",
       "      <td>TEB</td>\n",
       "      <td>1130</td>\n",
       "      <td>2.0</td>\n",
       "      <td>2.0</td>\n",
       "      <td>2.0</td>\n",
       "      <td>0.0</td>\n",
       "      <td>88.0</td>\n",
       "      <td>0.0</td>\n",
       "      <td>...</td>\n",
       "      <td>1.0</td>\n",
       "      <td>26.20</td>\n",
       "      <td>1.0</td>\n",
       "      <td>65.0</td>\n",
       "      <td>-1.454818</td>\n",
       "      <td>5.0</td>\n",
       "      <td>5.0</td>\n",
       "      <td>0.0</td>\n",
       "      <td>1995-12-01</td>\n",
       "      <td>2.556076</td>\n",
       "    </tr>\n",
       "    <tr>\n",
       "      <th>2</th>\n",
       "      <td>95.01006317138672</td>\n",
       "      <td>107</td>\n",
       "      <td>TEB</td>\n",
       "      <td>1130</td>\n",
       "      <td>6.0</td>\n",
       "      <td>2.0</td>\n",
       "      <td>2.0</td>\n",
       "      <td>0.0</td>\n",
       "      <td>88.0</td>\n",
       "      <td>0.0</td>\n",
       "      <td>...</td>\n",
       "      <td>1.0</td>\n",
       "      <td>47.23</td>\n",
       "      <td>1.0</td>\n",
       "      <td>66.0</td>\n",
       "      <td>-1.454818</td>\n",
       "      <td>5.0</td>\n",
       "      <td>5.0</td>\n",
       "      <td>0.0</td>\n",
       "      <td>1995-12-01</td>\n",
       "      <td>2.556076</td>\n",
       "    </tr>\n",
       "    <tr>\n",
       "      <th>3</th>\n",
       "      <td>95.01007080078125</td>\n",
       "      <td>108</td>\n",
       "      <td>TEB</td>\n",
       "      <td>1130</td>\n",
       "      <td>7.0</td>\n",
       "      <td>2.0</td>\n",
       "      <td>2.0</td>\n",
       "      <td>0.0</td>\n",
       "      <td>88.0</td>\n",
       "      <td>0.0</td>\n",
       "      <td>...</td>\n",
       "      <td>1.0</td>\n",
       "      <td>30.69</td>\n",
       "      <td>1.0</td>\n",
       "      <td>58.0</td>\n",
       "      <td>-1.454818</td>\n",
       "      <td>5.0</td>\n",
       "      <td>5.0</td>\n",
       "      <td>0.0</td>\n",
       "      <td>1995-12-01</td>\n",
       "      <td>2.556076</td>\n",
       "    </tr>\n",
       "    <tr>\n",
       "      <th>4</th>\n",
       "      <td>95.01068115234375</td>\n",
       "      <td>169</td>\n",
       "      <td>TEB</td>\n",
       "      <td>1130</td>\n",
       "      <td>68.0</td>\n",
       "      <td>2.0</td>\n",
       "      <td>2.0</td>\n",
       "      <td>0.0</td>\n",
       "      <td>88.0</td>\n",
       "      <td>0.0</td>\n",
       "      <td>...</td>\n",
       "      <td>1.0</td>\n",
       "      <td>46.88</td>\n",
       "      <td>1.0</td>\n",
       "      <td>51.0</td>\n",
       "      <td>-1.454818</td>\n",
       "      <td>5.0</td>\n",
       "      <td>5.0</td>\n",
       "      <td>0.0</td>\n",
       "      <td>1995-12-01</td>\n",
       "      <td>2.556076</td>\n",
       "    </tr>\n",
       "  </tbody>\n",
       "</table>\n",
       "<p>5 rows × 340 columns</p>\n",
       "</div>"
      ],
      "text/plain": [
       "            masterid id_1 coder  coderid  casen_1  juris  first_ct  agency  \\\n",
       "0    95.010009765625  102   TEB     1130      1.0    2.0       1.0     0.0   \n",
       "1  95.01001739501953  103   TEB     1130      2.0    2.0       2.0     0.0   \n",
       "2  95.01006317138672  107   TEB     1130      6.0    2.0       2.0     0.0   \n",
       "3  95.01007080078125  108   TEB     1130      7.0    2.0       2.0     0.0   \n",
       "4  95.01068115234375  169   TEB     1130     68.0    2.0       2.0     0.0   \n",
       "\n",
       "   agency_r  arbitrat        ...          gender  pajid  jpid  agedec  \\\n",
       "0      88.0       0.0        ...             1.0  47.23   1.0    66.0   \n",
       "1      88.0       0.0        ...             1.0  26.20   1.0    65.0   \n",
       "2      88.0       0.0        ...             1.0  47.23   1.0    66.0   \n",
       "3      88.0       0.0        ...             1.0  30.69   1.0    58.0   \n",
       "4      88.0       0.0        ...             1.0  46.88   1.0    51.0   \n",
       "\n",
       "        EWI select retentn   cj       date  Partisan Conflict  \n",
       "0 -1.454818    5.0     5.0  0.0 1995-12-01           2.556076  \n",
       "1 -1.454818    5.0     5.0  0.0 1995-12-01           2.556076  \n",
       "2 -1.454818    5.0     5.0  0.0 1995-12-01           2.556076  \n",
       "3 -1.454818    5.0     5.0  0.0 1995-12-01           2.556076  \n",
       "4 -1.454818    5.0     5.0  0.0 1995-12-01           2.556076  \n",
       "\n",
       "[5 rows x 340 columns]"
      ]
     },
     "execution_count": 1073,
     "metadata": {},
     "output_type": "execute_result"
    }
   ],
   "source": [
    "data.head()"
   ]
  },
  {
   "cell_type": "code",
   "execution_count": 1129,
   "metadata": {
    "collapsed": false
   },
   "outputs": [],
   "source": [
    "fj = data[data['judgeopinion']==1]"
   ]
  },
  {
   "cell_type": "code",
   "execution_count": 1130,
   "metadata": {
    "collapsed": true
   },
   "outputs": [],
   "source": [
    "fj = fj[['masterid', 'date', 'jpid']].set_index(['masterid', 'date'])"
   ]
  },
  {
   "cell_type": "code",
   "execution_count": 1088,
   "metadata": {
    "collapsed": true
   },
   "outputs": [],
   "source": [
    "#fj.set_index(['masterid', 'date'], inplace = True)"
   ]
  },
  {
   "cell_type": "code",
   "execution_count": 1131,
   "metadata": {
    "collapsed": false
   },
   "outputs": [],
   "source": [
    "fj.columns = ['firstjpid']"
   ]
  },
  {
   "cell_type": "code",
   "execution_count": 1132,
   "metadata": {
    "collapsed": true
   },
   "outputs": [],
   "source": [
    "nfj = data[data['judgeopinion'] != 1]"
   ]
  },
  {
   "cell_type": "code",
   "execution_count": 1133,
   "metadata": {
    "collapsed": true
   },
   "outputs": [],
   "source": [
    "nfj = nfj[['masterid', 'date', 'jpid', 'judgeopinion']].set_index(['masterid', 'date'])"
   ]
  },
  {
   "cell_type": "code",
   "execution_count": 1092,
   "metadata": {
    "collapsed": false
   },
   "outputs": [],
   "source": [
    "#nfj.set_index(['masterid', 'date'], inplace = True)"
   ]
  },
  {
   "cell_type": "code",
   "execution_count": 1134,
   "metadata": {
    "collapsed": false
   },
   "outputs": [
    {
     "data": {
      "text/html": [
       "<div>\n",
       "<style scoped>\n",
       "    .dataframe tbody tr th:only-of-type {\n",
       "        vertical-align: middle;\n",
       "    }\n",
       "\n",
       "    .dataframe tbody tr th {\n",
       "        vertical-align: top;\n",
       "    }\n",
       "\n",
       "    .dataframe thead th {\n",
       "        text-align: right;\n",
       "    }\n",
       "</style>\n",
       "<table border=\"1\" class=\"dataframe\">\n",
       "  <thead>\n",
       "    <tr style=\"text-align: right;\">\n",
       "      <th></th>\n",
       "      <th></th>\n",
       "      <th>firstjpid</th>\n",
       "    </tr>\n",
       "    <tr>\n",
       "      <th>masterid</th>\n",
       "      <th>date</th>\n",
       "      <th></th>\n",
       "    </tr>\n",
       "  </thead>\n",
       "  <tbody>\n",
       "    <tr>\n",
       "      <th>95.010009765625</th>\n",
       "      <th>1995-12-01</th>\n",
       "      <td>1.0</td>\n",
       "    </tr>\n",
       "    <tr>\n",
       "      <th>95.01001739501953</th>\n",
       "      <th>1995-12-01</th>\n",
       "      <td>1.0</td>\n",
       "    </tr>\n",
       "    <tr>\n",
       "      <th>95.01004791259766</th>\n",
       "      <th>1995-03-17</th>\n",
       "      <td>1.0</td>\n",
       "    </tr>\n",
       "    <tr>\n",
       "      <th>95.01006317138672</th>\n",
       "      <th>1995-12-01</th>\n",
       "      <td>1.0</td>\n",
       "    </tr>\n",
       "    <tr>\n",
       "      <th>95.01007080078125</th>\n",
       "      <th>1995-12-01</th>\n",
       "      <td>1.0</td>\n",
       "    </tr>\n",
       "  </tbody>\n",
       "</table>\n",
       "</div>"
      ],
      "text/plain": [
       "                              firstjpid\n",
       "masterid          date                 \n",
       "95.010009765625   1995-12-01        1.0\n",
       "95.01001739501953 1995-12-01        1.0\n",
       "95.01004791259766 1995-03-17        1.0\n",
       "95.01006317138672 1995-12-01        1.0\n",
       "95.01007080078125 1995-12-01        1.0"
      ]
     },
     "execution_count": 1134,
     "metadata": {},
     "output_type": "execute_result"
    }
   ],
   "source": [
    "fj.head()"
   ]
  },
  {
   "cell_type": "code",
   "execution_count": 1137,
   "metadata": {
    "collapsed": false
   },
   "outputs": [],
   "source": [
    "newtry = pd.merge(nfj, fj, left_index = True, right_index = True, how='left')"
   ]
  },
  {
   "cell_type": "code",
   "execution_count": 1138,
   "metadata": {
    "collapsed": false
   },
   "outputs": [
    {
     "data": {
      "text/html": [
       "<div>\n",
       "<style scoped>\n",
       "    .dataframe tbody tr th:only-of-type {\n",
       "        vertical-align: middle;\n",
       "    }\n",
       "\n",
       "    .dataframe tbody tr th {\n",
       "        vertical-align: top;\n",
       "    }\n",
       "\n",
       "    .dataframe thead th {\n",
       "        text-align: right;\n",
       "    }\n",
       "</style>\n",
       "<table border=\"1\" class=\"dataframe\">\n",
       "  <thead>\n",
       "    <tr style=\"text-align: right;\">\n",
       "      <th></th>\n",
       "      <th></th>\n",
       "      <th>jpid</th>\n",
       "      <th>judgeopinion</th>\n",
       "      <th>firstjpid</th>\n",
       "    </tr>\n",
       "    <tr>\n",
       "      <th>masterid</th>\n",
       "      <th>date</th>\n",
       "      <th></th>\n",
       "      <th></th>\n",
       "      <th></th>\n",
       "    </tr>\n",
       "  </thead>\n",
       "  <tbody>\n",
       "    <tr>\n",
       "      <th rowspan=\"4\" valign=\"top\">95.010009765625</th>\n",
       "      <th>1995-12-01</th>\n",
       "      <td>2.0</td>\n",
       "      <td>2</td>\n",
       "      <td>1.0</td>\n",
       "    </tr>\n",
       "    <tr>\n",
       "      <th>1995-12-01</th>\n",
       "      <td>1.0</td>\n",
       "      <td>2</td>\n",
       "      <td>1.0</td>\n",
       "    </tr>\n",
       "    <tr>\n",
       "      <th>1995-12-01</th>\n",
       "      <td>1.0</td>\n",
       "      <td>2</td>\n",
       "      <td>1.0</td>\n",
       "    </tr>\n",
       "    <tr>\n",
       "      <th>1995-12-01</th>\n",
       "      <td>1.0</td>\n",
       "      <td>2</td>\n",
       "      <td>1.0</td>\n",
       "    </tr>\n",
       "    <tr>\n",
       "      <th>95.01001739501953</th>\n",
       "      <th>1995-12-01</th>\n",
       "      <td>2.0</td>\n",
       "      <td>2</td>\n",
       "      <td>1.0</td>\n",
       "    </tr>\n",
       "  </tbody>\n",
       "</table>\n",
       "</div>"
      ],
      "text/plain": [
       "                              jpid  judgeopinion  firstjpid\n",
       "masterid          date                                     \n",
       "95.010009765625   1995-12-01   2.0             2        1.0\n",
       "                  1995-12-01   1.0             2        1.0\n",
       "                  1995-12-01   1.0             2        1.0\n",
       "                  1995-12-01   1.0             2        1.0\n",
       "95.01001739501953 1995-12-01   2.0             2        1.0"
      ]
     },
     "execution_count": 1138,
     "metadata": {},
     "output_type": "execute_result"
    }
   ],
   "source": [
    "newtry.head()"
   ]
  },
  {
   "cell_type": "code",
   "execution_count": 1139,
   "metadata": {
    "collapsed": true
   },
   "outputs": [],
   "source": [
    "newtry['dissent'] = (newtry['judgeopinion'] != 2) * 1\n",
    "newtry['opposition'] = (newtry['jpid'] != newtry['firstjpid']) * 1"
   ]
  },
  {
   "cell_type": "code",
   "execution_count": 1142,
   "metadata": {
    "collapsed": false
   },
   "outputs": [],
   "source": [
    "newtry.reset_index(inplace = True)"
   ]
  },
  {
   "cell_type": "code",
   "execution_count": 1143,
   "metadata": {
    "collapsed": true
   },
   "outputs": [],
   "source": [
    "newtry['Year'] = newtry['date'].dt.year\n",
    "newtry['Month'] = newtry['date'].dt.month"
   ]
  },
  {
   "cell_type": "code",
   "execution_count": 1147,
   "metadata": {
    "collapsed": false
   },
   "outputs": [],
   "source": [
    "nt = newtry.groupby(['Year', 'Month']).apply(lambda x : np.sum( x['opposition'] * x['dissent']) / np.sum(x['opposition']))"
   ]
  },
  {
   "cell_type": "code",
   "execution_count": 1164,
   "metadata": {
    "collapsed": false
   },
   "outputs": [
    {
     "data": {
      "text/plain": [
       "[<matplotlib.lines.Line2D at 0x1ce10010f0>]"
      ]
     },
     "execution_count": 1164,
     "metadata": {},
     "output_type": "execute_result"
    },
    {
     "data": {
      "image/png": "[encoded data removed]",
      "text/plain": [
       "<matplotlib.figure.Figure at 0x1ce0fa5160>"
      ]
     },
     "metadata": {},
     "output_type": "display_data"
    }
   ],
   "source": [
    "plt.plot(np.array(nt))\n",
    "#plt.plot(np.array(PCI))"
   ]
  },
  {
   "cell_type": "code",
   "execution_count": 1155,
   "metadata": {
    "collapsed": false
   },
   "outputs": [],
   "source": [
    "newtry = pd.merge(newtry, PCI, left_on = 'date', right_index = True)"
   ]
  },
  {
   "cell_type": "code",
   "execution_count": 1227,
   "metadata": {
    "collapsed": false
   },
   "outputs": [],
   "source": [
    "x = newtry[newtry['opposition']==1]['Partisan Conflict']\n",
    "y = newtry[newtry['opposition']==1]['dissent']"
   ]
  },
  {
   "cell_type": "code",
   "execution_count": 1221,
   "metadata": {
    "collapsed": false
   },
   "outputs": [
    {
     "data": {
      "text/plain": [
       "<matplotlib.legend.Legend at 0x1ced52d198>"
      ]
     },
     "execution_count": 1221,
     "metadata": {},
     "output_type": "execute_result"
    },
    {
     "data": {
      "image/png": "[encoded data removed]",
      "text/plain": [
       "<matplotlib.figure.Figure at 0x1ced52d1d0>"
      ]
     },
     "metadata": {},
     "output_type": "display_data"
    }
   ],
   "source": [
    "plt.plot(normalize(newtry[newtry['opposition']==1].sort_values(by = 'date')['Partisan Conflict']).reset_index(drop=True),\n",
    "        label = 'normalized')\n",
    "plt.plot(newtry[newtry['opposition']==1].sort_values(by = 'date')['Partisan Conflict'].reset_index(drop=True),\n",
    "        label = 'natural')\n",
    "plt.legend()"
   ]
  },
  {
   "cell_type": "code",
   "execution_count": 1228,
   "metadata": {
    "collapsed": false
   },
   "outputs": [
    {
     "name": "stdout",
     "output_type": "stream",
     "text": [
      "Optimization terminated successfully.\n",
      "         Current function value: 0.469606\n",
      "         Iterations 5\n"
     ]
    },
    {
     "data": {
      "text/plain": [
       "(array([-1.52825633,  0.07889384]), array([0.00875229, 0.0086255 ]))"
      ]
     },
     "execution_count": 1228,
     "metadata": {},
     "output_type": "execute_result"
    }
   ],
   "source": [
    "#lr = sm.Logit(np.array(y), np.array(x)).fit()\n",
    "x = sm.add_constant(x)\n",
    "lr = sm.Logit(np.array(y), np.array(x))\n",
    "res = lr.fit()\n",
    "res.params, res.bse"
   ]
  },
  {
   "cell_type": "code",
   "execution_count": 1219,
   "metadata": {
    "collapsed": false
   },
   "outputs": [
    {
     "data": {
      "text/plain": [
       "<bound method BinaryResults.summary of <statsmodels.discrete.discrete_model.LogitResults object at 0x1cf3fc7550>>"
      ]
     },
     "execution_count": 1219,
     "metadata": {},
     "output_type": "execute_result"
    }
   ],
   "source": [
    "res.summary"
   ]
  },
  {
   "cell_type": "code",
   "execution_count": 1209,
   "metadata": {
    "collapsed": false
   },
   "outputs": [
    {
     "name": "stdout",
     "output_type": "stream",
     "text": [
      "Optimization terminated successfully.\n",
      "         Current function value: 0.693106\n",
      "         Iterations 3\n"
     ]
    },
    {
     "data": {
      "text/plain": [
       "(Partisan Conflict   -0.018171\n",
       " dtype: float64, Partisan Conflict    0.006675\n",
       " dtype: float64)"
      ]
     },
     "execution_count": 1209,
     "metadata": {},
     "output_type": "execute_result"
    }
   ],
   "source": [
    "lr = sm.Logit(y, x).fit()\n",
    "lr.params, lr.bse"
   ]
  },
  {
   "cell_type": "code",
   "execution_count": 1205,
   "metadata": {
    "collapsed": false
   },
   "outputs": [
    {
     "data": {
      "text/plain": [
       "0.9989638444566471"
      ]
     },
     "execution_count": 1205,
     "metadata": {},
     "output_type": "execute_result"
    }
   ],
   "source": [
    "np.std(x)"
   ]
  },
  {
   "cell_type": "code",
   "execution_count": 1213,
   "metadata": {
    "collapsed": false
   },
   "outputs": [
    {
     "ename": "AttributeError",
     "evalue": "module 'scipy.stats' has no attribute 'chisqprob'",
     "output_type": "error",
     "traceback": [
      "\u001b[0;31m---------------------------------------------------------------------------\u001b[0m",
      "\u001b[0;31mAttributeError\u001b[0m                            Traceback (most recent call last)",
      "\u001b[0;32m<ipython-input-1213-0d02b439cb69>\u001b[0m in \u001b[0;36m<module>\u001b[0;34m()\u001b[0m\n\u001b[0;32m----> 1\u001b[0;31m \u001b[0mlr\u001b[0m\u001b[0;34m.\u001b[0m\u001b[0msummary\u001b[0m\u001b[0;34m(\u001b[0m\u001b[0;34m)\u001b[0m\u001b[0;34m\u001b[0m\u001b[0m\n\u001b[0m",
      "\u001b[0;32m/Users/delphine/anaconda3/lib/python3.5/site-packages/statsmodels/discrete/discrete_model.py\u001b[0m in \u001b[0;36msummary\u001b[0;34m(self, yname, xname, title, alpha, yname_list)\u001b[0m\n\u001b[1;32m   2756\u001b[0m                 yname_list=None):\n\u001b[1;32m   2757\u001b[0m         smry = super(BinaryResults, self).summary(yname, xname, title, alpha,\n\u001b[0;32m-> 2758\u001b[0;31m                      yname_list)\n\u001b[0m\u001b[1;32m   2759\u001b[0m         \u001b[0mfittedvalues\u001b[0m \u001b[0;34m=\u001b[0m \u001b[0mself\u001b[0m\u001b[0;34m.\u001b[0m\u001b[0mmodel\u001b[0m\u001b[0;34m.\u001b[0m\u001b[0mcdf\u001b[0m\u001b[0;34m(\u001b[0m\u001b[0mself\u001b[0m\u001b[0;34m.\u001b[0m\u001b[0mfittedvalues\u001b[0m\u001b[0;34m)\u001b[0m\u001b[0;34m\u001b[0m\u001b[0m\n\u001b[1;32m   2760\u001b[0m         \u001b[0mabsprederror\u001b[0m \u001b[0;34m=\u001b[0m \u001b[0mnp\u001b[0m\u001b[0;34m.\u001b[0m\u001b[0mabs\u001b[0m\u001b[0;34m(\u001b[0m\u001b[0mself\u001b[0m\u001b[0;34m.\u001b[0m\u001b[0mmodel\u001b[0m\u001b[0;34m.\u001b[0m\u001b[0mendog\u001b[0m \u001b[0;34m-\u001b[0m \u001b[0mfittedvalues\u001b[0m\u001b[0;34m)\u001b[0m\u001b[0;34m\u001b[0m\u001b[0m\n",
      "\u001b[0;32m/Users/delphine/anaconda3/lib/python3.5/site-packages/statsmodels/discrete/discrete_model.py\u001b[0m in \u001b[0;36msummary\u001b[0;34m(self, yname, xname, title, alpha, yname_list)\u001b[0m\n\u001b[1;32m   2548\u001b[0m                      \u001b[0;34m(\u001b[0m\u001b[0;34m'Log-Likelihood:'\u001b[0m\u001b[0;34m,\u001b[0m \u001b[0;32mNone\u001b[0m\u001b[0;34m)\u001b[0m\u001b[0;34m,\u001b[0m\u001b[0;34m\u001b[0m\u001b[0m\n\u001b[1;32m   2549\u001b[0m                      \u001b[0;34m(\u001b[0m\u001b[0;34m'LL-Null:'\u001b[0m\u001b[0;34m,\u001b[0m \u001b[0;34m[\u001b[0m\u001b[0;34m\"%#8.5g\"\u001b[0m \u001b[0;34m%\u001b[0m \u001b[0mself\u001b[0m\u001b[0;34m.\u001b[0m\u001b[0mllnull\u001b[0m\u001b[0;34m]\u001b[0m\u001b[0;34m)\u001b[0m\u001b[0;34m,\u001b[0m\u001b[0;34m\u001b[0m\u001b[0m\n\u001b[0;32m-> 2550\u001b[0;31m                      \u001b[0;34m(\u001b[0m\u001b[0;34m'LLR p-value:'\u001b[0m\u001b[0;34m,\u001b[0m \u001b[0;34m[\u001b[0m\u001b[0;34m\"%#6.4g\"\u001b[0m \u001b[0;34m%\u001b[0m \u001b[0mself\u001b[0m\u001b[0;34m.\u001b[0m\u001b[0mllr_pvalue\u001b[0m\u001b[0;34m]\u001b[0m\u001b[0;34m)\u001b[0m\u001b[0;34m\u001b[0m\u001b[0m\n\u001b[0m\u001b[1;32m   2551\u001b[0m                      ]\n\u001b[1;32m   2552\u001b[0m \u001b[0;34m\u001b[0m\u001b[0m\n",
      "\u001b[0;32m/Users/delphine/anaconda3/lib/python3.5/site-packages/statsmodels/tools/decorators.py\u001b[0m in \u001b[0;36m__get__\u001b[0;34m(self, obj, type)\u001b[0m\n\u001b[1;32m     95\u001b[0m         \u001b[0;32mif\u001b[0m \u001b[0m_cachedval\u001b[0m \u001b[0;32mis\u001b[0m \u001b[0;32mNone\u001b[0m\u001b[0;34m:\u001b[0m\u001b[0;34m\u001b[0m\u001b[0m\n\u001b[1;32m     96\u001b[0m             \u001b[0;31m# Call the \"fget\" function\u001b[0m\u001b[0;34m\u001b[0m\u001b[0;34m\u001b[0m\u001b[0m\n\u001b[0;32m---> 97\u001b[0;31m             \u001b[0m_cachedval\u001b[0m \u001b[0;34m=\u001b[0m \u001b[0mself\u001b[0m\u001b[0;34m.\u001b[0m\u001b[0mfget\u001b[0m\u001b[0;34m(\u001b[0m\u001b[0mobj\u001b[0m\u001b[0;34m)\u001b[0m\u001b[0;34m\u001b[0m\u001b[0m\n\u001b[0m\u001b[1;32m     98\u001b[0m             \u001b[0;31m# Set the attribute in obj\u001b[0m\u001b[0;34m\u001b[0m\u001b[0;34m\u001b[0m\u001b[0m\n\u001b[1;32m     99\u001b[0m             \u001b[0;31m# print(\"Setting %s in cache to %s\" % (name, _cachedval))\u001b[0m\u001b[0;34m\u001b[0m\u001b[0;34m\u001b[0m\u001b[0m\n",
      "\u001b[0;32m/Users/delphine/anaconda3/lib/python3.5/site-packages/statsmodels/discrete/discrete_model.py\u001b[0m in \u001b[0;36mllr_pvalue\u001b[0;34m(self)\u001b[0m\n\u001b[1;32m   2403\u001b[0m     \u001b[0;34m@\u001b[0m\u001b[0mcache_readonly\u001b[0m\u001b[0;34m\u001b[0m\u001b[0m\n\u001b[1;32m   2404\u001b[0m     \u001b[0;32mdef\u001b[0m \u001b[0mllr_pvalue\u001b[0m\u001b[0;34m(\u001b[0m\u001b[0mself\u001b[0m\u001b[0;34m)\u001b[0m\u001b[0;34m:\u001b[0m\u001b[0;34m\u001b[0m\u001b[0m\n\u001b[0;32m-> 2405\u001b[0;31m         \u001b[0;32mreturn\u001b[0m \u001b[0mstats\u001b[0m\u001b[0;34m.\u001b[0m\u001b[0mchisqprob\u001b[0m\u001b[0;34m(\u001b[0m\u001b[0mself\u001b[0m\u001b[0;34m.\u001b[0m\u001b[0mllr\u001b[0m\u001b[0;34m,\u001b[0m \u001b[0mself\u001b[0m\u001b[0;34m.\u001b[0m\u001b[0mdf_model\u001b[0m\u001b[0;34m)\u001b[0m\u001b[0;34m\u001b[0m\u001b[0m\n\u001b[0m\u001b[1;32m   2406\u001b[0m \u001b[0;34m\u001b[0m\u001b[0m\n\u001b[1;32m   2407\u001b[0m     \u001b[0;34m@\u001b[0m\u001b[0mcache_readonly\u001b[0m\u001b[0;34m\u001b[0m\u001b[0m\n",
      "\u001b[0;31mAttributeError\u001b[0m: module 'scipy.stats' has no attribute 'chisqprob'"
     ]
    }
   ],
   "source": [
    "lr.summary()"
   ]
  }
 ],
 "metadata": {
  "anaconda-cloud": {},
  "celltoolbar": "Raw Cell Format",
  "kernelspec": {
   "display_name": "Python [default]",
   "language": "python",
   "name": "python3"
  },
  "language_info": {
   "codemirror_mode": {
    "name": "ipython",
    "version": 3
   },
   "file_extension": ".py",
   "mimetype": "text/x-python",
   "name": "python",
   "nbconvert_exporter": "python",
   "pygments_lexer": "ipython3",
   "version": "3.5.2"
  }
 },
 "nbformat": 4,
 "nbformat_minor": 1
}
